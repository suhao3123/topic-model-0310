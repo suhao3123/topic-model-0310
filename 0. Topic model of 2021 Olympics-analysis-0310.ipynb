{
 "cells": [
  {
   "cell_type": "markdown",
   "metadata": {},
   "source": [
    "# 1. Prerequisites"
   ]
  },
  {
   "cell_type": "markdown",
   "metadata": {},
   "source": [
    "Install the libraries below. Download the two css files from https://github.com/suhao3123/CSS, create a folder named assets in the root of your app directory and include the two files in that folder to lauch the Dashboard we created in the final step."
   ]
  },
  {
   "cell_type": "code",
   "execution_count": 76,
   "metadata": {},
   "outputs": [],
   "source": [
    "# pip install numpy                      # （install numpy）\n",
    "# pip intall pandas                      # (install pandas)\n",
    "# pip install PyMuPDF                    # (install PyMuPDF for extracting info from PDF files)\n",
    "# pip install tika                       # (install tika for extracting paragraphs from PDF files)\n",
    "# pip install spacy==2.2.0               # (install spacy for lemmatization)\n",
    "# conda install gensim                   # (intall gesim for topic modelling)\n",
    "# pip install pyLDAvis                   # (install pyLDAvis for topic modelling visulisation)\n",
    "# conda install -c conda-forge pyldavis  # (if you use aconda to install pyLADvis)\n",
    "# pip install plotly                     # (install plotly for visualisation)"
   ]
  },
  {
   "cell_type": "code",
   "execution_count": 77,
   "metadata": {},
   "outputs": [],
   "source": [
    "import pandas as pd\n",
    "import numpy as np\n",
    "import re\n",
    "\n",
    "# glob for extracting the directories of metadata\n",
    "import glob\n",
    "\n",
    "# PyMuPDF\n",
    "import fitz\n",
    "\n",
    "# tika\n",
    "import tika               \n",
    "from tika import parser   \n",
    "\n",
    "# Gensim\n",
    "import gensim\n",
    "import gensim.corpora as corpora\n",
    "from gensim.utils import simple_preprocess\n",
    "from gensim.models import CoherenceModel\n",
    "\n",
    "# spacy for lemmatization\n",
    "import spacy\n",
    "\n",
    "# Visualisation\n",
    "import plotly.express as px\n",
    "import pyLDAvis\n",
    "import pyLDAvis.gensim_models\n",
    "import matplotlib.pyplot as plt\n",
    "%matplotlib inline\n",
    "\n",
    "# Enable logging for gensim - optional\n",
    "import logging\n",
    "logging.basicConfig(format='%(asctime)s : %(levelname)s : %(message)s', level=logging.ERROR)\n",
    "\n",
    "import warnings\n",
    "warnings.filterwarnings(\"ignore\",category=DeprecationWarning)\n",
    "import os"
   ]
  },
  {
   "cell_type": "markdown",
   "metadata": {},
   "source": [
    "# 2. Import pdf files, data wrangling and overview"
   ]
  },
  {
   "cell_type": "code",
   "execution_count": 78,
   "metadata": {},
   "outputs": [
    {
     "data": {
      "text/plain": [
       "['D:\\\\LEON\\\\Business Analytics\\\\Study\\\\9. Business Project\\\\Data set\\\\Olympics\\\\Examination_of_Witnesses_Sept_2003_-_Q1-19.pdf']"
      ]
     },
     "execution_count": 78,
     "metadata": {},
     "output_type": "execute_result"
    }
   ],
   "source": [
    "# Extract the directories of the PDF files, make sure the folder name does not contain number\n",
    "pdf_dir = \"D:\\LEON\\Business Analytics\\Study\\9. Business Project\\Data set\\Olympics\"\n",
    "pdf_files = glob.glob(\"%s/*.pdf\" % pdf_dir)\n",
    "pdf_files[:1]"
   ]
  },
  {
   "cell_type": "code",
   "execution_count": 79,
   "metadata": {},
   "outputs": [],
   "source": [
    "# Use PyMuPDF to extract all info of the PDF files (text, title, date, etc)\n",
    "list_metadata = []\n",
    "for i in pdf_files:\n",
    "    with fitz.open(i) as doc:\n",
    "        info = doc.metadata\n",
    "        info['file_name'] = os.path.basename(i)\n",
    "        text = ''\n",
    "        for page in doc:\n",
    "            text+= page.getText()\n",
    "        info['Content'] = text       \n",
    "    list_metadata.append(info)"
   ]
  },
  {
   "cell_type": "code",
   "execution_count": 80,
   "metadata": {},
   "outputs": [
    {
     "data": {
      "text/html": [
       "<div>\n",
       "<style scoped>\n",
       "    .dataframe tbody tr th:only-of-type {\n",
       "        vertical-align: middle;\n",
       "    }\n",
       "\n",
       "    .dataframe tbody tr th {\n",
       "        vertical-align: top;\n",
       "    }\n",
       "\n",
       "    .dataframe thead th {\n",
       "        text-align: right;\n",
       "    }\n",
       "</style>\n",
       "<table border=\"1\" class=\"dataframe\">\n",
       "  <thead>\n",
       "    <tr style=\"text-align: right;\">\n",
       "      <th></th>\n",
       "      <th>format</th>\n",
       "      <th>title</th>\n",
       "      <th>author</th>\n",
       "      <th>subject</th>\n",
       "      <th>keywords</th>\n",
       "      <th>creator</th>\n",
       "      <th>producer</th>\n",
       "      <th>creationDate</th>\n",
       "      <th>modDate</th>\n",
       "      <th>trapped</th>\n",
       "      <th>encryption</th>\n",
       "      <th>file_name</th>\n",
       "      <th>Content</th>\n",
       "      <th>document_id</th>\n",
       "      <th>Word_count</th>\n",
       "    </tr>\n",
       "  </thead>\n",
       "  <tbody>\n",
       "    <tr>\n",
       "      <th>0</th>\n",
       "      <td>PDF 1.7</td>\n",
       "      <td></td>\n",
       "      <td>B Lewis</td>\n",
       "      <td></td>\n",
       "      <td></td>\n",
       "      <td>Microsoft Word</td>\n",
       "      <td></td>\n",
       "      <td>D:20210822083603+00'00'</td>\n",
       "      <td>D:20210822083603+00'00'</td>\n",
       "      <td></td>\n",
       "      <td>None</td>\n",
       "      <td>Examination_of_Witnesses_Sept_2003_-_Q1-19.pdf</td>\n",
       "      <td>Examination of Witnesses (1-19) \\n16 SEPTEMBER...</td>\n",
       "      <td>0</td>\n",
       "      <td>6115</td>\n",
       "    </tr>\n",
       "    <tr>\n",
       "      <th>1</th>\n",
       "      <td>PDF 1.7</td>\n",
       "      <td></td>\n",
       "      <td>B Lewis</td>\n",
       "      <td></td>\n",
       "      <td></td>\n",
       "      <td>Microsoft Word</td>\n",
       "      <td></td>\n",
       "      <td>D:20210822083606+00'00'</td>\n",
       "      <td>D:20210822083606+00'00'</td>\n",
       "      <td></td>\n",
       "      <td>None</td>\n",
       "      <td>Examination_of_Witnesses_Sept_2003_-_Q20-39.pdf</td>\n",
       "      <td>Examination of Witnesses (20-39) \\n16 SEPTEMBE...</td>\n",
       "      <td>1</td>\n",
       "      <td>4002</td>\n",
       "    </tr>\n",
       "    <tr>\n",
       "      <th>2</th>\n",
       "      <td>PDF 1.7</td>\n",
       "      <td></td>\n",
       "      <td>B Lewis</td>\n",
       "      <td></td>\n",
       "      <td></td>\n",
       "      <td>Microsoft Word</td>\n",
       "      <td></td>\n",
       "      <td>D:20210822083609+00'00'</td>\n",
       "      <td>D:20210822083609+00'00'</td>\n",
       "      <td></td>\n",
       "      <td>None</td>\n",
       "      <td>Examination_of_Witnesses_Sept_2003_-_Q40-44.pdf</td>\n",
       "      <td>Examination of Witnesses (40-44) \\n16 SEPTEMBE...</td>\n",
       "      <td>2</td>\n",
       "      <td>1007</td>\n",
       "    </tr>\n",
       "  </tbody>\n",
       "</table>\n",
       "</div>"
      ],
      "text/plain": [
       "    format title   author subject keywords         creator producer  \\\n",
       "0  PDF 1.7        B Lewis                   Microsoft Word            \n",
       "1  PDF 1.7        B Lewis                   Microsoft Word            \n",
       "2  PDF 1.7        B Lewis                   Microsoft Word            \n",
       "\n",
       "              creationDate                  modDate trapped encryption  \\\n",
       "0  D:20210822083603+00'00'  D:20210822083603+00'00'               None   \n",
       "1  D:20210822083606+00'00'  D:20210822083606+00'00'               None   \n",
       "2  D:20210822083609+00'00'  D:20210822083609+00'00'               None   \n",
       "\n",
       "                                         file_name  \\\n",
       "0   Examination_of_Witnesses_Sept_2003_-_Q1-19.pdf   \n",
       "1  Examination_of_Witnesses_Sept_2003_-_Q20-39.pdf   \n",
       "2  Examination_of_Witnesses_Sept_2003_-_Q40-44.pdf   \n",
       "\n",
       "                                             Content  document_id  Word_count  \n",
       "0  Examination of Witnesses (1-19) \\n16 SEPTEMBER...            0        6115  \n",
       "1  Examination of Witnesses (20-39) \\n16 SEPTEMBE...            1        4002  \n",
       "2  Examination of Witnesses (40-44) \\n16 SEPTEMBE...            2        1007  "
      ]
     },
     "execution_count": 80,
     "metadata": {},
     "output_type": "execute_result"
    }
   ],
   "source": [
    "df = pd.DataFrame(list_metadata)\n",
    "df['document_id'] = df.index\n",
    "df = df.drop_duplicates(subset = ['Content'])             # drop duplicate rows\n",
    "df = df.dropna(subset=df.columns[[12]], how='any')       # drop rows whose text content is NaN                   \n",
    "df['Word_count'] = df ['Content'].str.count(' ') + 1\n",
    "df.head(3)"
   ]
  },
  {
   "cell_type": "code",
   "execution_count": 81,
   "metadata": {
    "scrolled": true
   },
   "outputs": [
    {
     "data": {
      "text/html": [
       "<div>\n",
       "<style scoped>\n",
       "    .dataframe tbody tr th:only-of-type {\n",
       "        vertical-align: middle;\n",
       "    }\n",
       "\n",
       "    .dataframe tbody tr th {\n",
       "        vertical-align: top;\n",
       "    }\n",
       "\n",
       "    .dataframe thead th {\n",
       "        text-align: right;\n",
       "    }\n",
       "</style>\n",
       "<table border=\"1\" class=\"dataframe\">\n",
       "  <thead>\n",
       "    <tr style=\"text-align: right;\">\n",
       "      <th></th>\n",
       "      <th>file_name</th>\n",
       "      <th>Content</th>\n",
       "    </tr>\n",
       "  </thead>\n",
       "  <tbody>\n",
       "  </tbody>\n",
       "</table>\n",
       "</div>"
      ],
      "text/plain": [
       "Empty DataFrame\n",
       "Columns: [file_name, Content]\n",
       "Index: []"
      ]
     },
     "execution_count": 81,
     "metadata": {},
     "output_type": "execute_result"
    }
   ],
   "source": [
    "# check if there are documents with few words\n",
    "min_word_count= 10                                               # set the threshold of the minimum word count of each document \n",
    "min_word_count_filter = df['Word_count'] <= min_word_count\n",
    "df_few_words = df[min_word_count_filter][['file_name', 'Content']]\n",
    "df_few_words"
   ]
  },
  {
   "cell_type": "code",
   "execution_count": 82,
   "metadata": {},
   "outputs": [
    {
     "name": "stdout",
     "output_type": "stream",
     "text": [
      "<class 'pandas.core.frame.DataFrame'>\n",
      "Int64Index: 169 entries, 0 to 168\n",
      "Data columns (total 15 columns):\n",
      " #   Column        Non-Null Count  Dtype \n",
      "---  ------        --------------  ----- \n",
      " 0   format        169 non-null    object\n",
      " 1   title         169 non-null    object\n",
      " 2   author        169 non-null    object\n",
      " 3   subject       169 non-null    object\n",
      " 4   keywords      169 non-null    object\n",
      " 5   creator       169 non-null    object\n",
      " 6   producer      169 non-null    object\n",
      " 7   creationDate  169 non-null    object\n",
      " 8   modDate       169 non-null    object\n",
      " 9   trapped       169 non-null    object\n",
      " 10  encryption    3 non-null      object\n",
      " 11  file_name     169 non-null    object\n",
      " 12  Content       169 non-null    object\n",
      " 13  document_id   169 non-null    int64 \n",
      " 14  Word_count    169 non-null    int64 \n",
      "dtypes: int64(2), object(13)\n",
      "memory usage: 21.1+ KB\n"
     ]
    }
   ],
   "source": [
    "df.info()"
   ]
  },
  {
   "cell_type": "code",
   "execution_count": 83,
   "metadata": {},
   "outputs": [
    {
     "data": {
      "text/plain": [
       "1054090"
      ]
     },
     "execution_count": 83,
     "metadata": {},
     "output_type": "execute_result"
    }
   ],
   "source": [
    "# Word count\n",
    "df['Word_count'].sum( )"
   ]
  },
  {
   "cell_type": "markdown",
   "metadata": {},
   "source": [
    "# 3. Natural language processing"
   ]
  },
  {
   "cell_type": "markdown",
   "metadata": {},
   "source": [
    "### 3.1. Tokenisation"
   ]
  },
  {
   "cell_type": "code",
   "execution_count": 84,
   "metadata": {
    "scrolled": false
   },
   "outputs": [],
   "source": [
    "data = df.Content.values.tolist()"
   ]
  },
  {
   "cell_type": "code",
   "execution_count": 85,
   "metadata": {},
   "outputs": [],
   "source": [
    "def sent_to_words(sentences):\n",
    "    for sentence in sentences:\n",
    "        yield(gensim.utils.simple_preprocess(str(sentence).encode('utf-8'), deacc=True))  # deacc=True removes punctuations\n",
    "\n",
    "data_words= list(sent_to_words(data))"
   ]
  },
  {
   "cell_type": "markdown",
   "metadata": {},
   "source": [
    "### 3.2. Processing words: \n",
    "Remove Stopwords, Make Bigrams and Trigrams,Lemmatisation, remove short words and meaningless words"
   ]
  },
  {
   "cell_type": "code",
   "execution_count": 86,
   "metadata": {},
   "outputs": [],
   "source": [
    "# Build the bigram and trigram models\n",
    "bigram = gensim.models.Phrases(data_words, min_count=5, threshold=100) # higher threshold fewer phrases.\n",
    "trigram = gensim.models.Phrases(bigram[data_words], threshold=100)  \n",
    "bigram_mod = gensim.models.phrases.Phraser(bigram)\n",
    "trigram_mod = gensim.models.phrases.Phraser(trigram)"
   ]
  },
  {
   "cell_type": "code",
   "execution_count": 87,
   "metadata": {},
   "outputs": [],
   "source": [
    "# import the stop_words from gensim\n",
    "from gensim.parsing.preprocessing import remove_stopwords, STOPWORDS\n",
    "stop_words = [i for i in STOPWORDS]\n",
    "\n",
    "# add more stop words after analysing the overall term frequncy of each topic in pyLDAvis in the \"Word frequency of each topic\" section\n",
    "new_stop_words = ['go', 'would', 'make', 'think', 'take', 'say', 'need', 'want', 'thing', 'have', 'lot', 'people', 'year',\n",
    "                   'work','time', 'know', 'use', 'try', 'happen', 'ask', 'new', 'way', 'jonathan_stephen', 'david_higgin', 'dame_helen_ghosh']              \n",
    "stop_words.extend(new_stop_words)"
   ]
  },
  {
   "cell_type": "code",
   "execution_count": 88,
   "metadata": {},
   "outputs": [],
   "source": [
    "# Define functions for stopwords, bigrams, trigrams and lemmatization\n",
    "def remove_stop_words(texts):\n",
    "    return [[word for word in doc if word not in stop_words] for doc in texts]\n",
    "\n",
    "def make_bigrams(texts):\n",
    "    return [bigram_mod[doc] for doc in texts]\n",
    "\n",
    "def make_trigrams(texts):\n",
    "    return [trigram_mod[bigram_mod[doc]] for doc in texts]\n",
    "\n",
    "def lemmatization(texts, allowed_postags=['NOUN', 'ADJ', 'VERB', 'ADV']):\n",
    "    \"\"\"https://spacy.io/api/annotation\"\"\"\n",
    "    texts_out = []\n",
    "    for sent in texts:\n",
    "        doc = nlp(\" \".join(sent)) \n",
    "        texts_out.append([token.lemma_ for token in doc if token.pos_ in allowed_postags])\n",
    "    return texts_out"
   ]
  },
  {
   "cell_type": "code",
   "execution_count": 89,
   "metadata": {},
   "outputs": [],
   "source": [
    "# Form Trigrams\n",
    "data_words_trigrams = make_trigrams(data_words)\n",
    "\n",
    "# Initialize spacy 'en' model, keeping only tagger component (for efficiency)\n",
    "# python3 -m spacy download en\n",
    "nlp = spacy.load('en_core_web_sm', disable=['parser', 'ner'])\n",
    "\n",
    "#increase the maximum length of text that the parser or NER can process\n",
    "nlp.max_length = 13000000 #\n",
    "\n",
    "# Do lemmatization keeping only noun, adj, verb\n",
    "data_lemmatized1 = lemmatization(data_words_trigrams, allowed_postags=['NOUN', 'ADJ', 'VERB'])\n",
    "\n",
    "# Set a threshold for removing the words with length less than the threshold\n",
    "minimum_len = 3 \n",
    "data_lemmatized2 = []\n",
    "for i in data_lemmatized1:\n",
    "    new_element = [x for x in i if len(x) >= minimum_len]\n",
    "    data_lemmatized2.append(new_element)\n",
    "\n",
    "# remove stop words\n",
    "data_lemmatized = remove_stop_words(data_lemmatized2)"
   ]
  },
  {
   "cell_type": "markdown",
   "metadata": {},
   "source": [
    "###  3.3. Dictionary and Corpus"
   ]
  },
  {
   "cell_type": "code",
   "execution_count": 90,
   "metadata": {},
   "outputs": [
    {
     "name": "stdout",
     "output_type": "stream",
     "text": [
      "After removal of high and low frequency words - Number of unique tokens: 3406, 339810\n"
     ]
    }
   ],
   "source": [
    "# Create Dictionary, set the parameters to filter out tokens in the dictionary by their frequency\n",
    "no_below = 5             # remove the tokens less frequent than no_below documents (absolute number)\n",
    "no_above = 0.85          # remove the tokens more frequent than no_above documents (fraction of the total corpus size)\n",
    "id2word = corpora.Dictionary(data_lemmatized)\n",
    "id2word.filter_extremes(no_below = no_below, no_above = no_above)\n",
    "\n",
    "# print the number of reserved unique tokens and word count afer removal of high and low frequency words\n",
    "print('After removal of high and low frequency words - Number of unique tokens: %d, %d' % (len(id2word),id2word.num_pos))"
   ]
  },
  {
   "cell_type": "code",
   "execution_count": 91,
   "metadata": {},
   "outputs": [],
   "source": [
    "# Create Corpus\n",
    "texts = data_lemmatized\n",
    "\n",
    "# Term Document Frequency\n",
    "corpus = [id2word.doc2bow(text) for text in texts]"
   ]
  },
  {
   "cell_type": "markdown",
   "metadata": {},
   "source": [
    "#  4. LDA Model"
   ]
  },
  {
   "cell_type": "markdown",
   "metadata": {},
   "source": [
    "### 4.1. Building LDA Model, Perparameter/Hyperparameter tuning"
   ]
  },
  {
   "cell_type": "code",
   "execution_count": 92,
   "metadata": {},
   "outputs": [],
   "source": [
    "# set training parameters and hyperameters\n",
    "k = 20\n",
    "passes = 20\n",
    "iterations = 100\n",
    "alpha = 50.0/k   \n",
    "eta = 0.01\n",
    "random_state = 12345\n",
    "minimum_probability = 0"
   ]
  },
  {
   "cell_type": "markdown",
   "metadata": {},
   "source": [
    "Plotting the coherence score against k to identify the opitmal k where the coherence socre reaches the highest point. Because running it is quite time-consuming, I stopped some chunks below and just set k to be 10 based on the analysis of the reuslt. If users want to fit the model to the other corpus, they can remove the hashs to reactivate the chunks and analyse the coherence socres aginst k."
   ]
  },
  {
   "cell_type": "code",
   "execution_count": 93,
   "metadata": {},
   "outputs": [],
   "source": [
    "#start=1; limit=21; step=1 # set the parameters to generate a sequence of k values starting with \"start\" and ending in \"limit\" by a step of \"step\" f\n",
    "#coherence_values = []\n",
    "#model_list = []\n",
    "#for i in range(start,limit,step):\n",
    "    #model = gensim.models.LdaModel(corpus = corpus,id2word = id2word,alpha = alpha,eta = eta,\n",
    "                                  #iterations = iterations,num_topics = i,passes = passes,random_state = 12345,minimum_probability = minimum_probability)\n",
    "    #model_list.append(model)\n",
    "    #coherencemodel = CoherenceModel(model=model, texts=texts, dictionary=id2word, coherence='c_v')\n",
    "    #coherence_values.append(coherencemodel.get_coherence())"
   ]
  },
  {
   "cell_type": "code",
   "execution_count": 94,
   "metadata": {},
   "outputs": [],
   "source": [
    "#list_num_topics = [i for i in range(start, limit, step)]\n",
    "#df_coherence1 = pd.DataFrame({'Number_of_Topics': list_num_topics, 'Coherence_Score': coherence_values})\n",
    "#df_coherence1.to_pickle('./df_coherence1.pkl') #save the result to disk\n",
    "#df_coherence = pd.read_pickle('./df_coherence1.pkl') #load the result from disk"
   ]
  },
  {
   "cell_type": "code",
   "execution_count": 95,
   "metadata": {},
   "outputs": [],
   "source": [
    "#fig1 = px.line(df_coherence, x = 'Number_of_Topics', y = \"Coherence_Score\", title = 'Coherence scores against number of topics')\n",
    "#fig1.update_layout(autosize=False, width=1000, height=400)\n",
    "#fig1.update_traces(mode = \"lines + markers\")\n",
    "#fig1.show()"
   ]
  },
  {
   "cell_type": "code",
   "execution_count": 96,
   "metadata": {},
   "outputs": [],
   "source": [
    "# num of topics =  to get the highest coherence socre\n",
    "k = 10\n",
    "lda_model = gensim.models.LdaModel(\n",
    "    corpus = corpus,\n",
    "    id2word = id2word,\n",
    "    alpha = alpha,\n",
    "    eta = eta,\n",
    "    iterations = iterations,\n",
    "    num_topics = k,\n",
    "    passes = passes,\n",
    "    random_state = 12345,\n",
    "    minimum_probability = minimum_probability)"
   ]
  },
  {
   "cell_type": "code",
   "execution_count": 97,
   "metadata": {},
   "outputs": [
    {
     "data": {
      "text/plain": [
       "0.4214233672915886"
      ]
     },
     "execution_count": 97,
     "metadata": {},
     "output_type": "execute_result"
    }
   ],
   "source": [
    "# print the coherence of the LDA model\n",
    "coherencemodel2 = CoherenceModel(model=lda_model, texts=texts, dictionary=id2word, coherence='c_v')\n",
    "coherence_score = coherencemodel2.get_coherence()\n",
    "coherence_score"
   ]
  },
  {
   "cell_type": "markdown",
   "metadata": {},
   "source": [
    "### 4.2. Topic distribution of documents"
   ]
  },
  {
   "cell_type": "code",
   "execution_count": 98,
   "metadata": {},
   "outputs": [],
   "source": [
    "# create the function for converting a list of tuples into a dictionary\n",
    "def Convert(tup, di):\n",
    "    di = dict(tup)\n",
    "    return di"
   ]
  },
  {
   "cell_type": "code",
   "execution_count": 99,
   "metadata": {},
   "outputs": [
    {
     "data": {
      "text/html": [
       "<div>\n",
       "<style scoped>\n",
       "    .dataframe tbody tr th:only-of-type {\n",
       "        vertical-align: middle;\n",
       "    }\n",
       "\n",
       "    .dataframe tbody tr th {\n",
       "        vertical-align: top;\n",
       "    }\n",
       "\n",
       "    .dataframe thead th {\n",
       "        text-align: right;\n",
       "    }\n",
       "</style>\n",
       "<table border=\"1\" class=\"dataframe\">\n",
       "  <thead>\n",
       "    <tr style=\"text-align: right;\">\n",
       "      <th></th>\n",
       "      <th>author</th>\n",
       "      <th>creationDate</th>\n",
       "      <th>file_name</th>\n",
       "      <th>Content</th>\n",
       "      <th>document_id</th>\n",
       "      <th>Word_count</th>\n",
       "      <th>1</th>\n",
       "      <th>2</th>\n",
       "      <th>3</th>\n",
       "      <th>4</th>\n",
       "      <th>5</th>\n",
       "      <th>6</th>\n",
       "      <th>7</th>\n",
       "      <th>8</th>\n",
       "      <th>9</th>\n",
       "      <th>10</th>\n",
       "    </tr>\n",
       "  </thead>\n",
       "  <tbody>\n",
       "    <tr>\n",
       "      <th>0</th>\n",
       "      <td>B Lewis</td>\n",
       "      <td>D:20210822083603+00'00'</td>\n",
       "      <td>Examination_of_Witnesses_Sept_2003_-_Q1-19.pdf</td>\n",
       "      <td>Examination of Witnesses (1-19) \\n16 SEPTEMBER...</td>\n",
       "      <td>0</td>\n",
       "      <td>6115</td>\n",
       "      <td>0.006733</td>\n",
       "      <td>0.032729</td>\n",
       "      <td>0.338991</td>\n",
       "      <td>0.007977</td>\n",
       "      <td>0.014635</td>\n",
       "      <td>0.010442</td>\n",
       "      <td>0.006408</td>\n",
       "      <td>0.561253</td>\n",
       "      <td>0.005858</td>\n",
       "      <td>0.014975</td>\n",
       "    </tr>\n",
       "    <tr>\n",
       "      <th>1</th>\n",
       "      <td>B Lewis</td>\n",
       "      <td>D:20210822083606+00'00'</td>\n",
       "      <td>Examination_of_Witnesses_Sept_2003_-_Q20-39.pdf</td>\n",
       "      <td>Examination of Witnesses (20-39) \\n16 SEPTEMBE...</td>\n",
       "      <td>1</td>\n",
       "      <td>4002</td>\n",
       "      <td>0.009603</td>\n",
       "      <td>0.008758</td>\n",
       "      <td>0.220258</td>\n",
       "      <td>0.015240</td>\n",
       "      <td>0.015121</td>\n",
       "      <td>0.027104</td>\n",
       "      <td>0.006672</td>\n",
       "      <td>0.675124</td>\n",
       "      <td>0.009199</td>\n",
       "      <td>0.012920</td>\n",
       "    </tr>\n",
       "    <tr>\n",
       "      <th>2</th>\n",
       "      <td>B Lewis</td>\n",
       "      <td>D:20210822083609+00'00'</td>\n",
       "      <td>Examination_of_Witnesses_Sept_2003_-_Q40-44.pdf</td>\n",
       "      <td>Examination of Witnesses (40-44) \\n16 SEPTEMBE...</td>\n",
       "      <td>2</td>\n",
       "      <td>1007</td>\n",
       "      <td>0.021492</td>\n",
       "      <td>0.024135</td>\n",
       "      <td>0.242508</td>\n",
       "      <td>0.023948</td>\n",
       "      <td>0.029972</td>\n",
       "      <td>0.029233</td>\n",
       "      <td>0.019753</td>\n",
       "      <td>0.546063</td>\n",
       "      <td>0.028111</td>\n",
       "      <td>0.034784</td>\n",
       "    </tr>\n",
       "    <tr>\n",
       "      <th>3</th>\n",
       "      <td>Bronwen Lewis</td>\n",
       "      <td>D:20210822084116+00'00'</td>\n",
       "      <td>Further_supplementary_memorandum_submitted_by_...</td>\n",
       "      <td>Further supplementary memorandum submitted by ...</td>\n",
       "      <td>3</td>\n",
       "      <td>431</td>\n",
       "      <td>0.036792</td>\n",
       "      <td>0.130970</td>\n",
       "      <td>0.035828</td>\n",
       "      <td>0.027276</td>\n",
       "      <td>0.022223</td>\n",
       "      <td>0.030978</td>\n",
       "      <td>0.500668</td>\n",
       "      <td>0.030064</td>\n",
       "      <td>0.149588</td>\n",
       "      <td>0.035612</td>\n",
       "    </tr>\n",
       "    <tr>\n",
       "      <th>4</th>\n",
       "      <td>Bronwen Lewis</td>\n",
       "      <td>D:20210822083921+00'00'</td>\n",
       "      <td>Further_Supplementary_Memorandum_submitted_by_...</td>\n",
       "      <td>Further supplementary memorandum submitted by ...</td>\n",
       "      <td>4</td>\n",
       "      <td>288</td>\n",
       "      <td>0.083911</td>\n",
       "      <td>0.053000</td>\n",
       "      <td>0.093137</td>\n",
       "      <td>0.119460</td>\n",
       "      <td>0.066731</td>\n",
       "      <td>0.060815</td>\n",
       "      <td>0.070883</td>\n",
       "      <td>0.241594</td>\n",
       "      <td>0.155329</td>\n",
       "      <td>0.055140</td>\n",
       "    </tr>\n",
       "    <tr>\n",
       "      <th>...</th>\n",
       "      <td>...</td>\n",
       "      <td>...</td>\n",
       "      <td>...</td>\n",
       "      <td>...</td>\n",
       "      <td>...</td>\n",
       "      <td>...</td>\n",
       "      <td>...</td>\n",
       "      <td>...</td>\n",
       "      <td>...</td>\n",
       "      <td>...</td>\n",
       "      <td>...</td>\n",
       "      <td>...</td>\n",
       "      <td>...</td>\n",
       "      <td>...</td>\n",
       "      <td>...</td>\n",
       "      <td>...</td>\n",
       "    </tr>\n",
       "    <tr>\n",
       "      <th>164</th>\n",
       "      <td>Bronwen Lewis</td>\n",
       "      <td>D:20210822084528+00'00'</td>\n",
       "      <td>Written_evidence_submitted_by_UK_Sport_-_Jan_2...</td>\n",
       "      <td>Written evidence submitted by UK Sport  \\n \\n ...</td>\n",
       "      <td>164</td>\n",
       "      <td>3089</td>\n",
       "      <td>0.025478</td>\n",
       "      <td>0.006420</td>\n",
       "      <td>0.025063</td>\n",
       "      <td>0.698303</td>\n",
       "      <td>0.169433</td>\n",
       "      <td>0.015175</td>\n",
       "      <td>0.007070</td>\n",
       "      <td>0.028591</td>\n",
       "      <td>0.007063</td>\n",
       "      <td>0.017403</td>\n",
       "    </tr>\n",
       "    <tr>\n",
       "      <th>165</th>\n",
       "      <td>Bronwen Lewis</td>\n",
       "      <td>D:20210822084531+00'00'</td>\n",
       "      <td>Written_evidence_submitted_by_Vision_2020_UK_-...</td>\n",
       "      <td>Written evidence submitted by Vision 2020 UK  ...</td>\n",
       "      <td>165</td>\n",
       "      <td>2284</td>\n",
       "      <td>0.015467</td>\n",
       "      <td>0.016690</td>\n",
       "      <td>0.008076</td>\n",
       "      <td>0.079248</td>\n",
       "      <td>0.767609</td>\n",
       "      <td>0.013739</td>\n",
       "      <td>0.017736</td>\n",
       "      <td>0.058075</td>\n",
       "      <td>0.013306</td>\n",
       "      <td>0.010053</td>\n",
       "    </tr>\n",
       "    <tr>\n",
       "      <th>166</th>\n",
       "      <td>Bronwen Lewis</td>\n",
       "      <td>D:20210822084535+00'00'</td>\n",
       "      <td>Written_evidence_submitted_by_VisitBritain_-_J...</td>\n",
       "      <td>Written evidence submitted by VisitBritain  \\n...</td>\n",
       "      <td>166</td>\n",
       "      <td>2372</td>\n",
       "      <td>0.006974</td>\n",
       "      <td>0.012218</td>\n",
       "      <td>0.022306</td>\n",
       "      <td>0.012489</td>\n",
       "      <td>0.109075</td>\n",
       "      <td>0.784511</td>\n",
       "      <td>0.011448</td>\n",
       "      <td>0.014708</td>\n",
       "      <td>0.010362</td>\n",
       "      <td>0.015911</td>\n",
       "    </tr>\n",
       "    <tr>\n",
       "      <th>167</th>\n",
       "      <td>Bronwen Lewis</td>\n",
       "      <td>D:20210822084543+00'00'</td>\n",
       "      <td>Written_evidence_submitted_by_Womens_Sport_and...</td>\n",
       "      <td>Written evidence submitted by the Women's Spor...</td>\n",
       "      <td>167</td>\n",
       "      <td>1966</td>\n",
       "      <td>0.009271</td>\n",
       "      <td>0.014071</td>\n",
       "      <td>0.010122</td>\n",
       "      <td>0.024958</td>\n",
       "      <td>0.864630</td>\n",
       "      <td>0.012340</td>\n",
       "      <td>0.017318</td>\n",
       "      <td>0.024847</td>\n",
       "      <td>0.013601</td>\n",
       "      <td>0.008841</td>\n",
       "    </tr>\n",
       "    <tr>\n",
       "      <th>168</th>\n",
       "      <td>Bronwen Lewis</td>\n",
       "      <td>D:20210822084546+00'00'</td>\n",
       "      <td>Written_evidence_submitted_by_Youth_Sport_Trus...</td>\n",
       "      <td>Written evidence submitted by Youth Sport Trus...</td>\n",
       "      <td>168</td>\n",
       "      <td>2682</td>\n",
       "      <td>0.023999</td>\n",
       "      <td>0.007844</td>\n",
       "      <td>0.009026</td>\n",
       "      <td>0.195763</td>\n",
       "      <td>0.630746</td>\n",
       "      <td>0.050322</td>\n",
       "      <td>0.009089</td>\n",
       "      <td>0.027966</td>\n",
       "      <td>0.016503</td>\n",
       "      <td>0.028741</td>\n",
       "    </tr>\n",
       "  </tbody>\n",
       "</table>\n",
       "<p>169 rows × 16 columns</p>\n",
       "</div>"
      ],
      "text/plain": [
       "            author             creationDate  \\\n",
       "0          B Lewis  D:20210822083603+00'00'   \n",
       "1          B Lewis  D:20210822083606+00'00'   \n",
       "2          B Lewis  D:20210822083609+00'00'   \n",
       "3    Bronwen Lewis  D:20210822084116+00'00'   \n",
       "4    Bronwen Lewis  D:20210822083921+00'00'   \n",
       "..             ...                      ...   \n",
       "164  Bronwen Lewis  D:20210822084528+00'00'   \n",
       "165  Bronwen Lewis  D:20210822084531+00'00'   \n",
       "166  Bronwen Lewis  D:20210822084535+00'00'   \n",
       "167  Bronwen Lewis  D:20210822084543+00'00'   \n",
       "168  Bronwen Lewis  D:20210822084546+00'00'   \n",
       "\n",
       "                                             file_name  \\\n",
       "0       Examination_of_Witnesses_Sept_2003_-_Q1-19.pdf   \n",
       "1      Examination_of_Witnesses_Sept_2003_-_Q20-39.pdf   \n",
       "2      Examination_of_Witnesses_Sept_2003_-_Q40-44.pdf   \n",
       "3    Further_supplementary_memorandum_submitted_by_...   \n",
       "4    Further_Supplementary_Memorandum_submitted_by_...   \n",
       "..                                                 ...   \n",
       "164  Written_evidence_submitted_by_UK_Sport_-_Jan_2...   \n",
       "165  Written_evidence_submitted_by_Vision_2020_UK_-...   \n",
       "166  Written_evidence_submitted_by_VisitBritain_-_J...   \n",
       "167  Written_evidence_submitted_by_Womens_Sport_and...   \n",
       "168  Written_evidence_submitted_by_Youth_Sport_Trus...   \n",
       "\n",
       "                                               Content  document_id  \\\n",
       "0    Examination of Witnesses (1-19) \\n16 SEPTEMBER...            0   \n",
       "1    Examination of Witnesses (20-39) \\n16 SEPTEMBE...            1   \n",
       "2    Examination of Witnesses (40-44) \\n16 SEPTEMBE...            2   \n",
       "3    Further supplementary memorandum submitted by ...            3   \n",
       "4    Further supplementary memorandum submitted by ...            4   \n",
       "..                                                 ...          ...   \n",
       "164  Written evidence submitted by UK Sport  \\n \\n ...          164   \n",
       "165  Written evidence submitted by Vision 2020 UK  ...          165   \n",
       "166  Written evidence submitted by VisitBritain  \\n...          166   \n",
       "167  Written evidence submitted by the Women's Spor...          167   \n",
       "168  Written evidence submitted by Youth Sport Trus...          168   \n",
       "\n",
       "     Word_count         1         2         3         4         5         6  \\\n",
       "0          6115  0.006733  0.032729  0.338991  0.007977  0.014635  0.010442   \n",
       "1          4002  0.009603  0.008758  0.220258  0.015240  0.015121  0.027104   \n",
       "2          1007  0.021492  0.024135  0.242508  0.023948  0.029972  0.029233   \n",
       "3           431  0.036792  0.130970  0.035828  0.027276  0.022223  0.030978   \n",
       "4           288  0.083911  0.053000  0.093137  0.119460  0.066731  0.060815   \n",
       "..          ...       ...       ...       ...       ...       ...       ...   \n",
       "164        3089  0.025478  0.006420  0.025063  0.698303  0.169433  0.015175   \n",
       "165        2284  0.015467  0.016690  0.008076  0.079248  0.767609  0.013739   \n",
       "166        2372  0.006974  0.012218  0.022306  0.012489  0.109075  0.784511   \n",
       "167        1966  0.009271  0.014071  0.010122  0.024958  0.864630  0.012340   \n",
       "168        2682  0.023999  0.007844  0.009026  0.195763  0.630746  0.050322   \n",
       "\n",
       "            7         8         9        10  \n",
       "0    0.006408  0.561253  0.005858  0.014975  \n",
       "1    0.006672  0.675124  0.009199  0.012920  \n",
       "2    0.019753  0.546063  0.028111  0.034784  \n",
       "3    0.500668  0.030064  0.149588  0.035612  \n",
       "4    0.070883  0.241594  0.155329  0.055140  \n",
       "..        ...       ...       ...       ...  \n",
       "164  0.007070  0.028591  0.007063  0.017403  \n",
       "165  0.017736  0.058075  0.013306  0.010053  \n",
       "166  0.011448  0.014708  0.010362  0.015911  \n",
       "167  0.017318  0.024847  0.013601  0.008841  \n",
       "168  0.009089  0.027966  0.016503  0.028741  \n",
       "\n",
       "[169 rows x 16 columns]"
      ]
     },
     "execution_count": 99,
     "metadata": {},
     "output_type": "execute_result"
    }
   ],
   "source": [
    "# topic distribution of documents\n",
    "list_topic = []\n",
    "dictionary_topic = {}\n",
    "for d in texts:\n",
    "    bow = id2word.doc2bow(d)\n",
    "    belong = lda_model[bow]                        # generate a list of tuples of topic distribution of a document\n",
    "    belong_dic = Convert(belong, dictionary_topic) # convert the list of tuples into a dictionary\n",
    "    list_topic.append(belong_dic)           \n",
    "                      \n",
    "df_topic_distribution = pd.DataFrame(list_topic)   # convert the list of dictionaries into a dataframe\n",
    "\n",
    "# rename the topic IDs to ensure they are as same as the topic IDs in the pyLDAvis\n",
    "original_topic_id = [*df_topic_distribution]; new_topic_id = [x + 1 for x in original_topic_id]\n",
    "df_topic_distribution = df_topic_distribution.rename(columns = dict(zip(original_topic_id, new_topic_id))) #rename the topic IDs to ensure they are as same as the topic IDs in the pyLDAvis\n",
    "df_topic = pd.merge(df, df_topic_distribution, how = 'left', left_index=True, right_index=True) # merge with info of documents\n",
    "df_topic.drop(['title','format','creator', 'producer', 'keywords', 'trapped', 'encryption','subject', 'modDate'], axis = 1)"
   ]
  },
  {
   "cell_type": "markdown",
   "metadata": {},
   "source": [
    "# 5. Topic interpretation tools"
   ]
  },
  {
   "cell_type": "markdown",
   "metadata": {},
   "source": [
    "I first identify the salient topics defined by PTBI proposed by Marchetti and Puranam (2020), then combine both the topic visualisation of pyLDAvis and the prototypical texts defined by PTBI to facilitate the topic interpretation."
   ]
  },
  {
   "cell_type": "markdown",
   "metadata": {},
   "source": [
    "##  5.1. Salient topics for interpretation\n",
    "PTBI assumes that the topics with little salience are not worthy of interpretation. To extract the most salient topics for interpretation, for each topic, we need to compute the fraction of documents with the probability that the documents belong to the topic is more than > 1/K (Marchetti and Puranam, 2020, p. 14), and I defined the fraction as the “salience” of the topic. "
   ]
  },
  {
   "cell_type": "markdown",
   "metadata": {},
   "source": [
    "The scree plot below shows that when the topics are sorted by salience in descending order, the salience tends to level off on topic 1, as a result, we can select the topics ahead of topic 1 as the salient topics for interpretation."
   ]
  },
  {
   "cell_type": "code",
   "execution_count": 100,
   "metadata": {},
   "outputs": [],
   "source": [
    "# compute salience: the fraction of documents with the probability that the document belongs to the topic is more than > 1/K for each document\n",
    "list_percent_above = []\n",
    "for i in df_topic_distribution:\n",
    "    num_above = df_topic_distribution[i][df_topic_distribution[i] > 1/k].count()\n",
    "    percent_above =  num_above/len(df_topic_distribution)\n",
    "    list_percent_above.append(percent_above)\n",
    "    \n",
    "df_salient_topic = pd.DataFrame({'topic_ID':  [str(i) for i in new_topic_id], 'salience': list_percent_above}).sort_values(\n",
    "    by = 'salience', ascending = False)"
   ]
  },
  {
   "cell_type": "code",
   "execution_count": 101,
   "metadata": {},
   "outputs": [
    {
     "data": {
      "application/vnd.plotly.v1+json": {
       "config": {
        "plotlyServerURL": "https://plotly.com"
       },
       "data": [
        {
         "hovertemplate": "topic_ID=%{x}<br>salience=%{y}<extra></extra>",
         "legendgroup": "",
         "line": {
          "color": "#636efa",
          "dash": "solid"
         },
         "mode": "lines+markers",
         "name": "",
         "orientation": "v",
         "showlegend": false,
         "type": "scatter",
         "x": [
          "3",
          "6",
          "8",
          "5",
          "4",
          "10",
          "7",
          "9",
          "1",
          "2"
         ],
         "xaxis": "x",
         "y": [
          0.3668639053254438,
          0.33727810650887574,
          0.3136094674556213,
          0.30177514792899407,
          0.23668639053254437,
          0.20710059171597633,
          0.14792899408284024,
          0.1301775147928994,
          0.08284023668639054,
          0.07692307692307693
         ],
         "yaxis": "y"
        }
       ],
       "layout": {
        "autosize": false,
        "height": 400,
        "legend": {
         "tracegroupgap": 0
        },
        "template": {
         "data": {
          "bar": [
           {
            "error_x": {
             "color": "#2a3f5f"
            },
            "error_y": {
             "color": "#2a3f5f"
            },
            "marker": {
             "line": {
              "color": "#E5ECF6",
              "width": 0.5
             }
            },
            "type": "bar"
           }
          ],
          "barpolar": [
           {
            "marker": {
             "line": {
              "color": "#E5ECF6",
              "width": 0.5
             }
            },
            "type": "barpolar"
           }
          ],
          "carpet": [
           {
            "aaxis": {
             "endlinecolor": "#2a3f5f",
             "gridcolor": "white",
             "linecolor": "white",
             "minorgridcolor": "white",
             "startlinecolor": "#2a3f5f"
            },
            "baxis": {
             "endlinecolor": "#2a3f5f",
             "gridcolor": "white",
             "linecolor": "white",
             "minorgridcolor": "white",
             "startlinecolor": "#2a3f5f"
            },
            "type": "carpet"
           }
          ],
          "choropleth": [
           {
            "colorbar": {
             "outlinewidth": 0,
             "ticks": ""
            },
            "type": "choropleth"
           }
          ],
          "contour": [
           {
            "colorbar": {
             "outlinewidth": 0,
             "ticks": ""
            },
            "colorscale": [
             [
              0,
              "#0d0887"
             ],
             [
              0.1111111111111111,
              "#46039f"
             ],
             [
              0.2222222222222222,
              "#7201a8"
             ],
             [
              0.3333333333333333,
              "#9c179e"
             ],
             [
              0.4444444444444444,
              "#bd3786"
             ],
             [
              0.5555555555555556,
              "#d8576b"
             ],
             [
              0.6666666666666666,
              "#ed7953"
             ],
             [
              0.7777777777777778,
              "#fb9f3a"
             ],
             [
              0.8888888888888888,
              "#fdca26"
             ],
             [
              1,
              "#f0f921"
             ]
            ],
            "type": "contour"
           }
          ],
          "contourcarpet": [
           {
            "colorbar": {
             "outlinewidth": 0,
             "ticks": ""
            },
            "type": "contourcarpet"
           }
          ],
          "heatmap": [
           {
            "colorbar": {
             "outlinewidth": 0,
             "ticks": ""
            },
            "colorscale": [
             [
              0,
              "#0d0887"
             ],
             [
              0.1111111111111111,
              "#46039f"
             ],
             [
              0.2222222222222222,
              "#7201a8"
             ],
             [
              0.3333333333333333,
              "#9c179e"
             ],
             [
              0.4444444444444444,
              "#bd3786"
             ],
             [
              0.5555555555555556,
              "#d8576b"
             ],
             [
              0.6666666666666666,
              "#ed7953"
             ],
             [
              0.7777777777777778,
              "#fb9f3a"
             ],
             [
              0.8888888888888888,
              "#fdca26"
             ],
             [
              1,
              "#f0f921"
             ]
            ],
            "type": "heatmap"
           }
          ],
          "heatmapgl": [
           {
            "colorbar": {
             "outlinewidth": 0,
             "ticks": ""
            },
            "colorscale": [
             [
              0,
              "#0d0887"
             ],
             [
              0.1111111111111111,
              "#46039f"
             ],
             [
              0.2222222222222222,
              "#7201a8"
             ],
             [
              0.3333333333333333,
              "#9c179e"
             ],
             [
              0.4444444444444444,
              "#bd3786"
             ],
             [
              0.5555555555555556,
              "#d8576b"
             ],
             [
              0.6666666666666666,
              "#ed7953"
             ],
             [
              0.7777777777777778,
              "#fb9f3a"
             ],
             [
              0.8888888888888888,
              "#fdca26"
             ],
             [
              1,
              "#f0f921"
             ]
            ],
            "type": "heatmapgl"
           }
          ],
          "histogram": [
           {
            "marker": {
             "colorbar": {
              "outlinewidth": 0,
              "ticks": ""
             }
            },
            "type": "histogram"
           }
          ],
          "histogram2d": [
           {
            "colorbar": {
             "outlinewidth": 0,
             "ticks": ""
            },
            "colorscale": [
             [
              0,
              "#0d0887"
             ],
             [
              0.1111111111111111,
              "#46039f"
             ],
             [
              0.2222222222222222,
              "#7201a8"
             ],
             [
              0.3333333333333333,
              "#9c179e"
             ],
             [
              0.4444444444444444,
              "#bd3786"
             ],
             [
              0.5555555555555556,
              "#d8576b"
             ],
             [
              0.6666666666666666,
              "#ed7953"
             ],
             [
              0.7777777777777778,
              "#fb9f3a"
             ],
             [
              0.8888888888888888,
              "#fdca26"
             ],
             [
              1,
              "#f0f921"
             ]
            ],
            "type": "histogram2d"
           }
          ],
          "histogram2dcontour": [
           {
            "colorbar": {
             "outlinewidth": 0,
             "ticks": ""
            },
            "colorscale": [
             [
              0,
              "#0d0887"
             ],
             [
              0.1111111111111111,
              "#46039f"
             ],
             [
              0.2222222222222222,
              "#7201a8"
             ],
             [
              0.3333333333333333,
              "#9c179e"
             ],
             [
              0.4444444444444444,
              "#bd3786"
             ],
             [
              0.5555555555555556,
              "#d8576b"
             ],
             [
              0.6666666666666666,
              "#ed7953"
             ],
             [
              0.7777777777777778,
              "#fb9f3a"
             ],
             [
              0.8888888888888888,
              "#fdca26"
             ],
             [
              1,
              "#f0f921"
             ]
            ],
            "type": "histogram2dcontour"
           }
          ],
          "mesh3d": [
           {
            "colorbar": {
             "outlinewidth": 0,
             "ticks": ""
            },
            "type": "mesh3d"
           }
          ],
          "parcoords": [
           {
            "line": {
             "colorbar": {
              "outlinewidth": 0,
              "ticks": ""
             }
            },
            "type": "parcoords"
           }
          ],
          "pie": [
           {
            "automargin": true,
            "type": "pie"
           }
          ],
          "scatter": [
           {
            "marker": {
             "colorbar": {
              "outlinewidth": 0,
              "ticks": ""
             }
            },
            "type": "scatter"
           }
          ],
          "scatter3d": [
           {
            "line": {
             "colorbar": {
              "outlinewidth": 0,
              "ticks": ""
             }
            },
            "marker": {
             "colorbar": {
              "outlinewidth": 0,
              "ticks": ""
             }
            },
            "type": "scatter3d"
           }
          ],
          "scattercarpet": [
           {
            "marker": {
             "colorbar": {
              "outlinewidth": 0,
              "ticks": ""
             }
            },
            "type": "scattercarpet"
           }
          ],
          "scattergeo": [
           {
            "marker": {
             "colorbar": {
              "outlinewidth": 0,
              "ticks": ""
             }
            },
            "type": "scattergeo"
           }
          ],
          "scattergl": [
           {
            "marker": {
             "colorbar": {
              "outlinewidth": 0,
              "ticks": ""
             }
            },
            "type": "scattergl"
           }
          ],
          "scattermapbox": [
           {
            "marker": {
             "colorbar": {
              "outlinewidth": 0,
              "ticks": ""
             }
            },
            "type": "scattermapbox"
           }
          ],
          "scatterpolar": [
           {
            "marker": {
             "colorbar": {
              "outlinewidth": 0,
              "ticks": ""
             }
            },
            "type": "scatterpolar"
           }
          ],
          "scatterpolargl": [
           {
            "marker": {
             "colorbar": {
              "outlinewidth": 0,
              "ticks": ""
             }
            },
            "type": "scatterpolargl"
           }
          ],
          "scatterternary": [
           {
            "marker": {
             "colorbar": {
              "outlinewidth": 0,
              "ticks": ""
             }
            },
            "type": "scatterternary"
           }
          ],
          "surface": [
           {
            "colorbar": {
             "outlinewidth": 0,
             "ticks": ""
            },
            "colorscale": [
             [
              0,
              "#0d0887"
             ],
             [
              0.1111111111111111,
              "#46039f"
             ],
             [
              0.2222222222222222,
              "#7201a8"
             ],
             [
              0.3333333333333333,
              "#9c179e"
             ],
             [
              0.4444444444444444,
              "#bd3786"
             ],
             [
              0.5555555555555556,
              "#d8576b"
             ],
             [
              0.6666666666666666,
              "#ed7953"
             ],
             [
              0.7777777777777778,
              "#fb9f3a"
             ],
             [
              0.8888888888888888,
              "#fdca26"
             ],
             [
              1,
              "#f0f921"
             ]
            ],
            "type": "surface"
           }
          ],
          "table": [
           {
            "cells": {
             "fill": {
              "color": "#EBF0F8"
             },
             "line": {
              "color": "white"
             }
            },
            "header": {
             "fill": {
              "color": "#C8D4E3"
             },
             "line": {
              "color": "white"
             }
            },
            "type": "table"
           }
          ]
         },
         "layout": {
          "annotationdefaults": {
           "arrowcolor": "#2a3f5f",
           "arrowhead": 0,
           "arrowwidth": 1
          },
          "autotypenumbers": "strict",
          "coloraxis": {
           "colorbar": {
            "outlinewidth": 0,
            "ticks": ""
           }
          },
          "colorscale": {
           "diverging": [
            [
             0,
             "#8e0152"
            ],
            [
             0.1,
             "#c51b7d"
            ],
            [
             0.2,
             "#de77ae"
            ],
            [
             0.3,
             "#f1b6da"
            ],
            [
             0.4,
             "#fde0ef"
            ],
            [
             0.5,
             "#f7f7f7"
            ],
            [
             0.6,
             "#e6f5d0"
            ],
            [
             0.7,
             "#b8e186"
            ],
            [
             0.8,
             "#7fbc41"
            ],
            [
             0.9,
             "#4d9221"
            ],
            [
             1,
             "#276419"
            ]
           ],
           "sequential": [
            [
             0,
             "#0d0887"
            ],
            [
             0.1111111111111111,
             "#46039f"
            ],
            [
             0.2222222222222222,
             "#7201a8"
            ],
            [
             0.3333333333333333,
             "#9c179e"
            ],
            [
             0.4444444444444444,
             "#bd3786"
            ],
            [
             0.5555555555555556,
             "#d8576b"
            ],
            [
             0.6666666666666666,
             "#ed7953"
            ],
            [
             0.7777777777777778,
             "#fb9f3a"
            ],
            [
             0.8888888888888888,
             "#fdca26"
            ],
            [
             1,
             "#f0f921"
            ]
           ],
           "sequentialminus": [
            [
             0,
             "#0d0887"
            ],
            [
             0.1111111111111111,
             "#46039f"
            ],
            [
             0.2222222222222222,
             "#7201a8"
            ],
            [
             0.3333333333333333,
             "#9c179e"
            ],
            [
             0.4444444444444444,
             "#bd3786"
            ],
            [
             0.5555555555555556,
             "#d8576b"
            ],
            [
             0.6666666666666666,
             "#ed7953"
            ],
            [
             0.7777777777777778,
             "#fb9f3a"
            ],
            [
             0.8888888888888888,
             "#fdca26"
            ],
            [
             1,
             "#f0f921"
            ]
           ]
          },
          "colorway": [
           "#636efa",
           "#EF553B",
           "#00cc96",
           "#ab63fa",
           "#FFA15A",
           "#19d3f3",
           "#FF6692",
           "#B6E880",
           "#FF97FF",
           "#FECB52"
          ],
          "font": {
           "color": "#2a3f5f"
          },
          "geo": {
           "bgcolor": "white",
           "lakecolor": "white",
           "landcolor": "#E5ECF6",
           "showlakes": true,
           "showland": true,
           "subunitcolor": "white"
          },
          "hoverlabel": {
           "align": "left"
          },
          "hovermode": "closest",
          "mapbox": {
           "style": "light"
          },
          "paper_bgcolor": "white",
          "plot_bgcolor": "#E5ECF6",
          "polar": {
           "angularaxis": {
            "gridcolor": "white",
            "linecolor": "white",
            "ticks": ""
           },
           "bgcolor": "#E5ECF6",
           "radialaxis": {
            "gridcolor": "white",
            "linecolor": "white",
            "ticks": ""
           }
          },
          "scene": {
           "xaxis": {
            "backgroundcolor": "#E5ECF6",
            "gridcolor": "white",
            "gridwidth": 2,
            "linecolor": "white",
            "showbackground": true,
            "ticks": "",
            "zerolinecolor": "white"
           },
           "yaxis": {
            "backgroundcolor": "#E5ECF6",
            "gridcolor": "white",
            "gridwidth": 2,
            "linecolor": "white",
            "showbackground": true,
            "ticks": "",
            "zerolinecolor": "white"
           },
           "zaxis": {
            "backgroundcolor": "#E5ECF6",
            "gridcolor": "white",
            "gridwidth": 2,
            "linecolor": "white",
            "showbackground": true,
            "ticks": "",
            "zerolinecolor": "white"
           }
          },
          "shapedefaults": {
           "line": {
            "color": "#2a3f5f"
           }
          },
          "ternary": {
           "aaxis": {
            "gridcolor": "white",
            "linecolor": "white",
            "ticks": ""
           },
           "baxis": {
            "gridcolor": "white",
            "linecolor": "white",
            "ticks": ""
           },
           "bgcolor": "#E5ECF6",
           "caxis": {
            "gridcolor": "white",
            "linecolor": "white",
            "ticks": ""
           }
          },
          "title": {
           "x": 0.05
          },
          "xaxis": {
           "automargin": true,
           "gridcolor": "white",
           "linecolor": "white",
           "ticks": "",
           "title": {
            "standoff": 15
           },
           "zerolinecolor": "white",
           "zerolinewidth": 2
          },
          "yaxis": {
           "automargin": true,
           "gridcolor": "white",
           "linecolor": "white",
           "ticks": "",
           "title": {
            "standoff": 15
           },
           "zerolinecolor": "white",
           "zerolinewidth": 2
          }
         }
        },
        "title": {
         "text": "Scree plot of salience of topics"
        },
        "width": 800,
        "xaxis": {
         "anchor": "y",
         "domain": [
          0,
          1
         ],
         "title": {
          "text": "topic_ID"
         }
        },
        "yaxis": {
         "anchor": "x",
         "domain": [
          0,
          1
         ],
         "title": {
          "text": "salience"
         }
        }
       }
      },
      "text/html": [
       "<div>                            <div id=\"358af1b0-a9d6-45b7-81c5-544991dac2e4\" class=\"plotly-graph-div\" style=\"height:400px; width:800px;\"></div>            <script type=\"text/javascript\">                require([\"plotly\"], function(Plotly) {                    window.PLOTLYENV=window.PLOTLYENV || {};                                    if (document.getElementById(\"358af1b0-a9d6-45b7-81c5-544991dac2e4\")) {                    Plotly.newPlot(                        \"358af1b0-a9d6-45b7-81c5-544991dac2e4\",                        [{\"hovertemplate\": \"topic_ID=%{x}<br>salience=%{y}<extra></extra>\", \"legendgroup\": \"\", \"line\": {\"color\": \"#636efa\", \"dash\": \"solid\"}, \"mode\": \"lines+markers\", \"name\": \"\", \"orientation\": \"v\", \"showlegend\": false, \"type\": \"scatter\", \"x\": [\"3\", \"6\", \"8\", \"5\", \"4\", \"10\", \"7\", \"9\", \"1\", \"2\"], \"xaxis\": \"x\", \"y\": [0.3668639053254438, 0.33727810650887574, 0.3136094674556213, 0.30177514792899407, 0.23668639053254437, 0.20710059171597633, 0.14792899408284024, 0.1301775147928994, 0.08284023668639054, 0.07692307692307693], \"yaxis\": \"y\"}],                        {\"autosize\": false, \"height\": 400, \"legend\": {\"tracegroupgap\": 0}, \"template\": {\"data\": {\"bar\": [{\"error_x\": {\"color\": \"#2a3f5f\"}, \"error_y\": {\"color\": \"#2a3f5f\"}, \"marker\": {\"line\": {\"color\": \"#E5ECF6\", \"width\": 0.5}}, \"type\": \"bar\"}], \"barpolar\": [{\"marker\": {\"line\": {\"color\": \"#E5ECF6\", \"width\": 0.5}}, \"type\": \"barpolar\"}], \"carpet\": [{\"aaxis\": {\"endlinecolor\": \"#2a3f5f\", \"gridcolor\": \"white\", \"linecolor\": \"white\", \"minorgridcolor\": \"white\", \"startlinecolor\": \"#2a3f5f\"}, \"baxis\": {\"endlinecolor\": \"#2a3f5f\", \"gridcolor\": \"white\", \"linecolor\": \"white\", \"minorgridcolor\": \"white\", \"startlinecolor\": \"#2a3f5f\"}, \"type\": \"carpet\"}], \"choropleth\": [{\"colorbar\": {\"outlinewidth\": 0, \"ticks\": \"\"}, \"type\": \"choropleth\"}], \"contour\": [{\"colorbar\": {\"outlinewidth\": 0, \"ticks\": \"\"}, \"colorscale\": [[0.0, \"#0d0887\"], [0.1111111111111111, \"#46039f\"], [0.2222222222222222, \"#7201a8\"], [0.3333333333333333, \"#9c179e\"], [0.4444444444444444, \"#bd3786\"], [0.5555555555555556, \"#d8576b\"], [0.6666666666666666, \"#ed7953\"], [0.7777777777777778, \"#fb9f3a\"], [0.8888888888888888, \"#fdca26\"], [1.0, \"#f0f921\"]], \"type\": \"contour\"}], \"contourcarpet\": [{\"colorbar\": {\"outlinewidth\": 0, \"ticks\": \"\"}, \"type\": \"contourcarpet\"}], \"heatmap\": [{\"colorbar\": {\"outlinewidth\": 0, \"ticks\": \"\"}, \"colorscale\": [[0.0, \"#0d0887\"], [0.1111111111111111, \"#46039f\"], [0.2222222222222222, \"#7201a8\"], [0.3333333333333333, \"#9c179e\"], [0.4444444444444444, \"#bd3786\"], [0.5555555555555556, \"#d8576b\"], [0.6666666666666666, \"#ed7953\"], [0.7777777777777778, \"#fb9f3a\"], [0.8888888888888888, \"#fdca26\"], [1.0, \"#f0f921\"]], \"type\": \"heatmap\"}], \"heatmapgl\": [{\"colorbar\": {\"outlinewidth\": 0, \"ticks\": \"\"}, \"colorscale\": [[0.0, \"#0d0887\"], [0.1111111111111111, \"#46039f\"], [0.2222222222222222, \"#7201a8\"], [0.3333333333333333, \"#9c179e\"], [0.4444444444444444, \"#bd3786\"], [0.5555555555555556, \"#d8576b\"], [0.6666666666666666, \"#ed7953\"], [0.7777777777777778, \"#fb9f3a\"], [0.8888888888888888, \"#fdca26\"], [1.0, \"#f0f921\"]], \"type\": \"heatmapgl\"}], \"histogram\": [{\"marker\": {\"colorbar\": {\"outlinewidth\": 0, \"ticks\": \"\"}}, \"type\": \"histogram\"}], \"histogram2d\": [{\"colorbar\": {\"outlinewidth\": 0, \"ticks\": \"\"}, \"colorscale\": [[0.0, \"#0d0887\"], [0.1111111111111111, \"#46039f\"], [0.2222222222222222, \"#7201a8\"], [0.3333333333333333, \"#9c179e\"], [0.4444444444444444, \"#bd3786\"], [0.5555555555555556, \"#d8576b\"], [0.6666666666666666, \"#ed7953\"], [0.7777777777777778, \"#fb9f3a\"], [0.8888888888888888, \"#fdca26\"], [1.0, \"#f0f921\"]], \"type\": \"histogram2d\"}], \"histogram2dcontour\": [{\"colorbar\": {\"outlinewidth\": 0, \"ticks\": \"\"}, \"colorscale\": [[0.0, \"#0d0887\"], [0.1111111111111111, \"#46039f\"], [0.2222222222222222, \"#7201a8\"], [0.3333333333333333, \"#9c179e\"], [0.4444444444444444, \"#bd3786\"], [0.5555555555555556, \"#d8576b\"], [0.6666666666666666, \"#ed7953\"], [0.7777777777777778, \"#fb9f3a\"], [0.8888888888888888, \"#fdca26\"], [1.0, \"#f0f921\"]], \"type\": \"histogram2dcontour\"}], \"mesh3d\": [{\"colorbar\": {\"outlinewidth\": 0, \"ticks\": \"\"}, \"type\": \"mesh3d\"}], \"parcoords\": [{\"line\": {\"colorbar\": {\"outlinewidth\": 0, \"ticks\": \"\"}}, \"type\": \"parcoords\"}], \"pie\": [{\"automargin\": true, \"type\": \"pie\"}], \"scatter\": [{\"marker\": {\"colorbar\": {\"outlinewidth\": 0, \"ticks\": \"\"}}, \"type\": \"scatter\"}], \"scatter3d\": [{\"line\": {\"colorbar\": {\"outlinewidth\": 0, \"ticks\": \"\"}}, \"marker\": {\"colorbar\": {\"outlinewidth\": 0, \"ticks\": \"\"}}, \"type\": \"scatter3d\"}], \"scattercarpet\": [{\"marker\": {\"colorbar\": {\"outlinewidth\": 0, \"ticks\": \"\"}}, \"type\": \"scattercarpet\"}], \"scattergeo\": [{\"marker\": {\"colorbar\": {\"outlinewidth\": 0, \"ticks\": \"\"}}, \"type\": \"scattergeo\"}], \"scattergl\": [{\"marker\": {\"colorbar\": {\"outlinewidth\": 0, \"ticks\": \"\"}}, \"type\": \"scattergl\"}], \"scattermapbox\": [{\"marker\": {\"colorbar\": {\"outlinewidth\": 0, \"ticks\": \"\"}}, \"type\": \"scattermapbox\"}], \"scatterpolar\": [{\"marker\": {\"colorbar\": {\"outlinewidth\": 0, \"ticks\": \"\"}}, \"type\": \"scatterpolar\"}], \"scatterpolargl\": [{\"marker\": {\"colorbar\": {\"outlinewidth\": 0, \"ticks\": \"\"}}, \"type\": \"scatterpolargl\"}], \"scatterternary\": [{\"marker\": {\"colorbar\": {\"outlinewidth\": 0, \"ticks\": \"\"}}, \"type\": \"scatterternary\"}], \"surface\": [{\"colorbar\": {\"outlinewidth\": 0, \"ticks\": \"\"}, \"colorscale\": [[0.0, \"#0d0887\"], [0.1111111111111111, \"#46039f\"], [0.2222222222222222, \"#7201a8\"], [0.3333333333333333, \"#9c179e\"], [0.4444444444444444, \"#bd3786\"], [0.5555555555555556, \"#d8576b\"], [0.6666666666666666, \"#ed7953\"], [0.7777777777777778, \"#fb9f3a\"], [0.8888888888888888, \"#fdca26\"], [1.0, \"#f0f921\"]], \"type\": \"surface\"}], \"table\": [{\"cells\": {\"fill\": {\"color\": \"#EBF0F8\"}, \"line\": {\"color\": \"white\"}}, \"header\": {\"fill\": {\"color\": \"#C8D4E3\"}, \"line\": {\"color\": \"white\"}}, \"type\": \"table\"}]}, \"layout\": {\"annotationdefaults\": {\"arrowcolor\": \"#2a3f5f\", \"arrowhead\": 0, \"arrowwidth\": 1}, \"autotypenumbers\": \"strict\", \"coloraxis\": {\"colorbar\": {\"outlinewidth\": 0, \"ticks\": \"\"}}, \"colorscale\": {\"diverging\": [[0, \"#8e0152\"], [0.1, \"#c51b7d\"], [0.2, \"#de77ae\"], [0.3, \"#f1b6da\"], [0.4, \"#fde0ef\"], [0.5, \"#f7f7f7\"], [0.6, \"#e6f5d0\"], [0.7, \"#b8e186\"], [0.8, \"#7fbc41\"], [0.9, \"#4d9221\"], [1, \"#276419\"]], \"sequential\": [[0.0, \"#0d0887\"], [0.1111111111111111, \"#46039f\"], [0.2222222222222222, \"#7201a8\"], [0.3333333333333333, \"#9c179e\"], [0.4444444444444444, \"#bd3786\"], [0.5555555555555556, \"#d8576b\"], [0.6666666666666666, \"#ed7953\"], [0.7777777777777778, \"#fb9f3a\"], [0.8888888888888888, \"#fdca26\"], [1.0, \"#f0f921\"]], \"sequentialminus\": [[0.0, \"#0d0887\"], [0.1111111111111111, \"#46039f\"], [0.2222222222222222, \"#7201a8\"], [0.3333333333333333, \"#9c179e\"], [0.4444444444444444, \"#bd3786\"], [0.5555555555555556, \"#d8576b\"], [0.6666666666666666, \"#ed7953\"], [0.7777777777777778, \"#fb9f3a\"], [0.8888888888888888, \"#fdca26\"], [1.0, \"#f0f921\"]]}, \"colorway\": [\"#636efa\", \"#EF553B\", \"#00cc96\", \"#ab63fa\", \"#FFA15A\", \"#19d3f3\", \"#FF6692\", \"#B6E880\", \"#FF97FF\", \"#FECB52\"], \"font\": {\"color\": \"#2a3f5f\"}, \"geo\": {\"bgcolor\": \"white\", \"lakecolor\": \"white\", \"landcolor\": \"#E5ECF6\", \"showlakes\": true, \"showland\": true, \"subunitcolor\": \"white\"}, \"hoverlabel\": {\"align\": \"left\"}, \"hovermode\": \"closest\", \"mapbox\": {\"style\": \"light\"}, \"paper_bgcolor\": \"white\", \"plot_bgcolor\": \"#E5ECF6\", \"polar\": {\"angularaxis\": {\"gridcolor\": \"white\", \"linecolor\": \"white\", \"ticks\": \"\"}, \"bgcolor\": \"#E5ECF6\", \"radialaxis\": {\"gridcolor\": \"white\", \"linecolor\": \"white\", \"ticks\": \"\"}}, \"scene\": {\"xaxis\": {\"backgroundcolor\": \"#E5ECF6\", \"gridcolor\": \"white\", \"gridwidth\": 2, \"linecolor\": \"white\", \"showbackground\": true, \"ticks\": \"\", \"zerolinecolor\": \"white\"}, \"yaxis\": {\"backgroundcolor\": \"#E5ECF6\", \"gridcolor\": \"white\", \"gridwidth\": 2, \"linecolor\": \"white\", \"showbackground\": true, \"ticks\": \"\", \"zerolinecolor\": \"white\"}, \"zaxis\": {\"backgroundcolor\": \"#E5ECF6\", \"gridcolor\": \"white\", \"gridwidth\": 2, \"linecolor\": \"white\", \"showbackground\": true, \"ticks\": \"\", \"zerolinecolor\": \"white\"}}, \"shapedefaults\": {\"line\": {\"color\": \"#2a3f5f\"}}, \"ternary\": {\"aaxis\": {\"gridcolor\": \"white\", \"linecolor\": \"white\", \"ticks\": \"\"}, \"baxis\": {\"gridcolor\": \"white\", \"linecolor\": \"white\", \"ticks\": \"\"}, \"bgcolor\": \"#E5ECF6\", \"caxis\": {\"gridcolor\": \"white\", \"linecolor\": \"white\", \"ticks\": \"\"}}, \"title\": {\"x\": 0.05}, \"xaxis\": {\"automargin\": true, \"gridcolor\": \"white\", \"linecolor\": \"white\", \"ticks\": \"\", \"title\": {\"standoff\": 15}, \"zerolinecolor\": \"white\", \"zerolinewidth\": 2}, \"yaxis\": {\"automargin\": true, \"gridcolor\": \"white\", \"linecolor\": \"white\", \"ticks\": \"\", \"title\": {\"standoff\": 15}, \"zerolinecolor\": \"white\", \"zerolinewidth\": 2}}}, \"title\": {\"text\": \"Scree plot of salience of topics\"}, \"width\": 800, \"xaxis\": {\"anchor\": \"y\", \"domain\": [0.0, 1.0], \"title\": {\"text\": \"topic_ID\"}}, \"yaxis\": {\"anchor\": \"x\", \"domain\": [0.0, 1.0], \"title\": {\"text\": \"salience\"}}},                        {\"responsive\": true}                    ).then(function(){\n",
       "                            \n",
       "var gd = document.getElementById('358af1b0-a9d6-45b7-81c5-544991dac2e4');\n",
       "var x = new MutationObserver(function (mutations, observer) {{\n",
       "        var display = window.getComputedStyle(gd).display;\n",
       "        if (!display || display === 'none') {{\n",
       "            console.log([gd, 'removed!']);\n",
       "            Plotly.purge(gd);\n",
       "            observer.disconnect();\n",
       "        }}\n",
       "}});\n",
       "\n",
       "// Listen for the removal of the full notebook cells\n",
       "var notebookContainer = gd.closest('#notebook-container');\n",
       "if (notebookContainer) {{\n",
       "    x.observe(notebookContainer, {childList: true});\n",
       "}}\n",
       "\n",
       "// Listen for the clearing of the current output cell\n",
       "var outputEl = gd.closest('.output');\n",
       "if (outputEl) {{\n",
       "    x.observe(outputEl, {childList: true});\n",
       "}}\n",
       "\n",
       "                        })                };                });            </script>        </div>"
      ]
     },
     "metadata": {},
     "output_type": "display_data"
    }
   ],
   "source": [
    "fig_L1 = px.line(df_salient_topic, x = 'topic_ID', y = 'salience', title=\"Scree plot of salience of topics\")\n",
    "fig_L1.update_layout(autosize=False, width=800, height=400)\n",
    "fig_L1.update_traces(mode = \"lines + markers\")\n",
    "fig_L1.show()"
   ]
  },
  {
   "cell_type": "markdown",
   "metadata": {},
   "source": [
    "## 5.2. Topic visualisation"
   ]
  },
  {
   "cell_type": "markdown",
   "metadata": {},
   "source": [
    "Check the words of each topic, if there're common words with high overall frequency such as \"think\" \"want\" or \"make\", return to the \"import the stop_words from gensim\" section, add these words to the list of stop words to remove them."
   ]
  },
  {
   "cell_type": "code",
   "execution_count": 102,
   "metadata": {},
   "outputs": [
    {
     "data": {
      "text/html": [
       "\n",
       "<link rel=\"stylesheet\" type=\"text/css\" href=\"https://cdn.jsdelivr.net/gh/bmabey/pyLDAvis@3.3.1/pyLDAvis/js/ldavis.v1.0.0.css\">\n",
       "\n",
       "\n",
       "<div id=\"ldavis_el3974824807323363045454496545\"></div>\n",
       "<script type=\"text/javascript\">\n",
       "\n",
       "var ldavis_el3974824807323363045454496545_data = {\"mdsDat\": {\"x\": [0.16654718621784093, -0.20888858309122413, -0.0996038595296106, 0.08074748424805005, 0.17480698582146476, 0.02166945801715833, -0.09305130433161551, -0.02835275413024639, -0.08882609397897466, 0.07495148075715719], \"y\": [-0.05354615709844717, 0.044846917952728056, 0.045386147500737856, -0.0019082211773217641, 0.114097581766041, 0.016902412984581283, -0.14156912426287907, 0.09671266520149012, -0.007824932028535724, -0.11309729083839445], \"topics\": [1, 2, 3, 4, 5, 6, 7, 8, 9, 10], \"cluster\": [1, 1, 1, 1, 1, 1, 1, 1, 1, 1], \"Freq\": [2.1231460208251045, 2.329591775193633, 8.046478863841214, 9.799368616313252, 4.273749393840159, 20.293177262349097, 13.441436164990114, 19.371734242164937, 15.695116222560804, 4.6262014379216865]}, \"tinfo\": {\"Term\": [\"legacy\", \"venue\", \"cost\", \"bid\", \"athlete\", \"performance\", \"facility\", \"participation\", \"community\", \"budget\", \"risk\", \"report\", \"delivery\", \"club\", \"provide\", \"park\", \"chair\", \"local\", \"funding\", \"committee\", \"school\", \"opportunity\", \"benefit\", \"authority\", \"estimate\", \"young\", \"medal\", \"programme\", \"come\", \"plan\", \"eastway\", \"relocatable\", \"mini\", \"install\", \"tournament\", \"bmx\", \"irrelevant\", \"league\", \"mountain_biking\", \"circuit\", \"velopark\", \"raft\", \"objection\", \"landowner\", \"secondary_school\", \"dominate\", \"query\", \"supplementary_memorandum_submitte\", \"canoe\", \"velodrome\", \"outdoor\", \"swimming_pool\", \"literacy\", \"levy\", \"golf\", \"cyclist\", \"tennis\", \"pende\", \"hockey\", \"seating_capacity\", \"indoor\", \"club\", \"user\", \"venue\", \"cycling\", \"adequate\", \"legacy\", \"centre\", \"facility\", \"athletic\", \"design\", \"relocation\", \"community\", \"arena\", \"regional\", \"provide\", \"park\", \"site\", \"development\", \"participation\", \"offer\", \"group\", \"ensure\", \"track\", \"provision\", \"host\", \"process\", \"plan\", \"oda\", \"increase\", \"local\", \"competition\", \"event\", \"benefit\", \"school\", \"transcript\", \"finely_balance\", \"telegraph\", \"ambush_markete\", \"sorry\", \"intent\", \"legitimate\", \"servant\", \"cashflow\", \"briefing\", \"liaise\", \"permanent_secretary\", \"old\", \"racing\", \"inappropriate\", \"chief_operate\", \"alternate\", \"authorise\", \"description\", \"letter\", \"anxious\", \"characterise\", \"article\", \"appraise\", \"materialise\", \"am_sorry\", \"cleaning\", \"liaison\", \"deliberation\", \"surprising\", \"impression\", \"conservative\", \"civil_servant\", \"advertising\", \"yesterday\", \"grant\", \"explain\", \"likely\", \"expenditure\", \"arise\", \"respect\", \"prudent\", \"figure\", \"statement\", \"chair\", \"write\", \"committee\", \"risk\", \"income\", \"estimate\", \"contact\", \"role\", \"clear\", \"budget\", \"matter\", \"money\", \"answer\", \"requirement\", \"point\", \"question\", \"report\", \"cost\", \"issue\", \"lottery\", \"public\", \"come\", \"funding\", \"number\", \"oda\", \"department\", \"fund\", \"concordat\", \"witnesses_questions_wednesday_january\", \"witnesses_questions_tuesday_january\", \"miss_kirkbride\", \"configuration\", \"charismatic\", \"greek\", \"precious\", \"west\", \"arup\", \"bryant\", \"wholehearte\", \"sydney\", \"underwriting\", \"centrepiece\", \"athen\", \"crossrail\", \"sceptical\", \"tune\", \"modernise\", \"deliverability\", \"satisfactory\", \"regenerative\", \"gentleman\", \"drum\", \"wembley\", \"truth\", \"publicly_funde\", \"dear\", \"flagship\", \"unequivocal\", \"upfront\", \"bidding\", \"bid\", \"thorough\", \"manchester\", \"picketts_lock\", \"city\", \"ioc\", \"stadium\", \"dome\", \"yesterday\", \"village\", \"benefit\", \"regeneration\", \"option\", \"cost\", \"difficult\", \"decision\", \"stage\", \"question\", \"athletic\", \"issue\", \"figure\", \"debate\", \"government\", \"infrastructure\", \"chairman\", \"point\", \"transport\", \"come\", \"revenue\", \"project\", \"look\", \"public\", \"like\", \"build\", \"committee\", \"report\", \"area\", \"facility\", \"event\", \"country\", \"medal_target\", \"synchronised_swimming\", \"bronze\", \"pair\", \"physiotherapy\", \"sporting_giants_campaign\", \"amateur_swimming_association\", \"medicine\", \"medal_table\", \"talent_identification\", \"mission\", \"canoeing\", \"fundraising\", \"science\", \"injury\", \"medal_winning_performance\", \"nurture\", \"sir_clive_woodward\", \"podium\", \"quantitative\", \"diver\", \"rower\", \"scientist\", \"depth\", \"qualitative\", \"wheelchair\", \"diving\", \"casual\", \"silver\", \"vulnerable\", \"medal\", \"performance\", \"volleyball\", \"swimming\", \"swimmer\", \"institute\", \"elite\", \"athlete\", \"swim\", \"pathway\", \"coach\", \"world_class\", \"governing_bodie\", \"boa\", \"british\", \"success\", \"mode\", \"talent\", \"gold_medal\", \"paralympic\", \"funding\", \"cycle\", \"target\", \"national\", \"win\", \"support\", \"competition\", \"provide\", \"programme\", \"team\", \"training\", \"facility\", \"achieve\", \"development\", \"level\", \"fund\", \"lead\", \"event\", \"include\", \"service\", \"deliver\", \"ensure\", \"music\", \"improves_cultural_life\", \"significance\", \"technological\", \"curriculum\", \"ngbs\", \"performer\", \"pupil\", \"redress\", \"leaving_laste\", \"creative_industrie\", \"written_evidence_submitte\", \"motivation\", \"compelling\", \"girl\", \"physically_active\", \"engender\", \"film\", \"dcsf\", \"society\", \"measurable\", \"satisfaction\", \"deliverer\", \"immense\", \"unlimited\", \"pioneer\", \"hero\", \"coordinated\", \"appendix_memorandum_submitte\", \"artist\", \"disability\", \"disabled\", \"barrier\", \"physical_activity\", \"woman\", \"child\", \"lasting\", \"grow\", \"young\", \"active\", \"adult\", \"offer\", \"physical\", \"school\", \"participation\", \"participant\", \"lack\", \"age\", \"benefit\", \"sporting\", \"create\", \"local\", \"opportunity\", \"legacy\", \"facility\", \"significant\", \"increase\", \"social\", \"event\", \"access\", \"sector\", \"activity\", \"community\", \"level\", \"provide\", \"support\", \"impact\", \"economic\", \"provision\", \"major\", \"investment\", \"area\", \"museum\", \"powerline\", \"stimulus\", \"gallery\", \"attainment\", \"demographic\", \"neighbouring\", \"detrimental\", \"vocational\", \"grade\", \"realisation\", \"friendship\", \"imbalance\", \"inbound\", \"thames_gateway_development_corporation\", \"bombing\", \"social_cohesion\", \"ccpr\", \"whilst\", \"community_cohesion\", \"devolved_administration\", \"rating\", \"appropriateness\", \"psa\", \"diverse_communitie\", \"deprivation\", \"carnival\", \"visitbritain\", \"union\", \"library\", \"tourism\", \"bene\\ufb01ts\", \"destination\", \"nldf\", \"heritage\", \"cultural\", \"camelot\", \"visitor\", \"recreation\", \"perception\", \"sector\", \"bene\\ufb01t\", \"appeal\", \"distributor\", \"region\", \"forum\", \"resident\", \"art\", \"showcase\", \"lottery\", \"community\", \"regional\", \"visit\", \"borough\", \"voluntary\", \"strategy\", \"ensure\", \"skill\", \"maximise\", \"evidence\", \"legacy\", \"opportunity\", \"local\", \"sustainable\", \"welcome\", \"national\", \"participation\", \"business\", \"develop\", \"development\", \"support\", \"deliver\", \"host\", \"increase\", \"event\", \"nation\", \"plan\", \"government\", \"funding\", \"programme\", \"provide\", \"committee\", \"facility\", \"area\", \"cost\", \"include\", \"joint_venture_agreement\", \"ultimate_guarantor\", \"financially_expose\", \"cost_overrun\", \"self_finance\", \"auditor_general\", \"candidate_file\", \"clm\", \"instruction\", \"governance_arrangement\", \"expected\", \"commerce\", \"certify\", \"risk_assessment\", \"reconcile\", \"stationery_office_limite\", \"controller\", \"readiness\", \"supplier\", \"source_national_audit\", \"gross\", \"forecast\", \"completion_date\", \"comptroller\", \"designate\", \"policing\", \"sterling\", \"authority\", \"notify\", \"ch_hill_laing_rourke\", \"highway\", \"landscaping\", \"executive\", \"delivery\", \"contractor\", \"preparation\", \"procurement\", \"construction\", \"baseline\", \"specification\", \"arrangement\", \"risk\", \"department\", \"cost\", \"main\", \"budget\", \"contingency\", \"report\", \"estimate\", \"uncertainty\", \"progress\", \"project\", \"delay\", \"management\", \"programme\", \"include\", \"security\", \"infrastructure\", \"government\", \"plan\", \"funding\", \"manage\", \"review\", \"venue\", \"fund\", \"deliver\", \"expect\", \"provide\", \"legacy\", \"site\", \"adam_price\", \"softball\", \"glad\", \"stone\", \"lord_coe\", \"excuse\", \"spectator_experience\", \"runner\", \"chunk\", \"import\", \"reputational_damage\", \"tooth\", \"plus\", \"seb\", \"general_election\", \"clegg\", \"centenary\", \"hurdle\", \"activate\", \"thrilled\", \"democratic\", \"torch\", \"able_bodied\", \"bonus\", \"beg\", \"proof\", \"stead\", \"desperate\", \"visa\", \"soccer\", \"sander\", \"lucky\", \"shame\", \"constituency\", \"philip_davie\", \"listen\", \"make_sure\", \"rosemary_mckenna\", \"moment\", \"kid\", \"pricing\", \"sure\", \"election\", \"watch\", \"fantastic\", \"look\", \"youngster\", \"ticket\", \"come\", \"talk\", \"chairman\", \"sort\", \"country\", \"hope\", \"good\", \"course\", \"able\", \"important\", \"morning\", \"wonderful\", \"right\", \"day\", \"term\", \"big\", \"question\", \"start\", \"like\", \"process\", \"team\", \"point\", \"money\", \"end\", \"athlete\", \"place\", \"great\", \"evidence\", \"opportunity\", \"committee\", \"legacy\", \"number\", \"issue\", \"area\", \"guard\", \"military\", \"orn\", \"couldn\", \"soldier\", \"dif\\ufb01cult\", \"mayoral_development_corporation\", \"anecdotal\", \"left\", \"adjourn\", \"apology\", \"formal_minutes_witnesse\", \"finely_balanced\", \"embargoed_copie\", \"bracket\", \"aren\", \"oral_evidence_taken\", \"perimeter\", \"tsoshop\", \"textphone\", \"fax_orders_email\", \"pretend\", \"rumour\", \"defence\", \"anticipated_final_cost\", \"development_corporation\", \"reply\", \"maker\", \"envelope\", \"deploy\", \"warn\", \"comparable\", \"security_guard\", \"eighth\", \"chair\", \"unspent\", \"security\", \"screening\", \"usual\", \"paragraph\", \"hearing\", \"cite\", \"page\", \"haven\", \"recover\", \"pay\", \"contract\", \"report\", \"\\ufb01gure\", \"original\", \"cost\", \"contingency\", \"note\", \"receipt\", \"government\", \"volunteer\", \"budget\", \"risk\", \"venue\", \"money\", \"accept\", \"oda\", \"spend\", \"number\", \"package\", \"programme\", \"department\", \"sale\", \"publish\", \"funding\", \"committee\", \"legacy\", \"project\", \"estimate\", \"come\", \"increase\", \"place\", \"management\", \"plan\", \"set\", \"deliver\", \"lottery\", \"provide\", \"include\", \"fringe\", \"passenger\", \"convergence\", \"advisor\", \"interchange\", \"founder\", \"workless\", \"entrepreneur\", \"conservation\", \"extension\", \"enhancement\", \"holding\", \"mainline\", \"emission\", \"five_host_boroughs\", \"hackney_marshe\", \"planet\", \"supervise\", \"coincide\", \"derelict\", \"crossing\", \"remote\", \"open_space\", \"carbon\", \"pedestrian\", \"socially_excluded\", \"londoner\", \"maintenance\", \"green\", \"waterway\", \"rail\", \"parkland\", \"station\", \"upgrade\", \"transformation\", \"company\", \"hackney\", \"transport\", \"stratford\", \"park\", \"mayor\", \"transform\", \"neighbourhood\", \"line\", \"masterplan\", \"employment\", \"priority\", \"partner\", \"volunteer\", \"regeneration\", \"network\", \"stakeholder\", \"plan\", \"planning\", \"venue\", \"service\", \"business\", \"legacy\", \"area\", \"benefit\", \"include\", \"site\", \"develop\", \"local\", \"development\", \"deliver\", \"programme\", \"community\", \"oda\", \"opportunity\", \"support\", \"provide\", \"strategy\", \"management\", \"key\", \"ensure\", \"project\"], \"Freq\": [2757.0, 1704.0, 3032.0, 1444.0, 1401.0, 914.0, 1372.0, 946.0, 1334.0, 1467.0, 953.0, 1599.0, 1463.0, 456.0, 1567.0, 929.0, 758.0, 1215.0, 2155.0, 1349.0, 682.0, 1387.0, 889.0, 755.0, 712.0, 604.0, 464.0, 2522.0, 1429.0, 1549.0, 23.105570449385052, 12.976229531697589, 5.919100876353326, 6.779117969572212, 13.310615271093777, 11.565011093890792, 4.321743866636318, 9.49644982350934, 4.2813564587193085, 17.788088583026752, 59.8698101176379, 6.896608610785329, 13.130834227602232, 7.188740003501347, 7.004651051363262, 6.999828731340013, 4.977619136293768, 18.090542599282788, 13.187018956660546, 35.0413452628379, 9.24729203617406, 17.657113178800458, 3.6737246447200222, 7.713855417235966, 6.5894606862613, 10.590556196068846, 23.812840995372067, 6.322588191546275, 27.877923012725372, 4.711664250579838, 31.317477738579896, 148.90603902992387, 19.682729124961554, 226.98565722196068, 35.35334608161262, 20.315247213564888, 229.09249054589802, 69.62226711978515, 128.94083614633948, 63.69844940449325, 71.99051620319486, 15.777224701606293, 98.40326108845719, 23.561840346477734, 43.801237487893786, 95.0597430684199, 69.32142895144942, 63.199643113472256, 69.02510353908407, 60.643558206351486, 36.09922270459032, 43.87491220376014, 56.71905037192981, 33.69675188840508, 39.673148102628545, 46.09111565410207, 46.942491706290234, 57.217153455719654, 44.327190635460305, 48.390065193592314, 45.6619819125753, 35.89832862833888, 41.764186780669476, 39.686249159087325, 36.80269898895181, 11.346569048813377, 10.8089350956037, 7.4609971561782755, 3.846578798185919, 10.562580023395933, 5.759669238858392, 4.759187963220168, 3.638607520565691, 9.81059244989967, 5.0753546259072495, 5.662685306717146, 8.022066300074684, 115.64100421578652, 4.667655860054303, 10.655377272936594, 2.7591666187843673, 2.2355822062247315, 10.947173618514737, 6.41751641934748, 27.48772499898905, 4.913388213545939, 3.6213764533841344, 8.480573461754426, 3.2789000297752455, 22.99206656436583, 9.948720267261173, 3.157797384046732, 4.576750249657397, 4.805785354772618, 7.017220122674692, 11.089223096100667, 19.55961751804674, 5.786205862288906, 12.355996507003773, 23.742898439019225, 75.45009920363357, 31.932988925578623, 69.18074329207418, 59.9365212722725, 39.672128742892426, 31.487137421038874, 17.28598216619586, 79.09163413117389, 31.60008727398688, 92.94561510531923, 28.902273544952887, 117.38416708933285, 89.75979118565449, 42.928706927564335, 67.19944942676506, 19.018963483898617, 51.27470772971845, 61.93212634589419, 79.58892345968381, 29.062377252575438, 64.52244163161636, 38.103729675497945, 38.075674205474954, 50.11330251897703, 50.588779499515, 64.74273896576318, 81.98529604147565, 50.07107002918635, 50.12392689701874, 45.70871114034379, 48.631468481891446, 52.472062051636044, 41.40615673124533, 37.56108126410139, 37.354591931223794, 34.87573700560135, 9.575539923858297, 7.661214080488693, 7.64780035544345, 5.746975141719317, 5.63181097600924, 4.612730699276759, 16.282569013630013, 5.241219336590519, 8.642889168872896, 111.12936182749576, 8.621330310171254, 6.803112264194159, 14.016314301175766, 5.799039325613608, 17.131647235600838, 13.689163382026226, 72.14823387139869, 4.812631557541969, 4.816275757111543, 4.780405521264799, 7.099117298826868, 4.7153440302013605, 8.611755595841098, 10.809675048520802, 5.398601757091518, 16.651738306989948, 8.308872062100317, 9.682951837125506, 3.764438601835499, 3.7033468404899894, 9.473927444246327, 9.367679328417175, 95.83795281515987, 778.011231960908, 14.704445203523727, 98.97995966821503, 13.278352301056882, 226.24919750099588, 110.5095118695472, 346.53269594902275, 27.516195118674684, 38.58611468303924, 179.2183629331894, 246.04140734643696, 150.05465068112613, 63.63470002735065, 483.0775050970538, 47.15617127907578, 148.6149311373435, 167.58444410062305, 164.5551003713039, 112.19566968501732, 173.46097951718275, 125.42841300346437, 45.46468041797164, 303.64970207731415, 144.16781417261936, 146.24294539143145, 143.88466739779543, 132.3758448404377, 191.0919994150256, 91.09672750870301, 199.37317353262316, 159.0294973177462, 135.20822798379936, 80.41538738015939, 116.18403464605616, 143.48762924755226, 149.20114322136365, 132.11444739023094, 130.35468717200743, 124.99539634872669, 114.5324648614769, 10.164467050843886, 15.976317632537809, 18.91644703717485, 6.013914725472101, 10.917321807774277, 6.916667314398019, 25.433212904529103, 51.330761768516886, 67.32559900399332, 17.93454294590949, 67.24016082055346, 10.243611497424517, 23.170845579738916, 67.59126243473717, 12.609811368874286, 5.438856711860028, 12.499732711727452, 14.09292305120381, 57.85340155508112, 5.04949259961525, 15.82105742384608, 7.834221562354198, 6.036764800380844, 14.457758699912729, 5.9081242057425225, 10.097032517979613, 45.99375758100016, 6.685078788861016, 18.171401241308303, 8.221426612402874, 370.9326145664279, 718.4453029195181, 33.33978686363869, 280.8540843409985, 34.90592895171389, 33.49755363064796, 326.8693443469745, 824.6042743741959, 87.29961256204103, 81.85395674459696, 280.70921550109534, 121.85296877385916, 229.35620339716863, 131.95975058657558, 255.22539516649584, 312.1868182763551, 50.24116210264303, 101.75838640925267, 47.70384420457428, 207.44747960592588, 632.9061939056337, 83.99437762592056, 258.3033147210091, 272.67592364162334, 191.31464231174863, 370.7466247641755, 145.96608095580413, 352.40066404988823, 475.6828332169434, 220.37974003442312, 156.39213585470878, 253.35389747648668, 170.71862833573573, 215.6132786158645, 205.61848580699294, 187.5478266899851, 157.2858606002363, 204.39933535359415, 207.2503840393053, 152.2966912105739, 180.37271266315187, 168.71750224485473, 42.375112014491116, 12.171113868865262, 5.38621182639529, 5.088423048109113, 15.724202038665734, 9.50045530664694, 9.56626799484496, 18.109510989178645, 4.325016559132548, 9.675477561486195, 9.146231200070979, 26.437014315717402, 12.954391713935983, 8.440400139255727, 14.708423826811547, 8.83152901711172, 4.925856884410119, 4.569579136398904, 5.213520160328502, 32.70692970744602, 4.554353187237426, 7.948398578906788, 2.797999140193682, 12.202987430185914, 4.389739151839369, 3.391672876147232, 3.2640555431591984, 9.353373960939901, 12.137538620017065, 10.797496618386319, 101.05919729298188, 59.73118931137644, 26.295565001831864, 48.326276407050045, 82.61507699238543, 97.42398654471599, 33.516274451333814, 49.54246602088255, 193.3868481733751, 75.58015920264954, 33.83416383656551, 97.4951373928388, 67.97953031876533, 189.44237956522068, 239.2579556641001, 40.00002703651034, 42.89347434555384, 42.415423238018874, 165.00155549824947, 112.08279064027676, 110.29163065965507, 189.60849873246667, 202.67643731606393, 298.52717219946317, 152.15729189295647, 68.54912483001993, 125.29775748800807, 53.48038944030083, 121.47385328732064, 63.5665652862098, 62.04806303626755, 75.03102802242239, 94.2881179998315, 85.53986243123096, 95.88018361692295, 93.37605041137854, 72.64108328120379, 62.2767784561091, 62.91718532429659, 66.09707618702748, 65.24119198171726, 65.28786683961566, 49.080281234059036, 13.764284590444124, 12.78701526592114, 12.782087527574925, 7.880008853720155, 7.8647114954849, 6.891908276295897, 16.605017073785508, 6.856725996151887, 6.8173196141323364, 6.868091026492627, 5.857133450723781, 5.880945677813762, 17.468337471765576, 9.723017697587016, 5.846715430143052, 8.743885403044336, 12.485135585759043, 5.786699029060022, 7.632532007625859, 14.29160921316612, 6.597655357957079, 4.735994439988613, 7.578393094310849, 11.334301380842287, 31.803257998227824, 5.589715519653961, 57.20824043875349, 12.824298410050595, 29.517428486444114, 389.0777964578473, 165.15701177005957, 60.45241277816891, 25.911018064669655, 69.84770665267355, 257.7697371887017, 84.31546607374607, 164.7962969396578, 82.67749169207627, 29.473668781834423, 228.05041206603488, 107.3375089505496, 26.908037611063207, 62.74884112821174, 221.52205371348688, 47.17051413804522, 88.67979845141572, 83.35670864396292, 40.02734645593857, 484.1619452103823, 595.2678114706538, 190.48104268390586, 152.9822469895818, 286.6420027193545, 57.7656849032351, 282.17034865702084, 434.5278358654093, 217.61339649687, 148.91074427594916, 315.17872908504813, 848.0680213385818, 494.9201514224723, 446.2373110983798, 152.1444218842536, 167.7378316258149, 315.84445959514517, 331.39849126452543, 291.2723379927775, 320.6595722714629, 346.6166623152961, 399.4712112227865, 387.0247596615541, 252.2744285880164, 326.95456988530844, 343.78158723355864, 215.65324519402938, 365.1750290249091, 418.7518258388588, 398.1379383729263, 408.58743218834076, 331.3741776793272, 307.1062096764104, 293.7053037808521, 277.64282010562584, 333.3185339187067, 286.8893174687927, 14.355290808403518, 13.287711162538736, 8.172815725169105, 8.081981666449568, 20.108708522337434, 16.014438693966515, 36.031670771920616, 29.092652285563645, 6.548160078500974, 10.351263463253842, 16.698711290380913, 13.682236370671479, 7.25481273816829, 15.174138967201644, 7.004189177319773, 5.189694654694222, 5.186027854417479, 13.466660936123686, 76.31065038092503, 16.564481721028905, 31.689639688690878, 146.64403160522147, 13.572681185497775, 50.931103369593735, 40.66293509294781, 31.576190267261538, 8.672707304236614, 582.6550914322473, 4.715144645668632, 3.982000533523552, 19.61376911975717, 7.8437703031726045, 155.2955801048259, 923.9498571612854, 149.78742910857804, 325.5503116885064, 182.58266170552096, 362.17644687955857, 53.37240600610469, 39.79342315031937, 197.92901567984742, 469.16171195115606, 451.4228282601329, 1188.3328205046748, 252.80498158616643, 630.7273922940316, 433.719676213113, 646.8900575481788, 330.2968908898962, 73.56155427901987, 288.82079474738845, 568.2381279708223, 72.21714149527074, 286.6364415373304, 717.2953714496297, 434.0658434511164, 281.0074300940857, 248.50477694726797, 514.2354581546955, 402.07649879147215, 479.4115837291595, 176.645247074896, 178.05927946350357, 371.2968425519944, 248.39847240292028, 281.6611294880607, 203.3634387064266, 237.61074840827635, 254.09732120887563, 190.66267810735502, 28.314044421241494, 13.658316794794052, 12.689286799641122, 10.73139788357536, 9.763584857575724, 9.759145884131188, 8.78078724506035, 8.78085872892179, 9.745033052023253, 7.807306943655583, 7.79910373467815, 6.83151474956132, 6.828311923867049, 8.75474532563603, 7.78187699582554, 5.852414247489442, 5.809379219393802, 5.851426549745399, 7.773139401396123, 5.853469070322884, 6.788343291900859, 19.236896419458592, 4.824885608678046, 14.427146646686037, 4.876297324878271, 7.6691373570363215, 4.821129654812023, 8.516574175634377, 20.668360744792725, 14.994801733889153, 131.650383988577, 13.832249234239056, 9.407413030933759, 57.62939990335689, 108.91148622314212, 41.120575214696956, 245.76293833359307, 57.76751369769405, 240.15539554048365, 52.303538394497025, 19.170337970422775, 205.67294769278405, 24.911470152492846, 72.89081028778466, 85.90167508390287, 622.8222446777717, 39.561955047931754, 245.48386533853167, 723.4753712526252, 242.54193830342822, 391.3843374230433, 142.16869371172643, 499.2333014778132, 184.4722989371128, 509.5696586209658, 261.6057426546909, 249.83873191780341, 341.5058977454392, 79.5282646603792, 44.2711758459052, 285.8180587980899, 218.12617560335363, 358.2568888345518, 208.72245619584572, 292.5624251312575, 241.69554148783868, 162.49656985044564, 281.7896886536641, 295.0285276884759, 264.344362613824, 325.1517292627589, 236.626477905412, 365.3579631233221, 331.93922302998936, 245.23227004240422, 242.95008674312666, 308.6254694859429, 290.89440327333057, 354.2440010484085, 259.0816998125123, 244.0696704680161, 238.4732861313266, 83.64068098651653, 66.3354557050306, 22.172439963174615, 16.374979468035228, 23.0274392301487, 29.708533871432174, 9.606243393625373, 7.658156949502684, 9.57375846447373, 6.743001269579354, 6.71947012571798, 5.781018500363635, 5.76153905558861, 5.779884886307401, 5.764598047786461, 5.761874548845128, 5.758313376214889, 7.614283613470839, 4.7777033150957005, 4.776510371705682, 4.775524727833112, 5.704081774175751, 14.050499961067871, 28.00771725818871, 20.993164921577343, 30.956300391073786, 13.399763114693775, 58.11860854531367, 6.060282380787596, 23.41711711964989, 17.284847067934244, 21.231153243227297, 25.06792616752918, 24.459882427225576, 439.98828308582773, 17.55590160494661, 418.91346404972506, 12.056448115595849, 38.903193431659716, 180.18542426615005, 38.789645562415814, 29.9209922157135, 84.14866439278984, 22.901505656175747, 19.58172572126327, 187.6532244608092, 272.8572107908892, 532.1033005406847, 126.98125090180456, 107.03373441090417, 817.1531979613798, 327.0378884851957, 114.76267408081782, 64.63229134529308, 514.7883565492837, 180.86611818827564, 354.85891610641005, 261.9960778260602, 384.47528327041164, 264.53654859787537, 84.97757994194664, 208.16009791062731, 174.41274789389743, 260.0117432779001, 155.19890359498558, 445.8071233301772, 243.09517598641554, 104.94281047679118, 113.21971587353596, 345.31930167352914, 257.56855001184005, 370.1587194993852, 272.7033613527676, 181.82580688991834, 241.70316290510624, 215.08020359826693, 213.94040234008077, 168.55984696154306, 207.90501567783159, 176.88976453062722, 202.80773314055313, 182.7146959199119, 189.82369490549502, 184.93296885638955, 11.298788327676418, 8.933954180677857, 29.43188070420819, 5.452375865187243, 3.8275957100645805, 8.295080772685418, 6.60825929800046, 4.337721461353311, 5.3611173956299405, 28.445301934731244, 17.97338505835782, 4.087339009004807, 3.3022003952557792, 3.8840093629364705, 18.486383767634404, 5.519261658110214, 2.966639526830785, 4.2744160402763605, 4.783796487971141, 7.266459385836682, 3.9650459312471407, 3.3754314698100347, 15.689211913277893, 13.084507425571305, 8.212540273323716, 3.080934955743429, 55.00919778300178, 12.293199030450683, 17.29758872740209, 7.892382831606198, 20.375857453221577, 23.462556853437878, 32.19442716925025, 21.305533334227256, 38.96970816991344, 168.62353412909496, 37.547515688230945, 179.43494303807344, 34.758448073624514, 217.7591833204855, 168.3699543659655, 27.86838865401014, 14.502901773519712, 63.36967873787094, 20.70082314404688, 58.13069578275325, 56.680506533664506, 95.1720812131522, 91.77240426796367, 88.10497096927314, 45.55825855974651, 59.53305236319788, 161.80030387598526, 85.84397801507723, 164.6345160698489, 86.14727577348401, 104.80000464135648, 198.56297407545608, 122.61614146702965, 106.43060565918496, 131.10610705478203, 103.07859483435139, 102.70605962117884, 113.77823651744652, 107.23975720526376, 117.8458786930349, 139.80067388479037, 105.1518145854271, 82.86364967617578, 101.83340654341262, 99.15341140337105, 94.91980718860967, 70.9244623581783, 73.92492971620388, 72.62660585909441, 74.14382080166901, 76.66121817797841], \"Total\": [2757.0, 1704.0, 3032.0, 1444.0, 1401.0, 914.0, 1372.0, 946.0, 1334.0, 1467.0, 953.0, 1599.0, 1463.0, 456.0, 1567.0, 929.0, 758.0, 1215.0, 2155.0, 1349.0, 682.0, 1387.0, 889.0, 755.0, 712.0, 604.0, 464.0, 2522.0, 1429.0, 1549.0, 28.490827339116098, 16.082381991924542, 7.45284564412806, 8.64734035484768, 17.15508552922225, 15.746722719929288, 6.063022320925378, 13.327505182740717, 6.049252158276629, 26.173933725838076, 91.07608161319774, 10.651243716468441, 21.115973520137537, 12.907766336294534, 12.627734998877552, 12.7080556064321, 9.140557478647516, 35.17047583522238, 26.19353271608592, 70.64633893159505, 19.054992838480366, 36.87959070907236, 7.854495782686139, 16.671970280636348, 14.496409750351363, 23.605984639085072, 55.304038757514945, 14.695274958501287, 65.18534442371927, 11.089986706556124, 76.09137852191616, 456.85557597585284, 60.384741523676325, 1704.8385155321337, 138.57841747481342, 65.51958994744214, 2757.3743175298114, 472.3446506638891, 1372.1862630484393, 440.5496414249469, 604.2655703223793, 48.1104704512716, 1334.1759870173291, 103.24328985806694, 343.2861092595804, 1567.5597799322493, 929.7925544102031, 900.9765363848358, 1133.6109850694331, 946.7473647590208, 293.6969928050375, 509.01988801278304, 1026.9886217757485, 265.96451731007966, 453.86744231937337, 721.6741316773414, 778.4615788051564, 1549.3770983488366, 722.9027537448371, 1159.9527233053268, 1215.1309245138216, 397.0005453812049, 1288.6621875782168, 889.0795175931381, 682.285903935958, 13.442634033420225, 14.385897225713858, 11.32728416839445, 6.172541239151174, 17.30034255059938, 10.185206559161063, 9.145939080125325, 7.226520037770359, 19.67026726681986, 10.420171484304378, 12.216896942575342, 17.3925038905753, 251.55800618336372, 10.158109366954658, 23.320572226213628, 6.132915916344939, 5.085027728769062, 24.999929675756597, 15.01485076916979, 67.69603270197682, 12.158275414917618, 9.00028060720135, 21.08299378046311, 8.167879259323099, 57.618425749633936, 24.945048360967164, 8.010742499383348, 11.628299800859613, 12.339626408788906, 18.044638754906273, 28.946004478243363, 52.7365014200095, 14.995867822902873, 34.114689910327876, 75.97611666767537, 295.9885843057637, 108.9794201875989, 331.3030841033627, 278.9626998406861, 175.11591364776547, 132.68370273461815, 63.373877458518, 551.7696083955979, 152.8031873830364, 758.6371071881877, 148.8516992267831, 1349.4494406805818, 953.8439646708254, 310.5615385379664, 712.6224168392963, 81.23948503371899, 521.648507381515, 776.2090056278132, 1467.0847752169925, 189.88487457347685, 1025.4224932375532, 348.4832860909522, 374.42805557678656, 719.092935727583, 752.247765286925, 1599.0910804468683, 3032.0609062275807, 857.325753857639, 1035.314831710491, 916.8620788848585, 1429.361990393083, 2155.0765854150623, 1025.495487050739, 722.9027537448371, 965.4203510713894, 981.246651332146, 9.676754033714483, 7.7618534368248016, 7.757976572327048, 5.8453337317396405, 5.729975277088739, 4.8811099664672195, 17.331788845855115, 5.834816041898908, 9.669714246627816, 124.63994680746069, 9.68994178278866, 7.746320212604476, 16.458380030303836, 6.815276647432084, 20.255565264954182, 16.421299024695855, 87.36125616203302, 5.854606609147632, 5.894890529685847, 5.856892019833537, 8.744248342319704, 5.812011094733588, 10.64231862829435, 13.538599861728306, 6.8127483043269255, 21.24818610557379, 10.659575846335139, 12.526197090185125, 4.869908867411461, 4.8917131639299205, 12.611655518559054, 12.568243060841223, 146.18000299741644, 1444.2381942124382, 20.547195612504947, 171.1883124704202, 18.376077550280048, 536.598289181236, 231.437255935519, 931.3882914250463, 44.95877873790162, 75.97611666767537, 572.4329255964869, 889.0795175931381, 521.7375484876449, 171.89104689426267, 3032.0609062275807, 117.70743046566885, 631.4421144957156, 763.5089903395955, 752.247765286925, 440.5496414249469, 857.325753857639, 551.7696083955979, 117.66967832282684, 2205.771848771395, 719.438297172727, 735.9624231899608, 719.092935727583, 701.7328009534552, 1429.361990393083, 396.4197382873413, 1661.3005432661976, 1155.830940340807, 916.8620788848585, 339.34766259216144, 806.0423521245737, 1349.4494406805818, 1599.0910804468683, 1145.2020831833267, 1372.1862630484393, 1288.6621875782168, 1005.9761146474162, 10.27814907095172, 16.37391299226211, 19.42275848242674, 6.194049817833973, 11.27310746221008, 7.2111143701327585, 26.528151568452067, 53.94407597393448, 72.19668373878602, 19.373430451905325, 73.16496918854776, 11.21053876810236, 25.44762291940202, 75.0891139392955, 14.277758125495343, 6.169252629032633, 14.272497177676877, 16.29449357906008, 66.92333761893217, 5.845794794044755, 18.318722431080126, 9.194565353628251, 7.154488254495718, 17.35818684877559, 7.14024175021747, 12.204906961491368, 55.673566813014716, 8.18070146971286, 22.313776449683125, 10.154230064335007, 464.6144779473079, 914.322605597269, 41.494478616788115, 375.02066599988405, 45.47281031255542, 43.59200583239196, 493.1622503648562, 1401.4734220214186, 122.18182577741501, 116.78470999435858, 467.1529504819107, 183.4373498707488, 381.7037788654807, 223.1168667719601, 489.5537966570544, 638.5295134175929, 74.17405739874326, 182.4579601894583, 71.45815167214256, 488.12672456082515, 2155.0765854150623, 150.7206709120163, 703.1152061876735, 858.548515091921, 525.8373385416634, 1488.2478967438287, 397.0005453812049, 1567.5597799322493, 2522.6568878257776, 838.1889939292795, 460.2400146003647, 1372.1862630484393, 681.0867645295621, 1133.6109850694331, 1039.4152295464542, 981.246651332146, 630.3812727203012, 1288.6621875782168, 1431.783300289336, 584.7204040389763, 1479.475570953062, 1026.9886217757485, 46.19533033881405, 14.131876277924384, 6.305727469479245, 6.319232192188945, 20.77181471483508, 12.620118907470454, 13.48929318791195, 25.564815191132038, 6.272723608018397, 14.15102007233294, 13.490991906161202, 39.290203447213955, 20.584308982011336, 13.475008268599158, 23.690356474360712, 14.373202740294227, 8.367023713769981, 8.155189147787203, 9.339127306011497, 59.38533944156161, 8.331325110649798, 14.57054976686166, 5.140520165880254, 22.490953016410895, 8.2243919167474, 6.363604262616951, 6.185660932650964, 17.731891807684345, 23.63789062526689, 21.44664022355866, 222.9499622306853, 129.1760709732867, 56.0345950670349, 107.83040516921267, 192.8530343009311, 239.07228594721067, 75.001281214534, 123.40255568348938, 604.348977686197, 208.6094032330896, 80.6083638246447, 293.6969928050375, 189.93116983673374, 682.285903935958, 946.7473647590208, 104.70109807078211, 119.42512575169833, 123.635000627876, 889.0795175931381, 516.0826849043025, 522.8682348125794, 1215.1309245138216, 1387.473792235145, 2757.3743175298114, 1372.1862630484393, 342.8950158857153, 1159.9527233053268, 220.99574980902167, 1288.6621875782168, 344.086524515599, 356.5584790037507, 620.3135447172415, 1334.1759870173291, 1039.4152295464542, 1567.5597799322493, 1488.2478967438287, 649.5301467740736, 406.12292418494235, 453.86744231937337, 691.1863088302848, 689.5426159355292, 1145.2020831833267, 49.405414074257834, 13.893006504717752, 12.907817452061474, 12.91252282159567, 7.978347515656394, 7.968837132935393, 6.990165893569258, 16.85483101242783, 6.963398965577491, 6.928949468158577, 6.988556204361561, 5.961817024512226, 5.988717982119854, 17.839053939511796, 9.940895165537244, 5.9831722539286325, 8.95714946419671, 12.905156523579462, 5.983491972653354, 7.958659359216238, 14.90694701217543, 6.909805804111754, 4.96728993541867, 7.958705039284402, 11.945029035260589, 33.58211635162295, 5.930788909280997, 61.17671400142923, 13.864423075033145, 32.55841077920478, 429.6982145016239, 195.81229442437092, 69.18845188323888, 28.68385112045896, 81.0457428979227, 353.1740679907203, 110.19875567708173, 236.47754027661995, 110.89341950504007, 35.57823824134245, 356.5584790037507, 157.37581993388616, 32.68515352207695, 86.43168446931172, 371.2158944605386, 63.77706175467085, 134.5890808678346, 126.22202326787185, 53.16076070589193, 1035.314831710491, 1334.1759870173291, 343.2861092595804, 266.6735669738045, 590.23129249404, 82.49881820819728, 595.3266140365159, 1026.9886217757485, 450.26945988556736, 277.23991819342194, 746.4872938335702, 2757.3743175298114, 1387.473792235145, 1215.1309245138216, 294.397158776861, 339.96370664648737, 858.548515091921, 946.7473647590208, 837.8798643238788, 979.8070936457806, 1133.6109850694331, 1488.2478967438287, 1479.475570953062, 721.6741316773414, 1159.9527233053268, 1288.6621875782168, 553.9811530252761, 1549.3770983488366, 2205.771848771395, 2155.0765854150623, 2522.6568878257776, 1567.5597799322493, 1349.4494406805818, 1372.1862630484393, 1145.2020831833267, 3032.0609062275807, 1431.783300289336, 14.47382486107759, 13.442196391724705, 8.310156241006625, 8.269140828060086, 20.607019122249945, 16.45972729611366, 38.04226702385619, 30.778835215234185, 7.185334333193329, 11.363734647369071, 18.498503142428827, 15.377670055807362, 8.297216928821571, 17.374417383677415, 8.223324797213149, 6.2441189940221005, 6.24393644473276, 16.314978113144402, 94.77861342002872, 20.599678978027818, 39.66644402520445, 183.97475126046407, 17.290400680308046, 65.30289004091905, 52.13780213792379, 40.61747251287232, 11.211986561859637, 755.4504171887227, 6.115496889888919, 5.170688157781719, 25.570020240636374, 10.20068856557909, 218.97176133158212, 1463.5931025923699, 222.28395533989735, 514.6795888879067, 283.5276111505376, 614.948973920304, 78.72337891306204, 56.66301814244374, 351.2555086645381, 953.8439646708254, 965.4203510713894, 3032.0609062275807, 493.9511100951453, 1467.0847752169925, 957.0859988855026, 1599.0910804468683, 712.6224168392963, 118.78267482051182, 674.0568778115977, 1661.3005432661976, 117.63378679762201, 727.4741312000357, 2522.6568878257776, 1431.783300289336, 802.2606820967706, 719.438297172727, 2205.771848771395, 1549.3770983488366, 2155.0765854150623, 459.1732501709174, 476.0764569678954, 1704.8385155321337, 981.246651332146, 1479.475570953062, 655.6286453410573, 1567.5597799322493, 2757.3743175298114, 900.9765363848358, 28.437843702673128, 13.765913824447681, 12.797294369324426, 10.840949483681298, 9.866433647720488, 9.864036339081116, 8.881270684675602, 8.88415869213389, 9.867006134553733, 7.911851775160445, 7.90508364855268, 6.933533878274067, 6.93189348467906, 8.888130821651703, 7.900939596325032, 5.951637458651745, 5.908613178296159, 5.952103059820533, 7.907515732921278, 5.9550863722566785, 6.913866778455297, 19.62899254698963, 4.9244057908595344, 14.726836631325664, 4.977722693013357, 7.867690579657655, 4.967673369798425, 8.849810355203289, 21.585367129974333, 15.694968213436296, 147.82941285918088, 14.722151212910289, 9.853935700328995, 65.80931306330507, 131.25534837041053, 47.9050308095197, 329.28821784082436, 70.56865071944628, 346.5396370718242, 65.63913633999955, 21.609382999195297, 309.41904166588495, 29.389939733354293, 99.33974634541946, 120.1927911654508, 1155.830940340807, 50.13980081170612, 408.7433051230561, 1429.361990393083, 414.23824817547325, 735.9624231899608, 228.11257391475255, 1005.9761146474162, 313.604421803895, 1076.8072764689289, 506.8523015511729, 500.547964599846, 758.6960493832689, 124.1464403400493, 59.78854864936633, 616.3228609761605, 443.50221413076576, 838.099594153598, 425.0998677576865, 752.247765286925, 587.4803309702938, 339.34766259216144, 778.4615788051564, 838.1889939292795, 719.092935727583, 1025.4224932375532, 662.7637551624847, 1401.4734220214186, 1202.1487424038442, 753.4773694149432, 746.4872938335702, 1387.473792235145, 1349.4494406805818, 2757.3743175298114, 1025.495487050739, 857.325753857639, 1145.2020831833267, 84.01283501088531, 66.6486815941936, 22.28280984395109, 16.484444126677133, 23.23368299258964, 29.99555870400088, 9.731390496977161, 7.76241956070474, 9.713300380653092, 6.841427274306696, 6.823768233571609, 5.878115745901985, 5.859441704685308, 5.87815898776258, 5.863534317237831, 5.861033882317212, 5.858766756272747, 7.766396638113219, 4.8754044803912535, 4.875355398425839, 4.875294618646299, 5.836659658433351, 14.54093089598462, 29.039005043908425, 22.248986495489266, 32.85885533759345, 14.555696688297411, 63.13608815089145, 6.760117419786893, 26.26447872519348, 19.530517971351756, 24.22712525325492, 29.33765860269848, 29.181403315694944, 758.6371071881877, 20.494361603401245, 802.2606820967706, 13.683208978252717, 52.634534932643334, 321.3634855025052, 54.01030317415847, 39.816280852022764, 134.78288521709814, 29.287840427578793, 24.326941617870016, 397.0754746534458, 672.3379089373344, 1599.0910804468683, 267.95455899573574, 215.05268877755321, 3032.0609062275807, 957.0859988855026, 256.93620388034776, 121.0710323868783, 2205.771848771395, 537.9263091951644, 1467.0847752169925, 953.8439646708254, 1704.8385155321337, 1025.4224932375532, 183.86658722815187, 722.9027537448371, 551.0432671343674, 1025.495487050739, 471.97071027341974, 2522.6568878257776, 965.4203510713894, 256.28713548091434, 291.00948354577855, 2155.0765854150623, 1349.4494406805818, 2757.3743175298114, 1661.3005432661976, 712.6224168392963, 1429.361990393083, 1159.9527233053268, 1202.1487424038442, 727.4741312000357, 1549.3770983488366, 873.1240112360778, 1479.475570953062, 1035.314831710491, 1567.5597799322493, 1431.783300289336, 12.622893546433799, 11.456444245777892, 38.42533619468355, 7.305981889064501, 5.2746991080754, 11.514045621510487, 9.342136216247882, 6.323760689488343, 7.862375518269134, 42.158409597721715, 26.67812659516401, 6.305173419484857, 5.131233007547342, 6.231411958108289, 30.01019227220172, 9.277023534280218, 4.986628828488012, 7.322087926347675, 8.20477859531683, 12.469827124430633, 7.174834332858881, 6.193561517277018, 29.049000505815844, 25.64976284287862, 16.218577843407743, 6.194903151414707, 113.68435972574179, 25.497524744382645, 35.879405451536904, 16.382362992925103, 43.45378640422067, 50.58803511604242, 74.4020477935731, 47.39870252392015, 95.79903766496653, 530.3401204670041, 93.16246489398185, 701.7328009534552, 92.95742846580325, 929.7925544102031, 681.6987807345781, 72.90669547634334, 32.27343805263462, 250.67332896029296, 53.62407530963772, 239.8427089805524, 236.70031762727353, 514.9852563077843, 537.9263091951644, 521.7375484876449, 188.65928300399145, 293.9805777556506, 1549.3770983488366, 553.192331720028, 1704.8385155321337, 584.7204040389763, 837.8798643238788, 2757.3743175298114, 1145.2020831833267, 889.0795175931381, 1431.783300289336, 900.9765363848358, 979.8070936457806, 1215.1309245138216, 1133.6109850694331, 1479.475570953062, 2522.6568878257776, 1334.1759870173291, 722.9027537448371, 1387.473792235145, 1488.2478967438287, 1567.5597799322493, 595.3266140365159, 727.4741312000357, 745.175475053392, 1026.9886217757485, 1661.3005432661976], \"Category\": [\"Default\", \"Default\", \"Default\", \"Default\", \"Default\", \"Default\", \"Default\", \"Default\", \"Default\", \"Default\", \"Default\", \"Default\", \"Default\", \"Default\", \"Default\", \"Default\", \"Default\", \"Default\", \"Default\", \"Default\", \"Default\", \"Default\", \"Default\", \"Default\", \"Default\", \"Default\", \"Default\", \"Default\", \"Default\", \"Default\", \"Topic1\", \"Topic1\", \"Topic1\", \"Topic1\", \"Topic1\", \"Topic1\", \"Topic1\", \"Topic1\", \"Topic1\", \"Topic1\", \"Topic1\", \"Topic1\", \"Topic1\", \"Topic1\", \"Topic1\", \"Topic1\", \"Topic1\", \"Topic1\", \"Topic1\", \"Topic1\", \"Topic1\", \"Topic1\", \"Topic1\", \"Topic1\", \"Topic1\", \"Topic1\", \"Topic1\", \"Topic1\", \"Topic1\", \"Topic1\", \"Topic1\", \"Topic1\", \"Topic1\", \"Topic1\", \"Topic1\", \"Topic1\", \"Topic1\", \"Topic1\", \"Topic1\", \"Topic1\", \"Topic1\", \"Topic1\", \"Topic1\", \"Topic1\", \"Topic1\", \"Topic1\", \"Topic1\", \"Topic1\", \"Topic1\", \"Topic1\", \"Topic1\", \"Topic1\", \"Topic1\", \"Topic1\", \"Topic1\", \"Topic1\", \"Topic1\", \"Topic1\", \"Topic1\", \"Topic1\", \"Topic1\", \"Topic1\", \"Topic1\", \"Topic1\", \"Topic1\", \"Topic2\", \"Topic2\", \"Topic2\", \"Topic2\", \"Topic2\", \"Topic2\", \"Topic2\", \"Topic2\", \"Topic2\", \"Topic2\", \"Topic2\", \"Topic2\", \"Topic2\", \"Topic2\", \"Topic2\", \"Topic2\", \"Topic2\", \"Topic2\", \"Topic2\", \"Topic2\", \"Topic2\", \"Topic2\", \"Topic2\", \"Topic2\", \"Topic2\", \"Topic2\", \"Topic2\", \"Topic2\", \"Topic2\", \"Topic2\", \"Topic2\", \"Topic2\", \"Topic2\", \"Topic2\", \"Topic2\", \"Topic2\", \"Topic2\", \"Topic2\", \"Topic2\", \"Topic2\", \"Topic2\", \"Topic2\", \"Topic2\", \"Topic2\", \"Topic2\", \"Topic2\", \"Topic2\", \"Topic2\", \"Topic2\", \"Topic2\", \"Topic2\", \"Topic2\", \"Topic2\", \"Topic2\", \"Topic2\", \"Topic2\", \"Topic2\", \"Topic2\", \"Topic2\", \"Topic2\", \"Topic2\", \"Topic2\", \"Topic2\", \"Topic2\", \"Topic2\", \"Topic2\", \"Topic2\", \"Topic2\", \"Topic2\", \"Topic2\", \"Topic2\", \"Topic3\", \"Topic3\", \"Topic3\", \"Topic3\", \"Topic3\", \"Topic3\", \"Topic3\", \"Topic3\", \"Topic3\", \"Topic3\", \"Topic3\", \"Topic3\", \"Topic3\", \"Topic3\", \"Topic3\", \"Topic3\", \"Topic3\", \"Topic3\", \"Topic3\", \"Topic3\", \"Topic3\", \"Topic3\", \"Topic3\", \"Topic3\", \"Topic3\", \"Topic3\", \"Topic3\", \"Topic3\", \"Topic3\", \"Topic3\", \"Topic3\", \"Topic3\", \"Topic3\", \"Topic3\", \"Topic3\", \"Topic3\", \"Topic3\", \"Topic3\", \"Topic3\", \"Topic3\", \"Topic3\", \"Topic3\", \"Topic3\", \"Topic3\", \"Topic3\", \"Topic3\", \"Topic3\", \"Topic3\", \"Topic3\", \"Topic3\", \"Topic3\", \"Topic3\", \"Topic3\", \"Topic3\", \"Topic3\", \"Topic3\", \"Topic3\", \"Topic3\", \"Topic3\", \"Topic3\", \"Topic3\", \"Topic3\", \"Topic3\", \"Topic3\", \"Topic3\", \"Topic3\", \"Topic3\", \"Topic3\", \"Topic3\", \"Topic3\", \"Topic3\", \"Topic3\", \"Topic3\", \"Topic4\", \"Topic4\", \"Topic4\", \"Topic4\", \"Topic4\", \"Topic4\", \"Topic4\", \"Topic4\", \"Topic4\", \"Topic4\", \"Topic4\", \"Topic4\", \"Topic4\", \"Topic4\", \"Topic4\", \"Topic4\", \"Topic4\", \"Topic4\", \"Topic4\", \"Topic4\", \"Topic4\", \"Topic4\", \"Topic4\", \"Topic4\", \"Topic4\", \"Topic4\", \"Topic4\", \"Topic4\", \"Topic4\", \"Topic4\", \"Topic4\", \"Topic4\", \"Topic4\", \"Topic4\", \"Topic4\", \"Topic4\", \"Topic4\", \"Topic4\", \"Topic4\", \"Topic4\", \"Topic4\", \"Topic4\", \"Topic4\", \"Topic4\", \"Topic4\", \"Topic4\", \"Topic4\", \"Topic4\", \"Topic4\", \"Topic4\", \"Topic4\", \"Topic4\", \"Topic4\", \"Topic4\", \"Topic4\", \"Topic4\", \"Topic4\", \"Topic4\", \"Topic4\", \"Topic4\", \"Topic4\", \"Topic4\", \"Topic4\", \"Topic4\", \"Topic4\", \"Topic4\", \"Topic4\", \"Topic4\", \"Topic4\", \"Topic4\", \"Topic4\", \"Topic4\", \"Topic5\", \"Topic5\", \"Topic5\", \"Topic5\", \"Topic5\", \"Topic5\", \"Topic5\", \"Topic5\", \"Topic5\", \"Topic5\", \"Topic5\", \"Topic5\", \"Topic5\", \"Topic5\", \"Topic5\", \"Topic5\", \"Topic5\", \"Topic5\", \"Topic5\", \"Topic5\", \"Topic5\", \"Topic5\", \"Topic5\", \"Topic5\", \"Topic5\", \"Topic5\", \"Topic5\", \"Topic5\", \"Topic5\", \"Topic5\", \"Topic5\", \"Topic5\", \"Topic5\", \"Topic5\", \"Topic5\", \"Topic5\", \"Topic5\", \"Topic5\", \"Topic5\", \"Topic5\", \"Topic5\", \"Topic5\", \"Topic5\", \"Topic5\", \"Topic5\", \"Topic5\", \"Topic5\", \"Topic5\", \"Topic5\", \"Topic5\", \"Topic5\", \"Topic5\", \"Topic5\", \"Topic5\", \"Topic5\", \"Topic5\", \"Topic5\", \"Topic5\", \"Topic5\", \"Topic5\", \"Topic5\", \"Topic5\", \"Topic5\", \"Topic5\", \"Topic5\", \"Topic5\", \"Topic5\", \"Topic5\", \"Topic5\", \"Topic5\", \"Topic5\", \"Topic5\", \"Topic6\", \"Topic6\", \"Topic6\", \"Topic6\", \"Topic6\", \"Topic6\", \"Topic6\", \"Topic6\", \"Topic6\", \"Topic6\", \"Topic6\", \"Topic6\", \"Topic6\", \"Topic6\", \"Topic6\", \"Topic6\", \"Topic6\", \"Topic6\", \"Topic6\", \"Topic6\", \"Topic6\", \"Topic6\", \"Topic6\", \"Topic6\", \"Topic6\", \"Topic6\", \"Topic6\", \"Topic6\", \"Topic6\", \"Topic6\", \"Topic6\", \"Topic6\", \"Topic6\", \"Topic6\", \"Topic6\", \"Topic6\", \"Topic6\", \"Topic6\", \"Topic6\", \"Topic6\", \"Topic6\", \"Topic6\", \"Topic6\", \"Topic6\", \"Topic6\", \"Topic6\", \"Topic6\", \"Topic6\", \"Topic6\", \"Topic6\", \"Topic6\", \"Topic6\", \"Topic6\", \"Topic6\", \"Topic6\", \"Topic6\", \"Topic6\", \"Topic6\", \"Topic6\", \"Topic6\", \"Topic6\", \"Topic6\", \"Topic6\", \"Topic6\", \"Topic6\", \"Topic6\", \"Topic6\", \"Topic6\", \"Topic6\", \"Topic6\", \"Topic6\", \"Topic6\", \"Topic6\", \"Topic6\", \"Topic6\", \"Topic6\", \"Topic6\", \"Topic6\", \"Topic6\", \"Topic6\", \"Topic6\", \"Topic6\", \"Topic6\", \"Topic6\", \"Topic6\", \"Topic6\", \"Topic7\", \"Topic7\", \"Topic7\", \"Topic7\", \"Topic7\", \"Topic7\", \"Topic7\", \"Topic7\", \"Topic7\", \"Topic7\", \"Topic7\", \"Topic7\", \"Topic7\", \"Topic7\", \"Topic7\", \"Topic7\", \"Topic7\", \"Topic7\", \"Topic7\", \"Topic7\", \"Topic7\", \"Topic7\", \"Topic7\", \"Topic7\", \"Topic7\", \"Topic7\", \"Topic7\", \"Topic7\", \"Topic7\", \"Topic7\", \"Topic7\", \"Topic7\", \"Topic7\", \"Topic7\", \"Topic7\", \"Topic7\", \"Topic7\", \"Topic7\", \"Topic7\", \"Topic7\", \"Topic7\", \"Topic7\", \"Topic7\", \"Topic7\", \"Topic7\", \"Topic7\", \"Topic7\", \"Topic7\", \"Topic7\", \"Topic7\", \"Topic7\", \"Topic7\", \"Topic7\", \"Topic7\", \"Topic7\", \"Topic7\", \"Topic7\", \"Topic7\", \"Topic7\", \"Topic7\", \"Topic7\", \"Topic7\", \"Topic7\", \"Topic7\", \"Topic7\", \"Topic7\", \"Topic7\", \"Topic7\", \"Topic7\", \"Topic7\", \"Topic8\", \"Topic8\", \"Topic8\", \"Topic8\", \"Topic8\", \"Topic8\", \"Topic8\", \"Topic8\", \"Topic8\", \"Topic8\", \"Topic8\", \"Topic8\", \"Topic8\", \"Topic8\", \"Topic8\", \"Topic8\", \"Topic8\", \"Topic8\", \"Topic8\", \"Topic8\", \"Topic8\", \"Topic8\", \"Topic8\", \"Topic8\", \"Topic8\", \"Topic8\", \"Topic8\", \"Topic8\", \"Topic8\", \"Topic8\", \"Topic8\", \"Topic8\", \"Topic8\", \"Topic8\", \"Topic8\", \"Topic8\", \"Topic8\", \"Topic8\", \"Topic8\", \"Topic8\", \"Topic8\", \"Topic8\", \"Topic8\", \"Topic8\", \"Topic8\", \"Topic8\", \"Topic8\", \"Topic8\", \"Topic8\", \"Topic8\", \"Topic8\", \"Topic8\", \"Topic8\", \"Topic8\", \"Topic8\", \"Topic8\", \"Topic8\", \"Topic8\", \"Topic8\", \"Topic8\", \"Topic8\", \"Topic8\", \"Topic8\", \"Topic8\", \"Topic8\", \"Topic8\", \"Topic8\", \"Topic8\", \"Topic8\", \"Topic8\", \"Topic8\", \"Topic8\", \"Topic8\", \"Topic8\", \"Topic8\", \"Topic8\", \"Topic8\", \"Topic8\", \"Topic8\", \"Topic8\", \"Topic8\", \"Topic8\", \"Topic9\", \"Topic9\", \"Topic9\", \"Topic9\", \"Topic9\", \"Topic9\", \"Topic9\", \"Topic9\", \"Topic9\", \"Topic9\", \"Topic9\", \"Topic9\", \"Topic9\", \"Topic9\", \"Topic9\", \"Topic9\", \"Topic9\", \"Topic9\", \"Topic9\", \"Topic9\", \"Topic9\", \"Topic9\", \"Topic9\", \"Topic9\", \"Topic9\", \"Topic9\", \"Topic9\", \"Topic9\", \"Topic9\", \"Topic9\", \"Topic9\", \"Topic9\", \"Topic9\", \"Topic9\", \"Topic9\", \"Topic9\", \"Topic9\", \"Topic9\", \"Topic9\", \"Topic9\", \"Topic9\", \"Topic9\", \"Topic9\", \"Topic9\", \"Topic9\", \"Topic9\", \"Topic9\", \"Topic9\", \"Topic9\", \"Topic9\", \"Topic9\", \"Topic9\", \"Topic9\", \"Topic9\", \"Topic9\", \"Topic9\", \"Topic9\", \"Topic9\", \"Topic9\", \"Topic9\", \"Topic9\", \"Topic9\", \"Topic9\", \"Topic9\", \"Topic9\", \"Topic9\", \"Topic9\", \"Topic9\", \"Topic9\", \"Topic9\", \"Topic9\", \"Topic9\", \"Topic9\", \"Topic9\", \"Topic9\", \"Topic9\", \"Topic9\", \"Topic9\", \"Topic9\", \"Topic9\", \"Topic9\", \"Topic9\", \"Topic9\", \"Topic9\", \"Topic10\", \"Topic10\", \"Topic10\", \"Topic10\", \"Topic10\", \"Topic10\", \"Topic10\", \"Topic10\", \"Topic10\", \"Topic10\", \"Topic10\", \"Topic10\", \"Topic10\", \"Topic10\", \"Topic10\", \"Topic10\", \"Topic10\", \"Topic10\", \"Topic10\", \"Topic10\", \"Topic10\", \"Topic10\", \"Topic10\", \"Topic10\", \"Topic10\", \"Topic10\", \"Topic10\", \"Topic10\", \"Topic10\", \"Topic10\", \"Topic10\", \"Topic10\", \"Topic10\", \"Topic10\", \"Topic10\", \"Topic10\", \"Topic10\", \"Topic10\", \"Topic10\", \"Topic10\", \"Topic10\", \"Topic10\", \"Topic10\", \"Topic10\", \"Topic10\", \"Topic10\", \"Topic10\", \"Topic10\", \"Topic10\", \"Topic10\", \"Topic10\", \"Topic10\", \"Topic10\", \"Topic10\", \"Topic10\", \"Topic10\", \"Topic10\", \"Topic10\", \"Topic10\", \"Topic10\", \"Topic10\", \"Topic10\", \"Topic10\", \"Topic10\", \"Topic10\", \"Topic10\", \"Topic10\", \"Topic10\", \"Topic10\", \"Topic10\", \"Topic10\", \"Topic10\", \"Topic10\", \"Topic10\", \"Topic10\", \"Topic10\", \"Topic10\"], \"logprob\": [30.0, 29.0, 28.0, 27.0, 26.0, 25.0, 24.0, 23.0, 22.0, 21.0, 20.0, 19.0, 18.0, 17.0, 16.0, 15.0, 14.0, 13.0, 12.0, 11.0, 10.0, 9.0, 8.0, 7.0, 6.0, 5.0, 4.0, 3.0, 2.0, 1.0, -5.6496, -6.2265, -7.0114, -6.8758, -6.2011, -6.3416, -7.326, -6.5387, -7.3354, -5.9111, -4.6975, -6.8586, -6.2147, -6.8171, -6.843, -6.8437, -7.1847, -5.8942, -6.2104, -5.2331, -6.5653, -5.9185, -7.4884, -6.7466, -6.9042, -6.4297, -5.6194, -6.9455, -5.4618, -7.2396, -5.3454, -3.7863, -5.8099, -3.3647, -5.2242, -5.7783, -3.3555, -4.5465, -3.9303, -4.6355, -4.5131, -6.0311, -4.2006, -5.63, -5.01, -4.2351, -4.5509, -4.6433, -4.5552, -4.6846, -5.2034, -5.0083, -4.7515, -5.2722, -5.1089, -4.959, -4.9407, -4.7428, -4.998, -4.9103, -4.9684, -5.2089, -5.0576, -5.1086, -5.1841, -6.4535, -6.502, -6.8727, -7.5352, -6.5251, -7.1315, -7.3223, -7.5908, -6.599, -7.258, -7.1485, -6.8002, -4.1319, -7.3418, -6.5164, -7.8675, -8.0779, -6.4893, -7.0234, -5.5687, -7.2905, -7.5956, -6.7446, -7.6949, -5.7473, -6.585, -7.7325, -7.3614, -7.3126, -6.9341, -6.4764, -5.909, -7.1269, -6.3683, -5.7151, -4.5589, -5.4188, -4.6457, -4.7891, -5.2018, -5.4328, -6.0325, -4.5118, -5.4293, -4.3504, -5.5185, -4.117, -4.3853, -5.1229, -4.6748, -5.937, -4.9452, -4.7564, -4.5055, -5.513, -4.7154, -5.2421, -5.2428, -4.9681, -4.9587, -4.712, -4.4759, -4.969, -4.9679, -5.0601, -4.9981, -4.9221, -5.159, -5.2565, -5.262, -5.3306, -7.8627, -8.0858, -8.0875, -8.3733, -8.3935, -8.5931, -7.3319, -8.4654, -7.9652, -5.4113, -7.9677, -8.2046, -7.4817, -8.3643, -7.281, -7.5054, -5.8432, -8.5507, -8.55, -8.5574, -8.162, -8.5711, -7.9688, -7.7415, -8.4358, -7.3094, -8.0046, -7.8516, -8.7964, -8.8127, -7.8734, -7.8847, -5.5593, -3.4652, -7.4338, -5.527, -7.5358, -4.7003, -5.4169, -4.274, -6.8072, -6.4691, -4.9334, -4.6165, -5.111, -5.9688, -3.9418, -6.2685, -5.1206, -5.0005, -5.0187, -5.4017, -4.966, -5.2902, -6.305, -4.4061, -5.151, -5.1367, -5.1529, -5.2363, -4.8692, -5.61, -4.8268, -5.0529, -5.2151, -5.7348, -5.3668, -5.1557, -5.1167, -5.2383, -5.2517, -5.2937, -5.3811, -8.0001, -7.5479, -7.379, -8.525, -7.9287, -8.3851, -7.083, -6.3808, -6.1095, -7.4323, -6.1108, -7.9924, -7.1761, -6.1056, -7.7846, -8.6255, -7.7933, -7.6734, -6.2611, -8.6998, -7.5577, -8.2605, -8.5212, -7.6478, -8.5427, -8.0068, -6.4905, -8.4192, -7.4192, -8.2123, -4.403, -3.742, -6.8123, -4.6812, -6.7664, -6.8076, -4.5295, -3.6041, -5.8497, -5.9141, -4.6817, -5.5162, -4.8838, -5.4365, -4.7769, -4.5754, -6.4022, -5.6964, -6.454, -4.9842, -3.8687, -5.8883, -4.7649, -4.7108, -5.0651, -4.4035, -5.3357, -4.4543, -4.1543, -4.9237, -5.2667, -4.7843, -5.179, -4.9456, -4.993, -5.085, -5.261, -4.999, -4.9851, -5.2932, -5.124, -5.1908, -5.7427, -6.9902, -7.8054, -7.8622, -6.734, -7.2379, -7.231, -6.5928, -8.0248, -7.2196, -7.2759, -6.2145, -6.9278, -7.3562, -6.8008, -7.3109, -7.8947, -7.9698, -7.838, -6.0016, -7.9731, -7.4162, -8.4603, -6.9875, -8.0099, -8.2679, -8.3062, -7.2535, -6.9929, -7.1099, -4.8735, -5.3994, -6.2198, -5.6112, -5.075, -4.9101, -5.9772, -5.5864, -4.2245, -5.164, -5.9677, -4.9094, -5.27, -4.2451, -4.0117, -5.8003, -5.7305, -5.7417, -4.3833, -4.77, -4.7861, -4.2443, -4.1776, -3.7904, -4.4643, -5.2617, -4.6585, -5.5099, -4.6895, -5.3371, -5.3613, -5.1713, -4.9429, -5.0402, -4.9261, -4.9526, -5.2037, -5.3576, -5.3474, -5.2981, -5.3111, -5.3104, -7.1536, -8.4249, -8.4986, -8.499, -8.9827, -8.9846, -9.1167, -8.2373, -9.1218, -9.1275, -9.1201, -9.2793, -9.2753, -8.1866, -8.7725, -9.2811, -8.8787, -8.5225, -9.2914, -9.0146, -8.3873, -9.1603, -9.4918, -9.0217, -8.6192, -7.5874, -9.3261, -7.0003, -8.4957, -7.662, -5.0832, -5.9401, -6.9452, -7.7923, -6.8007, -5.4949, -6.6124, -5.9423, -6.6321, -7.6635, -5.6174, -6.371, -7.7546, -6.9079, -5.6465, -7.1932, -6.562, -6.6239, -7.3574, -4.8646, -4.658, -5.7975, -6.0167, -5.3888, -6.9906, -5.4045, -4.9728, -5.6643, -6.0437, -5.2939, -4.304, -4.8426, -4.9462, -6.0222, -5.9246, -5.2918, -5.2437, -5.3728, -5.2766, -5.1988, -5.0569, -5.0885, -5.5165, -5.2572, -5.207, -5.6733, -5.1466, -5.0097, -5.0602, -5.0343, -5.2438, -5.3198, -5.3644, -5.4207, -5.2379, -5.3879, -7.9709, -8.0482, -8.5343, -8.5454, -7.6339, -7.8616, -7.0507, -7.2646, -8.7559, -8.298, -7.8197, -8.019, -8.6534, -7.9155, -8.6886, -8.9884, -8.9891, -8.0349, -6.3003, -7.8278, -7.1791, -5.6471, -8.027, -6.7046, -6.9298, -7.1827, -8.4749, -4.2675, -9.0843, -9.2533, -7.6588, -8.5753, -5.5897, -3.8064, -5.6259, -4.8496, -5.4279, -4.7429, -6.6578, -6.9514, -5.3472, -4.4841, -4.5227, -3.5548, -5.1024, -4.1882, -4.5627, -4.1629, -4.8351, -6.3369, -4.9693, -4.2925, -6.3554, -4.9769, -4.0596, -4.5619, -4.9967, -5.1196, -4.3924, -4.6384, -4.4625, -5.4609, -5.453, -4.7181, -5.12, -4.9944, -5.3201, -5.1644, -5.0974, -5.3846, -7.6572, -8.3862, -8.4598, -8.6274, -8.7219, -8.7223, -8.828, -8.828, -8.7238, -8.9455, -8.9465, -9.079, -9.0795, -8.8309, -8.9487, -9.2337, -9.2411, -9.2339, -8.9499, -9.2335, -9.0853, -8.0437, -9.4268, -8.3314, -9.4162, -8.9633, -9.4275, -8.8585, -7.9719, -8.2928, -6.1204, -8.3735, -8.759, -6.9465, -6.31, -7.284, -5.4962, -6.9441, -5.5193, -7.0435, -8.0472, -5.6743, -7.7852, -6.7116, -6.5473, -4.5663, -7.3227, -5.4973, -4.4165, -5.5094, -5.0309, -6.0435, -4.7875, -5.783, -4.767, -5.4337, -5.4797, -5.1672, -6.6244, -7.2102, -5.3452, -5.6155, -5.1193, -5.6595, -5.3219, -5.5129, -5.9099, -5.3594, -5.3135, -5.4233, -5.2162, -5.5341, -5.0997, -5.1956, -5.4983, -5.5077, -5.2684, -5.3276, -5.1306, -5.4434, -5.5031, -5.5263, -6.3635, -6.5954, -7.6912, -7.9943, -7.6534, -7.3986, -8.5277, -8.7543, -8.531, -8.8816, -8.8851, -9.0355, -9.0389, -9.0357, -9.0383, -9.0388, -9.0394, -8.76, -9.2261, -9.2264, -9.2266, -9.0489, -8.1474, -7.4576, -7.7459, -7.3575, -8.1948, -6.7276, -8.9883, -7.6366, -7.9402, -7.7346, -7.5685, -7.593, -4.7033, -7.9247, -4.7524, -8.3005, -7.129, -5.5961, -7.1319, -7.3915, -6.3575, -7.6589, -7.8155, -5.5555, -5.1811, -4.5132, -5.946, -6.1169, -4.0842, -5.0, -6.0472, -6.6214, -4.5463, -5.5923, -4.9184, -5.2217, -4.8382, -5.2121, -6.3477, -5.4518, -5.6287, -5.2293, -5.7454, -4.6902, -5.2966, -6.1367, -6.0607, -4.9456, -5.2388, -4.8761, -5.1817, -5.587, -5.3024, -5.4191, -5.4244, -5.6628, -5.453, -5.6145, -5.4778, -5.5821, -5.544, -5.5701, -7.1438, -7.3786, -6.1864, -7.8724, -8.2262, -7.4528, -7.6801, -8.1011, -7.8893, -6.2205, -6.6796, -8.1606, -8.3739, -8.2116, -6.6514, -7.8602, -8.481, -8.1158, -8.0032, -7.5852, -8.1909, -8.3519, -6.8155, -6.997, -7.4628, -8.4432, -5.561, -7.0594, -6.7179, -7.5026, -6.5541, -6.4131, -6.0967, -6.5095, -5.9057, -4.4408, -5.9429, -4.3786, -6.02, -4.1851, -4.4423, -6.241, -6.8941, -5.4195, -6.5383, -5.5058, -5.531, -5.0128, -5.0491, -5.0899, -5.7495, -5.4819, -4.4821, -5.1159, -4.4647, -5.1124, -4.9164, -4.2774, -4.7594, -4.901, -4.6925, -4.933, -4.9366, -4.8342, -4.8934, -4.7991, -4.6282, -4.9131, -5.1513, -4.9451, -4.9718, -5.0154, -5.3068, -5.2654, -5.2831, -5.2625, -5.2291], \"loglift\": [30.0, 29.0, 28.0, 27.0, 26.0, 25.0, 24.0, 23.0, 22.0, 21.0, 20.0, 19.0, 18.0, 17.0, 16.0, 15.0, 14.0, 13.0, 12.0, 11.0, 10.0, 9.0, 8.0, 7.0, 6.0, 5.0, 4.0, 3.0, 2.0, 1.0, 3.6428, 3.6377, 3.6219, 3.6089, 3.5985, 3.5436, 3.5137, 3.5134, 3.5066, 3.466, 3.4327, 3.4176, 3.3772, 3.267, 3.263, 3.2559, 3.2445, 3.1875, 3.166, 3.1511, 3.1293, 3.1158, 3.0924, 3.0816, 3.0638, 3.0507, 3.0097, 3.0089, 3.0029, 2.9963, 2.9645, 2.7312, 2.7313, 1.8359, 2.4862, 2.6813, 1.3644, 1.9376, 1.4875, 1.9184, 1.7248, 2.7373, 1.2453, 2.3748, 1.7934, 1.0495, 1.2561, 1.1951, 1.0536, 1.1043, 1.756, 1.4011, 0.956, 1.7863, 1.4151, 1.1013, 1.0439, 0.5535, 1.0606, 0.6754, 0.5709, 1.449, 0.423, 0.7431, 0.9324, 3.59, 3.4736, 3.342, 3.2866, 3.2661, 3.1894, 3.1062, 3.0733, 3.0638, 3.0401, 2.9906, 2.9856, 2.9823, 2.9819, 2.9762, 2.9607, 2.9377, 2.9337, 2.9095, 2.8582, 2.8534, 2.8491, 2.8488, 2.8468, 2.8408, 2.8402, 2.8286, 2.827, 2.8165, 2.815, 2.8, 2.7676, 2.8072, 2.7439, 2.5963, 2.3926, 2.532, 2.1932, 2.2217, 2.2747, 2.3211, 2.4603, 1.817, 2.1835, 1.66, 2.1204, 1.3175, 1.3961, 1.7806, 1.3982, 2.3075, 1.4397, 1.2311, 0.8453, 1.8825, 0.9936, 1.5462, 1.4737, 1.0958, 1.0601, 0.5527, 0.149, 0.9191, 0.7315, 0.7608, 0.3788, 0.0442, 0.55, 0.8022, 0.5074, 0.4224, 2.5094, 2.5069, 2.5056, 2.503, 2.5027, 2.4634, 2.4575, 2.4126, 2.4077, 2.4052, 2.4031, 2.3901, 2.3593, 2.3585, 2.3524, 2.338, 2.3286, 2.324, 2.3179, 2.3168, 2.3115, 2.3108, 2.3082, 2.2948, 2.2873, 2.2762, 2.2708, 2.2625, 2.2625, 2.2416, 2.2339, 2.226, 2.0978, 1.9013, 2.1854, 1.9721, 2.195, 1.6563, 1.7807, 1.5312, 2.029, 1.8424, 1.3586, 1.2352, 1.2738, 1.5262, 0.6831, 1.6052, 1.0733, 1.0035, 1.0001, 1.1522, 0.9221, 1.0385, 1.569, 0.537, 0.9124, 0.904, 0.911, 0.852, 0.5077, 1.0494, 0.3998, 0.5365, 0.6058, 1.0801, 0.583, 0.2787, 0.148, 0.3603, 0.166, 0.1869, 0.3471, 2.3117, 2.2983, 2.2964, 2.2933, 2.2908, 2.2812, 2.2807, 2.2732, 2.253, 2.2457, 2.2384, 2.2327, 2.2291, 2.2177, 2.1986, 2.1968, 2.1902, 2.1777, 2.1772, 2.1764, 2.1763, 2.1627, 2.153, 2.14, 2.1334, 2.1333, 2.1319, 2.121, 2.1175, 2.1117, 2.0977, 2.0818, 2.104, 2.0337, 2.0584, 2.0595, 1.9116, 1.7925, 1.9867, 1.9675, 1.8135, 1.9138, 1.8135, 1.7977, 1.6715, 1.6073, 1.9333, 1.7389, 1.9188, 1.4672, 1.0976, 1.7382, 1.3215, 1.1759, 1.3118, 0.933, 1.3223, 0.8303, 0.6545, 0.987, 1.2435, 0.6335, 0.9392, 0.6632, 0.7025, 0.6681, 0.9346, 0.4816, 0.3901, 0.9775, 0.2184, 0.5167, 3.0664, 3.0033, 2.9951, 2.936, 2.8743, 2.8687, 2.809, 2.8079, 2.7809, 2.7725, 2.764, 2.7565, 2.6896, 2.6849, 2.676, 2.6656, 2.6229, 2.5734, 2.5697, 2.5562, 2.5487, 2.5466, 2.5444, 2.5412, 2.5248, 2.5234, 2.5134, 2.5131, 2.4861, 2.4664, 2.3614, 2.3814, 2.3961, 2.3501, 2.3049, 2.255, 2.3472, 2.2401, 2.0132, 2.1374, 2.2845, 2.0499, 2.1252, 1.8713, 1.7772, 2.1904, 2.1287, 2.0829, 1.4684, 1.6256, 1.5965, 1.295, 1.229, 0.9295, 0.9534, 1.5428, 0.9272, 1.7339, 0.791, 1.4639, 1.4041, 1.0404, 0.503, 0.6552, 0.3585, 0.384, 0.962, 1.2776, 1.1767, 0.8054, 0.7947, 0.2881, 1.5883, 1.5856, 1.5855, 1.5847, 1.5825, 1.5817, 1.5807, 1.58, 1.5794, 1.5786, 1.5775, 1.5772, 1.5767, 1.5739, 1.5727, 1.5718, 1.5708, 1.5618, 1.5614, 1.553, 1.5527, 1.5487, 1.5472, 1.5459, 1.5424, 1.5405, 1.5357, 1.5278, 1.5169, 1.4968, 1.4956, 1.4246, 1.4599, 1.4932, 1.4462, 1.28, 1.3272, 1.2337, 1.3013, 1.4066, 1.148, 1.2122, 1.4004, 1.2747, 1.0786, 1.2933, 1.1777, 1.18, 1.3111, 0.8348, 0.7878, 1.0059, 1.0392, 0.8726, 1.2385, 0.8483, 0.7348, 0.8678, 0.9733, 0.7326, 0.4158, 0.564, 0.5931, 0.9348, 0.8884, 0.5949, 0.5452, 0.5383, 0.4779, 0.4099, 0.2797, 0.2539, 0.5438, 0.3286, 0.2735, 0.6514, 0.1497, -0.0667, -0.0939, -0.2255, 0.0409, 0.1146, 0.0533, 0.1779, -0.613, -0.0127, 1.9986, 1.9953, 1.9902, 1.9839, 1.9823, 1.9794, 1.9525, 1.9505, 1.914, 1.9135, 1.9045, 1.89, 1.8726, 1.8714, 1.8464, 1.8219, 1.8212, 1.815, 1.7901, 1.7888, 1.7823, 1.78, 1.7647, 1.7583, 1.7583, 1.755, 1.75, 1.7471, 1.7468, 1.7456, 1.7416, 1.7441, 1.6632, 1.5468, 1.6121, 1.5488, 1.5667, 1.4774, 1.6182, 1.6534, 1.4332, 1.2973, 1.2467, 1.0701, 1.337, 1.1627, 1.2153, 1.1018, 1.2379, 1.5277, 1.1593, 0.934, 1.5189, 1.0755, 0.7492, 0.8133, 0.9578, 0.9438, 0.5507, 0.6579, 0.5038, 1.0515, 1.0234, 0.4826, 0.633, 0.3481, 0.8362, 0.1202, -0.3775, 0.4539, 1.637, 1.6335, 1.6329, 1.6312, 1.6309, 1.6307, 1.63, 1.6297, 1.6289, 1.6281, 1.6279, 1.6265, 1.6263, 1.6262, 1.6262, 1.6245, 1.6244, 1.6243, 1.6242, 1.6241, 1.623, 1.6212, 1.6209, 1.6208, 1.6208, 1.6158, 1.6114, 1.603, 1.5979, 1.5957, 1.5254, 1.579, 1.595, 1.5086, 1.4547, 1.4886, 1.3488, 1.4412, 1.2746, 1.4142, 1.5216, 1.2329, 1.476, 1.3318, 1.3055, 1.023, 1.4044, 1.1315, 0.9604, 1.1061, 1.0099, 1.1685, 0.9407, 1.1107, 0.8932, 0.98, 0.9465, 0.8431, 1.196, 1.3409, 0.8729, 0.9317, 0.7915, 0.93, 0.697, 0.7532, 0.905, 0.6252, 0.5972, 0.6406, 0.4928, 0.6114, 0.297, 0.3544, 0.5189, 0.5188, 0.1382, 0.1069, -0.4107, 0.2656, 0.385, 0.0723, 1.8474, 1.8471, 1.8469, 1.8452, 1.8429, 1.8422, 1.8389, 1.8383, 1.8374, 1.8373, 1.8364, 1.8352, 1.835, 1.835, 1.8348, 1.8348, 1.8345, 1.832, 1.8316, 1.8313, 1.8311, 1.8288, 1.8175, 1.8157, 1.7937, 1.7922, 1.7691, 1.769, 1.7425, 1.7371, 1.7297, 1.7198, 1.6945, 1.6753, 1.307, 1.6971, 1.2021, 1.7253, 1.5495, 1.2732, 1.5208, 1.5661, 1.3807, 1.6059, 1.6348, 1.1023, 0.95, 0.7515, 1.105, 1.1541, 0.5406, 0.778, 1.0459, 1.2242, 0.3967, 0.7619, 0.4325, 0.5597, 0.3625, 0.4969, 1.08, 0.6069, 0.7014, 0.4796, 0.7396, 0.1186, 0.4727, 0.9589, 0.9078, 0.0207, 0.1957, -0.1563, 0.0448, 0.4859, 0.0745, 0.1667, 0.1257, 0.3895, -0.1567, 0.2553, -0.1354, 0.1173, -0.2594, -0.1949, 2.9626, 2.8247, 2.8068, 2.7808, 2.7527, 2.7455, 2.7272, 2.6965, 2.6905, 2.68, 2.6785, 2.64, 2.6327, 2.6007, 2.5889, 2.5541, 2.5541, 2.5352, 2.534, 2.5334, 2.4804, 2.4664, 2.4574, 2.4003, 2.3929, 2.3749, 2.3475, 2.3439, 2.3438, 2.3431, 2.3161, 2.3051, 2.2357, 2.2738, 2.174, 1.9276, 2.1647, 1.7097, 2.0897, 1.6219, 1.675, 2.1117, 2.2735, 1.6983, 2.1216, 1.6561, 1.6441, 1.385, 1.305, 1.2948, 1.6525, 1.4765, 0.8142, 1.2103, 0.7359, 1.1584, 0.9946, 0.4425, 0.8392, 0.9507, 0.6828, 0.9054, 0.8179, 0.7051, 0.7153, 0.5434, 0.1806, 0.5328, 0.9074, 0.4615, 0.3647, 0.2692, 0.9459, 0.7869, 0.7451, 0.4451, -0.0025]}, \"token.table\": {\"Topic\": [1, 2, 3, 4, 5, 6, 7, 8, 9, 10, 8, 2, 3, 4, 6, 7, 8, 9, 1, 3, 4, 5, 6, 7, 8, 9, 10, 1, 2, 3, 4, 5, 6, 7, 8, 9, 10, 8, 1, 2, 4, 5, 6, 7, 8, 9, 10, 1, 2, 3, 4, 5, 6, 7, 8, 9, 10, 8, 1, 2, 3, 4, 5, 6, 7, 8, 9, 9, 1, 4, 5, 6, 8, 9, 2, 3, 6, 7, 9, 6, 10, 1, 4, 5, 6, 8, 9, 2, 6, 9, 2, 3, 8, 9, 4, 8, 2, 6, 9, 9, 2, 3, 5, 6, 8, 9, 3, 9, 2, 6, 8, 9, 6, 8, 10, 3, 5, 10, 2, 6, 7, 8, 6, 1, 2, 3, 4, 5, 6, 7, 8, 9, 10, 9, 1, 3, 4, 5, 6, 7, 8, 9, 10, 2, 3, 4, 6, 7, 8, 9, 10, 2, 3, 4, 6, 7, 8, 9, 10, 2, 3, 5, 6, 7, 8, 9, 10, 2, 8, 9, 5, 6, 7, 8, 3, 6, 7, 10, 3, 8, 1, 3, 4, 5, 6, 7, 8, 9, 10, 1, 3, 4, 5, 6, 7, 8, 9, 10, 6, 7, 2, 9, 1, 2, 3, 4, 5, 6, 7, 8, 9, 10, 4, 5, 6, 8, 9, 3, 6, 7, 8, 9, 8, 1, 2, 3, 4, 5, 6, 7, 8, 9, 10, 6, 8, 9, 6, 8, 9, 1, 2, 3, 4, 5, 6, 7, 8, 9, 10, 3, 4, 5, 6, 7, 8, 9, 1, 2, 3, 4, 5, 6, 7, 8, 9, 10, 1, 7, 8, 9, 2, 3, 4, 5, 6, 8, 9, 10, 6, 8, 1, 2, 3, 4, 5, 6, 7, 8, 9, 10, 9, 2, 7, 8, 10, 1, 2, 3, 4, 5, 6, 8, 9, 10, 4, 3, 8, 1, 2, 3, 4, 6, 7, 8, 9, 10, 1, 2, 3, 4, 5, 6, 7, 8, 9, 10, 1, 2, 3, 4, 5, 6, 7, 8, 9, 10, 2, 6, 7, 8, 9, 2, 6, 7, 1, 3, 4, 6, 7, 9, 4, 9, 2, 7, 8, 10, 6, 2, 7, 9, 4, 6, 6, 8, 1, 3, 4, 5, 6, 7, 8, 9, 10, 3, 6, 4, 7, 6, 7, 1, 2, 3, 4, 6, 7, 8, 9, 10, 1, 2, 3, 4, 6, 7, 8, 9, 10, 2, 6, 9, 3, 2, 6, 1, 3, 4, 5, 6, 8, 9, 10, 8, 1, 7, 8, 9, 3, 6, 9, 1, 3, 4, 5, 6, 7, 8, 9, 10, 2, 8, 9, 2, 3, 6, 8, 9, 1, 2, 3, 4, 5, 6, 7, 8, 9, 10, 8, 3, 7, 1, 3, 4, 5, 6, 8, 9, 1, 4, 5, 6, 7, 8, 9, 10, 3, 6, 10, 1, 2, 3, 4, 5, 6, 7, 8, 9, 10, 3, 7, 1, 2, 3, 4, 5, 6, 7, 8, 9, 10, 1, 2, 3, 4, 5, 6, 7, 8, 9, 10, 6, 2, 3, 4, 5, 6, 7, 8, 9, 10, 8, 9, 4, 5, 8, 1, 3, 4, 5, 6, 7, 8, 9, 10, 3, 7, 2, 4, 7, 9, 3, 3, 1, 10, 2, 3, 8, 9, 1, 3, 6, 8, 9, 1, 3, 4, 6, 7, 8, 9, 10, 1, 2, 4, 5, 6, 7, 8, 9, 1, 2, 3, 4, 6, 7, 8, 9, 10, 2, 3, 4, 6, 7, 8, 9, 10, 3, 6, 7, 8, 9, 10, 4, 7, 6, 8, 10, 4, 5, 6, 7, 10, 1, 2, 3, 4, 5, 6, 7, 8, 9, 10, 7, 9, 1, 2, 3, 4, 5, 6, 7, 8, 9, 10, 1, 2, 3, 4, 5, 6, 7, 8, 9, 10, 1, 2, 3, 4, 5, 6, 7, 8, 9, 10, 5, 6, 9, 10, 3, 8, 10, 3, 4, 5, 6, 7, 8, 9, 10, 5, 6, 9, 1, 4, 6, 8, 9, 1, 4, 6, 8, 9, 1, 4, 6, 8, 1, 2, 3, 4, 5, 6, 7, 8, 9, 10, 4, 5, 8, 3, 6, 2, 3, 4, 5, 6, 8, 9, 1, 2, 3, 4, 5, 6, 7, 8, 9, 10, 8, 9, 2, 3, 6, 7, 8, 9, 2, 5, 6, 7, 1, 2, 3, 4, 5, 6, 7, 8, 9, 10, 3, 8, 5, 9, 1, 2, 3, 4, 5, 6, 7, 8, 9, 10, 8, 6, 2, 3, 4, 5, 6, 7, 8, 9, 10, 4, 9, 6, 9, 2, 4, 6, 2, 6, 10, 2, 9, 1, 3, 4, 5, 6, 7, 8, 9, 10, 3, 4, 7, 8, 9, 10, 8, 6, 9, 10, 6, 1, 2, 3, 4, 5, 6, 7, 8, 9, 10, 1, 2, 3, 4, 5, 6, 7, 8, 9, 10, 3, 9, 6, 7, 1, 2, 3, 4, 5, 7, 8, 9, 9, 4, 5, 6, 8, 9, 1, 4, 5, 6, 8, 9, 10, 2, 5, 6, 7, 9, 4, 8, 6, 7, 4, 8, 9, 3, 6, 7, 8, 1, 2, 6, 8, 3, 6, 1, 4, 8, 9, 1, 2, 3, 4, 5, 6, 7, 8, 9, 10, 4, 8, 9, 3, 7, 8, 1, 3, 4, 5, 6, 7, 8, 9, 10, 9, 8, 10, 2, 3, 4, 5, 6, 7, 8, 9, 10, 1, 2, 3, 4, 5, 6, 7, 8, 9, 10, 4, 5, 6, 3, 6, 9, 10, 1, 2, 3, 4, 5, 6, 7, 8, 9, 10, 3, 5, 10, 8, 9, 2, 3, 4, 5, 6, 7, 8, 9, 10, 1, 2, 3, 4, 5, 6, 7, 8, 9, 10, 1, 2, 3, 4, 5, 6, 7, 8, 9, 8, 2, 3, 4, 6, 7, 8, 9, 10, 1, 2, 3, 4, 5, 6, 7, 8, 9, 10, 6, 7, 1, 2, 3, 4, 6, 7, 8, 9, 1, 2, 3, 6, 7, 8, 9, 10, 3, 6, 9, 10, 1, 2, 3, 4, 5, 6, 7, 8, 9, 10, 6, 8, 9, 9, 2, 3, 4, 5, 6, 7, 8, 9, 10, 3, 5, 7, 2, 9, 9, 4, 6, 10, 3, 6, 3, 6, 7, 8, 9, 9, 1, 2, 4, 5, 6, 7, 10, 2, 6, 10, 6, 6, 9, 10, 1, 2, 3, 4, 5, 6, 7, 8, 9, 10, 1, 2, 3, 4, 5, 6, 7, 8, 9, 10, 4, 6, 8, 6, 8, 3, 8, 5, 6, 8, 8, 4, 7, 8, 1, 6, 8, 1, 2, 3, 4, 5, 6, 7, 8, 9, 10, 4, 7, 1, 4, 5, 6, 7, 8, 9, 10, 1, 2, 3, 4, 5, 6, 7, 8, 9, 10, 6, 1, 2, 3, 4, 5, 6, 7, 8, 9, 10, 1, 2, 3, 4, 5, 6, 7, 8, 9, 10, 3, 8, 1, 3, 4, 5, 6, 9, 10, 3, 6, 7, 9, 1, 3, 4, 5, 6, 7, 8, 9, 10, 2, 3, 4, 5, 6, 8, 9, 9, 3, 5, 6, 8, 9, 10, 8, 10, 2, 3, 6, 9, 2, 3, 8, 9, 2, 6, 7, 9, 5, 6, 8, 3, 7, 9, 10, 1, 4, 6, 7, 8, 9, 4, 10, 2, 3, 4, 5, 6, 7, 8, 9, 10, 1, 2, 3, 4, 5, 6, 7, 8, 9, 10, 8, 6, 5, 6, 8, 9, 1, 2, 3, 4, 5, 6, 7, 8, 9, 10, 8, 1, 2, 3, 4, 5, 6, 7, 8, 9, 10, 2, 3, 7, 8, 9, 1, 5, 2, 4, 8, 9, 6, 1, 2, 3, 4, 5, 6, 7, 8, 9, 10, 1, 2, 3, 4, 5, 6, 7, 8, 9, 1, 2, 3, 4, 5, 6, 7, 8, 9, 10, 1, 3, 4, 6, 7, 8, 9, 10, 1, 2, 3, 4, 5, 6, 7, 8, 9, 10, 4, 8, 1, 8, 4, 6, 7, 9, 7, 8, 2, 6, 8, 4, 10, 1, 2, 3, 4, 5, 6, 7, 8, 9, 10, 2, 3, 6, 8, 10, 1, 8, 1, 2, 3, 4, 5, 6, 7, 8, 9, 10, 7, 1, 3, 4, 5, 6, 7, 8, 9, 10, 3, 6, 8, 9, 3, 4, 5, 6, 7, 8, 9, 1, 9, 10, 7, 9, 1, 4, 5, 6, 8, 10, 1, 2, 3, 4, 5, 6, 7, 8, 9, 10, 1, 5, 8, 1, 5, 7, 9, 1, 2, 3, 4, 5, 6, 7, 8, 9, 10, 2, 3, 8, 2, 3, 8, 9, 1, 2, 3, 4, 5, 6, 7, 8, 9, 10, 1, 3, 5, 6, 9, 2, 6, 1, 2, 6, 7, 3, 6, 9, 2, 3, 4, 5, 6, 8, 9, 2, 3, 4, 5, 6, 7, 8, 9, 2, 3, 4, 6, 7, 8, 9, 10, 3, 6, 8, 9, 1, 3, 4, 6, 8, 1, 2, 3, 4, 5, 6, 7, 8, 9, 10, 3, 4, 5, 6, 7, 8, 9, 10, 1, 2, 3, 4, 5, 6, 7, 8, 9, 10, 8, 1, 2, 3, 4, 6, 7, 8, 9, 3, 8, 1, 2, 3, 4, 5, 6, 7, 8, 9, 10, 9, 10, 3, 6, 7, 9, 10, 1, 2, 3, 4, 5, 6, 7, 8, 9, 10, 2, 3, 4, 6, 7, 8, 9, 5, 6, 9, 1, 2, 3, 4, 5, 6, 7, 8, 9, 10, 1, 2, 3, 4, 5, 6, 7, 8, 9, 10, 3, 4, 5, 6, 8, 9, 3, 6, 7, 8, 10, 2, 4, 7, 9, 1, 2, 3, 4, 6, 7, 8, 9, 2, 3, 4, 5, 6, 7, 8, 9, 10, 1, 2, 3, 4, 5, 6, 7, 8, 9, 10, 9, 4, 5, 6, 7, 3, 4, 6, 8, 9, 4, 8, 4, 4, 8, 4, 8, 9, 1, 6, 3, 4, 8, 1, 4, 6, 8, 9, 10, 3, 6, 2, 3, 4, 6, 8, 9, 2, 3, 4, 6, 7, 8, 9, 2, 3, 4, 6, 8, 9, 10, 3, 5, 6, 8, 1, 8, 6, 5, 6, 1, 2, 3, 4, 5, 6, 7, 8, 9, 10, 1, 2, 3, 4, 5, 6, 7, 8, 9, 10, 3, 6, 9, 10, 6, 3, 4, 5, 6, 7, 8, 9, 10, 4, 5, 2, 6, 9, 1, 2, 3, 4, 5, 6, 7, 8, 9, 7, 9, 1, 2, 3, 4, 5, 6, 7, 8, 9, 10, 4, 8, 1, 6, 7, 8, 1, 2, 3, 4, 6, 7, 8, 9, 10, 1, 2, 3, 4, 5, 6, 7, 8, 9, 10, 2, 3, 6, 8, 9, 1, 3, 5, 6, 9, 10, 1, 2, 3, 4, 5, 6, 7, 8, 9, 10, 3, 4, 5, 6, 7, 8, 9, 10, 9, 2, 3, 4, 6, 7, 8, 9, 10, 9, 1, 6, 9, 2, 3, 4, 6, 7, 8, 9, 2, 3, 4, 6, 7, 8, 9, 10, 4, 1, 2, 4, 6, 7, 9, 10, 1, 4, 5, 6, 7, 8, 9, 10, 1, 3, 4, 5, 6, 7, 8, 9, 10, 1, 6, 9, 10, 1, 4, 5, 6, 8, 9, 10, 1, 3, 4, 5, 6, 7, 8, 9, 10, 1, 3, 4, 5, 6, 7, 8, 9, 10, 6, 9, 10, 4, 5, 6, 8, 9, 1, 2, 3, 4, 6, 7, 8, 9, 9, 10, 1, 4, 7, 8, 6, 7, 8, 1, 3, 4, 5, 6, 7, 8, 9, 5, 6, 8, 9, 2, 3, 7, 8, 9, 6, 8, 9, 3, 4, 5, 6, 7, 8, 9, 10, 4, 5, 6, 7, 8, 9, 10, 3, 5, 8, 4, 3, 6, 8, 9, 4, 5, 10, 1, 2, 3, 4, 5, 6, 7, 8, 9, 10, 1, 2, 3, 4, 5, 6, 7, 8, 9, 10, 6, 9, 10, 1, 2, 3, 4, 5, 6, 7, 8, 9, 10, 8, 4, 8, 2, 3, 4, 5, 6, 7, 8, 9, 3, 7, 8, 9, 6, 3, 1, 3, 4, 6, 7, 8, 9, 10, 9, 7, 8, 9, 1, 2, 3, 4, 5, 6, 7, 8, 9, 10, 1, 2, 3, 4, 5, 6, 7, 8, 9, 10, 2, 3, 6, 7, 8, 9, 10, 1, 2, 3, 4, 5, 6, 7, 8, 9, 10, 1, 2, 3, 4, 5, 6, 7, 8, 9, 10, 1, 2, 3, 4, 5, 6, 7, 8, 9, 10, 8, 1, 2, 3, 4, 5, 6, 7, 8, 9, 10, 1, 2, 3, 4, 5, 6, 7, 8, 9, 10, 2, 6, 8, 9, 6, 1, 2, 3, 4, 5, 6, 7, 8, 9, 10, 3, 9, 1, 2, 3, 4, 5, 6, 7, 8, 9, 10, 1, 5, 6, 8, 4, 8, 4, 9, 1, 6, 9, 1, 2, 3, 4, 5, 6, 7, 8, 9, 2, 6, 8, 1, 6, 8, 3, 7, 8, 9, 10, 6, 7, 9, 6, 3, 6, 7, 8, 9, 3, 7, 2, 3, 6, 9, 4, 5, 6, 8, 9, 5, 6, 1, 2, 3, 4, 5, 6, 7, 8, 9, 10, 3, 6, 9, 1, 3, 4, 5, 6, 7, 8, 9, 10, 1, 2, 3, 4, 5, 6, 7, 8, 9, 10, 1, 8, 9, 1, 6, 8, 9, 8, 10, 6, 9, 1, 2, 3, 4, 5, 6, 7, 8, 9, 10, 8, 2, 3, 4, 6, 7, 8, 9, 10, 1, 3, 4, 5, 6, 8, 9, 10, 2, 3, 5, 6, 7, 8, 9, 10, 1, 3, 4, 6, 7, 8, 9, 10, 1, 2, 3, 4, 6, 7, 8, 9, 10, 1, 2, 3, 4, 5, 6, 7, 8, 9, 10, 2, 3, 4, 6, 7, 8, 9, 10, 3, 7, 1, 2, 3, 4, 5, 6, 7, 8, 9, 10, 6, 8, 4, 8, 9, 8, 3, 6, 7, 8, 9, 6, 8, 4, 5, 7, 8, 3, 8, 3, 6, 1, 3, 4, 5, 6, 8, 9, 10, 3, 4, 6, 8, 9, 4, 9, 9, 10, 1, 3, 9, 10, 8, 1, 6, 8, 1, 2, 3, 4, 5, 6, 7, 8, 9, 10, 1, 2, 3, 6, 7, 8, 9, 10, 2, 9, 7, 2, 8, 10, 1, 2, 3, 4, 5, 6, 7, 8, 9, 10, 1, 2, 3, 4, 5, 6, 7, 8, 9, 10, 8, 3, 4, 6, 8, 9, 5, 9, 1, 2, 3, 4, 5, 6, 7, 8, 9, 10, 4, 8, 4, 6, 8, 1, 3, 4, 5, 6, 7, 8, 9, 10, 1, 3, 4, 5, 6, 7, 8, 9, 10, 3, 8, 2, 3, 4, 5, 6, 7, 8, 9, 10, 6, 6, 10, 5, 6, 8, 8, 9, 2, 8, 9, 2, 3, 6, 8, 9, 4, 7, 1, 3, 4, 7, 8, 9, 10, 8, 1, 2, 3, 4, 6, 7, 8, 9, 10, 1, 3, 4, 5, 6, 7, 8, 9, 10, 4, 1, 3, 4, 6, 7, 8, 9, 10, 1, 2, 3, 4, 5, 6, 7, 8, 9, 10, 1, 2, 3, 4, 6, 7, 8, 9, 10, 1, 2, 3, 4, 5, 6, 7, 8, 9, 10, 2, 3, 6, 7, 8, 9, 3, 6, 7, 8, 9, 10, 4, 7, 8, 3, 6, 7, 6, 8, 2, 3, 4, 5, 6, 7, 8, 9, 10, 3, 6, 7, 8, 9, 10, 1, 2, 3, 4, 5, 6, 7, 8, 9, 6, 7, 10, 1, 3, 4, 6, 8, 2, 3, 6, 7, 8, 9, 10, 1, 2, 3, 4, 5, 6, 7, 8, 9, 10, 1, 2, 3, 6, 7, 8, 9, 2, 3, 5, 6, 8, 9, 1, 3, 4, 5, 6, 7, 8, 9, 10, 1, 4, 5, 6, 8, 9, 4, 8, 1, 2, 3, 4, 6, 8, 9, 1, 3, 4, 8, 9, 3, 6, 7, 4, 4, 5, 6, 8, 9, 10, 4, 8, 2, 3, 6, 8, 9, 1, 2, 3, 4, 5, 6, 7, 8, 9, 10, 1, 3, 4, 5, 6, 7, 8, 9, 10, 5, 6, 2, 3, 8, 10, 1, 3, 4, 6, 8, 9, 10, 1, 2, 3, 4, 5, 6, 7, 8, 9, 10, 9, 6, 3, 5, 7, 9, 8, 2, 3, 6, 7, 8, 9, 10, 8, 8, 3, 5, 6, 7, 8, 9, 1, 8, 1, 3, 4, 6, 7, 8, 9, 10, 1, 2, 3, 4, 5, 6, 7, 8, 9, 10, 2, 3, 8, 9, 3, 5, 6, 7, 8, 10, 1, 3, 4, 6, 7, 8, 9, 10, 2, 3, 5, 6, 7, 8, 9, 10, 3, 6, 9, 3, 4, 7, 3, 4, 7, 8, 9, 3, 6, 3, 8, 6, 9, 5, 8, 2, 9, 3, 8, 9, 3, 6, 7, 8, 10, 1, 4, 5, 6, 7, 8, 9, 10, 6, 7, 8, 9, 1, 2, 6, 7, 8, 9, 1, 4, 6, 7, 8, 9, 10, 1, 3, 4, 5, 6, 7, 8, 9, 10, 3, 4, 6, 7, 8, 9, 10, 8, 2, 3, 5, 6, 7, 8, 9, 10, 6, 9, 1, 3, 5, 6, 8, 9, 10, 6, 4, 8, 1, 6, 7, 8, 9, 10, 1, 2, 3, 4, 5, 6, 7, 8, 9, 10, 4, 9, 5, 9, 2, 3, 5, 6, 8, 9, 6, 7, 9, 10, 1, 2, 3, 4, 5, 6, 8, 9, 10, 3, 6, 8, 3, 8, 4, 6, 8, 6, 3, 9, 1, 2, 3, 4, 5, 6, 7, 8, 9, 10, 3, 3, 4, 5, 6, 8, 9, 2, 3, 5, 6, 8, 6, 10, 4, 5, 6, 8, 9, 10, 2, 3, 5, 6, 7, 8, 9, 10, 1, 5, 10, 2, 3, 6, 8, 9, 1, 3, 4, 5, 6, 7, 8, 9, 10, 6, 8, 3, 6, 8, 9], \"Freq\": [0.03795840028075872, 0.003995621082185128, 0.061932126773869486, 0.029967158116388462, 0.00998905270546282, 0.14584016949975717, 0.035960589739666156, 0.49945263527314104, 0.16981389599286795, 0.001997810541092564, 1.0153509301123762, 0.1087745212521016, 0.1142132473147067, 0.0054387260626050805, 0.13052942550252192, 0.010877452125210161, 0.16316178187815242, 0.4622917153214318, 0.005812491502872937, 0.02615621176292822, 0.1017186013002764, 0.185999728091934, 0.20634344835198928, 0.07846863528878466, 0.23540590586635396, 0.08718737254309405, 0.06974989803447525, 0.004404725148450286, 0.017618900593801144, 0.019087142309951236, 0.25106933346166627, 0.06607087722675428, 0.33035438613377144, 0.10277692013050667, 0.12039582072430781, 0.04845197663295314, 0.03964252633605257, 1.011695742405378, 0.028761886602474498, 0.009587295534158165, 0.1102538986428189, 0.3643172302980103, 0.2732379227235077, 0.009587295534158165, 0.12942848971113524, 0.043142829903711745, 0.03355553436955358, 0.004836263895168523, 0.0032241759301123484, 0.01128461575539322, 0.17249341226101064, 0.12090659737921307, 0.32241759301123485, 0.16443297243572977, 0.09672527790337046, 0.07415604639258402, 0.03224175930112349, 0.9846034844536412, 0.30525221565097405, 0.015262610782548702, 0.015262610782548702, 0.18315132939058443, 0.030525221565097405, 0.21367655095568183, 0.015262610782548702, 0.04578783234764611, 0.18315132939058443, 1.0231783105096843, 0.1364622661728922, 0.03721698168351606, 0.42179245907984864, 0.11165094505054816, 0.16127358729523625, 0.1364622661728922, 0.3517546262780809, 0.17587731313904045, 0.3224417407549075, 0.05862577104634682, 0.05862577104634682, 0.2737482833065291, 0.6843707082663228, 0.07279492016252531, 0.10514821801253656, 0.3397096274251181, 0.3477979518876209, 0.08088324462502812, 0.05661827123751969, 0.39331152290179194, 0.19665576145089597, 0.39331152290179194, 0.40088116307874266, 0.08017623261574854, 0.1202643489236228, 0.3607930467708684, 0.9423950981089319, 0.03769580392435727, 0.6480313123918578, 0.16200782809796446, 0.16200782809796446, 1.0306064929159395, 0.10904396714763018, 0.17504426305277473, 0.002869578082832373, 0.08321776440213881, 0.40174093159653224, 0.22669666854375747, 0.04494586754334805, 0.943863218410309, 0.4112425347648599, 0.49349104171783187, 0.16449701390594396, 1.0258261653086875, 0.8260631231780216, 0.1223797219522995, 0.030594930488074875, 0.2961347148513157, 0.5076595111736841, 0.1692198370578947, 0.36729240293013593, 0.24486160195342396, 0.24486160195342396, 0.24486160195342396, 1.0065850926776179, 0.01135170830624391, 0.006112458318746721, 0.11526349972493817, 0.06811024983746346, 0.05675854153121955, 0.2427519160873698, 0.13447408301242786, 0.20782358283738853, 0.0497728748812233, 0.10740462474369239, 1.0237101713576593, 0.23246062802719525, 0.009685859501133135, 0.03874343800453254, 0.04842929750566568, 0.11623031401359762, 0.01937171900226627, 0.15497375201813016, 0.2518323470294615, 0.1356020330158639, 0.22842013136771486, 0.028552516420964357, 0.005710503284192872, 0.16560459524159327, 0.20557811823094338, 0.03426301970515723, 0.30836717734641506, 0.028552516420964357, 0.005693860880940869, 0.014234652202352172, 0.028469304404704344, 0.07686712189270173, 0.563692227213146, 0.08540791321411303, 0.1651219655472852, 0.05978553924987912, 0.01584509539793658, 0.01584509539793658, 0.2218313355711121, 0.657571459014368, 0.00792254769896829, 0.05545783389277802, 0.01584509539793658, 0.00792254769896829, 0.3794527515069196, 0.4743159393836495, 0.0948631878767299, 0.5129008499856655, 0.23313674999348433, 0.04662734999869687, 0.23313674999348433, 0.8905652067668868, 0.008023109970872855, 0.04813865982523712, 0.04813865982523712, 0.8525513102797481, 0.18268956648851745, 0.009275951863039556, 0.013557160415211659, 0.5886661759236641, 0.007848882345648855, 0.04852036359128383, 0.027114320830423318, 0.26044018692380294, 0.03353613365868147, 0.010703021380430257, 0.14527307250323387, 0.2542278768806593, 0.14754296426109692, 0.006809675273589088, 0.05674729394657573, 0.0022698917578630293, 0.24060852633348112, 0.14300318074537086, 0.0022698917578630293, 1.0027139058935595, 0.9720695678705317, 0.4400012377101655, 0.5600015752674834, 0.034416553897414576, 0.002647427222878044, 0.021179417783024353, 0.0039711408343170666, 0.006618568057195111, 0.05956711251475599, 0.7717250354689499, 0.041035121954609684, 0.05691968529187795, 0.002647427222878044, 0.12492282654359883, 0.4639990700190814, 0.10707670846594186, 0.24984565308719767, 0.05353835423297093, 0.06351353395948282, 0.012702706791896565, 0.6732434599705179, 0.16513518829465534, 0.0762162407513794, 1.0044754013753943, 0.04499035149104049, 0.012372346660036134, 0.27669066166989903, 0.023619934532796257, 0.185585199900542, 0.1113511199403252, 0.14509388355860559, 0.032618004831004355, 0.048364627852868526, 0.1192244314512573, 0.6799011439301849, 0.26052286823493065, 0.050833730387303544, 0.8426437190016604, 0.025534658151565467, 0.12767329075782732, 0.008308878721036564, 0.002077219680259141, 0.5386923037472039, 0.011078504961382084, 0.02561904272319607, 0.13848131201727606, 0.1267104004958076, 0.08239638065027925, 0.06231659040777423, 0.004846845920604663, 0.6567245726605758, 0.027363523860857324, 0.006840880965214331, 0.07524969061735765, 0.027363523860857324, 0.20522642895642995, 0.006840880965214331, 0.0023523884052817808, 0.016466718836972465, 0.11056225504824368, 0.018819107242254246, 0.011761942026408902, 0.12702897388521614, 0.007057165215845341, 0.49164917670389213, 0.21406734488064202, 0.0023523884052817808, 0.7620633330142164, 0.0635052777511847, 0.0635052777511847, 0.1270105555023694, 0.01344586827255061, 0.16583237536145753, 0.5916182039922269, 0.008963912181700407, 0.040337604817651834, 0.17479628754315793, 0.004481956090850204, 0.004481956090850204, 1.0028125123859368, 0.9506454339433902, 0.011859757503573373, 0.010165506431634318, 0.023719515007146745, 0.011859757503573373, 0.013554008575512425, 0.48625005764650825, 0.0033885021438781063, 0.19992162648880826, 0.12198607717961182, 0.11520907289185561, 1.0232736222521939, 0.47983855232434175, 0.28790313139460505, 0.09596771046486835, 0.1919354209297367, 0.024512117119594768, 0.002042676426632897, 0.014298734986430282, 0.5208824887913889, 0.022469440692961872, 0.09804846847837907, 0.26963328831554245, 0.04289620495929085, 0.004085352853265794, 0.9782338598912589, 0.9287981498491416, 0.1031997944276824, 0.0006816238685675766, 0.05452990948540613, 0.04430555145689248, 0.00408974321140546, 0.11178631444508257, 0.43010466106614087, 0.10428845189083923, 0.2419764733414897, 0.008861110291378496, 0.016128184785494812, 0.007443777593305298, 0.14391303347056908, 0.06451273914197925, 0.040940776763179136, 0.27169788215564333, 0.0769190351308214, 0.22579458699692737, 0.10793477510292682, 0.04466266555983178, 0.01670883929320488, 0.017902327814148085, 0.05251349492150105, 0.017902327814148085, 0.0071609311256592345, 0.3473051595944729, 0.06564186865187632, 0.2064735141231746, 0.1456055995550711, 0.1253162946990366, 0.05444707576900374, 0.7622590607660523, 0.09981963890984019, 0.02722353788450187, 0.05444707576900374, 0.026286551202979125, 0.026286551202979125, 0.9463158433072485, 0.4963057156477586, 0.038177362742135276, 0.11453208822640583, 0.1527094509685411, 0.11453208822640583, 0.038177362742135276, 0.8920177885163969, 0.0892017788516397, 0.03898671524277423, 0.1169601457283227, 0.31189372194219384, 0.506827298156065, 1.0116697949931577, 0.5083815010926755, 0.457543350983408, 0.05083815010926755, 0.8556723437367649, 0.12223890624810928, 0.9298608643819531, 1.0154667125679386, 0.14819687256246833, 0.038107767230349, 0.29004245058654515, 0.06774714174284267, 0.12914298894729384, 0.029639374512493665, 0.18842173797228118, 0.06563004356337883, 0.0444590617687405, 0.8392755165126444, 0.14810744409046667, 0.1205223400302283, 0.8436563802115982, 0.1933978552729064, 0.7735914210916256, 0.002636306583279059, 0.12258825612247623, 0.005272613166558118, 0.0013181532916395294, 0.0632713579986974, 0.05668059154049976, 0.12917902258067387, 0.5799874483213929, 0.03954459874918588, 0.0013587650245315418, 0.005435060098126167, 0.1983796935816051, 0.004076295073594626, 0.14538785762487497, 0.02174024039250467, 0.5312771245918328, 0.055709366005793216, 0.03668665566235163, 0.44443058773073135, 0.11110764693268284, 0.5555382346634142, 1.0243571716985571, 0.4891637258558606, 0.4891637258558606, 0.03346268250334324, 0.01673134125167162, 0.0711082003196044, 0.40573502535303685, 0.16313057720379834, 0.19241042439422368, 0.08783954157127602, 0.025097011877507434, 1.0134786442445323, 0.6877070977768608, 0.07641189975298453, 0.15282379950596905, 0.07641189975298453, 0.025115354287270093, 0.22603818858543082, 0.7534606286181028, 0.007454365920740012, 0.4211716745218107, 0.003727182960370006, 0.022363097762220036, 0.15281450137517025, 0.04286260404425507, 0.21617661170146035, 0.05590774440555009, 0.07827084216777012, 0.40011022175297695, 0.13337007391765898, 0.46679525871180644, 0.3744971206140922, 0.12483237353803074, 0.12483237353803074, 0.12483237353803074, 0.24966474707606148, 0.002576625606633307, 0.07987539380563251, 0.13656115715156525, 0.05539745054261609, 0.03736107129618295, 0.11465983949518214, 0.17521054125106486, 0.20613004853066455, 0.18551704367759808, 0.006441564016583267, 1.0081259219306027, 0.0324898584695318, 0.9422058956164222, 0.3261424569060648, 0.002188875549705133, 0.11163265303496178, 0.10068827528643612, 0.13789915963142338, 0.22326530606992356, 0.09849939973673098, 0.004281253062699953, 0.6015160553093435, 0.01926563878214979, 0.10489070003614887, 0.0021406265313499767, 0.2483126776365973, 0.0021406265313499767, 0.014984385719449838, 0.24376038631213906, 0.12188019315606953, 0.6094009657803476, 0.004197677033758233, 0.034281029109025564, 0.13362605224130372, 0.004897289872717938, 0.004897289872717938, 0.12383147249586786, 0.014691869618153814, 0.505820082567867, 0.1693063070282487, 0.004197677033758233, 0.06502935726744578, 0.910411001744241, 0.01185668726642367, 0.0867020256357231, 0.10596914244366157, 0.05335509269890652, 0.014820859083029589, 0.2275001869245042, 0.06076552224042132, 0.21564349965808052, 0.19118908217108171, 0.032605889982665094, 0.07345357805388766, 0.0007495263066723231, 0.010493368293412523, 0.05771352561376888, 0.07045547282719837, 0.44596815247003224, 0.03597726272027151, 0.14091094565439674, 0.08469647265397251, 0.07870026220059392, 1.0051944226933005, 0.007542329621371472, 0.037711648106857364, 0.005656747216028604, 0.022626988864114416, 0.06599538418700038, 0.099935867483172, 0.18667265812894393, 0.25643920712663004, 0.3186634265029447, 0.08255209725022161, 0.8667970211273269, 0.22263437173474, 0.5936916579593067, 0.07421145724491333, 0.09067997618348948, 0.007556664681957458, 0.36775768118859625, 0.04533998809174474, 0.07052887036493627, 0.07304775859225542, 0.20654883464017051, 0.12594441136595763, 0.015113329363914916, 0.23134223861888756, 0.8096978351661065, 0.030626515897639324, 0.0765662897440983, 0.7809761553898027, 0.1225060635905573, 1.0334043797289159, 1.047124936819702, 0.25437604644458534, 0.6359401161114633, 0.37924396691987455, 0.018962198345993726, 0.1516975867679498, 0.45509276030384943, 0.015195417691688303, 0.030390835383376606, 0.015195417691688303, 0.8813342261179216, 0.045586253075064906, 0.009756907084095056, 0.06016759368525285, 0.004878453542047528, 0.07155065195003042, 0.5886667274070684, 0.08943831493753802, 0.13171824563528325, 0.043906081878427754, 0.024618570626954203, 0.23387642095606492, 0.012309285313477102, 0.06154642656738551, 0.18463927970215652, 0.024618570626954203, 0.22156713564258784, 0.23387642095606492, 0.004179352748507321, 0.021941601929663435, 0.010448381871268302, 0.012538058245521963, 0.03343482198805857, 0.4534597732130443, 0.12224606789383914, 0.3416620871904735, 0.0010448381871268303, 0.028259599447591023, 0.04015837816236619, 0.001487347339346896, 0.04313307284105999, 0.27218456310048195, 0.17996902806097442, 0.4060458236417026, 0.028259599447591023, 0.0044987502515459864, 0.04498750251545986, 0.674812537731898, 0.13046375729483362, 0.08097750452782776, 0.0674812537731898, 0.16015537775750055, 0.8007768887875026, 0.1301224789463726, 0.10409798315709809, 0.7547103778889611, 0.1691866853541206, 0.5075600560623618, 0.056395561784706866, 0.1691866853541206, 0.056395561784706866, 0.000989426034892066, 0.027044311620383142, 0.15929759161762264, 0.006925982244244463, 0.00032980867829735536, 0.10982628987301934, 0.3918127098172582, 0.03199144179484347, 0.26945369016893933, 0.0016490433914867768, 0.9674523830641755, 0.9706120435148222, 0.01192871264563361, 0.003976237548544537, 0.11431682952065543, 0.06560791955098486, 0.03081584100122016, 0.244538609235489, 0.004970296935680671, 0.49603563418093094, 0.01888712835558655, 0.009940593871361342, 0.015783690782337906, 0.041432188303637, 0.04735107234701372, 0.02170257482571462, 0.01183776808675343, 0.11640471951974204, 0.05326995639039043, 0.5169158731215664, 0.15586394647558682, 0.02367553617350686, 0.01338769413389423, 0.01338769413389423, 0.06693847066947115, 0.036338026934855765, 0.21037805067548074, 0.2677538826778846, 0.022950332800961537, 0.1874277178745192, 0.057375832002403836, 0.12048924720504806, 0.6671118078345143, 0.2964941368153397, 0.41812812126696475, 0.5575041616892863, 0.8241639734032467, 0.045786887411291485, 0.12591394038105158, 0.0028314649648237345, 0.0028314649648237345, 0.09343834383918323, 0.7305179609245235, 0.011325859859294938, 0.056629299296474686, 0.019820254753766142, 0.07928101901506457, 0.7702745388236548, 0.14442647602943529, 0.09628431735295685, 0.14596537997659642, 0.5573223599106408, 0.10615663998297921, 0.1393305899776602, 0.046443529992553405, 0.2525645813956653, 0.4329678538211405, 0.05051291627913306, 0.22370005780758925, 0.036080654485095044, 0.4659835278290828, 0.29653497225487085, 0.12708641668065895, 0.12708641668065895, 0.01127390087510535, 0.01127390087510535, 0.12175812945113777, 0.033821702625316044, 0.018038241400168558, 0.10822944840101135, 0.01127390087510535, 0.4915420781545932, 0.15332505190143275, 0.04058604315037925, 0.21415277193112267, 0.5353819298278066, 0.21415277193112267, 0.821370606494768, 0.205342651623692, 0.008498366055327349, 0.3824264724897307, 0.008498366055327349, 0.033993464221309395, 0.016996732110654698, 0.44191503487702216, 0.1019803926639282, 0.011085735080547112, 0.02533882304125054, 0.23596778957164566, 0.08551852776422057, 0.011085735080547112, 0.10135529216500216, 0.14411455604711246, 0.17420440840859747, 0.21062896653039512, 0.0015836764400781588, 0.034436441554658984, 0.9642203635304516, 0.025502877036180267, 0.06800767209648072, 0.04250479506030045, 0.6120690488683265, 0.025502877036180267, 0.22102493431356232, 0.4051986530515014, 0.16207946122060055, 0.3241589224412011, 0.16207946122060055, 0.010138727731974082, 0.005407321457052844, 0.03582350465297509, 0.12166473278368899, 0.02838843764952743, 0.2615791754849313, 0.19060808136111276, 0.12977571496926826, 0.1372107819727159, 0.07975799149152946, 0.800526211741033, 0.22872177478315228, 0.5835985276183203, 0.38906568507888023, 0.0006832500086456839, 0.004099500051874103, 0.020497500259370516, 0.016398000207496412, 0.004782750060519787, 0.17149575217006666, 0.6313230079886119, 0.009565500121039574, 0.09770475123633279, 0.04304475054467809, 1.012458038938949, 1.0039105915386086, 0.038325274538638744, 0.026931274000124523, 0.12222655123133438, 0.00207163646154804, 0.0818296402311476, 0.4671540220790831, 0.009322364076966181, 0.2517038300780869, 0.00103581823077402, 0.11422271240899719, 0.8757074618023117, 0.9528881284592866, 0.029777754014352707, 0.05760970363506244, 0.8065358508908741, 0.05760970363506244, 0.16038714731510917, 0.24058072097266373, 0.561355015602882, 0.39960437118162284, 0.5328058282421638, 0.11915290815193652, 0.03144312854009436, 0.10260389313083423, 0.006619606008440918, 0.1241176126582672, 0.2184469982785503, 0.18203916523212524, 0.13073721866670812, 0.0843999766076217, 0.01917994159697468, 0.11507964958184809, 0.7863776054759619, 0.057539824790924045, 0.01917994159697468, 0.01917994159697468, 1.0169709449997881, 0.8671967411737274, 0.07226639509781062, 0.04335983705868637, 1.0086129008036409, 0.010206090632382373, 0.007144263442667662, 0.031638880960385356, 0.1500295322960209, 0.044906798782482445, 0.3276155092994742, 0.1694211044975474, 0.13063796009449438, 0.02347400845447946, 0.10512273351353844, 0.060867441219947055, 0.002646410487823785, 0.050281799268651915, 0.19054155512331253, 0.03352119951243461, 0.30610147975828444, 0.10938496683004978, 0.06527812536632004, 0.0873315460981849, 0.09438864073238167, 0.06086639292367018, 0.9434290903168878, 0.9391594394590207, 0.06708281710421576, 0.016991280772060777, 0.025486921158091164, 0.39929509814342823, 0.025486921158091164, 0.10194768463236466, 0.1444258865625166, 0.1444258865625166, 0.1444258865625166, 1.0001480651200048, 0.2691186820561929, 0.45301644812792463, 0.04485311367603214, 0.188383077439335, 0.04036780230842893, 0.03870685926833917, 0.023224115561003497, 0.46448231122007, 0.10063783409768183, 0.20127566819536366, 0.13934469336602098, 0.030965487414671332, 0.011569831204146648, 0.046279324816586594, 0.7288993658612388, 0.11569831204146648, 0.09255864963317319, 0.8734233547233563, 0.10917791934041954, 0.9208851621481243, 0.08371683292255676, 0.8262448884314461, 0.14369476320546887, 0.01796184540068361, 0.6227927178189818, 0.022242597064963635, 0.22242597064963635, 0.1334555823897818, 0.550831709963324, 0.07869024428047486, 0.15738048856094972, 0.15738048856094972, 0.7339182040270578, 0.14678364080541154, 0.8072773642632153, 0.0701980316750622, 0.0350990158375311, 0.1052970475125933, 0.01477385205979579, 0.0024623086766326317, 0.16989929868765158, 0.0024623086766326317, 0.15266313795122316, 0.3865824622313232, 0.06402002559244842, 0.03939693882612211, 0.08864311235877474, 0.07879387765224422, 0.10280519985776278, 0.06853679990517518, 0.8224415988621022, 0.10207574521139068, 0.03402524840379689, 0.8506312100949223, 0.040554604463750824, 0.004055460446375082, 0.6630677829823259, 0.004055460446375082, 0.08110920892750165, 0.06691509736518886, 0.09733105071300198, 0.04258233468693837, 0.002027730223187541, 1.0207277503876764, 0.3209545466493525, 0.641909093298705, 0.008338798408761176, 0.058371588861328226, 0.01667759681752235, 0.050032790452567054, 0.3710765291898723, 0.041693992043805875, 0.1334207745401788, 0.07921858488323116, 0.24182515385407408, 0.009052999584337598, 0.015088332640562665, 0.15842749272590798, 0.02112366569678773, 0.0015088332640562664, 0.08751232931526345, 0.17200699210241438, 0.35759348358133514, 0.14635682661345784, 0.028667832017069062, 0.35855043592893937, 0.5975840598815656, 0.11951681197631311, 0.18741945699089527, 0.0749677827963581, 0.03748389139817905, 0.6747100451672229, 0.055502075477177414, 0.0321327805394185, 0.009737206224066213, 0.16455878518671901, 0.049659751742737686, 0.42356847074688025, 0.047712310497924446, 0.09055601788381579, 0.05647579609958404, 0.07205532605808998, 0.15813375127592158, 0.15813375127592158, 0.6325350051036863, 0.14792642463176683, 0.8875585477906011, 0.09401893403405129, 0.07717972196825106, 0.011226141377200153, 0.0014032676721500192, 0.08138952498470112, 0.46307833180950636, 0.012629409049350173, 0.2553947163313035, 0.0014032676721500192, 0.03259193945849425, 0.0015519971170711547, 0.09699981981694716, 0.15830370594125778, 0.09389582558280485, 0.2669435041362386, 0.03181594089995867, 0.16916768576075586, 0.11484778666326544, 0.03336793801702982, 0.014735682831933716, 0.025452543073340054, 0.0522446936768559, 0.048225871086328524, 0.009377252711230546, 0.4219763720053746, 0.006698037650878961, 0.32552462983271757, 0.09377252711230546, 1.0137837753476433, 0.013700396716712679, 0.018267195622283572, 0.004566798905570893, 0.04110119015013804, 0.7078538303634884, 0.027400793433425358, 0.10046957592255965, 0.08220238030027607, 0.0061010146954747595, 0.021353551434161656, 0.033555580825111175, 0.05948489328087891, 0.0015252536738686899, 0.12202029390949519, 0.30962649579534407, 0.20438399229840445, 0.22421229005869742, 0.016777790412555588, 0.10811685597483445, 0.9189932757860928, 0.0035847086387215702, 0.21508251832329423, 0.05018592094210198, 0.010754125916164712, 0.21508251832329423, 0.27243785654283936, 0.028677669109772562, 0.20432839240712952, 0.04588022207672715, 0.2936334212910538, 0.07340835532276345, 0.1468167106455269, 0.06423231090741802, 0.1835208883069086, 0.17434484389156318, 0.009176044415345431, 0.09488023951017745, 0.14232035926526618, 0.07116017963263309, 0.6641616765712421, 0.09401056071893223, 0.00218629210974261, 0.09473932475551308, 0.1843773012549601, 0.11077213356029222, 0.21425662675477575, 0.04591213430459481, 0.1574130319014679, 0.04736966237775654, 0.04882719045091828, 0.1247994979944498, 0.7155171218348455, 0.15807936412630308, 1.0255790451876994, 0.1431757001436005, 0.22654382934114006, 0.04712111650295713, 0.0018123506347291205, 0.005437051904187361, 0.30809960790395047, 0.025372908886207687, 0.23379323188005655, 0.007249402538916482, 0.3678639386082183, 0.6131065643470306, 0.9626774476903149, 0.7646377439940425, 0.2085375665438298, 1.0239883426440268, 0.1666100621631629, 0.2332540870284281, 0.5997962237873865, 0.8177094334751359, 0.20442735836878398, 0.016306585438741646, 0.08153292719370824, 0.7990226864983407, 0.016306585438741646, 0.08696845567328879, 1.0207352592849144, 0.06271847416531465, 0.06271847416531465, 0.04703885562398598, 0.015679618541328662, 0.736942071442447, 0.06271847416531465, 0.015679618541328662, 0.08685044621777463, 0.17370089243554926, 0.694803569742197, 1.0064045869456884, 0.0792211386653513, 0.0792211386653513, 0.8714325253188643, 0.010191117581317544, 0.03566891153461141, 0.01834401164637158, 0.19159301052876984, 0.006114670548790527, 0.25375882777480685, 0.2527397160166751, 0.07133782306922282, 0.1518476519616314, 0.008152894065054036, 0.00696030948575827, 0.024129072883962002, 0.00696030948575827, 0.293725060298999, 0.02180896972204258, 0.1846802116887861, 0.22226588291188076, 0.07609938371095708, 0.1600871181724402, 0.002784123794303308, 0.9038172277562365, 0.0392964012067929, 0.0392964012067929, 1.0067746001004565, 1.012537800405542, 0.8124916987239894, 0.22158864510654258, 0.6331690287663676, 0.25326761150654703, 0.12663380575327352, 1.015839725556479, 0.6717218242675657, 0.013994204672240952, 0.30787250278930095, 0.4828781829811574, 0.2759303902749471, 0.2759303902749471, 0.016716083177879034, 0.020430768328518818, 0.10122517035493415, 0.049219578245977155, 0.015787411890219087, 0.1142265683821734, 0.04364755052001748, 0.4736223567065726, 0.1402293644366519, 0.026002796054478496, 0.08799923889735667, 0.8799923889735667, 0.01833882813737332, 0.5999416633512129, 0.010479330364213325, 0.06811564736738661, 0.002619832591053331, 0.1755287836005732, 0.12051229918845324, 0.002619832591053331, 0.00725369670889214, 0.008160408797503658, 0.13782023746895067, 0.03898861981029526, 0.023121158259593697, 0.18995618256411292, 0.23302500677316001, 0.10381853414601876, 0.23347836281746576, 0.024934582436816732, 1.0102541564443397, 0.0033785086757500576, 0.2533881506812543, 0.0033785086757500576, 0.030406578081750516, 0.010135526027250173, 0.4290706018202573, 0.03716359543325063, 0.0709486821907512, 0.14865438173300252, 0.006757017351500115, 0.017253338358515245, 0.015926158484783303, 0.08493951191884429, 0.02787077734837078, 0.05574155469674156, 0.17784210308008022, 0.11679182888841089, 0.3251590690643258, 0.13139080749946225, 0.04645129558061797, 0.9231591812189882, 0.05769744882618676, 0.027871141882513127, 0.027871141882513127, 0.027871141882513127, 0.055742283765026254, 0.2787114188251313, 0.11148456753005251, 0.47380941200272314, 0.025210225533818714, 0.05042045106763743, 0.8067272170821989, 0.10084090213527486, 0.08644063038828657, 0.03929119563103935, 0.05500767388345509, 0.07661783148052673, 0.2671801302910676, 0.20824333684450855, 0.14341286405329362, 0.056972233665007053, 0.0667950325727669, 0.01620711977092051, 0.024310679656380767, 0.024310679656380767, 0.40517799427301276, 0.3079352756474897, 0.19448543725104614, 0.03241423954184102, 0.9998472255949504, 0.04293574675758063, 0.07513755682576609, 0.20394479709850796, 0.10733936689395156, 0.16100905034092736, 0.4078895941970159, 0.43117277704635576, 0.6467591655695337, 0.10243158786043714, 0.03414386262014572, 0.06828772524029143, 0.7853088402633515, 0.22217983041690212, 0.03702997173615035, 0.018514985868075175, 0.722084448854932, 0.024677422014861467, 0.8637097705201514, 0.024677422014861467, 0.0740322660445844, 0.48499263581754426, 0.1616642119391814, 0.3233284238783628, 0.03910829911705664, 0.7821659823411329, 0.11732489735116992, 0.07821659823411328, 0.4295444052269442, 0.13806784453723206, 0.15340871615248008, 0.015340871615248008, 0.09204522969148805, 0.16874958776772808, 0.31719984002651, 0.63439968005302, 0.022321113840599104, 0.09247318591105344, 0.03826476658388418, 0.009566191645971046, 0.14030414414090867, 0.003188730548657015, 0.5867264209528907, 0.09885064700836746, 0.003188730548657015, 0.0637406801503126, 0.008314001758736428, 0.1274813603006252, 0.0928396863058901, 0.0318703400751563, 0.3491880738669299, 0.1260956933408358, 0.08036868366778546, 0.07759734974820665, 0.04018434183389273, 1.008047061634869, 1.001883878638772, 0.5335478666130333, 0.3112362555242694, 0.04446232221775278, 0.13338696665325833, 0.004618723264654707, 0.03848936053878922, 0.0692808489698206, 0.0939140397146457, 0.11238893277326453, 0.278662970300834, 0.14779914446895062, 0.0939140397146457, 0.14164084678274433, 0.020014467480170394, 1.0111412887076954, 0.014498559744632534, 0.030315170375140754, 0.10412601998417911, 0.030315170375140754, 0.03295127214689212, 0.17925492047909314, 0.06326644252203288, 0.45077340296948426, 0.08040110403841678, 0.014498559744632534, 0.38001790569292254, 0.1036412470071607, 0.03454708233572023, 0.17273541167860115, 0.31092374102148207, 0.14152402417534818, 0.8491441450520891, 0.4716865389621694, 0.17152237780442522, 0.21440297225553154, 0.12864178335331894, 0.9529653342404346, 0.020254461687141942, 0.00977801598689611, 0.03561991538083582, 0.14457495066339246, 0.042604212514333044, 0.20044932773137022, 0.3031184955937794, 0.022349750827191105, 0.12920949696969858, 0.09149429244881359, 0.03219973744037043, 0.13845887099359283, 0.038639684928444516, 0.07083942236881495, 0.003219973744037043, 0.34131721686792654, 0.14811879222570398, 0.0901592648330372, 0.13845887099359283, 0.041380996859270505, 0.018966290227165648, 0.03103574764445288, 0.13103982338768994, 0.10776301265435027, 0.2819080411037803, 0.13707455209633357, 0.043967309162974914, 0.1853523817654825, 0.021552602530870057, 0.40740489398639623, 0.05256837341759952, 0.10513674683519904, 0.19713140031599818, 0.06571046677199939, 0.06571046677199939, 0.10513674683519904, 0.02628418670879976, 0.0027799465330934814, 0.01667967919856089, 0.20015615038273066, 0.011119786132373926, 0.02640949206438807, 0.2126659097816513, 0.3461033433701384, 0.037529278196761995, 0.058378877194963104, 0.08756831579244466, 0.9105070898200964, 0.14007801381847637, 0.8094974538704048, 0.23128498682011567, 0.7570195353451401, 0.0688199577586491, 0.0688199577586491, 0.0917599436781988, 0.9742065818235959, 0.13917236883194228, 0.5890896728651333, 0.09818161214418887, 0.2945448364325666, 0.18958427381554924, 0.758337095262197, 0.01450236688624765, 0.001450236688624765, 0.06526065098811443, 0.13922272210797745, 0.09426538476060974, 0.2581421305752082, 0.030454970461120067, 0.2450900003775853, 0.059459704233615365, 0.08991467469473544, 0.012962476537640221, 0.4796116318926882, 0.12530393986385546, 0.34998686651628597, 0.03024577858782718, 0.6597369741151627, 0.32986848705758137, 0.01166417777023939, 0.05832088885119695, 0.20179027542514144, 0.02449477331750272, 0.019829102209406962, 0.18895967987787812, 0.05482163552012513, 0.2846059375938411, 0.13063879102668116, 0.02449477331750272, 0.9672633277225994, 0.009393760576323917, 0.1100411953226516, 0.09125367417000375, 0.053678631864708094, 0.3234137569848663, 0.19592700630618454, 0.06709828983088512, 0.049652734474854986, 0.09796350315309227, 0.015234813493281969, 0.16758294842610166, 0.7922103016506624, 0.015234813493281969, 0.025120341980944805, 0.05861413128887121, 0.36005823506020884, 0.21770963050152164, 0.10885481525076082, 0.08373447326981602, 0.14234860455868723, 0.5423091662511074, 0.15494547607174497, 0.30989095214348994, 0.7842607828450885, 0.19606519571127212, 0.05333242226300618, 0.06666552782875772, 0.4533255892355525, 0.27999521688078244, 0.013333105565751544, 0.14666416122326698, 0.00317268308331773, 0.017449756958247513, 0.031726830833177296, 0.2490556220404418, 0.06662634474967233, 0.2442965974154652, 0.10945756637446168, 0.11897561562441486, 0.08883512633289643, 0.06979902783299005, 0.6752951791498915, 0.07503279768332127, 0.22509839304996382, 0.14133256753060908, 0.7066628376530454, 0.14133256753060908, 1.0295161899778118, 0.08305002282212784, 0.002175983130710773, 0.03989302406303084, 0.032277083105543135, 0.10843649268042019, 0.30753894914045593, 0.09211661920008939, 0.12838300471193562, 0.134185626393831, 0.07217010716857397, 0.5466907177268762, 0.10933814354537524, 0.32801443063612573, 0.3988416886830587, 0.2511225447263703, 0.14771914395668842, 0.19203488714369493, 0.02597614430931647, 0.004810397094317865, 0.018279508958407888, 0.19818836028589604, 0.08273883002226728, 0.22416450459521253, 0.12699448328999163, 0.20107459854248677, 0.11160121258817447, 0.006734555932045011, 0.4798473045079499, 0.11996182612698747, 0.059980913063493735, 0.059980913063493735, 0.2999045653174687, 0.4911230755405873, 0.4911230755405873, 0.17199418954197856, 0.4299854738549464, 0.34398837908395713, 0.08599709477098928, 0.03071402983338195, 0.9214208950014585, 0.0614280596667639, 0.029468303755544975, 0.2357464300443598, 0.014734151877772488, 0.038308794882208466, 0.1031390631444074, 0.4773865208398286, 0.09724540239329842, 0.20826851095196203, 0.12677213710119428, 0.09356991071754817, 0.01509192108347551, 0.1841214372184012, 0.06942283698398735, 0.08451475806746286, 0.21430527938535224, 0.03989255674497391, 0.0957421361879374, 0.035903301070476526, 0.16355948265439305, 0.09973139186243479, 0.1954735280503722, 0.12366692590941913, 0.25132310749333564, 0.020874634315051516, 0.020874634315051516, 0.8558600069171121, 0.10437317157525758, 0.5092624798166293, 0.12731561995415733, 0.12731561995415733, 0.12731561995415733, 0.12731561995415733, 0.03785600306271916, 0.0016459131766399637, 0.023865741061279474, 0.014813218589759673, 0.15636175178079656, 0.3670386383907119, 0.03456417670943924, 0.15636175178079656, 0.11439096577647748, 0.09381705106847793, 0.08796284752031444, 0.008796284752031444, 0.017592569504062888, 0.07916656276828299, 0.02638885425609433, 0.2638885425609433, 0.035185139008125775, 0.4837956613617294, 0.0034607137258503952, 0.02076428235510237, 0.1375633706025532, 0.02162946078656497, 0.006056249020238191, 0.1289115862879272, 0.033741958827041355, 0.5390061628011991, 0.10814730393282485, 0.0008651784314625988, 1.0135374500096468, 0.008693007889330329, 0.048294488274057384, 0.01642012601317951, 0.050226267805019674, 0.4674906464928755, 0.11204321279581313, 0.1197703309196623, 0.17675782708305002, 0.06792485592207954, 0.9509479829091136, 0.01822042671038114, 0.020244918567090153, 0.1052735765488688, 0.01822042671038114, 0.010122459283545077, 0.129567478829377, 0.5121964397473809, 0.06883272312810652, 0.0647837394146885, 0.05061229641772539, 0.38976986565573485, 0.5846547984836024, 0.07843898653106003, 0.039219493265530016, 0.19609746632765007, 0.23531695959318008, 0.47063391918636016, 0.03472291000760116, 0.002893575833966763, 0.14612557961532152, 0.1490191554492883, 0.09548800252090318, 0.2112310358795737, 0.060765092513302026, 0.1012751541888367, 0.1475723675323049, 0.052084365011401734, 0.003036853266591497, 0.03644223919909797, 0.003036853266591497, 0.08806874473115342, 0.009110559799774492, 0.7470659035815084, 0.1123635708638854, 0.06335520804583648, 0.01583880201145912, 0.918650516664629, 0.0043556544272897926, 0.021778272136448965, 0.0588013347684122, 0.0588013347684122, 0.015244790495514275, 0.0588013347684122, 0.38547541681514663, 0.14591442331420806, 0.20036010365533047, 0.05226785312747751, 0.01649543191344123, 0.03299086382688246, 0.037114721805242765, 0.06873096630600511, 0.004123857978360308, 0.08935025619780665, 0.3945157465964694, 0.024743147870161842, 0.2323106661142973, 0.10172183013288758, 0.5783105083012389, 0.09930584485980869, 0.017524560857613298, 0.14019648686090638, 0.1343549665750353, 0.029207601429355495, 0.14918672170673647, 0.1305383814933944, 0.1305383814933944, 0.18648340213342057, 0.3916151444801832, 0.39917786195583665, 0.06942223686188463, 0.19091115137018275, 0.34711118430942317, 0.01053269779645398, 0.1527241180485827, 0.02633174449113495, 0.04213079118581592, 0.13692507135390175, 0.18958856033617164, 0.3212472827918464, 0.12112602465922077, 0.003606984183649665, 0.00721396836729933, 0.0829606362239423, 0.025248889285547655, 0.5374406433638002, 0.08656762040759196, 0.10820952550948995, 0.06853269948934364, 0.0829606362239423, 0.0014669235566512676, 0.00586769422660507, 0.05134232448279437, 0.00586769422660507, 0.0014669235566512676, 0.22297238061099267, 0.1496262027784293, 0.15109312633508057, 0.16576236190159324, 0.24644315751741297, 1.0276023763619677, 0.12002892537727476, 0.6001446268863738, 0.24005785075454952, 0.12002892537727476, 0.002152322080917613, 0.7985114920204344, 0.01506625456642329, 0.1700334443924914, 0.012913932485505677, 0.9280204647960274, 0.06925525856686772, 0.9729378247939768, 0.8104709436715064, 0.1620941887343013, 0.9454235535453969, 0.0370754334723685, 0.9902671503970137, 0.8050616216273409, 0.13417693693789015, 1.0264597840531389, 0.915738785146475, 0.08200645837132613, 0.06740901300735257, 0.6740901300735257, 0.13481802601470513, 0.026963605202941027, 0.026963605202941027, 0.06740901300735257, 0.8536950968309143, 0.17073901936618285, 0.0201997095026367, 0.15005498487672977, 0.0028856727860909572, 0.08657018358272871, 0.6925614686618297, 0.04905643736354627, 0.06338850613153252, 0.07216537621128317, 0.05071080490522601, 0.17651260938165209, 0.06143809055825459, 0.3169425306576626, 0.25843006345932484, 0.024165010223271045, 0.17721007497065433, 0.01611000681551403, 0.08055003407757015, 0.6444002726205612, 0.04833002044654209, 0.01611000681551403, 0.04858069322967809, 0.6315490119858151, 0.19432277291871236, 0.09716138645935618, 0.6612387606503015, 0.16530969016257538, 0.9917941366982881, 0.9091828046678331, 0.08658883853979363, 0.0018051155613129203, 0.0036102311226258407, 0.021661386735755045, 0.16968086276341451, 0.027076733419693806, 0.3899049612435908, 0.005415346683938761, 0.32131056991369983, 0.023466502297067964, 0.036102311226258406, 0.017471348137378138, 0.005823782712459379, 0.017471348137378138, 0.3179785361002821, 0.029118913562296896, 0.3680630674274328, 0.06522636637954504, 0.09085101031436632, 0.0675558794645288, 0.020965617764853766, 0.09295569920710996, 0.15492616534518328, 0.30985233069036655, 0.46477849603554977, 1.001406848790211, 0.010601121599501075, 0.11661233759451184, 0.0424044863980043, 0.2226235535895226, 0.005300560799750538, 0.2226235535895226, 0.137814580793514, 0.24382579678852476, 0.23771566829090304, 0.7923855609696767, 0.03486282214338865, 0.9064333757281049, 0.0697256442867773, 0.00778403342851355, 0.00778403342851355, 0.03502815042831098, 0.06616428414236518, 0.027244116999797428, 0.14400461842750067, 0.2568731031409472, 0.003892016714256775, 0.44758192213952913, 0.8175950523769817, 0.16351901047539635, 0.014627075583861478, 0.03998067326255471, 0.052657472101901324, 0.11994201978766413, 0.03120442791223782, 0.15017130932764453, 0.04680664186835673, 0.25256083841467486, 0.2535359767869323, 0.039005534890297275, 0.8407778856505075, 0.14012964760841792, 0.6156476748563059, 0.04735751345048507, 0.09471502690097014, 0.23678756725242536, 0.06086572470787775, 0.05256585315680352, 0.011066495401432319, 0.004149935775537119, 0.30294531161420973, 0.034582798129476, 0.13003132096682973, 0.28772888043724026, 0.1148148897898603, 0.12257531020720253, 0.06128765510360126, 0.06469252483157911, 0.07831200374349051, 0.33027236361385126, 0.010214609183933543, 0.010214609183933543, 0.06128765510360126, 0.18045809558282594, 0.07490713401551266, 0.46112624980596395, 0.003975226291430723, 0.45715102351453324, 0.07155407324575302, 0.007950452582861447, 0.06884918465954049, 0.06884918465954049, 0.06884918465954049, 0.06884918465954049, 0.20654755397862146, 0.5507934772763239, 0.016576889688812244, 0.0021622030028885537, 0.03603671671480923, 0.07351490209821082, 0.14630906986212547, 0.35676349547661135, 0.024504967366070277, 0.22270690929752104, 0.049009934732140555, 0.07351490209821082, 0.37232887434427614, 0.05235874795466383, 0.03490583196977588, 0.20943499181865532, 0.06399402527792246, 0.09308221858606903, 0.1221704118942156, 0.05235874795466383, 1.0241063093314033, 0.046500232370234755, 0.0744003717923756, 0.013950069711070425, 0.16275081329582164, 0.046500232370234755, 0.1488007435847512, 0.49755248636151184, 0.004650023237023475, 0.9873081605986123, 0.4723171546842601, 0.3148781031228401, 0.2099187354152267, 0.061444490873596505, 0.00635632664209619, 0.03601918430521175, 0.13983918612611618, 0.37502327188367524, 0.05296938868413492, 0.3284102098416365, 0.02967735846845169, 0.02967735846845169, 0.037096698085564615, 0.037096698085564615, 0.20774150927916185, 0.02225801885133877, 0.6232245278374855, 0.014838679234225846, 0.9686715761834426, 0.015558706030903507, 0.02489392964944561, 0.006223482412361403, 0.0031117412061807013, 0.3796324271540456, 0.5601134171125263, 0.0031117412061807013, 0.010243241659219896, 0.4240702046917037, 0.10448106492404294, 0.08809187826929112, 0.06760539495085131, 0.2253513165028377, 0.07579998827822723, 0.006145944995531938, 0.0742101016756032, 0.0397938226376423, 0.010755087199362783, 0.011830595919299062, 0.12583452023254457, 0.14626918591133387, 0.1731569039097408, 0.1828364823891673, 0.23446090094610866, 0.2965128012106408, 0.15814016064567507, 0.059302560242128155, 0.4546529618563158, 0.07640798566020465, 0.11461197849030698, 0.38203992830102323, 0.22922395698061396, 0.07640798566020465, 0.06685698745267907, 0.05730598924515349, 0.06443112732141226, 0.0021124959777512214, 0.10773729486531229, 0.252443269341271, 0.34961808431782715, 0.005281239944378054, 0.08133109514342203, 0.12252476670957085, 0.01373122385538294, 0.029127047456743407, 0.0058254094913486815, 0.11456638666319073, 0.02135983480161183, 0.38059342010144714, 0.08738114237023022, 0.0932065518615789, 0.08155573287888154, 0.1844713005593749, 0.08728711793526475, 0.08728711793526475, 0.7855840614173827, 0.7021467108490581, 0.119878706730327, 0.017125529532903857, 0.13700423626323086, 0.025688294299355784, 0.010073651623765145, 0.03525778068317801, 0.09569969042576888, 0.015110477435647718, 0.13851270982677075, 0.04784984521288444, 0.18636255503965518, 0.47346162631696187, 0.4932614978477725, 0.4932614978477725, 0.40829450397789063, 0.2721963359852604, 0.20414725198894532, 0.0680490839963151, 0.8151050033248011, 0.028107069080165553, 0.14053534540082777, 0.0021874117382163234, 0.0010937058691081617, 0.7852808140196601, 0.0010937058691081617, 0.05249788171719176, 0.041560823026110146, 0.09624611648151822, 0.017499293905730587, 0.7413286864400884, 0.22239860593202654, 0.07413286864400885, 1.0300787318459097, 0.45996827428252374, 0.11499206857063093, 0.28748017142657734, 0.11499206857063093, 0.05749603428531547, 0.15999348034745778, 0.8304423503748999, 0.007618737159402751, 0.015795195715262653, 0.031590391430525305, 0.35802443621262015, 0.35275937097419924, 0.11583143524525945, 0.057915717622629724, 0.04738558714578796, 0.026325326192104422, 0.027821466452734322, 0.44514346324374915, 0.41732199679101484, 0.00927382215091144, 0.046369110754557206, 0.03709528860364576, 0.00927382215091144, 0.13914783198550074, 0.6261652439347534, 0.2782956639710015, 0.9757735421998242, 0.7074415072765016, 0.16325573244842345, 0.05441857748280782, 0.05441857748280782, 0.15714364984549853, 0.4714309495364956, 0.31428729969099706, 0.011645813455667125, 0.012477657273929061, 0.06987488073400275, 0.11396260310188543, 0.01663687636523875, 0.2062972669289605, 0.06322013018790724, 0.2761721476629632, 0.17801457710805463, 0.051574316732240125, 0.0367889780097722, 0.00968131000257163, 0.050988232680210584, 0.05550617734807734, 0.007099627335219195, 0.23557854339590967, 0.2594591080689197, 0.10584898936144982, 0.1342474987023266, 0.1045581480277736, 0.20053628100152954, 0.20053628100152954, 0.6016088430045886, 0.05423068665236501, 0.010846137330473002, 0.04157685976681317, 0.032538411991419006, 0.005423068665236501, 0.2530765377110367, 0.1771535763977257, 0.10303830463949351, 0.16630743906725268, 0.1554613017367797, 1.0098250954766501, 0.8666632906185507, 0.13448223475115442, 0.06953204170947622, 0.2002522801232915, 0.01946897167865334, 0.008343845005137145, 0.13350152008219432, 0.011125126673516193, 0.3671291802260344, 0.19051779428396481, 0.049239892988569595, 0.7878382878171135, 0.07385983948285439, 0.09847978597713919, 1.0077012484839705, 0.8569250451249493, 0.011657738386254043, 0.01360069478396305, 0.03691617155647114, 0.08743303789690533, 0.6334037856531364, 0.07577529951065129, 0.10103373268086838, 0.038859127954180145, 1.0279852434655221, 0.04627619400504117, 0.8792476860957822, 0.04627619400504117, 0.008449502814564674, 0.008449502814564674, 0.07604552533108207, 0.01267425422184701, 0.02534850844369402, 0.38445237806269267, 0.05492176829467038, 0.06759602251651739, 0.11829303940390544, 0.2408108302150932, 0.060375490942198164, 0.008992094395646535, 0.12845849136637907, 0.034683792668922346, 0.0064229245683189535, 0.12845849136637907, 0.1258893215390515, 0.362252945653189, 0.11561264222974116, 0.030830037927930976, 0.0035269933532824597, 0.0176349667664123, 0.07759385377221412, 0.6454397836506901, 0.1058098005984738, 0.056431893652519355, 0.09522882053862641, 0.00991018640729495, 0.009513778951003152, 0.009513778951003152, 0.18868994919489582, 0.010306593863586747, 0.16213064962334536, 0.28422414616121916, 0.09355215968486431, 0.1767977255061419, 0.055497043880851714, 0.020769760625323774, 0.010384880312661887, 0.008901325982281617, 0.132036335403844, 0.03708885825950674, 0.1557732046899283, 0.4287472014798979, 0.08011193384053455, 0.060825727545591055, 0.0637928362063516, 0.018660079373147315, 0.01685426524026209, 0.11978567081471986, 0.01805814132885224, 0.01805814132885224, 0.14867869694088343, 0.3419008091596024, 0.1071449718845233, 0.16432908609255537, 0.04634922941072075, 1.0168168052623268, 0.0606037493537286, 0.021051828722874144, 0.033810512797343324, 0.22455283971065756, 0.06124168355745206, 0.2111562214324649, 0.15182834048618324, 0.05358647311277055, 0.1212074987074572, 0.0606037493537286, 0.08813145925513018, 0.030846010739295562, 0.028642724257917307, 0.09033474573650843, 0.13880704832683002, 0.11677418351304748, 0.3150699668370904, 0.057285448515834614, 0.129993902401317, 0.006609859444134764, 0.2682493273530173, 0.04733811659170894, 0.2840286995502536, 0.3944843049309078, 1.0051886532434315, 0.003272029751354507, 0.05017112285410244, 0.1472413388109528, 0.04362706335139343, 0.011997442421633192, 0.238858171848879, 0.13851592614067412, 0.12324645396768642, 0.17559892998935853, 0.06871262477844464, 0.7983268926716376, 0.2394980678014913, 0.017181570645320405, 0.030926827161576728, 0.04810839780689713, 0.06872628258128162, 0.006872628258128162, 0.09278048148473018, 0.1649430781950759, 0.08934416735566611, 0.3883034965842411, 0.09278048148473018, 0.11734878494410726, 0.7040927096646437, 0.15646504659214303, 0.039116261648035756, 0.8403076828340242, 0.14005128047233736, 0.855315688654281, 0.17106313773085619, 0.5470125877639387, 0.10940251755278774, 0.21880503510557547, 0.02525763568437183, 0.06779681157384017, 0.21934262568007115, 0.003988047739637657, 0.011964143218912971, 0.08906639951857434, 0.007976095479275315, 0.3894993292379445, 0.18743824376296989, 0.4922175790177548, 0.2953305474106529, 0.2953305474106529, 0.6572002468760466, 0.1877714991074419, 0.1877714991074419, 0.2071165885586861, 0.04602590856859691, 0.18410363427438764, 0.09205181713719382, 0.46025908568596907, 1.013053072466172, 0.7968138179435471, 0.18388011183312628, 1.001637504987267, 0.008259614048755564, 0.008259614048755564, 0.2808268776576892, 0.1651922809751113, 0.5368749131691117, 0.12160531471879792, 0.8512372030315855, 0.04110668803781824, 0.04110668803781824, 0.08221337607563647, 0.8221337607563647, 0.05410600580972527, 0.16231801742917581, 0.7484664137011996, 0.018035335269908425, 0.018035335269908425, 0.6376815319723025, 0.31884076598615124, 0.0019166724781428698, 0.0019166724781428698, 0.28750087172143046, 0.0019166724781428698, 0.013416707347000088, 0.39483453049743117, 0.06900020921314332, 0.02108339725957157, 0.04216679451914314, 0.16866717807657255, 0.8456803742064275, 0.09396448602293639, 0.09396448602293639, 0.021550801351396403, 0.026938501689245505, 0.018856951182471854, 0.0323262020270946, 0.5980347375012501, 0.0026938501689245504, 0.24783421554105864, 0.035020052196019155, 0.0161631010135473, 0.12817296946532958, 0.0029130220333029454, 0.0029130220333029454, 0.06991252879927069, 0.08156461693248247, 0.5534741863275596, 0.017478132199817673, 0.058260440666058906, 0.023304176266423563, 0.06408648473266479, 0.8083379692465767, 0.12435968757639641, 0.06217984378819821, 0.3325679389521976, 0.3533534351367099, 0.0831419847380494, 0.22864045802963584, 0.48437397313830854, 0.48437397313830854, 0.0687016239355954, 0.8931211111627401, 0.000625355248508139, 0.040648091153029045, 0.09317793202771273, 0.06753836683887902, 0.0018760657455244173, 0.0431495121470616, 0.404604845784766, 0.010005683976130225, 0.33268899220633, 0.006253552485081391, 1.0120070015280227, 0.1014881215069822, 0.1014881215069822, 0.12819552190355646, 0.11751256174492676, 0.24837882368814065, 0.07478072111040794, 0.181610322696705, 0.048073320713833675, 0.06687020924704826, 0.022290069749016088, 0.007430023249672029, 0.022290069749016088, 0.6612720692208106, 0.08916027899606435, 0.09659030224573638, 0.044580139498032176, 0.2336383396083193, 0.09797736822284357, 0.007536720632526429, 0.1507344126505286, 0.007536720632526429, 0.2336383396083193, 0.24871178087337215, 0.015073441265052858, 0.002522578730111463, 0.22955466444014314, 0.002522578730111463, 0.2118966133293629, 0.17658051110780243, 0.08072251936356682, 0.2850513965025953, 0.012612893650557315, 0.0063015088355908916, 0.0063015088355908916, 0.029407041232757496, 0.1281306796570148, 0.22895482102646908, 0.3738895242450596, 0.037809053013545355, 0.1344321884926057, 0.054613076575121065, 0.0016225262168859905, 0.030827998120833817, 0.10870925653136136, 0.025960419470175848, 0.03569557677149179, 0.11033178274824736, 0.024337893253289857, 0.4640424980293933, 0.19145809359254687, 0.004867578650657971, 0.09435505526426358, 0.039838801111577955, 0.045080748626259264, 0.017822621549916453, 0.49169467687710683, 0.031451685088087857, 0.2746780497693006, 0.004193558011745048, 0.11511177358263085, 0.8633383018697314, 0.04217399204386104, 0.09776698155622333, 0.02300399566028784, 0.11885397757815384, 0.038339992767146405, 0.27988194720016873, 0.08434798408772208, 0.12460497649322581, 0.13035597540829777, 0.06134398842743424, 0.17004717927380203, 0.8218946998233765, 0.8700791926877908, 0.10875989908597385, 0.9627994314907312, 1.013039085847113, 0.019509367844849742, 0.14046744848291814, 0.2575236555520166, 0.17168243703467773, 0.4096967247418446, 0.10146830532492662, 0.8929210868593543, 0.27452636063859087, 0.5490527212771817, 0.13726318031929544, 0.06863159015964772, 0.8602874148899385, 0.1720574829779877, 0.8540283461894199, 0.17080566923788398, 0.05422946566322871, 0.00439698370242395, 0.04250417579009818, 0.2770099732527088, 0.14656612341413167, 0.26968166708200225, 0.203726911545643, 0.0014656612341413166, 0.013317509656705135, 0.9055906566559492, 0.013317509656705135, 0.039952528970115406, 0.02663501931341027, 0.8386344049456977, 0.13977240082428297, 0.8769872636654231, 0.0730822719721186, 0.45085716802925696, 0.09017143360585139, 0.36068573442340557, 0.18034286721170278, 1.0125863559608934, 0.5543353578945245, 0.2375722962405105, 0.15838153082700698, 0.011218356133827696, 0.002804589033456924, 0.008413767100370772, 0.019632123234198467, 0.17388452007432928, 0.6394462996281787, 0.025241301301112316, 0.03645965743494001, 0.033655068401483086, 0.05048260260222463, 0.0012464776378999683, 0.0074788658273998105, 0.03490137386119911, 0.026176030395899337, 0.3502602162498911, 0.052352060791798674, 0.5222741302800867, 0.004985910551599873, 0.13634353218740095, 0.8521470761712558, 0.9705430892916225, 0.5535167658974822, 0.2767583829487411, 0.13837919147437056, 0.001710219094617642, 0.006840876378470568, 0.03933503917620577, 0.25995330238188163, 0.01539197185155878, 0.19325475769179357, 0.09577226929858797, 0.10090292658244089, 0.14023796575864667, 0.14707884213711722, 0.014889064820924988, 0.026342191606251904, 0.05726563392663457, 0.11109532981767108, 0.027487504284784595, 0.1580531496375114, 0.16492502570870757, 0.18210471588669794, 0.2027203441002864, 0.05497500856956919, 0.9133406461846018, 0.07524346805587886, 0.018810867013969716, 0.7524346805587887, 0.1128652020838183, 0.03762173402793943, 0.792929923502216, 0.15858598470044322, 0.06707592392554855, 0.005832689037004222, 0.13123550333259498, 0.14581722592510554, 0.20122777177664566, 0.017498067111012667, 0.11082109170308022, 0.020414411629514777, 0.13998453688810134, 0.15748260399911398, 0.8066765408620743, 0.17926145352490538, 0.8591859533450787, 0.0613704252389342, 0.0613704252389342, 0.06992412949263609, 0.08879254538747439, 0.025527856798898886, 0.007769347721404009, 0.23308043164212028, 0.21199220211259512, 0.11654021582106014, 0.13207891126386814, 0.11432040218637328, 0.008883569409785354, 0.01554624646712437, 0.08217301704051452, 0.044417847048926776, 0.48415453283330184, 0.035534277639141416, 0.11548640232720961, 0.1088237252698706, 0.10438194056497792, 0.06371468781592757, 0.9557203172389135, 0.004524973900467189, 0.036199791203737515, 0.027149843402803138, 0.23982361672476105, 0.3891477554401783, 0.06787460850700784, 0.058824660706073464, 0.02262486950233595, 0.14479916481495006, 1.0047839478368168, 0.48426907195714614, 0.48426907195714614, 0.5556927064881693, 0.42097932309709796, 0.016839172923883917, 1.0170047683384877, 0.9899420598678147, 0.6358255605533601, 0.2312092947466764, 0.1734069710600073, 0.030686603021786756, 0.12274641208714702, 0.026302802590102932, 0.6224996612991027, 0.197271019425772, 0.19417778326868634, 0.825255578891917, 0.07059278046122605, 0.10588917069183909, 0.017648195115306513, 0.7059278046122606, 0.017648195115306513, 0.07059278046122605, 0.035296390230613026, 1.013368505424484, 0.014517916245675251, 0.05081270685986338, 0.08166327888192329, 0.02540635342993169, 0.14699390198746193, 0.06351588357482922, 0.29580254350563323, 0.31576467834343674, 0.003629479061418813, 0.04456650198265207, 0.08525765596681266, 0.16857763793437958, 0.2170194879155231, 0.2673990118959124, 0.0019376739992457421, 0.10075904796077859, 0.06200556797586375, 0.05425487197888078, 0.9707237523499614, 0.018252323071390124, 0.3725621238689631, 0.025767985512550762, 0.06227263165533101, 0.08911428323090471, 0.21902787685668149, 0.18037589858785533, 0.031136315827665503, 0.02095587635829079, 0.00916819590675222, 0.22003670176205328, 0.06679685589205189, 0.007858453634359046, 0.23837309357555775, 0.16764701086632633, 0.12180603133256522, 0.10346963951906078, 0.04453123726136793, 0.0034015852599322918, 0.013606341039729167, 0.09184280201817188, 0.06803170519864583, 0.2925363323541771, 0.25511889449492187, 0.05782694941884896, 0.013606341039729167, 0.20409511559593752, 0.0068087385894154496, 0.0068087385894154496, 0.07830049377827768, 0.025532769710307938, 0.0068087385894154496, 0.14979224896713988, 0.12936603319889353, 0.4119286846596347, 0.15149443361449375, 0.03404369294707725, 0.20941971530858597, 0.09162112544750636, 0.1177985898610796, 0.13743168817125956, 0.15052042037804617, 0.30104084075609233, 0.13440490277559008, 0.06720245138779504, 0.013440490277559008, 0.09408343194291306, 0.25536931527362117, 0.43009568888188826, 0.16015069555166467, 0.8007534777583233, 1.006507398493248, 0.1783805206120651, 0.08919026030603255, 0.8027123427542929, 1.0071416061066005, 1.0146712717883353, 0.005039250605073717, 0.021836752621986106, 0.15789651895897647, 0.057111506857502124, 0.4736895568769294, 0.07054950847103203, 0.05039250605073717, 0.04535325544566345, 0.11926226432007797, 0.17212180095844634, 0.15060657583864054, 0.15060657583864054, 0.11833373815893186, 0.043030450239611585, 0.37651643959660136, 0.017227081550428028, 0.0062643932910647375, 0.03758635974638842, 0.48862267670304954, 0.05168124465128408, 0.11745737420746383, 0.0407185563919208, 0.16444032389044935, 0.07517271949277685, 0.13657306632465, 0.2731461326493, 0.5462922652986, 0.5117929050585501, 0.08529881750975835, 0.1705976350195167, 0.0568658783398389, 0.19903057418943615, 0.021101806914357726, 0.010550903457178863, 0.052754517285894316, 0.8018686627455935, 0.021101806914357726, 0.0844072276574309, 0.010550903457178863, 0.018142138859442644, 0.010078966033023691, 0.038972001994358275, 0.24928642655011932, 0.06248958940474689, 0.2681004964784302, 0.06517731368021987, 0.1471529040821459, 0.07324048650663882, 0.06652117581795637, 0.0032318631543039105, 0.006463726308607821, 0.14543384194367598, 0.06463726308607821, 0.012927452617215642, 0.6657638097866055, 0.10341962093772514, 0.38792685711686664, 0.2770906122263333, 0.055418122445266664, 0.055418122445266664, 0.22167248978106666, 0.055418122445266664, 0.003396771912319821, 0.016983859561599104, 0.023777403386238745, 0.016983859561599104, 0.5163093306726128, 0.18682245517759014, 0.02717417529855857, 0.057745122509436954, 0.15285473605439193, 0.008184523300721926, 0.7120535271628076, 0.01636904660144385, 0.04092261650360963, 0.20461308251804813, 0.01636904660144385, 0.7696907175832987, 0.21991163359522817, 0.05066387461432825, 0.0026665197165435923, 0.0026665197165435923, 0.7492920403487494, 0.007999559149630776, 0.17332378157533349, 0.013332598582717962, 0.4880748309273402, 0.05423053676970447, 0.08134580515455671, 0.32538322061822683, 0.027115268384852235, 0.8506304979118621, 0.06075932127941872, 0.06075932127941872, 0.9771641028971626, 0.5590328856800031, 0.010961429130980452, 0.11509500587529475, 0.30143930110196243, 0.010961429130980452, 0.005480714565490226, 0.9291075240745372, 0.051617084670807625, 0.014484418149282951, 0.13035976334354657, 0.09656278766188633, 0.5866189350459595, 0.1689848784083011, 0.011377936260796305, 0.005688968130398152, 0.001422242032599538, 0.3669384444106808, 0.07822331179297459, 0.14791317139035196, 0.06542313349957875, 0.1905804323683381, 0.12800178293395842, 0.004266726097798614, 0.00596524177269484, 0.009544386836311744, 0.26247063799857295, 0.009544386836311744, 0.1455518992537541, 0.07158290127233809, 0.35194926458899556, 0.07277594962687706, 0.07038985291779912, 0.791235366565638, 0.1582470733131276, 0.6179769039017755, 0.08828241484311079, 0.17656482968622159, 0.08828241484311079, 0.43396468936436905, 0.01808186205684871, 0.03616372411369742, 0.23506420673903325, 0.07232744822739484, 0.14465489645478968, 0.05424558617054613, 0.02147716109823238, 0.019090809865095447, 0.13124931782253121, 0.04653384904617015, 0.011931756165684655, 0.17539681563556442, 0.053692902745580945, 0.42715687073151065, 0.10857898110773036, 0.004772702466273862, 1.0255662595622068, 1.0059456249642043, 0.7300266315112636, 0.04866844210075091, 0.1460053263022527, 0.04866844210075091, 1.007542061514433, 0.002446523251797214, 0.007339569755391642, 0.06360960454672757, 0.009786093007188856, 0.5993981966903175, 0.30336888322285455, 0.009786093007188856, 1.0095861825863721, 0.9679559434604761, 0.04188986454336774, 0.009308858787415053, 0.9052865170761139, 0.0023272146968537633, 0.0046544293937075265, 0.03723543514966021, 0.7577927826623533, 0.23316701004995485, 0.12783660145296927, 0.02255940025640634, 0.08271780094015659, 0.04887870055554708, 0.1992747022649227, 0.30831180350422, 0.18799500213671952, 0.018799500213671952, 0.021727793505054518, 0.0021727793505054516, 0.004345558701010903, 0.33895357867885045, 0.02390057285555997, 0.22814183180307243, 0.021727793505054518, 0.14557621648386526, 0.14340343713335982, 0.06952893921617445, 0.8182920082963278, 0.07439018257239342, 0.07439018257239342, 0.07439018257239342, 0.04114848410559817, 0.013716161368532723, 0.28803938873918716, 0.06858080684266361, 0.20574242052799085, 0.38405251831891624, 0.041754072874813336, 0.07306962753092333, 0.010438518218703334, 0.21920888259277, 0.041754072874813336, 0.08350814574962667, 0.12526221862444, 0.40710221052943, 0.011400350659296923, 0.18810578587839924, 0.005700175329648461, 0.0826525422799027, 0.23370718851558692, 0.09405289293919962, 0.12682890108467826, 0.25508284600176867, 0.7504989049588192, 0.1876247262397048, 1.0255559349198342, 0.848192171647751, 0.1696384343295502, 0.9671038587118895, 0.050512416975509115, 0.06734988930067883, 0.6229864760312791, 0.016837472325169706, 0.2441433487149607, 0.8803751205405183, 0.14672918675675303, 0.7136255812534511, 0.15858346250076694, 0.9376517096777157, 0.07212705459059351, 0.4863581454398793, 0.4863581454398793, 0.09758781652745309, 0.8782903487470778, 0.7160905431596267, 0.15913123181325037, 0.07956561590662518, 0.25317148700313263, 0.10548811958463859, 0.02109762391692772, 0.16878099133542177, 0.4430501022554821, 0.33120949921029597, 0.049681424881544395, 0.049681424881544395, 0.14904427464463318, 0.0331209499210296, 0.0662418998420592, 0.24840712440772197, 0.049681424881544395, 0.17099039654320766, 0.07599573179698119, 0.018998932949245297, 0.7409583850205665, 0.4954255313058693, 0.014155015180167695, 0.15570516698184464, 0.014155015180167695, 0.16986018216201235, 0.14155015180167696, 0.6587898703725684, 0.06587898703725684, 0.02195966234575228, 0.03293949351862842, 0.07685881821013298, 0.1097983117287614, 0.03293949351862842, 0.13315044089624298, 0.017596974567785417, 0.05220435788443007, 0.005279092370335625, 0.12024599287986702, 0.217615918821613, 0.13139074343946444, 0.22524127446765335, 0.0967833601228198, 0.3127003916021747, 0.0017469295620233223, 0.024457013868326515, 0.31619425072622137, 0.14499515364793575, 0.16595830839221562, 0.03493859124046645, 0.972881298406944, 0.003749902966941716, 0.10499728307436806, 0.007499805933883432, 0.5737351539420826, 0.014999611867766865, 0.20999456614873613, 0.056248544504125746, 0.03374912670247545, 0.9317270620103647, 0.06538435522879753, 0.02960111980110982, 0.04228731400158546, 0.02114365700079273, 0.69774068102616, 0.054973508202061094, 0.10994701640412219, 0.04228731400158546, 1.0052562024096912, 0.7952865320893233, 0.19279673505195716, 0.16969940059830974, 0.7030403739072832, 0.03636415727106637, 0.012121385757022124, 0.06060692878511062, 0.012121385757022124, 0.011153944132193666, 0.0018589906886989443, 0.007435962754795777, 0.02602586964178522, 0.035320823085279944, 0.234232826776067, 0.0018589906886989443, 0.17474512473770076, 0.3364773146545089, 0.1710271433603029, 0.7878489998073442, 0.19696224995183606, 0.10240383808221011, 0.8704326236987859, 0.010066464197752704, 0.020132928395505408, 0.06039878518651622, 0.14093049876853786, 0.7348518864359475, 0.03019939259325811, 0.18312376555784912, 0.12208251037189942, 0.18312376555784912, 0.4883300414875977, 0.03235639506495437, 0.017648942762702385, 0.017648942762702385, 0.02353192368360318, 0.07647875197171033, 0.4941703973556668, 0.17060644670612304, 0.15295750394342067, 0.017648942762702385, 0.8000682936196887, 0.047062840801158155, 0.14118852240347446, 0.9307410509197446, 0.10341567232441606, 0.8193425834012306, 0.08193425834012305, 0.08193425834012305, 1.0027589286360028, 0.9036548719751998, 0.12909355313931425, 0.013312101455962646, 0.0038034575588464705, 0.1083985404271244, 0.36323019686983793, 0.01901728779423235, 0.13882620089789616, 0.011410372676539412, 0.22820745353078822, 0.1026933540888547, 0.009508643897116175, 1.0311967206160761, 1.0306816619398342, 0.11926179996789894, 0.43037953901459186, 0.08815002606322965, 0.3526001042529186, 0.01037059130155643, 0.01672561088352491, 0.10035366530114946, 0.01672561088352491, 0.1338048870681993, 0.735926878875096, 0.21408379772086727, 0.7492932920230355, 0.6650772053017667, 0.0054514525024734976, 0.18534938508409893, 0.10357759754699646, 0.02180581000989399, 0.02180581000989399, 0.19482478299301798, 0.12764382334025318, 0.006718095965276482, 0.12092572737497669, 0.006718095965276482, 0.17467049509718854, 0.3493409901943771, 0.013436191930552965, 0.1781614597492334, 0.6617425647828669, 0.15270982264220004, 0.315888743103015, 0.5133192075423993, 0.013162030962625625, 0.13162030962625623, 0.02632406192525125, 0.008273365529868086, 0.0016546731059736174, 0.1141724443121796, 0.31935190945290814, 0.23827292726020088, 0.0016546731059736174, 0.2482009658960426, 0.033093462119472346, 0.033093462119472346, 0.19944235593503404, 0.7977694237401362, 0.007463952124926631, 0.3134859892469185, 0.20525868343548234, 0.47396095993284104], \"Term\": [\"able\", \"able\", \"able\", \"able\", \"able\", \"able\", \"able\", \"able\", \"able\", \"able\", \"able_bodied\", \"accept\", \"accept\", \"accept\", \"accept\", \"accept\", \"accept\", \"accept\", \"access\", \"access\", \"access\", \"access\", \"access\", \"access\", \"access\", \"access\", \"access\", \"achieve\", \"achieve\", \"achieve\", \"achieve\", \"achieve\", \"achieve\", \"achieve\", \"achieve\", \"achieve\", \"achieve\", \"activate\", \"active\", \"active\", \"active\", \"active\", \"active\", \"active\", \"active\", \"active\", \"active\", \"activity\", \"activity\", \"activity\", \"activity\", \"activity\", \"activity\", \"activity\", \"activity\", \"activity\", \"activity\", \"adam_price\", \"adequate\", \"adequate\", \"adequate\", \"adequate\", \"adequate\", \"adequate\", \"adequate\", \"adequate\", \"adequate\", \"adjourn\", \"adult\", \"adult\", \"adult\", \"adult\", \"adult\", \"adult\", \"advertising\", \"advertising\", \"advertising\", \"advertising\", \"advertising\", \"advisor\", \"advisor\", \"age\", \"age\", \"age\", \"age\", \"age\", \"age\", \"alternate\", \"alternate\", \"alternate\", \"am_sorry\", \"am_sorry\", \"am_sorry\", \"am_sorry\", \"amateur_swimming_association\", \"amateur_swimming_association\", \"ambush_markete\", \"ambush_markete\", \"ambush_markete\", \"anecdotal\", \"answer\", \"answer\", \"answer\", \"answer\", \"answer\", \"answer\", \"anticipated_final_cost\", \"anticipated_final_cost\", \"anxious\", \"anxious\", \"anxious\", \"apology\", \"appeal\", \"appeal\", \"appeal\", \"appendix_memorandum_submitte\", \"appendix_memorandum_submitte\", \"appendix_memorandum_submitte\", \"appraise\", \"appraise\", \"appraise\", \"appraise\", \"appropriateness\", \"area\", \"area\", \"area\", \"area\", \"area\", \"area\", \"area\", \"area\", \"area\", \"area\", \"aren\", \"arena\", \"arena\", \"arena\", \"arena\", \"arena\", \"arena\", \"arena\", \"arena\", \"arena\", \"arise\", \"arise\", \"arise\", \"arise\", \"arise\", \"arise\", \"arise\", \"arise\", \"arrangement\", \"arrangement\", \"arrangement\", \"arrangement\", \"arrangement\", \"arrangement\", \"arrangement\", \"arrangement\", \"art\", \"art\", \"art\", \"art\", \"art\", \"art\", \"art\", \"art\", \"article\", \"article\", \"article\", \"artist\", \"artist\", \"artist\", \"artist\", \"arup\", \"arup\", \"arup\", \"arup\", \"athen\", \"athen\", \"athlete\", \"athlete\", \"athlete\", \"athlete\", \"athlete\", \"athlete\", \"athlete\", \"athlete\", \"athlete\", \"athletic\", \"athletic\", \"athletic\", \"athletic\", \"athletic\", \"athletic\", \"athletic\", \"athletic\", \"athletic\", \"attainment\", \"auditor_general\", \"authorise\", \"authorise\", \"authority\", \"authority\", \"authority\", \"authority\", \"authority\", \"authority\", \"authority\", \"authority\", \"authority\", \"authority\", \"barrier\", \"barrier\", \"barrier\", \"barrier\", \"barrier\", \"baseline\", \"baseline\", \"baseline\", \"baseline\", \"baseline\", \"beg\", \"benefit\", \"benefit\", \"benefit\", \"benefit\", \"benefit\", \"benefit\", \"benefit\", \"benefit\", \"benefit\", \"benefit\", \"bene\\ufb01t\", \"bene\\ufb01t\", \"bene\\ufb01t\", \"bene\\ufb01ts\", \"bene\\ufb01ts\", \"bene\\ufb01ts\", \"bid\", \"bid\", \"bid\", \"bid\", \"bid\", \"bid\", \"bid\", \"bid\", \"bid\", \"bid\", \"bidding\", \"bidding\", \"bidding\", \"bidding\", \"bidding\", \"bidding\", \"bidding\", \"big\", \"big\", \"big\", \"big\", \"big\", \"big\", \"big\", \"big\", \"big\", \"big\", \"bmx\", \"bmx\", \"bmx\", \"bmx\", \"boa\", \"boa\", \"boa\", \"boa\", \"boa\", \"boa\", \"boa\", \"boa\", \"bombing\", \"bonus\", \"borough\", \"borough\", \"borough\", \"borough\", \"borough\", \"borough\", \"borough\", \"borough\", \"borough\", \"borough\", \"bracket\", \"briefing\", \"briefing\", \"briefing\", \"briefing\", \"british\", \"british\", \"british\", \"british\", \"british\", \"british\", \"british\", \"british\", \"british\", \"bronze\", \"bryant\", \"bryant\", \"budget\", \"budget\", \"budget\", \"budget\", \"budget\", \"budget\", \"budget\", \"budget\", \"budget\", \"build\", \"build\", \"build\", \"build\", \"build\", \"build\", \"build\", \"build\", \"build\", \"build\", \"business\", \"business\", \"business\", \"business\", \"business\", \"business\", \"business\", \"business\", \"business\", \"business\", \"camelot\", \"camelot\", \"camelot\", \"camelot\", \"camelot\", \"candidate_file\", \"candidate_file\", \"candidate_file\", \"canoe\", \"canoe\", \"canoe\", \"canoe\", \"canoe\", \"canoe\", \"canoeing\", \"canoeing\", \"carbon\", \"carbon\", \"carbon\", \"carbon\", \"carnival\", \"cashflow\", \"cashflow\", \"cashflow\", \"casual\", \"casual\", \"ccpr\", \"centenary\", \"centre\", \"centre\", \"centre\", \"centre\", \"centre\", \"centre\", \"centre\", \"centre\", \"centre\", \"centrepiece\", \"centrepiece\", \"certify\", \"certify\", \"ch_hill_laing_rourke\", \"ch_hill_laing_rourke\", \"chair\", \"chair\", \"chair\", \"chair\", \"chair\", \"chair\", \"chair\", \"chair\", \"chair\", \"chairman\", \"chairman\", \"chairman\", \"chairman\", \"chairman\", \"chairman\", \"chairman\", \"chairman\", \"chairman\", \"characterise\", \"characterise\", \"characterise\", \"charismatic\", \"chief_operate\", \"chief_operate\", \"child\", \"child\", \"child\", \"child\", \"child\", \"child\", \"child\", \"child\", \"chunk\", \"circuit\", \"circuit\", \"circuit\", \"circuit\", \"cite\", \"cite\", \"cite\", \"city\", \"city\", \"city\", \"city\", \"city\", \"city\", \"city\", \"city\", \"city\", \"civil_servant\", \"civil_servant\", \"civil_servant\", \"cleaning\", \"cleaning\", \"cleaning\", \"cleaning\", \"cleaning\", \"clear\", \"clear\", \"clear\", \"clear\", \"clear\", \"clear\", \"clear\", \"clear\", \"clear\", \"clear\", \"clegg\", \"clm\", \"clm\", \"club\", \"club\", \"club\", \"club\", \"club\", \"club\", \"club\", \"coach\", \"coach\", \"coach\", \"coach\", \"coach\", \"coach\", \"coach\", \"coach\", \"coincide\", \"coincide\", \"coincide\", \"come\", \"come\", \"come\", \"come\", \"come\", \"come\", \"come\", \"come\", \"come\", \"come\", \"commerce\", \"commerce\", \"committee\", \"committee\", \"committee\", \"committee\", \"committee\", \"committee\", \"committee\", \"committee\", \"committee\", \"committee\", \"community\", \"community\", \"community\", \"community\", \"community\", \"community\", \"community\", \"community\", \"community\", \"community\", \"community_cohesion\", \"company\", \"company\", \"company\", \"company\", \"company\", \"company\", \"company\", \"company\", \"company\", \"comparable\", \"comparable\", \"compelling\", \"compelling\", \"compelling\", \"competition\", \"competition\", \"competition\", \"competition\", \"competition\", \"competition\", \"competition\", \"competition\", \"competition\", \"completion_date\", \"completion_date\", \"comptroller\", \"comptroller\", \"comptroller\", \"comptroller\", \"concordat\", \"configuration\", \"conservation\", \"conservation\", \"conservative\", \"conservative\", \"conservative\", \"conservative\", \"constituency\", \"constituency\", \"constituency\", \"constituency\", \"constituency\", \"construction\", \"construction\", \"construction\", \"construction\", \"construction\", \"construction\", \"construction\", \"construction\", \"contact\", \"contact\", \"contact\", \"contact\", \"contact\", \"contact\", \"contact\", \"contact\", \"contingency\", \"contingency\", \"contingency\", \"contingency\", \"contingency\", \"contingency\", \"contingency\", \"contingency\", \"contingency\", \"contract\", \"contract\", \"contract\", \"contract\", \"contract\", \"contract\", \"contract\", \"contract\", \"contractor\", \"contractor\", \"contractor\", \"contractor\", \"contractor\", \"contractor\", \"controller\", \"controller\", \"convergence\", \"convergence\", \"convergence\", \"coordinated\", \"coordinated\", \"coordinated\", \"coordinated\", \"coordinated\", \"cost\", \"cost\", \"cost\", \"cost\", \"cost\", \"cost\", \"cost\", \"cost\", \"cost\", \"cost\", \"cost_overrun\", \"couldn\", \"country\", \"country\", \"country\", \"country\", \"country\", \"country\", \"country\", \"country\", \"country\", \"country\", \"course\", \"course\", \"course\", \"course\", \"course\", \"course\", \"course\", \"course\", \"course\", \"course\", \"create\", \"create\", \"create\", \"create\", \"create\", \"create\", \"create\", \"create\", \"create\", \"create\", \"creative_industrie\", \"creative_industrie\", \"crossing\", \"crossing\", \"crossrail\", \"crossrail\", \"crossrail\", \"cultural\", \"cultural\", \"cultural\", \"cultural\", \"cultural\", \"cultural\", \"cultural\", \"cultural\", \"curriculum\", \"curriculum\", \"curriculum\", \"cycle\", \"cycle\", \"cycle\", \"cycle\", \"cycle\", \"cycling\", \"cycling\", \"cycling\", \"cycling\", \"cycling\", \"cyclist\", \"cyclist\", \"cyclist\", \"cyclist\", \"day\", \"day\", \"day\", \"day\", \"day\", \"day\", \"day\", \"day\", \"day\", \"day\", \"dcsf\", \"dcsf\", \"dcsf\", \"dear\", \"dear\", \"debate\", \"debate\", \"debate\", \"debate\", \"debate\", \"debate\", \"debate\", \"decision\", \"decision\", \"decision\", \"decision\", \"decision\", \"decision\", \"decision\", \"decision\", \"decision\", \"decision\", \"defence\", \"defence\", \"delay\", \"delay\", \"delay\", \"delay\", \"delay\", \"delay\", \"deliberation\", \"deliberation\", \"deliberation\", \"deliberation\", \"deliver\", \"deliver\", \"deliver\", \"deliver\", \"deliver\", \"deliver\", \"deliver\", \"deliver\", \"deliver\", \"deliver\", \"deliverability\", \"deliverability\", \"deliverer\", \"deliverer\", \"delivery\", \"delivery\", \"delivery\", \"delivery\", \"delivery\", \"delivery\", \"delivery\", \"delivery\", \"delivery\", \"delivery\", \"democratic\", \"demographic\", \"department\", \"department\", \"department\", \"department\", \"department\", \"department\", \"department\", \"department\", \"department\", \"deploy\", \"deploy\", \"deprivation\", \"deprivation\", \"depth\", \"depth\", \"depth\", \"derelict\", \"derelict\", \"derelict\", \"description\", \"description\", \"design\", \"design\", \"design\", \"design\", \"design\", \"design\", \"design\", \"design\", \"design\", \"designate\", \"designate\", \"designate\", \"designate\", \"designate\", \"designate\", \"desperate\", \"destination\", \"destination\", \"destination\", \"detrimental\", \"develop\", \"develop\", \"develop\", \"develop\", \"develop\", \"develop\", \"develop\", \"develop\", \"develop\", \"develop\", \"development\", \"development\", \"development\", \"development\", \"development\", \"development\", \"development\", \"development\", \"development\", \"development\", \"development_corporation\", \"development_corporation\", \"devolved_administration\", \"devolved_administration\", \"difficult\", \"difficult\", \"difficult\", \"difficult\", \"difficult\", \"difficult\", \"difficult\", \"difficult\", \"dif\\ufb01cult\", \"disability\", \"disability\", \"disability\", \"disability\", \"disability\", \"disabled\", \"disabled\", \"disabled\", \"disabled\", \"disabled\", \"disabled\", \"disabled\", \"distributor\", \"distributor\", \"distributor\", \"distributor\", \"distributor\", \"diver\", \"diver\", \"diverse_communitie\", \"diverse_communitie\", \"diving\", \"diving\", \"diving\", \"dome\", \"dome\", \"dome\", \"dome\", \"dominate\", \"dominate\", \"dominate\", \"dominate\", \"drum\", \"drum\", \"eastway\", \"eastway\", \"eastway\", \"eastway\", \"economic\", \"economic\", \"economic\", \"economic\", \"economic\", \"economic\", \"economic\", \"economic\", \"economic\", \"economic\", \"eighth\", \"eighth\", \"eighth\", \"election\", \"election\", \"election\", \"elite\", \"elite\", \"elite\", \"elite\", \"elite\", \"elite\", \"elite\", \"elite\", \"elite\", \"embargoed_copie\", \"emission\", \"emission\", \"employment\", \"employment\", \"employment\", \"employment\", \"employment\", \"employment\", \"employment\", \"employment\", \"employment\", \"end\", \"end\", \"end\", \"end\", \"end\", \"end\", \"end\", \"end\", \"end\", \"end\", \"engender\", \"engender\", \"engender\", \"enhancement\", \"enhancement\", \"enhancement\", \"enhancement\", \"ensure\", \"ensure\", \"ensure\", \"ensure\", \"ensure\", \"ensure\", \"ensure\", \"ensure\", \"ensure\", \"ensure\", \"entrepreneur\", \"entrepreneur\", \"entrepreneur\", \"envelope\", \"envelope\", \"estimate\", \"estimate\", \"estimate\", \"estimate\", \"estimate\", \"estimate\", \"estimate\", \"estimate\", \"estimate\", \"event\", \"event\", \"event\", \"event\", \"event\", \"event\", \"event\", \"event\", \"event\", \"event\", \"evidence\", \"evidence\", \"evidence\", \"evidence\", \"evidence\", \"evidence\", \"evidence\", \"evidence\", \"evidence\", \"excuse\", \"executive\", \"executive\", \"executive\", \"executive\", \"executive\", \"executive\", \"executive\", \"executive\", \"expect\", \"expect\", \"expect\", \"expect\", \"expect\", \"expect\", \"expect\", \"expect\", \"expect\", \"expect\", \"expected\", \"expected\", \"expenditure\", \"expenditure\", \"expenditure\", \"expenditure\", \"expenditure\", \"expenditure\", \"expenditure\", \"expenditure\", \"explain\", \"explain\", \"explain\", \"explain\", \"explain\", \"explain\", \"explain\", \"explain\", \"extension\", \"extension\", \"extension\", \"extension\", \"facility\", \"facility\", \"facility\", \"facility\", \"facility\", \"facility\", \"facility\", \"facility\", \"facility\", \"facility\", \"fantastic\", \"fantastic\", \"fantastic\", \"fax_orders_email\", \"figure\", \"figure\", \"figure\", \"figure\", \"figure\", \"figure\", \"figure\", \"figure\", \"figure\", \"film\", \"film\", \"financially_expose\", \"finely_balance\", \"finely_balance\", \"finely_balanced\", \"five_host_boroughs\", \"five_host_boroughs\", \"five_host_boroughs\", \"flagship\", \"flagship\", \"forecast\", \"forecast\", \"forecast\", \"forecast\", \"forecast\", \"formal_minutes_witnesse\", \"forum\", \"forum\", \"forum\", \"forum\", \"forum\", \"forum\", \"forum\", \"founder\", \"founder\", \"founder\", \"friendship\", \"fringe\", \"fringe\", \"fringe\", \"fund\", \"fund\", \"fund\", \"fund\", \"fund\", \"fund\", \"fund\", \"fund\", \"fund\", \"fund\", \"funding\", \"funding\", \"funding\", \"funding\", \"funding\", \"funding\", \"funding\", \"funding\", \"funding\", \"funding\", \"fundraising\", \"fundraising\", \"fundraising\", \"gallery\", \"general_election\", \"gentleman\", \"gentleman\", \"girl\", \"girl\", \"girl\", \"glad\", \"gold_medal\", \"gold_medal\", \"gold_medal\", \"golf\", \"golf\", \"golf\", \"good\", \"good\", \"good\", \"good\", \"good\", \"good\", \"good\", \"good\", \"good\", \"good\", \"governance_arrangement\", \"governance_arrangement\", \"governing_bodie\", \"governing_bodie\", \"governing_bodie\", \"governing_bodie\", \"governing_bodie\", \"governing_bodie\", \"governing_bodie\", \"governing_bodie\", \"government\", \"government\", \"government\", \"government\", \"government\", \"government\", \"government\", \"government\", \"government\", \"government\", \"grade\", \"grant\", \"grant\", \"grant\", \"grant\", \"grant\", \"grant\", \"grant\", \"grant\", \"grant\", \"grant\", \"great\", \"great\", \"great\", \"great\", \"great\", \"great\", \"great\", \"great\", \"great\", \"great\", \"greek\", \"greek\", \"green\", \"green\", \"green\", \"green\", \"green\", \"green\", \"green\", \"gross\", \"gross\", \"gross\", \"gross\", \"group\", \"group\", \"group\", \"group\", \"group\", \"group\", \"group\", \"group\", \"group\", \"grow\", \"grow\", \"grow\", \"grow\", \"grow\", \"grow\", \"grow\", \"guard\", \"hackney\", \"hackney\", \"hackney\", \"hackney\", \"hackney\", \"hackney\", \"hackney_marshe\", \"hackney_marshe\", \"haven\", \"haven\", \"haven\", \"haven\", \"hearing\", \"hearing\", \"hearing\", \"hearing\", \"heritage\", \"heritage\", \"heritage\", \"heritage\", \"hero\", \"hero\", \"hero\", \"highway\", \"highway\", \"highway\", \"highway\", \"hockey\", \"hockey\", \"hockey\", \"hockey\", \"hockey\", \"hockey\", \"holding\", \"holding\", \"hope\", \"hope\", \"hope\", \"hope\", \"hope\", \"hope\", \"hope\", \"hope\", \"hope\", \"host\", \"host\", \"host\", \"host\", \"host\", \"host\", \"host\", \"host\", \"host\", \"host\", \"hurdle\", \"imbalance\", \"immense\", \"immense\", \"immense\", \"immense\", \"impact\", \"impact\", \"impact\", \"impact\", \"impact\", \"impact\", \"impact\", \"impact\", \"impact\", \"impact\", \"import\", \"important\", \"important\", \"important\", \"important\", \"important\", \"important\", \"important\", \"important\", \"important\", \"important\", \"impression\", \"impression\", \"impression\", \"impression\", \"impression\", \"improves_cultural_life\", \"improves_cultural_life\", \"inappropriate\", \"inappropriate\", \"inappropriate\", \"inappropriate\", \"inbound\", \"include\", \"include\", \"include\", \"include\", \"include\", \"include\", \"include\", \"include\", \"include\", \"include\", \"income\", \"income\", \"income\", \"income\", \"income\", \"income\", \"income\", \"income\", \"income\", \"increase\", \"increase\", \"increase\", \"increase\", \"increase\", \"increase\", \"increase\", \"increase\", \"increase\", \"increase\", \"indoor\", \"indoor\", \"indoor\", \"indoor\", \"indoor\", \"indoor\", \"indoor\", \"indoor\", \"infrastructure\", \"infrastructure\", \"infrastructure\", \"infrastructure\", \"infrastructure\", \"infrastructure\", \"infrastructure\", \"infrastructure\", \"infrastructure\", \"infrastructure\", \"injury\", \"injury\", \"install\", \"install\", \"institute\", \"institute\", \"institute\", \"institute\", \"instruction\", \"instruction\", \"intent\", \"intent\", \"intent\", \"interchange\", \"interchange\", \"investment\", \"investment\", \"investment\", \"investment\", \"investment\", \"investment\", \"investment\", \"investment\", \"investment\", \"investment\", \"ioc\", \"ioc\", \"ioc\", \"ioc\", \"ioc\", \"irrelevant\", \"irrelevant\", \"issue\", \"issue\", \"issue\", \"issue\", \"issue\", \"issue\", \"issue\", \"issue\", \"issue\", \"issue\", \"joint_venture_agreement\", \"key\", \"key\", \"key\", \"key\", \"key\", \"key\", \"key\", \"key\", \"key\", \"kid\", \"kid\", \"kid\", \"kid\", \"lack\", \"lack\", \"lack\", \"lack\", \"lack\", \"lack\", \"lack\", \"landowner\", \"landowner\", \"landowner\", \"landscaping\", \"landscaping\", \"lasting\", \"lasting\", \"lasting\", \"lasting\", \"lasting\", \"lasting\", \"lead\", \"lead\", \"lead\", \"lead\", \"lead\", \"lead\", \"lead\", \"lead\", \"lead\", \"lead\", \"league\", \"league\", \"league\", \"leaving_laste\", \"leaving_laste\", \"leaving_laste\", \"left\", \"legacy\", \"legacy\", \"legacy\", \"legacy\", \"legacy\", \"legacy\", \"legacy\", \"legacy\", \"legacy\", \"legacy\", \"legitimate\", \"legitimate\", \"legitimate\", \"letter\", \"letter\", \"letter\", \"letter\", \"level\", \"level\", \"level\", \"level\", \"level\", \"level\", \"level\", \"level\", \"level\", \"level\", \"levy\", \"levy\", \"levy\", \"levy\", \"levy\", \"liaise\", \"liaise\", \"liaison\", \"liaison\", \"liaison\", \"liaison\", \"library\", \"library\", \"library\", \"like\", \"like\", \"like\", \"like\", \"like\", \"like\", \"like\", \"likely\", \"likely\", \"likely\", \"likely\", \"likely\", \"likely\", \"likely\", \"likely\", \"line\", \"line\", \"line\", \"line\", \"line\", \"line\", \"line\", \"line\", \"listen\", \"listen\", \"listen\", \"listen\", \"literacy\", \"literacy\", \"literacy\", \"literacy\", \"literacy\", \"local\", \"local\", \"local\", \"local\", \"local\", \"local\", \"local\", \"local\", \"local\", \"local\", \"londoner\", \"londoner\", \"londoner\", \"londoner\", \"londoner\", \"londoner\", \"londoner\", \"londoner\", \"look\", \"look\", \"look\", \"look\", \"look\", \"look\", \"look\", \"look\", \"look\", \"look\", \"lord_coe\", \"lottery\", \"lottery\", \"lottery\", \"lottery\", \"lottery\", \"lottery\", \"lottery\", \"lottery\", \"lucky\", \"lucky\", \"main\", \"main\", \"main\", \"main\", \"main\", \"main\", \"main\", \"main\", \"main\", \"main\", \"mainline\", \"mainline\", \"maintenance\", \"maintenance\", \"maintenance\", \"maintenance\", \"maintenance\", \"major\", \"major\", \"major\", \"major\", \"major\", \"major\", \"major\", \"major\", \"major\", \"major\", \"make_sure\", \"make_sure\", \"make_sure\", \"make_sure\", \"make_sure\", \"make_sure\", \"make_sure\", \"maker\", \"maker\", \"maker\", \"manage\", \"manage\", \"manage\", \"manage\", \"manage\", \"manage\", \"manage\", \"manage\", \"manage\", \"manage\", \"management\", \"management\", \"management\", \"management\", \"management\", \"management\", \"management\", \"management\", \"management\", \"management\", \"manchester\", \"manchester\", \"manchester\", \"manchester\", \"manchester\", \"manchester\", \"masterplan\", \"masterplan\", \"masterplan\", \"masterplan\", \"masterplan\", \"materialise\", \"materialise\", \"materialise\", \"materialise\", \"matter\", \"matter\", \"matter\", \"matter\", \"matter\", \"matter\", \"matter\", \"matter\", \"maximise\", \"maximise\", \"maximise\", \"maximise\", \"maximise\", \"maximise\", \"maximise\", \"maximise\", \"maximise\", \"mayor\", \"mayor\", \"mayor\", \"mayor\", \"mayor\", \"mayor\", \"mayor\", \"mayor\", \"mayor\", \"mayor\", \"mayoral_development_corporation\", \"measurable\", \"measurable\", \"measurable\", \"measurable\", \"medal\", \"medal\", \"medal\", \"medal\", \"medal\", \"medal_table\", \"medal_table\", \"medal_target\", \"medal_winning_performance\", \"medal_winning_performance\", \"medicine\", \"medicine\", \"military\", \"mini\", \"mini\", \"miss_kirkbride\", \"mission\", \"mission\", \"mode\", \"mode\", \"mode\", \"mode\", \"mode\", \"mode\", \"modernise\", \"modernise\", \"moment\", \"moment\", \"moment\", \"moment\", \"moment\", \"moment\", \"money\", \"money\", \"money\", \"money\", \"money\", \"money\", \"money\", \"morning\", \"morning\", \"morning\", \"morning\", \"morning\", \"morning\", \"morning\", \"motivation\", \"motivation\", \"motivation\", \"motivation\", \"mountain_biking\", \"mountain_biking\", \"museum\", \"music\", \"music\", \"nation\", \"nation\", \"nation\", \"nation\", \"nation\", \"nation\", \"nation\", \"nation\", \"nation\", \"nation\", \"national\", \"national\", \"national\", \"national\", \"national\", \"national\", \"national\", \"national\", \"national\", \"national\", \"neighbourhood\", \"neighbourhood\", \"neighbourhood\", \"neighbourhood\", \"neighbouring\", \"network\", \"network\", \"network\", \"network\", \"network\", \"network\", \"network\", \"network\", \"ngbs\", \"ngbs\", \"nldf\", \"nldf\", \"nldf\", \"note\", \"note\", \"note\", \"note\", \"note\", \"note\", \"note\", \"note\", \"note\", \"notify\", \"notify\", \"number\", \"number\", \"number\", \"number\", \"number\", \"number\", \"number\", \"number\", \"number\", \"number\", \"nurture\", \"nurture\", \"objection\", \"objection\", \"objection\", \"objection\", \"oda\", \"oda\", \"oda\", \"oda\", \"oda\", \"oda\", \"oda\", \"oda\", \"oda\", \"offer\", \"offer\", \"offer\", \"offer\", \"offer\", \"offer\", \"offer\", \"offer\", \"offer\", \"offer\", \"old\", \"old\", \"old\", \"old\", \"old\", \"open_space\", \"open_space\", \"open_space\", \"open_space\", \"open_space\", \"open_space\", \"opportunity\", \"opportunity\", \"opportunity\", \"opportunity\", \"opportunity\", \"opportunity\", \"opportunity\", \"opportunity\", \"opportunity\", \"opportunity\", \"option\", \"option\", \"option\", \"option\", \"option\", \"option\", \"option\", \"option\", \"oral_evidence_taken\", \"original\", \"original\", \"original\", \"original\", \"original\", \"original\", \"original\", \"original\", \"orn\", \"outdoor\", \"outdoor\", \"outdoor\", \"package\", \"package\", \"package\", \"package\", \"package\", \"package\", \"package\", \"page\", \"page\", \"page\", \"page\", \"page\", \"page\", \"page\", \"page\", \"pair\", \"paragraph\", \"paragraph\", \"paragraph\", \"paragraph\", \"paragraph\", \"paragraph\", \"paragraph\", \"paralympic\", \"paralympic\", \"paralympic\", \"paralympic\", \"paralympic\", \"paralympic\", \"paralympic\", \"paralympic\", \"park\", \"park\", \"park\", \"park\", \"park\", \"park\", \"park\", \"park\", \"park\", \"parkland\", \"parkland\", \"parkland\", \"parkland\", \"participant\", \"participant\", \"participant\", \"participant\", \"participant\", \"participant\", \"participant\", \"participation\", \"participation\", \"participation\", \"participation\", \"participation\", \"participation\", \"participation\", \"participation\", \"participation\", \"partner\", \"partner\", \"partner\", \"partner\", \"partner\", \"partner\", \"partner\", \"partner\", \"partner\", \"passenger\", \"passenger\", \"passenger\", \"pathway\", \"pathway\", \"pathway\", \"pathway\", \"pathway\", \"pay\", \"pay\", \"pay\", \"pay\", \"pay\", \"pay\", \"pay\", \"pay\", \"pedestrian\", \"pedestrian\", \"pende\", \"pende\", \"pende\", \"pende\", \"perception\", \"perception\", \"perception\", \"performance\", \"performance\", \"performance\", \"performance\", \"performance\", \"performance\", \"performance\", \"performance\", \"performer\", \"performer\", \"performer\", \"perimeter\", \"permanent_secretary\", \"permanent_secretary\", \"permanent_secretary\", \"permanent_secretary\", \"permanent_secretary\", \"philip_davie\", \"philip_davie\", \"philip_davie\", \"physical\", \"physical\", \"physical\", \"physical\", \"physical\", \"physical\", \"physical\", \"physical\", \"physical_activity\", \"physical_activity\", \"physical_activity\", \"physical_activity\", \"physical_activity\", \"physical_activity\", \"physical_activity\", \"physically_active\", \"physically_active\", \"physically_active\", \"physiotherapy\", \"picketts_lock\", \"picketts_lock\", \"picketts_lock\", \"picketts_lock\", \"pioneer\", \"pioneer\", \"pioneer\", \"place\", \"place\", \"place\", \"place\", \"place\", \"place\", \"place\", \"place\", \"place\", \"place\", \"plan\", \"plan\", \"plan\", \"plan\", \"plan\", \"plan\", \"plan\", \"plan\", \"plan\", \"plan\", \"planet\", \"planet\", \"planet\", \"planning\", \"planning\", \"planning\", \"planning\", \"planning\", \"planning\", \"planning\", \"planning\", \"planning\", \"planning\", \"plus\", \"podium\", \"podium\", \"point\", \"point\", \"point\", \"point\", \"point\", \"point\", \"point\", \"point\", \"policing\", \"policing\", \"policing\", \"policing\", \"powerline\", \"precious\", \"preparation\", \"preparation\", \"preparation\", \"preparation\", \"preparation\", \"preparation\", \"preparation\", \"preparation\", \"pretend\", \"pricing\", \"pricing\", \"pricing\", \"priority\", \"priority\", \"priority\", \"priority\", \"priority\", \"priority\", \"priority\", \"priority\", \"priority\", \"priority\", \"process\", \"process\", \"process\", \"process\", \"process\", \"process\", \"process\", \"process\", \"process\", \"process\", \"procurement\", \"procurement\", \"procurement\", \"procurement\", \"procurement\", \"procurement\", \"procurement\", \"programme\", \"programme\", \"programme\", \"programme\", \"programme\", \"programme\", \"programme\", \"programme\", \"programme\", \"programme\", \"progress\", \"progress\", \"progress\", \"progress\", \"progress\", \"progress\", \"progress\", \"progress\", \"progress\", \"progress\", \"project\", \"project\", \"project\", \"project\", \"project\", \"project\", \"project\", \"project\", \"project\", \"project\", \"proof\", \"provide\", \"provide\", \"provide\", \"provide\", \"provide\", \"provide\", \"provide\", \"provide\", \"provide\", \"provide\", \"provision\", \"provision\", \"provision\", \"provision\", \"provision\", \"provision\", \"provision\", \"provision\", \"provision\", \"provision\", \"prudent\", \"prudent\", \"prudent\", \"prudent\", \"psa\", \"public\", \"public\", \"public\", \"public\", \"public\", \"public\", \"public\", \"public\", \"public\", \"public\", \"publicly_funde\", \"publicly_funde\", \"publish\", \"publish\", \"publish\", \"publish\", \"publish\", \"publish\", \"publish\", \"publish\", \"publish\", \"publish\", \"pupil\", \"pupil\", \"pupil\", \"pupil\", \"qualitative\", \"qualitative\", \"quantitative\", \"quantitative\", \"query\", \"query\", \"query\", \"question\", \"question\", \"question\", \"question\", \"question\", \"question\", \"question\", \"question\", \"question\", \"racing\", \"racing\", \"racing\", \"raft\", \"raft\", \"raft\", \"rail\", \"rail\", \"rail\", \"rail\", \"rail\", \"rating\", \"readiness\", \"readiness\", \"realisation\", \"receipt\", \"receipt\", \"receipt\", \"receipt\", \"receipt\", \"reconcile\", \"reconcile\", \"recover\", \"recover\", \"recover\", \"recover\", \"recreation\", \"recreation\", \"recreation\", \"recreation\", \"recreation\", \"redress\", \"redress\", \"regeneration\", \"regeneration\", \"regeneration\", \"regeneration\", \"regeneration\", \"regeneration\", \"regeneration\", \"regeneration\", \"regeneration\", \"regeneration\", \"regenerative\", \"regenerative\", \"regenerative\", \"region\", \"region\", \"region\", \"region\", \"region\", \"region\", \"region\", \"region\", \"region\", \"regional\", \"regional\", \"regional\", \"regional\", \"regional\", \"regional\", \"regional\", \"regional\", \"regional\", \"regional\", \"relocatable\", \"relocatable\", \"relocatable\", \"relocation\", \"relocation\", \"relocation\", \"relocation\", \"remote\", \"remote\", \"reply\", \"reply\", \"report\", \"report\", \"report\", \"report\", \"report\", \"report\", \"report\", \"report\", \"report\", \"report\", \"reputational_damage\", \"requirement\", \"requirement\", \"requirement\", \"requirement\", \"requirement\", \"requirement\", \"requirement\", \"requirement\", \"resident\", \"resident\", \"resident\", \"resident\", \"resident\", \"resident\", \"resident\", \"resident\", \"respect\", \"respect\", \"respect\", \"respect\", \"respect\", \"respect\", \"respect\", \"respect\", \"revenue\", \"revenue\", \"revenue\", \"revenue\", \"revenue\", \"revenue\", \"revenue\", \"revenue\", \"review\", \"review\", \"review\", \"review\", \"review\", \"review\", \"review\", \"review\", \"review\", \"right\", \"right\", \"right\", \"right\", \"right\", \"right\", \"right\", \"right\", \"right\", \"right\", \"risk\", \"risk\", \"risk\", \"risk\", \"risk\", \"risk\", \"risk\", \"risk\", \"risk_assessment\", \"risk_assessment\", \"role\", \"role\", \"role\", \"role\", \"role\", \"role\", \"role\", \"role\", \"role\", \"role\", \"rosemary_mckenna\", \"rosemary_mckenna\", \"rower\", \"rower\", \"rumour\", \"runner\", \"sale\", \"sale\", \"sale\", \"sale\", \"sale\", \"sander\", \"sander\", \"satisfaction\", \"satisfaction\", \"satisfaction\", \"satisfaction\", \"satisfactory\", \"satisfactory\", \"sceptical\", \"sceptical\", \"school\", \"school\", \"school\", \"school\", \"school\", \"school\", \"school\", \"school\", \"science\", \"science\", \"science\", \"science\", \"science\", \"scientist\", \"scientist\", \"screening\", \"screening\", \"seating_capacity\", \"seating_capacity\", \"seating_capacity\", \"seating_capacity\", \"seb\", \"secondary_school\", \"secondary_school\", \"secondary_school\", \"sector\", \"sector\", \"sector\", \"sector\", \"sector\", \"sector\", \"sector\", \"sector\", \"sector\", \"sector\", \"security\", \"security\", \"security\", \"security\", \"security\", \"security\", \"security\", \"security\", \"security_guard\", \"security_guard\", \"self_finance\", \"servant\", \"servant\", \"servant\", \"service\", \"service\", \"service\", \"service\", \"service\", \"service\", \"service\", \"service\", \"service\", \"service\", \"set\", \"set\", \"set\", \"set\", \"set\", \"set\", \"set\", \"set\", \"set\", \"set\", \"shame\", \"showcase\", \"showcase\", \"showcase\", \"showcase\", \"showcase\", \"significance\", \"significance\", \"significant\", \"significant\", \"significant\", \"significant\", \"significant\", \"significant\", \"significant\", \"significant\", \"significant\", \"significant\", \"silver\", \"silver\", \"sir_clive_woodward\", \"sir_clive_woodward\", \"sir_clive_woodward\", \"site\", \"site\", \"site\", \"site\", \"site\", \"site\", \"site\", \"site\", \"site\", \"skill\", \"skill\", \"skill\", \"skill\", \"skill\", \"skill\", \"skill\", \"skill\", \"skill\", \"soccer\", \"soccer\", \"social\", \"social\", \"social\", \"social\", \"social\", \"social\", \"social\", \"social\", \"social\", \"social_cohesion\", \"socially_excluded\", \"socially_excluded\", \"society\", \"society\", \"society\", \"softball\", \"soldier\", \"sorry\", \"sorry\", \"sorry\", \"sort\", \"sort\", \"sort\", \"sort\", \"sort\", \"source_national_audit\", \"source_national_audit\", \"specification\", \"specification\", \"specification\", \"specification\", \"specification\", \"specification\", \"specification\", \"spectator_experience\", \"spend\", \"spend\", \"spend\", \"spend\", \"spend\", \"spend\", \"spend\", \"spend\", \"spend\", \"sporting\", \"sporting\", \"sporting\", \"sporting\", \"sporting\", \"sporting\", \"sporting\", \"sporting\", \"sporting\", \"sporting_giants_campaign\", \"stadium\", \"stadium\", \"stadium\", \"stadium\", \"stadium\", \"stadium\", \"stadium\", \"stadium\", \"stage\", \"stage\", \"stage\", \"stage\", \"stage\", \"stage\", \"stage\", \"stage\", \"stage\", \"stage\", \"stakeholder\", \"stakeholder\", \"stakeholder\", \"stakeholder\", \"stakeholder\", \"stakeholder\", \"stakeholder\", \"stakeholder\", \"stakeholder\", \"start\", \"start\", \"start\", \"start\", \"start\", \"start\", \"start\", \"start\", \"start\", \"start\", \"statement\", \"statement\", \"statement\", \"statement\", \"statement\", \"statement\", \"station\", \"station\", \"station\", \"station\", \"station\", \"station\", \"stationery_office_limite\", \"stationery_office_limite\", \"stead\", \"sterling\", \"sterling\", \"sterling\", \"stimulus\", \"stone\", \"strategy\", \"strategy\", \"strategy\", \"strategy\", \"strategy\", \"strategy\", \"strategy\", \"strategy\", \"strategy\", \"stratford\", \"stratford\", \"stratford\", \"stratford\", \"stratford\", \"stratford\", \"success\", \"success\", \"success\", \"success\", \"success\", \"success\", \"success\", \"success\", \"success\", \"supervise\", \"supervise\", \"supervise\", \"supplementary_memorandum_submitte\", \"supplementary_memorandum_submitte\", \"supplementary_memorandum_submitte\", \"supplementary_memorandum_submitte\", \"supplementary_memorandum_submitte\", \"supplier\", \"supplier\", \"supplier\", \"supplier\", \"supplier\", \"supplier\", \"supplier\", \"support\", \"support\", \"support\", \"support\", \"support\", \"support\", \"support\", \"support\", \"support\", \"support\", \"sure\", \"sure\", \"sure\", \"sure\", \"sure\", \"sure\", \"sure\", \"surprising\", \"surprising\", \"surprising\", \"surprising\", \"surprising\", \"surprising\", \"sustainable\", \"sustainable\", \"sustainable\", \"sustainable\", \"sustainable\", \"sustainable\", \"sustainable\", \"sustainable\", \"sustainable\", \"swim\", \"swim\", \"swim\", \"swim\", \"swim\", \"swim\", \"swimmer\", \"swimmer\", \"swimming\", \"swimming\", \"swimming\", \"swimming\", \"swimming\", \"swimming\", \"swimming\", \"swimming_pool\", \"swimming_pool\", \"swimming_pool\", \"swimming_pool\", \"swimming_pool\", \"sydney\", \"sydney\", \"sydney\", \"synchronised_swimming\", \"talent\", \"talent\", \"talent\", \"talent\", \"talent\", \"talent\", \"talent_identification\", \"talent_identification\", \"talk\", \"talk\", \"talk\", \"talk\", \"talk\", \"target\", \"target\", \"target\", \"target\", \"target\", \"target\", \"target\", \"target\", \"target\", \"target\", \"team\", \"team\", \"team\", \"team\", \"team\", \"team\", \"team\", \"team\", \"team\", \"technological\", \"technological\", \"telegraph\", \"telegraph\", \"telegraph\", \"telegraph\", \"tennis\", \"tennis\", \"tennis\", \"tennis\", \"tennis\", \"tennis\", \"tennis\", \"term\", \"term\", \"term\", \"term\", \"term\", \"term\", \"term\", \"term\", \"term\", \"term\", \"textphone\", \"thames_gateway_development_corporation\", \"thorough\", \"thorough\", \"thorough\", \"thorough\", \"thrilled\", \"ticket\", \"ticket\", \"ticket\", \"ticket\", \"ticket\", \"ticket\", \"ticket\", \"tooth\", \"torch\", \"tourism\", \"tourism\", \"tourism\", \"tourism\", \"tourism\", \"tourism\", \"tournament\", \"tournament\", \"track\", \"track\", \"track\", \"track\", \"track\", \"track\", \"track\", \"track\", \"training\", \"training\", \"training\", \"training\", \"training\", \"training\", \"training\", \"training\", \"training\", \"training\", \"transcript\", \"transcript\", \"transcript\", \"transcript\", \"transform\", \"transform\", \"transform\", \"transform\", \"transform\", \"transform\", \"transformation\", \"transformation\", \"transformation\", \"transformation\", \"transformation\", \"transformation\", \"transformation\", \"transformation\", \"transport\", \"transport\", \"transport\", \"transport\", \"transport\", \"transport\", \"transport\", \"transport\", \"truth\", \"truth\", \"tsoshop\", \"tune\", \"tune\", \"ultimate_guarantor\", \"uncertainty\", \"uncertainty\", \"uncertainty\", \"uncertainty\", \"uncertainty\", \"underwriting\", \"underwriting\", \"unequivocal\", \"unequivocal\", \"union\", \"union\", \"unlimited\", \"unlimited\", \"unspent\", \"unspent\", \"upfront\", \"upfront\", \"upfront\", \"upgrade\", \"upgrade\", \"upgrade\", \"upgrade\", \"upgrade\", \"user\", \"user\", \"user\", \"user\", \"user\", \"user\", \"user\", \"user\", \"usual\", \"usual\", \"usual\", \"usual\", \"velodrome\", \"velodrome\", \"velodrome\", \"velodrome\", \"velodrome\", \"velodrome\", \"velopark\", \"velopark\", \"velopark\", \"velopark\", \"velopark\", \"velopark\", \"velopark\", \"venue\", \"venue\", \"venue\", \"venue\", \"venue\", \"venue\", \"venue\", \"venue\", \"venue\", \"village\", \"village\", \"village\", \"village\", \"village\", \"village\", \"village\", \"visa\", \"visit\", \"visit\", \"visit\", \"visit\", \"visit\", \"visit\", \"visit\", \"visit\", \"visitbritain\", \"visitbritain\", \"visitor\", \"visitor\", \"visitor\", \"visitor\", \"visitor\", \"visitor\", \"visitor\", \"vocational\", \"volleyball\", \"volleyball\", \"voluntary\", \"voluntary\", \"voluntary\", \"voluntary\", \"voluntary\", \"voluntary\", \"volunteer\", \"volunteer\", \"volunteer\", \"volunteer\", \"volunteer\", \"volunteer\", \"volunteer\", \"volunteer\", \"volunteer\", \"volunteer\", \"vulnerable\", \"vulnerable\", \"warn\", \"warn\", \"watch\", \"watch\", \"watch\", \"watch\", \"watch\", \"watch\", \"waterway\", \"waterway\", \"waterway\", \"waterway\", \"welcome\", \"welcome\", \"welcome\", \"welcome\", \"welcome\", \"welcome\", \"welcome\", \"welcome\", \"welcome\", \"wembley\", \"wembley\", \"wembley\", \"west\", \"west\", \"wheelchair\", \"wheelchair\", \"wheelchair\", \"whilst\", \"wholehearte\", \"wholehearte\", \"win\", \"win\", \"win\", \"win\", \"win\", \"win\", \"win\", \"win\", \"win\", \"win\", \"witnesses_questions_tuesday_january\", \"witnesses_questions_wednesday_january\", \"woman\", \"woman\", \"woman\", \"woman\", \"woman\", \"wonderful\", \"wonderful\", \"wonderful\", \"wonderful\", \"wonderful\", \"workless\", \"workless\", \"world_class\", \"world_class\", \"world_class\", \"world_class\", \"world_class\", \"world_class\", \"write\", \"write\", \"write\", \"write\", \"write\", \"write\", \"write\", \"write\", \"written_evidence_submitte\", \"written_evidence_submitte\", \"written_evidence_submitte\", \"yesterday\", \"yesterday\", \"yesterday\", \"yesterday\", \"yesterday\", \"young\", \"young\", \"young\", \"young\", \"young\", \"young\", \"young\", \"young\", \"young\", \"youngster\", \"youngster\", \"\\ufb01gure\", \"\\ufb01gure\", \"\\ufb01gure\", \"\\ufb01gure\"]}, \"R\": 30, \"lambda.step\": 0.01, \"plot.opts\": {\"xlab\": \"PC1\", \"ylab\": \"PC2\"}, \"topic.order\": [1, 2, 3, 4, 5, 6, 7, 8, 9, 10]};\n",
       "\n",
       "function LDAvis_load_lib(url, callback){\n",
       "  var s = document.createElement('script');\n",
       "  s.src = url;\n",
       "  s.async = true;\n",
       "  s.onreadystatechange = s.onload = callback;\n",
       "  s.onerror = function(){console.warn(\"failed to load library \" + url);};\n",
       "  document.getElementsByTagName(\"head\")[0].appendChild(s);\n",
       "}\n",
       "\n",
       "if(typeof(LDAvis) !== \"undefined\"){\n",
       "   // already loaded: just create the visualization\n",
       "   !function(LDAvis){\n",
       "       new LDAvis(\"#\" + \"ldavis_el3974824807323363045454496545\", ldavis_el3974824807323363045454496545_data);\n",
       "   }(LDAvis);\n",
       "}else if(typeof define === \"function\" && define.amd){\n",
       "   // require.js is available: use it to load d3/LDAvis\n",
       "   require.config({paths: {d3: \"https://d3js.org/d3.v5\"}});\n",
       "   require([\"d3\"], function(d3){\n",
       "      window.d3 = d3;\n",
       "      LDAvis_load_lib(\"https://cdn.jsdelivr.net/gh/bmabey/pyLDAvis@3.3.1/pyLDAvis/js/ldavis.v3.0.0.js\", function(){\n",
       "        new LDAvis(\"#\" + \"ldavis_el3974824807323363045454496545\", ldavis_el3974824807323363045454496545_data);\n",
       "      });\n",
       "    });\n",
       "}else{\n",
       "    // require.js not available: dynamically load d3 & LDAvis\n",
       "    LDAvis_load_lib(\"https://d3js.org/d3.v5.js\", function(){\n",
       "         LDAvis_load_lib(\"https://cdn.jsdelivr.net/gh/bmabey/pyLDAvis@3.3.1/pyLDAvis/js/ldavis.v3.0.0.js\", function(){\n",
       "                 new LDAvis(\"#\" + \"ldavis_el3974824807323363045454496545\", ldavis_el3974824807323363045454496545_data);\n",
       "            })\n",
       "         });\n",
       "}\n",
       "</script>"
      ],
      "text/plain": [
       "PreparedData(topic_coordinates=              x         y  topics  cluster       Freq\n",
       "topic                                                \n",
       "0      0.166547 -0.053546       1        1   2.123146\n",
       "1     -0.208889  0.044847       2        1   2.329592\n",
       "2     -0.099604  0.045386       3        1   8.046479\n",
       "3      0.080747 -0.001908       4        1   9.799369\n",
       "4      0.174807  0.114098       5        1   4.273749\n",
       "5      0.021669  0.016902       6        1  20.293177\n",
       "6     -0.093051 -0.141569       7        1  13.441436\n",
       "7     -0.028353  0.096713       8        1  19.371734\n",
       "8     -0.088826 -0.007825       9        1  15.695116\n",
       "9      0.074951 -0.113097      10        1   4.626201, topic_info=            Term         Freq        Total Category  logprob  loglift\n",
       "283       legacy  2757.000000  2757.000000  Default  30.0000  30.0000\n",
       "561        venue  1704.000000  1704.000000  Default  29.0000  29.0000\n",
       "624         cost  3032.000000  3032.000000  Default  28.0000  28.0000\n",
       "57           bid  1444.000000  1444.000000  Default  27.0000  27.0000\n",
       "41       athlete  1401.000000  1401.000000  Default  26.0000  26.0000\n",
       "...          ...          ...          ...      ...      ...      ...\n",
       "504     strategy    70.924462   595.326614  Topic10  -5.3068   0.9459\n",
       "311   management    73.924930   727.474131  Topic10  -5.2654   0.7869\n",
       "688          key    72.626606   745.175475  Topic10  -5.2831   0.7451\n",
       "1326      ensure    74.143821  1026.988622  Topic10  -5.2625   0.4451\n",
       "403      project    76.661218  1661.300543  Topic10  -5.2291  -0.0025\n",
       "\n",
       "[782 rows x 6 columns], token_table=      Topic      Freq       Term\n",
       "term                            \n",
       "1         1  0.037958       able\n",
       "1         2  0.003996       able\n",
       "1         3  0.061932       able\n",
       "1         4  0.029967       able\n",
       "1         5  0.009989       able\n",
       "...     ...       ...        ...\n",
       "1271      8  0.797769  youngster\n",
       "3309      3  0.007464      ﬁgure\n",
       "3309      6  0.313486      ﬁgure\n",
       "3309      8  0.205259      ﬁgure\n",
       "3309      9  0.473961      ﬁgure\n",
       "\n",
       "[2934 rows x 3 columns], R=30, lambda_step=0.01, plot_opts={'xlab': 'PC1', 'ylab': 'PC2'}, topic_order=[1, 2, 3, 4, 5, 6, 7, 8, 9, 10])"
      ]
     },
     "execution_count": 102,
     "metadata": {},
     "output_type": "execute_result"
    }
   ],
   "source": [
    "pyLDAvis.enable_notebook()\n",
    "vis = pyLDAvis.gensim_models.prepare(lda_model, corpus, id2word, sort_topics = False )\n",
    "pyLDAvis.save_html(vis, './assets/lda.html') # save the reult to disk   \n",
    "vis"
   ]
  },
  {
   "cell_type": "markdown",
   "metadata": {},
   "source": [
    "## 5.3. prototypical paragraphs\n",
    "The prototypical paragraphs, the paragraphs with a high probabitiy that they belong to a topic, can be used to assist topic interpretation. This section classify the paragraphs into topics and provides the users 4 types of filters to select the prototypical paragraphs: N most prototypical paragraphs overall, N most prototypical paragraphs where the belong() function is greater than the threshold L, N most prototypical paragraphs of each topic and N most prototypical paragraphs of a specific topic."
   ]
  },
  {
   "cell_type": "markdown",
   "metadata": {},
   "source": [
    "### 5.3.1.  Classify the paragraphs based on the trained model"
   ]
  },
  {
   "cell_type": "markdown",
   "metadata": {},
   "source": [
    "##### Extract paragraphs from documents"
   ]
  },
  {
   "cell_type": "code",
   "execution_count": 103,
   "metadata": {},
   "outputs": [],
   "source": [
    "# define the function for spliting texts into paragraphs by delimiter '.\\n\\n' or '. \\n\\n'\n",
    "def para_split(i):\n",
    "    j = parser.from_file(i)\n",
    "    m = j['content']\n",
    "    import re\n",
    "    return re.split('[?.!-]\\n|[?.!-] \\n|  \\n\\n|\\n\\n[0-9]', m)"
   ]
  },
  {
   "cell_type": "code",
   "execution_count": 104,
   "metadata": {},
   "outputs": [],
   "source": [
    "list_paragraphs = []\n",
    "list_para_id = []\n",
    "for i in pdf_files:\n",
    "    para = para_split(i)\n",
    "    para = [w.replace('\\n', '') for w in para]\n",
    "    para = [x.strip() for x in para if x.strip()] # remove empty elements\n",
    "    para_id = [x for x in range(len(para))] \n",
    "    list_paragraphs.append(para)\n",
    "    list_para_id.append(para_id)"
   ]
  },
  {
   "cell_type": "code",
   "execution_count": 105,
   "metadata": {
    "scrolled": true
   },
   "outputs": [
    {
     "data": {
      "text/plain": [
       "21640"
      ]
     },
     "execution_count": 105,
     "metadata": {},
     "output_type": "execute_result"
    }
   ],
   "source": [
    "df_para1 = df.copy()\n",
    "df_para1['paragraphs'] = list_paragraphs\n",
    "df_para1['para_id'] = list_para_id\n",
    "df_para2 = df_para1.apply(pd.Series.explode)\n",
    "df_para3 = df_para2.reset_index()\n",
    "df_para4 = df_para3[['creationDate', 'document_id', 'file_name', 'para_id', 'paragraphs']]\n",
    "len(df_para4) # number of paragraphs extracted"
   ]
  },
  {
   "cell_type": "code",
   "execution_count": 106,
   "metadata": {},
   "outputs": [
    {
     "data": {
      "text/html": [
       "<div>\n",
       "<style scoped>\n",
       "    .dataframe tbody tr th:only-of-type {\n",
       "        vertical-align: middle;\n",
       "    }\n",
       "\n",
       "    .dataframe tbody tr th {\n",
       "        vertical-align: top;\n",
       "    }\n",
       "\n",
       "    .dataframe thead th {\n",
       "        text-align: right;\n",
       "    }\n",
       "</style>\n",
       "<table border=\"1\" class=\"dataframe\">\n",
       "  <thead>\n",
       "    <tr style=\"text-align: right;\">\n",
       "      <th></th>\n",
       "      <th>index</th>\n",
       "      <th>creationDate</th>\n",
       "      <th>document_id</th>\n",
       "      <th>file_name</th>\n",
       "      <th>para_id</th>\n",
       "      <th>paragraphs</th>\n",
       "    </tr>\n",
       "  </thead>\n",
       "  <tbody>\n",
       "    <tr>\n",
       "      <th>0</th>\n",
       "      <td>2</td>\n",
       "      <td>D:20210822083603+00'00'</td>\n",
       "      <td>0</td>\n",
       "      <td>Examination_of_Witnesses_Sept_2003_-_Q1-19.pdf</td>\n",
       "      <td>2</td>\n",
       "      <td>MS BARBARA CASSANI Q1 Chairman: Good morning, ...</td>\n",
       "    </tr>\n",
       "    <tr>\n",
       "      <th>1</th>\n",
       "      <td>3</td>\n",
       "      <td>D:20210822083603+00'00'</td>\n",
       "      <td>0</td>\n",
       "      <td>Examination_of_Witnesses_Sept_2003_-_Q1-19.pdf</td>\n",
       "      <td>3</td>\n",
       "      <td>Ms Cassani: Thank you very much. Thank you ver...</td>\n",
       "    </tr>\n",
       "    <tr>\n",
       "      <th>2</th>\n",
       "      <td>4</td>\n",
       "      <td>D:20210822083603+00'00'</td>\n",
       "      <td>0</td>\n",
       "      <td>Examination_of_Witnesses_Sept_2003_-_Q1-19.pdf</td>\n",
       "      <td>4</td>\n",
       "      <td>8 months I shall be able to meet frequently wi...</td>\n",
       "    </tr>\n",
       "    <tr>\n",
       "      <th>3</th>\n",
       "      <td>5</td>\n",
       "      <td>D:20210822083603+00'00'</td>\n",
       "      <td>0</td>\n",
       "      <td>Examination_of_Witnesses_Sept_2003_-_Q1-19.pdf</td>\n",
       "      <td>5</td>\n",
       "      <td>The first thing I should like to say is that I...</td>\n",
       "    </tr>\n",
       "    <tr>\n",
       "      <th>4</th>\n",
       "      <td>6</td>\n",
       "      <td>D:20210822083603+00'00'</td>\n",
       "      <td>0</td>\n",
       "      <td>Examination_of_Witnesses_Sept_2003_-_Q1-19.pdf</td>\n",
       "      <td>6</td>\n",
       "      <td>Really the backdrop is that I believe in the G...</td>\n",
       "    </tr>\n",
       "    <tr>\n",
       "      <th>...</th>\n",
       "      <td>...</td>\n",
       "      <td>...</td>\n",
       "      <td>...</td>\n",
       "      <td>...</td>\n",
       "      <td>...</td>\n",
       "      <td>...</td>\n",
       "    </tr>\n",
       "    <tr>\n",
       "      <th>17709</th>\n",
       "      <td>21631</td>\n",
       "      <td>D:20210822084546+00'00'</td>\n",
       "      <td>168</td>\n",
       "      <td>Written_evidence_submitted_by_Youth_Sport_Trus...</td>\n",
       "      <td>37</td>\n",
       "      <td>7.3  When the impact of Olympics and Paralympi...</td>\n",
       "    </tr>\n",
       "    <tr>\n",
       "      <th>17710</th>\n",
       "      <td>21633</td>\n",
       "      <td>D:20210822084546+00'00'</td>\n",
       "      <td>168</td>\n",
       "      <td>Written_evidence_submitted_by_Youth_Sport_Trus...</td>\n",
       "      <td>39</td>\n",
       "      <td>11   2007-08 School Sport Survey.     12   As ...</td>\n",
       "    </tr>\n",
       "    <tr>\n",
       "      <th>17711</th>\n",
       "      <td>21634</td>\n",
       "      <td>D:20210822084546+00'00'</td>\n",
       "      <td>168</td>\n",
       "      <td>Written_evidence_submitted_by_Youth_Sport_Trus...</td>\n",
       "      <td>40</td>\n",
       "      <td>13   Gold Young Ambassadors work across School...</td>\n",
       "    </tr>\n",
       "    <tr>\n",
       "      <th>17712</th>\n",
       "      <td>21635</td>\n",
       "      <td>D:20210822084546+00'00'</td>\n",
       "      <td>168</td>\n",
       "      <td>Written_evidence_submitted_by_Youth_Sport_Trus...</td>\n",
       "      <td>41</td>\n",
       "      <td>14   From national data supplied by Department...</td>\n",
       "    </tr>\n",
       "    <tr>\n",
       "      <th>17713</th>\n",
       "      <td>21637</td>\n",
       "      <td>D:20210822084546+00'00'</td>\n",
       "      <td>168</td>\n",
       "      <td>Written_evidence_submitted_by_Youth_Sport_Trus...</td>\n",
       "      <td>43</td>\n",
       "      <td>5   The impact of School Sport Partnerships on...</td>\n",
       "    </tr>\n",
       "  </tbody>\n",
       "</table>\n",
       "<p>17714 rows × 6 columns</p>\n",
       "</div>"
      ],
      "text/plain": [
       "       index             creationDate  document_id  \\\n",
       "0          2  D:20210822083603+00'00'            0   \n",
       "1          3  D:20210822083603+00'00'            0   \n",
       "2          4  D:20210822083603+00'00'            0   \n",
       "3          5  D:20210822083603+00'00'            0   \n",
       "4          6  D:20210822083603+00'00'            0   \n",
       "...      ...                      ...          ...   \n",
       "17709  21631  D:20210822084546+00'00'          168   \n",
       "17710  21633  D:20210822084546+00'00'          168   \n",
       "17711  21634  D:20210822084546+00'00'          168   \n",
       "17712  21635  D:20210822084546+00'00'          168   \n",
       "17713  21637  D:20210822084546+00'00'          168   \n",
       "\n",
       "                                               file_name para_id  \\\n",
       "0         Examination_of_Witnesses_Sept_2003_-_Q1-19.pdf       2   \n",
       "1         Examination_of_Witnesses_Sept_2003_-_Q1-19.pdf       3   \n",
       "2         Examination_of_Witnesses_Sept_2003_-_Q1-19.pdf       4   \n",
       "3         Examination_of_Witnesses_Sept_2003_-_Q1-19.pdf       5   \n",
       "4         Examination_of_Witnesses_Sept_2003_-_Q1-19.pdf       6   \n",
       "...                                                  ...     ...   \n",
       "17709  Written_evidence_submitted_by_Youth_Sport_Trus...      37   \n",
       "17710  Written_evidence_submitted_by_Youth_Sport_Trus...      39   \n",
       "17711  Written_evidence_submitted_by_Youth_Sport_Trus...      40   \n",
       "17712  Written_evidence_submitted_by_Youth_Sport_Trus...      41   \n",
       "17713  Written_evidence_submitted_by_Youth_Sport_Trus...      43   \n",
       "\n",
       "                                              paragraphs  \n",
       "0      MS BARBARA CASSANI Q1 Chairman: Good morning, ...  \n",
       "1      Ms Cassani: Thank you very much. Thank you ver...  \n",
       "2      8 months I shall be able to meet frequently wi...  \n",
       "3      The first thing I should like to say is that I...  \n",
       "4      Really the backdrop is that I believe in the G...  \n",
       "...                                                  ...  \n",
       "17709  7.3  When the impact of Olympics and Paralympi...  \n",
       "17710  11   2007-08 School Sport Survey.     12   As ...  \n",
       "17711  13   Gold Young Ambassadors work across School...  \n",
       "17712  14   From national data supplied by Department...  \n",
       "17713  5   The impact of School Sport Partnerships on...  \n",
       "\n",
       "[17714 rows x 6 columns]"
      ]
     },
     "execution_count": 106,
     "metadata": {},
     "output_type": "execute_result"
    }
   ],
   "source": [
    "# set a filter to filter out the paragraphs with short words\n",
    "n_word_count = 10                                                        # set the threshold of word count\n",
    "para_word_count = df_para4['paragraphs'].str.split().str.len()           # word count of each paragraph\n",
    "df_para = df_para4[(para_word_count>=n_word_count)].reset_index()        # select the paragraphs with word count not less than the threshold\n",
    "df_para"
   ]
  },
  {
   "cell_type": "markdown",
   "metadata": {},
   "source": [
    "##### Process the paragraphs"
   ]
  },
  {
   "cell_type": "code",
   "execution_count": 107,
   "metadata": {},
   "outputs": [],
   "source": [
    "# tokenization\n",
    "data2 = df_para.paragraphs.values.tolist()\n",
    "data_words2 = list(sent_to_words(data2))"
   ]
  },
  {
   "cell_type": "code",
   "execution_count": 108,
   "metadata": {},
   "outputs": [],
   "source": [
    "# Form Trigrams\n",
    "data_words_trigrams2 = make_trigrams(data_words2)\n",
    "\n",
    "# Do lemmatization keeping only noun, adj, vb\n",
    "data_lemmatized2 = lemmatization(data_words_trigrams2, allowed_postags=['NOUN', 'ADJ', 'VERB'])\n",
    "\n",
    "# set the length of word threshold as same as before for removing the words less than the threshold\n",
    "data_lemmatized2_2 = []\n",
    "for i in data_lemmatized2:\n",
    "    new_element = [x for x in i if len(x) >= minimum_len]\n",
    "    data_lemmatized2_2.append(new_element)\n",
    "    \n",
    "# Remove Stop Words\n",
    "data_lemmatized2_1 = remove_stop_words(data_lemmatized2_2)"
   ]
  },
  {
   "cell_type": "markdown",
   "metadata": {},
   "source": [
    "##### Classify the paragraphs based on the extracted topics"
   ]
  },
  {
   "cell_type": "code",
   "execution_count": 109,
   "metadata": {},
   "outputs": [],
   "source": [
    "# belong function: classify topics of paragraphs, it might take a long time because there are 148,651 paragraphs in the 11,132,849-word corpus\n",
    "list_topic_para = []\n",
    "dictionary_topic_para = {}\n",
    "for d in data_lemmatized2_1:\n",
    "    bow = id2word.doc2bow(d)\n",
    "    belong = lda_model[bow]\n",
    "    doc_dic = Convert(belong, dictionary_topic_para)\n",
    "    list_topic_para.append(doc_dic)\n",
    "    df_topic_para = pd.DataFrame(list_topic_para)"
   ]
  },
  {
   "cell_type": "code",
   "execution_count": 110,
   "metadata": {},
   "outputs": [
    {
     "data": {
      "text/html": [
       "<div>\n",
       "<style scoped>\n",
       "    .dataframe tbody tr th:only-of-type {\n",
       "        vertical-align: middle;\n",
       "    }\n",
       "\n",
       "    .dataframe tbody tr th {\n",
       "        vertical-align: top;\n",
       "    }\n",
       "\n",
       "    .dataframe thead th {\n",
       "        text-align: right;\n",
       "    }\n",
       "</style>\n",
       "<table border=\"1\" class=\"dataframe\">\n",
       "  <thead>\n",
       "    <tr style=\"text-align: right;\">\n",
       "      <th></th>\n",
       "      <th>index</th>\n",
       "      <th>creationDate</th>\n",
       "      <th>document_id</th>\n",
       "      <th>file_name</th>\n",
       "      <th>para_id</th>\n",
       "      <th>paragraphs</th>\n",
       "      <th>1</th>\n",
       "      <th>2</th>\n",
       "      <th>3</th>\n",
       "      <th>4</th>\n",
       "      <th>5</th>\n",
       "      <th>6</th>\n",
       "      <th>7</th>\n",
       "      <th>8</th>\n",
       "      <th>9</th>\n",
       "      <th>10</th>\n",
       "    </tr>\n",
       "  </thead>\n",
       "  <tbody>\n",
       "    <tr>\n",
       "      <th>0</th>\n",
       "      <td>2</td>\n",
       "      <td>D:20210822083603+00'00'</td>\n",
       "      <td>0</td>\n",
       "      <td>Examination_of_Witnesses_Sept_2003_-_Q1-19.pdf</td>\n",
       "      <td>2</td>\n",
       "      <td>MS BARBARA CASSANI Q1 Chairman: Good morning, ...</td>\n",
       "      <td>0.063916</td>\n",
       "      <td>0.124839</td>\n",
       "      <td>0.194832</td>\n",
       "      <td>0.055195</td>\n",
       "      <td>0.067197</td>\n",
       "      <td>0.070795</td>\n",
       "      <td>0.057485</td>\n",
       "      <td>0.220236</td>\n",
       "      <td>0.094435</td>\n",
       "      <td>0.051069</td>\n",
       "    </tr>\n",
       "    <tr>\n",
       "      <th>1</th>\n",
       "      <td>3</td>\n",
       "      <td>D:20210822083603+00'00'</td>\n",
       "      <td>0</td>\n",
       "      <td>Examination_of_Witnesses_Sept_2003_-_Q1-19.pdf</td>\n",
       "      <td>3</td>\n",
       "      <td>Ms Cassani: Thank you very much. Thank you ver...</td>\n",
       "      <td>0.075215</td>\n",
       "      <td>0.082753</td>\n",
       "      <td>0.129494</td>\n",
       "      <td>0.073575</td>\n",
       "      <td>0.078204</td>\n",
       "      <td>0.086212</td>\n",
       "      <td>0.077309</td>\n",
       "      <td>0.217785</td>\n",
       "      <td>0.097698</td>\n",
       "      <td>0.081755</td>\n",
       "    </tr>\n",
       "    <tr>\n",
       "      <th>2</th>\n",
       "      <td>4</td>\n",
       "      <td>D:20210822083603+00'00'</td>\n",
       "      <td>0</td>\n",
       "      <td>Examination_of_Witnesses_Sept_2003_-_Q1-19.pdf</td>\n",
       "      <td>4</td>\n",
       "      <td>8 months I shall be able to meet frequently wi...</td>\n",
       "      <td>0.089452</td>\n",
       "      <td>0.094595</td>\n",
       "      <td>0.104457</td>\n",
       "      <td>0.091917</td>\n",
       "      <td>0.084713</td>\n",
       "      <td>0.093249</td>\n",
       "      <td>0.111744</td>\n",
       "      <td>0.128840</td>\n",
       "      <td>0.100635</td>\n",
       "      <td>0.100398</td>\n",
       "    </tr>\n",
       "    <tr>\n",
       "      <th>3</th>\n",
       "      <td>5</td>\n",
       "      <td>D:20210822083603+00'00'</td>\n",
       "      <td>0</td>\n",
       "      <td>Examination_of_Witnesses_Sept_2003_-_Q1-19.pdf</td>\n",
       "      <td>5</td>\n",
       "      <td>The first thing I should like to say is that I...</td>\n",
       "      <td>0.025881</td>\n",
       "      <td>0.071182</td>\n",
       "      <td>0.088061</td>\n",
       "      <td>0.032208</td>\n",
       "      <td>0.099692</td>\n",
       "      <td>0.050140</td>\n",
       "      <td>0.031363</td>\n",
       "      <td>0.522551</td>\n",
       "      <td>0.037673</td>\n",
       "      <td>0.041248</td>\n",
       "    </tr>\n",
       "    <tr>\n",
       "      <th>4</th>\n",
       "      <td>6</td>\n",
       "      <td>D:20210822083603+00'00'</td>\n",
       "      <td>0</td>\n",
       "      <td>Examination_of_Witnesses_Sept_2003_-_Q1-19.pdf</td>\n",
       "      <td>6</td>\n",
       "      <td>Really the backdrop is that I believe in the G...</td>\n",
       "      <td>0.051199</td>\n",
       "      <td>0.084564</td>\n",
       "      <td>0.166066</td>\n",
       "      <td>0.139687</td>\n",
       "      <td>0.099277</td>\n",
       "      <td>0.112839</td>\n",
       "      <td>0.057875</td>\n",
       "      <td>0.145985</td>\n",
       "      <td>0.066059</td>\n",
       "      <td>0.076449</td>\n",
       "    </tr>\n",
       "    <tr>\n",
       "      <th>...</th>\n",
       "      <td>...</td>\n",
       "      <td>...</td>\n",
       "      <td>...</td>\n",
       "      <td>...</td>\n",
       "      <td>...</td>\n",
       "      <td>...</td>\n",
       "      <td>...</td>\n",
       "      <td>...</td>\n",
       "      <td>...</td>\n",
       "      <td>...</td>\n",
       "      <td>...</td>\n",
       "      <td>...</td>\n",
       "      <td>...</td>\n",
       "      <td>...</td>\n",
       "      <td>...</td>\n",
       "      <td>...</td>\n",
       "    </tr>\n",
       "    <tr>\n",
       "      <th>17709</th>\n",
       "      <td>21631</td>\n",
       "      <td>D:20210822084546+00'00'</td>\n",
       "      <td>168</td>\n",
       "      <td>Written_evidence_submitted_by_Youth_Sport_Trus...</td>\n",
       "      <td>37</td>\n",
       "      <td>7.3  When the impact of Olympics and Paralympi...</td>\n",
       "      <td>0.066862</td>\n",
       "      <td>0.063191</td>\n",
       "      <td>0.057503</td>\n",
       "      <td>0.094378</td>\n",
       "      <td>0.377863</td>\n",
       "      <td>0.089630</td>\n",
       "      <td>0.067530</td>\n",
       "      <td>0.058593</td>\n",
       "      <td>0.060486</td>\n",
       "      <td>0.063964</td>\n",
       "    </tr>\n",
       "    <tr>\n",
       "      <th>17710</th>\n",
       "      <td>21633</td>\n",
       "      <td>D:20210822084546+00'00'</td>\n",
       "      <td>168</td>\n",
       "      <td>Written_evidence_submitted_by_Youth_Sport_Trus...</td>\n",
       "      <td>39</td>\n",
       "      <td>11   2007-08 School Sport Survey.     12   As ...</td>\n",
       "      <td>0.083357</td>\n",
       "      <td>0.068824</td>\n",
       "      <td>0.089464</td>\n",
       "      <td>0.090349</td>\n",
       "      <td>0.223662</td>\n",
       "      <td>0.096629</td>\n",
       "      <td>0.080137</td>\n",
       "      <td>0.098947</td>\n",
       "      <td>0.083594</td>\n",
       "      <td>0.085038</td>\n",
       "    </tr>\n",
       "    <tr>\n",
       "      <th>17711</th>\n",
       "      <td>21634</td>\n",
       "      <td>D:20210822084546+00'00'</td>\n",
       "      <td>168</td>\n",
       "      <td>Written_evidence_submitted_by_Youth_Sport_Trus...</td>\n",
       "      <td>40</td>\n",
       "      <td>13   Gold Young Ambassadors work across School...</td>\n",
       "      <td>0.135806</td>\n",
       "      <td>0.079290</td>\n",
       "      <td>0.076687</td>\n",
       "      <td>0.177863</td>\n",
       "      <td>0.114509</td>\n",
       "      <td>0.086698</td>\n",
       "      <td>0.077985</td>\n",
       "      <td>0.086662</td>\n",
       "      <td>0.081836</td>\n",
       "      <td>0.082664</td>\n",
       "    </tr>\n",
       "    <tr>\n",
       "      <th>17712</th>\n",
       "      <td>21635</td>\n",
       "      <td>D:20210822084546+00'00'</td>\n",
       "      <td>168</td>\n",
       "      <td>Written_evidence_submitted_by_Youth_Sport_Trus...</td>\n",
       "      <td>41</td>\n",
       "      <td>14   From national data supplied by Department...</td>\n",
       "      <td>0.090812</td>\n",
       "      <td>0.084098</td>\n",
       "      <td>0.082604</td>\n",
       "      <td>0.101100</td>\n",
       "      <td>0.165467</td>\n",
       "      <td>0.093090</td>\n",
       "      <td>0.103398</td>\n",
       "      <td>0.090760</td>\n",
       "      <td>0.097093</td>\n",
       "      <td>0.091579</td>\n",
       "    </tr>\n",
       "    <tr>\n",
       "      <th>17713</th>\n",
       "      <td>21637</td>\n",
       "      <td>D:20210822084546+00'00'</td>\n",
       "      <td>168</td>\n",
       "      <td>Written_evidence_submitted_by_Youth_Sport_Trus...</td>\n",
       "      <td>43</td>\n",
       "      <td>5   The impact of School Sport Partnerships on...</td>\n",
       "      <td>0.132572</td>\n",
       "      <td>0.079062</td>\n",
       "      <td>0.082264</td>\n",
       "      <td>0.097060</td>\n",
       "      <td>0.185109</td>\n",
       "      <td>0.093249</td>\n",
       "      <td>0.081931</td>\n",
       "      <td>0.081980</td>\n",
       "      <td>0.082273</td>\n",
       "      <td>0.084501</td>\n",
       "    </tr>\n",
       "  </tbody>\n",
       "</table>\n",
       "<p>17714 rows × 16 columns</p>\n",
       "</div>"
      ],
      "text/plain": [
       "       index             creationDate  document_id  \\\n",
       "0          2  D:20210822083603+00'00'            0   \n",
       "1          3  D:20210822083603+00'00'            0   \n",
       "2          4  D:20210822083603+00'00'            0   \n",
       "3          5  D:20210822083603+00'00'            0   \n",
       "4          6  D:20210822083603+00'00'            0   \n",
       "...      ...                      ...          ...   \n",
       "17709  21631  D:20210822084546+00'00'          168   \n",
       "17710  21633  D:20210822084546+00'00'          168   \n",
       "17711  21634  D:20210822084546+00'00'          168   \n",
       "17712  21635  D:20210822084546+00'00'          168   \n",
       "17713  21637  D:20210822084546+00'00'          168   \n",
       "\n",
       "                                               file_name para_id  \\\n",
       "0         Examination_of_Witnesses_Sept_2003_-_Q1-19.pdf       2   \n",
       "1         Examination_of_Witnesses_Sept_2003_-_Q1-19.pdf       3   \n",
       "2         Examination_of_Witnesses_Sept_2003_-_Q1-19.pdf       4   \n",
       "3         Examination_of_Witnesses_Sept_2003_-_Q1-19.pdf       5   \n",
       "4         Examination_of_Witnesses_Sept_2003_-_Q1-19.pdf       6   \n",
       "...                                                  ...     ...   \n",
       "17709  Written_evidence_submitted_by_Youth_Sport_Trus...      37   \n",
       "17710  Written_evidence_submitted_by_Youth_Sport_Trus...      39   \n",
       "17711  Written_evidence_submitted_by_Youth_Sport_Trus...      40   \n",
       "17712  Written_evidence_submitted_by_Youth_Sport_Trus...      41   \n",
       "17713  Written_evidence_submitted_by_Youth_Sport_Trus...      43   \n",
       "\n",
       "                                              paragraphs         1         2  \\\n",
       "0      MS BARBARA CASSANI Q1 Chairman: Good morning, ...  0.063916  0.124839   \n",
       "1      Ms Cassani: Thank you very much. Thank you ver...  0.075215  0.082753   \n",
       "2      8 months I shall be able to meet frequently wi...  0.089452  0.094595   \n",
       "3      The first thing I should like to say is that I...  0.025881  0.071182   \n",
       "4      Really the backdrop is that I believe in the G...  0.051199  0.084564   \n",
       "...                                                  ...       ...       ...   \n",
       "17709  7.3  When the impact of Olympics and Paralympi...  0.066862  0.063191   \n",
       "17710  11   2007-08 School Sport Survey.     12   As ...  0.083357  0.068824   \n",
       "17711  13   Gold Young Ambassadors work across School...  0.135806  0.079290   \n",
       "17712  14   From national data supplied by Department...  0.090812  0.084098   \n",
       "17713  5   The impact of School Sport Partnerships on...  0.132572  0.079062   \n",
       "\n",
       "              3         4         5         6         7         8         9  \\\n",
       "0      0.194832  0.055195  0.067197  0.070795  0.057485  0.220236  0.094435   \n",
       "1      0.129494  0.073575  0.078204  0.086212  0.077309  0.217785  0.097698   \n",
       "2      0.104457  0.091917  0.084713  0.093249  0.111744  0.128840  0.100635   \n",
       "3      0.088061  0.032208  0.099692  0.050140  0.031363  0.522551  0.037673   \n",
       "4      0.166066  0.139687  0.099277  0.112839  0.057875  0.145985  0.066059   \n",
       "...         ...       ...       ...       ...       ...       ...       ...   \n",
       "17709  0.057503  0.094378  0.377863  0.089630  0.067530  0.058593  0.060486   \n",
       "17710  0.089464  0.090349  0.223662  0.096629  0.080137  0.098947  0.083594   \n",
       "17711  0.076687  0.177863  0.114509  0.086698  0.077985  0.086662  0.081836   \n",
       "17712  0.082604  0.101100  0.165467  0.093090  0.103398  0.090760  0.097093   \n",
       "17713  0.082264  0.097060  0.185109  0.093249  0.081931  0.081980  0.082273   \n",
       "\n",
       "             10  \n",
       "0      0.051069  \n",
       "1      0.081755  \n",
       "2      0.100398  \n",
       "3      0.041248  \n",
       "4      0.076449  \n",
       "...         ...  \n",
       "17709  0.063964  \n",
       "17710  0.085038  \n",
       "17711  0.082664  \n",
       "17712  0.091579  \n",
       "17713  0.084501  \n",
       "\n",
       "[17714 rows x 16 columns]"
      ]
     },
     "execution_count": 110,
     "metadata": {},
     "output_type": "execute_result"
    }
   ],
   "source": [
    "# rename the topic IDs to ensure they are as same as the topic IDs in the pyLDAvis\n",
    "df_topic_para = df_topic_para.rename(columns = dict(zip(original_topic_id, new_topic_id)))\n",
    "\n",
    "# topic distribution of paragraphs\n",
    "df_topic_para1_1 = pd.merge(df_para, df_topic_para, how = 'left', left_index=True, right_index=True)\n",
    "df_topic_para1_1"
   ]
  },
  {
   "cell_type": "code",
   "execution_count": 111,
   "metadata": {},
   "outputs": [],
   "source": [
    "# save the result to disk\n",
    "df_topic_para1_1.to_pickle('./df_topic_para_Olympics.pkl')"
   ]
  },
  {
   "cell_type": "code",
   "execution_count": 112,
   "metadata": {},
   "outputs": [],
   "source": [
    "# load the result from disk\n",
    "df_topic_para1 = pd.read_pickle('./df_topic_para_Olympics.pkl') "
   ]
  },
  {
   "cell_type": "code",
   "execution_count": 113,
   "metadata": {},
   "outputs": [],
   "source": [
    "# drop the paragraphs with high frequency but meaningless for interperation based on the extraction of prototypical paragraphs below\n",
    "list_remove_para = []                                # input the index of the paragraphs you want to drop\n",
    "df_topic_para2 = df_topic_para1.copy().drop(list_remove_para) \n",
    "df_topic_para2.to_pickle('./df_topic_para_Olympics2.pkl') # save the resuilt to disk"
   ]
  },
  {
   "cell_type": "markdown",
   "metadata": {},
   "source": [
    "### 5.3.2. N most prototypical paragraphs overall"
   ]
  },
  {
   "cell_type": "code",
   "execution_count": 114,
   "metadata": {},
   "outputs": [
    {
     "data": {
      "text/html": [
       "<div>\n",
       "<style scoped>\n",
       "    .dataframe tbody tr th:only-of-type {\n",
       "        vertical-align: middle;\n",
       "    }\n",
       "\n",
       "    .dataframe tbody tr th {\n",
       "        vertical-align: top;\n",
       "    }\n",
       "\n",
       "    .dataframe thead th {\n",
       "        text-align: right;\n",
       "    }\n",
       "</style>\n",
       "<table border=\"1\" class=\"dataframe\">\n",
       "  <thead>\n",
       "    <tr style=\"text-align: right;\">\n",
       "      <th></th>\n",
       "      <th>index</th>\n",
       "      <th>creationDate</th>\n",
       "      <th>document_id</th>\n",
       "      <th>file_name</th>\n",
       "      <th>para_id</th>\n",
       "      <th>paragraphs</th>\n",
       "      <th>1</th>\n",
       "      <th>2</th>\n",
       "      <th>3</th>\n",
       "      <th>4</th>\n",
       "      <th>5</th>\n",
       "      <th>6</th>\n",
       "      <th>7</th>\n",
       "      <th>8</th>\n",
       "      <th>9</th>\n",
       "      <th>10</th>\n",
       "    </tr>\n",
       "  </thead>\n",
       "  <tbody>\n",
       "    <tr>\n",
       "      <th>0</th>\n",
       "      <td>2</td>\n",
       "      <td>D:20210822083603+00'00'</td>\n",
       "      <td>0</td>\n",
       "      <td>Examination_of_Witnesses_Sept_2003_-_Q1-19.pdf</td>\n",
       "      <td>2</td>\n",
       "      <td>MS BARBARA CASSANI Q1 Chairman: Good morning, ...</td>\n",
       "      <td>0.063916</td>\n",
       "      <td>0.124839</td>\n",
       "      <td>0.194832</td>\n",
       "      <td>0.055195</td>\n",
       "      <td>0.067197</td>\n",
       "      <td>0.070795</td>\n",
       "      <td>0.057485</td>\n",
       "      <td>0.220236</td>\n",
       "      <td>0.094435</td>\n",
       "      <td>0.051069</td>\n",
       "    </tr>\n",
       "    <tr>\n",
       "      <th>1</th>\n",
       "      <td>3</td>\n",
       "      <td>D:20210822083603+00'00'</td>\n",
       "      <td>0</td>\n",
       "      <td>Examination_of_Witnesses_Sept_2003_-_Q1-19.pdf</td>\n",
       "      <td>3</td>\n",
       "      <td>Ms Cassani: Thank you very much. Thank you ver...</td>\n",
       "      <td>0.075215</td>\n",
       "      <td>0.082753</td>\n",
       "      <td>0.129494</td>\n",
       "      <td>0.073575</td>\n",
       "      <td>0.078204</td>\n",
       "      <td>0.086212</td>\n",
       "      <td>0.077309</td>\n",
       "      <td>0.217785</td>\n",
       "      <td>0.097698</td>\n",
       "      <td>0.081755</td>\n",
       "    </tr>\n",
       "    <tr>\n",
       "      <th>2</th>\n",
       "      <td>4</td>\n",
       "      <td>D:20210822083603+00'00'</td>\n",
       "      <td>0</td>\n",
       "      <td>Examination_of_Witnesses_Sept_2003_-_Q1-19.pdf</td>\n",
       "      <td>4</td>\n",
       "      <td>8 months I shall be able to meet frequently wi...</td>\n",
       "      <td>0.089452</td>\n",
       "      <td>0.094595</td>\n",
       "      <td>0.104457</td>\n",
       "      <td>0.091917</td>\n",
       "      <td>0.084713</td>\n",
       "      <td>0.093249</td>\n",
       "      <td>0.111744</td>\n",
       "      <td>0.128840</td>\n",
       "      <td>0.100635</td>\n",
       "      <td>0.100398</td>\n",
       "    </tr>\n",
       "    <tr>\n",
       "      <th>3</th>\n",
       "      <td>5</td>\n",
       "      <td>D:20210822083603+00'00'</td>\n",
       "      <td>0</td>\n",
       "      <td>Examination_of_Witnesses_Sept_2003_-_Q1-19.pdf</td>\n",
       "      <td>5</td>\n",
       "      <td>The first thing I should like to say is that I...</td>\n",
       "      <td>0.025881</td>\n",
       "      <td>0.071182</td>\n",
       "      <td>0.088061</td>\n",
       "      <td>0.032208</td>\n",
       "      <td>0.099692</td>\n",
       "      <td>0.050140</td>\n",
       "      <td>0.031363</td>\n",
       "      <td>0.522551</td>\n",
       "      <td>0.037673</td>\n",
       "      <td>0.041248</td>\n",
       "    </tr>\n",
       "    <tr>\n",
       "      <th>4</th>\n",
       "      <td>6</td>\n",
       "      <td>D:20210822083603+00'00'</td>\n",
       "      <td>0</td>\n",
       "      <td>Examination_of_Witnesses_Sept_2003_-_Q1-19.pdf</td>\n",
       "      <td>6</td>\n",
       "      <td>Really the backdrop is that I believe in the G...</td>\n",
       "      <td>0.051199</td>\n",
       "      <td>0.084564</td>\n",
       "      <td>0.166066</td>\n",
       "      <td>0.139687</td>\n",
       "      <td>0.099277</td>\n",
       "      <td>0.112839</td>\n",
       "      <td>0.057875</td>\n",
       "      <td>0.145985</td>\n",
       "      <td>0.066059</td>\n",
       "      <td>0.076449</td>\n",
       "    </tr>\n",
       "    <tr>\n",
       "      <th>...</th>\n",
       "      <td>...</td>\n",
       "      <td>...</td>\n",
       "      <td>...</td>\n",
       "      <td>...</td>\n",
       "      <td>...</td>\n",
       "      <td>...</td>\n",
       "      <td>...</td>\n",
       "      <td>...</td>\n",
       "      <td>...</td>\n",
       "      <td>...</td>\n",
       "      <td>...</td>\n",
       "      <td>...</td>\n",
       "      <td>...</td>\n",
       "      <td>...</td>\n",
       "      <td>...</td>\n",
       "      <td>...</td>\n",
       "    </tr>\n",
       "    <tr>\n",
       "      <th>17709</th>\n",
       "      <td>21631</td>\n",
       "      <td>D:20210822084546+00'00'</td>\n",
       "      <td>168</td>\n",
       "      <td>Written_evidence_submitted_by_Youth_Sport_Trus...</td>\n",
       "      <td>37</td>\n",
       "      <td>7.3  When the impact of Olympics and Paralympi...</td>\n",
       "      <td>0.066862</td>\n",
       "      <td>0.063191</td>\n",
       "      <td>0.057503</td>\n",
       "      <td>0.094378</td>\n",
       "      <td>0.377863</td>\n",
       "      <td>0.089630</td>\n",
       "      <td>0.067530</td>\n",
       "      <td>0.058593</td>\n",
       "      <td>0.060486</td>\n",
       "      <td>0.063964</td>\n",
       "    </tr>\n",
       "    <tr>\n",
       "      <th>17710</th>\n",
       "      <td>21633</td>\n",
       "      <td>D:20210822084546+00'00'</td>\n",
       "      <td>168</td>\n",
       "      <td>Written_evidence_submitted_by_Youth_Sport_Trus...</td>\n",
       "      <td>39</td>\n",
       "      <td>11   2007-08 School Sport Survey.     12   As ...</td>\n",
       "      <td>0.083357</td>\n",
       "      <td>0.068824</td>\n",
       "      <td>0.089464</td>\n",
       "      <td>0.090349</td>\n",
       "      <td>0.223662</td>\n",
       "      <td>0.096629</td>\n",
       "      <td>0.080137</td>\n",
       "      <td>0.098947</td>\n",
       "      <td>0.083594</td>\n",
       "      <td>0.085038</td>\n",
       "    </tr>\n",
       "    <tr>\n",
       "      <th>17711</th>\n",
       "      <td>21634</td>\n",
       "      <td>D:20210822084546+00'00'</td>\n",
       "      <td>168</td>\n",
       "      <td>Written_evidence_submitted_by_Youth_Sport_Trus...</td>\n",
       "      <td>40</td>\n",
       "      <td>13   Gold Young Ambassadors work across School...</td>\n",
       "      <td>0.135806</td>\n",
       "      <td>0.079290</td>\n",
       "      <td>0.076687</td>\n",
       "      <td>0.177863</td>\n",
       "      <td>0.114509</td>\n",
       "      <td>0.086698</td>\n",
       "      <td>0.077985</td>\n",
       "      <td>0.086662</td>\n",
       "      <td>0.081836</td>\n",
       "      <td>0.082664</td>\n",
       "    </tr>\n",
       "    <tr>\n",
       "      <th>17712</th>\n",
       "      <td>21635</td>\n",
       "      <td>D:20210822084546+00'00'</td>\n",
       "      <td>168</td>\n",
       "      <td>Written_evidence_submitted_by_Youth_Sport_Trus...</td>\n",
       "      <td>41</td>\n",
       "      <td>14   From national data supplied by Department...</td>\n",
       "      <td>0.090812</td>\n",
       "      <td>0.084098</td>\n",
       "      <td>0.082604</td>\n",
       "      <td>0.101100</td>\n",
       "      <td>0.165467</td>\n",
       "      <td>0.093090</td>\n",
       "      <td>0.103398</td>\n",
       "      <td>0.090760</td>\n",
       "      <td>0.097093</td>\n",
       "      <td>0.091579</td>\n",
       "    </tr>\n",
       "    <tr>\n",
       "      <th>17713</th>\n",
       "      <td>21637</td>\n",
       "      <td>D:20210822084546+00'00'</td>\n",
       "      <td>168</td>\n",
       "      <td>Written_evidence_submitted_by_Youth_Sport_Trus...</td>\n",
       "      <td>43</td>\n",
       "      <td>5   The impact of School Sport Partnerships on...</td>\n",
       "      <td>0.132572</td>\n",
       "      <td>0.079062</td>\n",
       "      <td>0.082264</td>\n",
       "      <td>0.097060</td>\n",
       "      <td>0.185109</td>\n",
       "      <td>0.093249</td>\n",
       "      <td>0.081931</td>\n",
       "      <td>0.081980</td>\n",
       "      <td>0.082273</td>\n",
       "      <td>0.084501</td>\n",
       "    </tr>\n",
       "  </tbody>\n",
       "</table>\n",
       "<p>17714 rows × 16 columns</p>\n",
       "</div>"
      ],
      "text/plain": [
       "       index             creationDate  document_id  \\\n",
       "0          2  D:20210822083603+00'00'            0   \n",
       "1          3  D:20210822083603+00'00'            0   \n",
       "2          4  D:20210822083603+00'00'            0   \n",
       "3          5  D:20210822083603+00'00'            0   \n",
       "4          6  D:20210822083603+00'00'            0   \n",
       "...      ...                      ...          ...   \n",
       "17709  21631  D:20210822084546+00'00'          168   \n",
       "17710  21633  D:20210822084546+00'00'          168   \n",
       "17711  21634  D:20210822084546+00'00'          168   \n",
       "17712  21635  D:20210822084546+00'00'          168   \n",
       "17713  21637  D:20210822084546+00'00'          168   \n",
       "\n",
       "                                               file_name para_id  \\\n",
       "0         Examination_of_Witnesses_Sept_2003_-_Q1-19.pdf       2   \n",
       "1         Examination_of_Witnesses_Sept_2003_-_Q1-19.pdf       3   \n",
       "2         Examination_of_Witnesses_Sept_2003_-_Q1-19.pdf       4   \n",
       "3         Examination_of_Witnesses_Sept_2003_-_Q1-19.pdf       5   \n",
       "4         Examination_of_Witnesses_Sept_2003_-_Q1-19.pdf       6   \n",
       "...                                                  ...     ...   \n",
       "17709  Written_evidence_submitted_by_Youth_Sport_Trus...      37   \n",
       "17710  Written_evidence_submitted_by_Youth_Sport_Trus...      39   \n",
       "17711  Written_evidence_submitted_by_Youth_Sport_Trus...      40   \n",
       "17712  Written_evidence_submitted_by_Youth_Sport_Trus...      41   \n",
       "17713  Written_evidence_submitted_by_Youth_Sport_Trus...      43   \n",
       "\n",
       "                                              paragraphs         1         2  \\\n",
       "0      MS BARBARA CASSANI Q1 Chairman: Good morning, ...  0.063916  0.124839   \n",
       "1      Ms Cassani: Thank you very much. Thank you ver...  0.075215  0.082753   \n",
       "2      8 months I shall be able to meet frequently wi...  0.089452  0.094595   \n",
       "3      The first thing I should like to say is that I...  0.025881  0.071182   \n",
       "4      Really the backdrop is that I believe in the G...  0.051199  0.084564   \n",
       "...                                                  ...       ...       ...   \n",
       "17709  7.3  When the impact of Olympics and Paralympi...  0.066862  0.063191   \n",
       "17710  11   2007-08 School Sport Survey.     12   As ...  0.083357  0.068824   \n",
       "17711  13   Gold Young Ambassadors work across School...  0.135806  0.079290   \n",
       "17712  14   From national data supplied by Department...  0.090812  0.084098   \n",
       "17713  5   The impact of School Sport Partnerships on...  0.132572  0.079062   \n",
       "\n",
       "              3         4         5         6         7         8         9  \\\n",
       "0      0.194832  0.055195  0.067197  0.070795  0.057485  0.220236  0.094435   \n",
       "1      0.129494  0.073575  0.078204  0.086212  0.077309  0.217785  0.097698   \n",
       "2      0.104457  0.091917  0.084713  0.093249  0.111744  0.128840  0.100635   \n",
       "3      0.088061  0.032208  0.099692  0.050140  0.031363  0.522551  0.037673   \n",
       "4      0.166066  0.139687  0.099277  0.112839  0.057875  0.145985  0.066059   \n",
       "...         ...       ...       ...       ...       ...       ...       ...   \n",
       "17709  0.057503  0.094378  0.377863  0.089630  0.067530  0.058593  0.060486   \n",
       "17710  0.089464  0.090349  0.223662  0.096629  0.080137  0.098947  0.083594   \n",
       "17711  0.076687  0.177863  0.114509  0.086698  0.077985  0.086662  0.081836   \n",
       "17712  0.082604  0.101100  0.165467  0.093090  0.103398  0.090760  0.097093   \n",
       "17713  0.082264  0.097060  0.185109  0.093249  0.081931  0.081980  0.082273   \n",
       "\n",
       "             10  \n",
       "0      0.051069  \n",
       "1      0.081755  \n",
       "2      0.100398  \n",
       "3      0.041248  \n",
       "4      0.076449  \n",
       "...         ...  \n",
       "17709  0.063964  \n",
       "17710  0.085038  \n",
       "17711  0.082664  \n",
       "17712  0.091579  \n",
       "17713  0.084501  \n",
       "\n",
       "[17714 rows x 16 columns]"
      ]
     },
     "execution_count": 114,
     "metadata": {},
     "output_type": "execute_result"
    }
   ],
   "source": [
    "df_topic_para2"
   ]
  },
  {
   "cell_type": "code",
   "execution_count": 115,
   "metadata": {},
   "outputs": [],
   "source": [
    "#N most prototypical paragraphs overall\n",
    "df_topic_para2_n = df_topic_para2.copy()\n",
    "df_topic_para2_n['highest_p'] = df_topic_para2_n.iloc[:, 6:].max(axis = 1)          # get the highest probability among the topic distribution of each paragraph\n",
    "df_topic_para2_n['salient_topic'] = df_topic_para2_n.iloc[:, 6:].idxmax(axis = 1)    # get the corresponding topic id\n",
    "df_topic_para2_n = df_topic_para2_n[['index','file_name','salient_topic','paragraphs','highest_p',]]\n",
    "df_topic_para2_n.columns = ['Index','file','topic', 'paragraph','probability']"
   ]
  },
  {
   "cell_type": "code",
   "execution_count": 116,
   "metadata": {},
   "outputs": [
    {
     "data": {
      "text/html": [
       "<style  type=\"text/css\" >\n",
       "#T_24412_row0_col3,#T_24412_row1_col3,#T_24412_row2_col3,#T_24412_row3_col3,#T_24412_row4_col3{\n",
       "            width:  1000px;\n",
       "            length:  50px;\n",
       "        }</style><table id=\"T_24412_\" ><thead>    <tr>        <th class=\"blank level0\" ></th>        <th class=\"col_heading level0 col0\" >Index</th>        <th class=\"col_heading level0 col1\" >file</th>        <th class=\"col_heading level0 col2\" >topic</th>        <th class=\"col_heading level0 col3\" >paragraph</th>        <th class=\"col_heading level0 col4\" >probability</th>    </tr></thead><tbody>\n",
       "                <tr>\n",
       "                        <th id=\"T_24412_level0_row0\" class=\"row_heading level0 row0\" >8304</th>\n",
       "                        <td id=\"T_24412_row0_col0\" class=\"data row0 col0\" >9897</td>\n",
       "                        <td id=\"T_24412_row0_col1\" class=\"data row0 col1\" >PAC_26_April_2012_-_Olympic_Costs_-_corrected_evidence_(no_report).pdf</td>\n",
       "                        <td id=\"T_24412_row0_col2\" class=\"data row0 col2\" >2</td>\n",
       "                        <td id=\"T_24412_row0_col3\" class=\"data row0 col3\" >You think that the assessment of risks is our best estimate of the most likely outcome of the budget as a whole. But actually the assessment of risk-and how we have compiled it-is this: we have not sought to estimate how likely it is that every risk arises. We just said, \"Let us think about every risk that could arise, and let us assume that they all arise and work out the likely cost of them all arising.\" On top of that, we said, \"And there will be some risks that we just cannot think about that are unknown unknowns. There will be some multiple consequentials if everything came together.\" So we end up with an estimate not of the most likely cost of the project, which is what the burden of paragraph 1 of the PAC Report understands it is, but an estimate of how much we would need to set aside in the very unlikely event that all risks arise and some more unknown risks arise as well. The purpose of that is not to get to an estimate of the likely outcome of the budget. Its purpose and why we do it is to see, against any reasonable view of the likely risk that might arise, even on an assumption that they all arise and some more unknown risks arise, whether we have enough money. The conclusion has always been, yes, we had. Against what is therefore, in my view, a conservative and prudent estimate, we had £36 million headroom at the time of the NAO Report. We had more, and indeed the picture over the six-month period since the original figures on which the NAO was recording this, is that the contingency has gone down by £27 million or so-we reckon, because these are provisional figures, but I want to give our best figures-and the assessed risks on that very conservative and prudent basis have gone down by £136 million. So the picture on the budget as a whole is that we are spending contingency significantly slower than risks are disappearing from the programme. That is why, without in any sense being complacent, I am confident that we will bring this in within budget, and I do not think that the budget is close to being used up</td>\n",
       "                        <td id=\"T_24412_row0_col4\" class=\"data row0 col4\" >0.684665</td>\n",
       "            </tr>\n",
       "            <tr>\n",
       "                        <th id=\"T_24412_level0_row1\" class=\"row_heading level0 row1\" >8388</th>\n",
       "                        <td id=\"T_24412_row1_col0\" class=\"data row1 col0\" >9995</td>\n",
       "                        <td id=\"T_24412_row1_col1\" class=\"data row1 col1\" >PAC_26_April_2012_-_Olympic_Costs_-_corrected_evidence_(no_report).pdf</td>\n",
       "                        <td id=\"T_24412_row1_col2\" class=\"data row1 col2\" >2</td>\n",
       "                        <td id=\"T_24412_row1_col3\" class=\"data row1 col3\" >Jonathan Stephens: There are two aspects to risk: likelihood and impact. What we are saying is that we made no estimate of likelihood, we just wrote in a 100% likelihood of all the risks we could think of and some unknown risks that we could not think of. We then looked at impact, and on impact we said, \"If this risk were to materialise-we are assuming a 100% likelihood that it materialises-what is the likely cost?\" That is where you get the low, the most likely outcome and the high outcome. When you add those together, you do not get to an outcome of, \"What is the most likely expenditure on the programme?\"; you get to an outcome of, \"If all conceivable risks arise, plus some unknown risks that we cannot identify, what is the likely expenditure?\" That is a conservative and prudent view of, \"Do we have enough contingency left, if all those risks arise?\" In practice, they won’t all arise. It is conceivable that some will arise, but it is pretty unlikely that all of them will arise. It is perfectly conceivable that some individual risk will arise at a higher estimate than the most likely estimate, but the prospect of all those risks arising is unlikely. The prospect of them all arising at the very highest possible cost is so unlikely as to not provide a good basis for planning. I am sorry. I am going on at some length, but there is a real point</td>\n",
       "                        <td id=\"T_24412_row1_col4\" class=\"data row1 col4\" >0.664391</td>\n",
       "            </tr>\n",
       "            <tr>\n",
       "                        <th id=\"T_24412_level0_row2\" class=\"row_heading level0 row2\" >17552</th>\n",
       "                        <td id=\"T_24412_row2_col0\" class=\"data row2 col0\" >21447</td>\n",
       "                        <td id=\"T_24412_row2_col1\" class=\"data row2 col1\" >Written_evidence_submitted_by_Vision_2020_UK_-_Jan_2010.pdf</td>\n",
       "                        <td id=\"T_24412_row2_col2\" class=\"data row2 col2\" >5</td>\n",
       "                        <td id=\"T_24412_row2_col3\" class=\"data row2 col3\" >4. Most clubs seem ill-prepared for enquiries from, and inclusion of, people with disabilities who wish to participate in the sport offered by the club. There is little or no support for specialist clubs who provide opportunities for sport that cannot be integrated ie wheelchair basketball or blind cricket! There is often nothing locally to support the child or their parent in accessing the specialist provision and this often involves their having to undertake extensive travel to specialist facilities or organisations catering for this group. There is poor information regarding availability etc and http://www.parasport.org.uk was established as a portal to provide pathway and provision information. The then Mayor of London published a strategy in 2007, which highlighted all these issues and to date there has been little, if any, action to redress these anomalies in London or in the rest of the country. DCSF have, in my view, shown no leadership regarding the legacy of 2012 and its impact on PE in schools and the inclusion of those with disabilities in core curriculum activities or sporting opportunities within or after school. DCMS held a legacy event in 2008 and again in April 2009 focusing on the legacy of the Games for those with disabilities. One outcome was to seek greater links between DWP, DCSF and themselves to ensure that joint strategies were developed and pathways established that enabled children to enjoy and participate in PE and sport within schools/after school clubs/integrated and specialist provision in the community, with good national talent forums and pathways established for those who wish to participate in sport at a higher level and finally, with governing bodies having clear inclusive programmes for sports men and women with disabilities active at a national and international level</td>\n",
       "                        <td id=\"T_24412_row2_col4\" class=\"data row2 col4\" >0.605244</td>\n",
       "            </tr>\n",
       "            <tr>\n",
       "                        <th id=\"T_24412_level0_row3\" class=\"row_heading level0 row3\" >3329</th>\n",
       "                        <td id=\"T_24412_row3_col0\" class=\"data row3 col0\" >3935</td>\n",
       "                        <td id=\"T_24412_row3_col1\" class=\"data row3 col1\" >NAO_Preparations_for_the_Olympics_-_Progress_report_-_June_2008.pdf</td>\n",
       "                        <td id=\"T_24412_row3_col2\" class=\"data row3 col2\" >7</td>\n",
       "                        <td id=\"T_24412_row3_col3\" class=\"data row3 col3\" >6 PREPARATIONS FOR THE LONDON 2012 OLyMPIC AND PARALyMPIC GAMES: PROGRESS REPORT JuNE 2008\t \t \t \t \t \t10 The start and completion dates for the construction of the main venue and infrastructure projects delivered by the Olympic Delivery Authority at the end of March 2008 compared with the milestones in the November 2007 Programme Baseline ReportProjectEnabling Works (site preparation) Power Lines under Grounding  (switchover only)   Structures, Bridges and Highways utilities Main Stadium    Aquatics Centre    VeloparkHandball/Indoor Sports ArenaBasketballInternational Broadcast Centre/ Main Press CentreOlympic Village Eton Manor (training facilities  and Paralympic events)  Broxbourne  (white water canoeing) Eton Dorney (rowing) Weymouth and Portland (sailing)construction start date November 2007  March 2008 Change in  programme  Forecast start date  baseline  (months)October 2006 October 2006 0 July 2008 July 2008 0   April 2008 April 2008 0 January 2008 January 2008 0 July 2008 May 2008 –21    September 2008 September 2008 0 March 2009 March 2009 0August 2009 June 2009 –2July 2009 November 2009 4May 2009 March 2009 –2 June 2008 May 2008 –1 March 2010 January 2010 –2   August 2008 May 2009 9  March 2009 January 2009 –2 May 2008 January 2008 –4construction end date November 2007  March 2008 Change in  programme  Forecast end date  baseline   (months)September 2009 September 2009 0 September 2008 November 2008 2   December 2011 December 2011 0 December 2011 August 2011 –4 Construction  Construction end date end dateFebruary 2011 April 2011 2Completion date  Completion date for construction  for construction and initial overlay  and initial overlay for test events for test eventsJune 2011 June 2011 0Construction  Construction end date end dateApril 2011 August 2011 4Completion date  Completion date for construction  for construction and initial overlay  and initial overlay for test events for test eventsJuly 2011 August 2011 1April 2011 February 2011 –2April 2011 March 2011 –1April 2011 April 2011 0June 2011 July 2011 1 December 2011 December 2011 0 February 2012 April 2011 –10   June 2010 October 2010 4  April 2010 July 2009 –9 February 2009 January 2009 –1Source: National Audit Office examination of actual and forecast progress against the November 2007 Programme BaselineNOTE</td>\n",
       "                        <td id=\"T_24412_row3_col4\" class=\"data row3 col4\" >0.604578</td>\n",
       "            </tr>\n",
       "            <tr>\n",
       "                        <th id=\"T_24412_level0_row4\" class=\"row_heading level0 row4\" >3639</th>\n",
       "                        <td id=\"T_24412_row4_col0\" class=\"data row4 col0\" >4286</td>\n",
       "                        <td id=\"T_24412_row4_col1\" class=\"data row4 col1\" >NAO_Preparing_for_sporting_success_-_March_2008.pdf</td>\n",
       "                        <td id=\"T_24412_row4_col2\" class=\"data row4 col2\" >4</td>\n",
       "                        <td id=\"T_24412_row4_col3\" class=\"data row4 col3\" >4 UK Sport’s ‘ultimate goals’ for medal success at the London 2012 Games will require a step change in performance amongst elite athletes. The achievements of athletes at recent elite international events in a number of sports, including sailing, cycling, rowing, boxing, disability equestrian and disability shooting, suggest that performance levels in some sports are already improving significantly. Following increased spending on elite sport, host nations can typically expect to win an extra six or seven gold medals at an Olympic Games and to win medals across a wider range of sports. This ‘host nation effect’ would not in itself be enough to deliver UK Sport’s Olympic goal, which is likely to require an improvement of eight or nine gold medals over the Great Britain team’s performance at the Athens Games in 2004 if the relative performance of other nations remained the same. Changes in the performance of other nations since 2004, especially in the context of a general trend of increased spending on elite sport, sometimes referred to as a ‘global sporting arms race’, may also have implications for UK Sport in delivering its medal aspirations</td>\n",
       "                        <td id=\"T_24412_row4_col4\" class=\"data row4 col4\" >0.599309</td>\n",
       "            </tr>\n",
       "    </tbody></table>"
      ],
      "text/plain": [
       "<pandas.io.formats.style.Styler at 0x241a53edbb0>"
      ]
     },
     "execution_count": 116,
     "metadata": {},
     "output_type": "execute_result"
    }
   ],
   "source": [
    "N1 = 5   # Set N to get the N most prototypical paragraphs overall\n",
    "df_topic_para2_n.nlargest(N1,['probability']).style.set_properties(subset = ['paragraph'], **{'width':'1000px', 'length': '50px'})"
   ]
  },
  {
   "cell_type": "markdown",
   "metadata": {},
   "source": [
    "### 5.3.3.  N most prototypical paragraphs where the belong() function is greater than the threshold L\n",
    "I followed the method of extraction of prototypical text suggested by PTBI (Marchetti and Puranam, 2020. p. 14). PTBI attempts to not only extract the prototypical documents to improve interpretability, but also to find the minimum number of prototypical documents for topic interpretation. The algorithm is shown as follows:\n",
    "1. Defines a threshold L  (L < ∈ [0,1]). For instance, we set L to be 0.5.\n",
    "2. For each topic, select the documents with the probability that they belong to the topic is not less than L (0.5). \n",
    "3. For each topic, check whether the number of documents selected is not less than 1/L. For instance, if L = 0.5, for each topic we need at least 2 documents for topic interpretation. This method weakens the limitation that a few documents have a high proportion of a topic is because of randomness.\n",
    "4. Compute the percentage of interpretable topics as described in step iii\n",
    "5. Change L, keep iterating and find the optimal L with which the percentage of interpretable topics is the highest. "
   ]
  },
  {
   "cell_type": "markdown",
   "metadata": {},
   "source": [
    "##### Indenfication of the optimal L and miminum number of paragraphs for topic interpretation"
   ]
  },
  {
   "cell_type": "code",
   "execution_count": 117,
   "metadata": {},
   "outputs": [],
   "source": [
    "List_num_doc = [x for x in range(1, 20, 1)] # generate a list of 1/L (minimum number of documents to interpret a topic)\n",
    "list_L = [1/x for x in List_num_doc]        # generate a list of L"
   ]
  },
  {
   "cell_type": "code",
   "execution_count": 118,
   "metadata": {},
   "outputs": [],
   "source": [
    "# define the function for computing the percentage of potentially interpretable topics against parameter L\n",
    "def perc(i, df):\n",
    "    list_num_topics = []\n",
    "    for j in df:                                  \n",
    "        topic_filter = df[j] >= i         \n",
    "        m = df[j][topic_filter].count()           \n",
    "        list_num_topics.append(m)                                             \n",
    "        count1 = sum(map(lambda x : x >= 1/i, list_num_topics))                                     \n",
    "        perc1 = count1 / k\n",
    "    return(perc1)"
   ]
  },
  {
   "cell_type": "markdown",
   "metadata": {},
   "source": [
    "The plot shows that when L = 0.333, the percentage of interpretable topics is 100%, so I set L to be 0.333 - ie, each topic needs at least 3 (1/0.333) paragraphs with the probability that they belong to the topic is no less than 3  for interpretation. It is worth noting that L is inversely proportional to the minimum number of paragraphs of each topic for interpretation (1/L), in other words, the lower the threshold L is, the more paragraphs that users need to interpret the topics. Although when L = 0.1 the percentage of interpretable topics is also 100%, the minimum number of paragraphs of each topic for interpretation also rises to 10 (1/0.1), which increases the workload of interpretation significantly."
   ]
  },
  {
   "cell_type": "code",
   "execution_count": 119,
   "metadata": {},
   "outputs": [
    {
     "data": {
      "application/vnd.plotly.v1+json": {
       "config": {
        "plotlyServerURL": "https://plotly.com"
       },
       "data": [
        {
         "hovertemplate": "Threshold_L=%{x}<br>Percentage of interpretable topics=%{y}<extra></extra>",
         "legendgroup": "",
         "line": {
          "color": "#636efa",
          "dash": "solid"
         },
         "mode": "lines+markers",
         "name": "",
         "orientation": "v",
         "showlegend": false,
         "type": "scatter",
         "x": [
          1,
          0.5,
          0.3333333333333333,
          0.25,
          0.2,
          0.16666666666666666,
          0.14285714285714285,
          0.125,
          0.1111111111111111,
          0.1,
          0.09090909090909091,
          0.08333333333333333,
          0.07692307692307693,
          0.07142857142857142,
          0.06666666666666667,
          0.0625,
          0.058823529411764705,
          0.05555555555555555,
          0.05263157894736842
         ],
         "xaxis": "x",
         "y": [
          0,
          0.7,
          1,
          1,
          1,
          1,
          1,
          1,
          1,
          1,
          1,
          1,
          1,
          1,
          1,
          1,
          1,
          1,
          1
         ],
         "yaxis": "y"
        }
       ],
       "layout": {
        "autosize": false,
        "height": 400,
        "legend": {
         "tracegroupgap": 0
        },
        "template": {
         "data": {
          "bar": [
           {
            "error_x": {
             "color": "#2a3f5f"
            },
            "error_y": {
             "color": "#2a3f5f"
            },
            "marker": {
             "line": {
              "color": "#E5ECF6",
              "width": 0.5
             }
            },
            "type": "bar"
           }
          ],
          "barpolar": [
           {
            "marker": {
             "line": {
              "color": "#E5ECF6",
              "width": 0.5
             }
            },
            "type": "barpolar"
           }
          ],
          "carpet": [
           {
            "aaxis": {
             "endlinecolor": "#2a3f5f",
             "gridcolor": "white",
             "linecolor": "white",
             "minorgridcolor": "white",
             "startlinecolor": "#2a3f5f"
            },
            "baxis": {
             "endlinecolor": "#2a3f5f",
             "gridcolor": "white",
             "linecolor": "white",
             "minorgridcolor": "white",
             "startlinecolor": "#2a3f5f"
            },
            "type": "carpet"
           }
          ],
          "choropleth": [
           {
            "colorbar": {
             "outlinewidth": 0,
             "ticks": ""
            },
            "type": "choropleth"
           }
          ],
          "contour": [
           {
            "colorbar": {
             "outlinewidth": 0,
             "ticks": ""
            },
            "colorscale": [
             [
              0,
              "#0d0887"
             ],
             [
              0.1111111111111111,
              "#46039f"
             ],
             [
              0.2222222222222222,
              "#7201a8"
             ],
             [
              0.3333333333333333,
              "#9c179e"
             ],
             [
              0.4444444444444444,
              "#bd3786"
             ],
             [
              0.5555555555555556,
              "#d8576b"
             ],
             [
              0.6666666666666666,
              "#ed7953"
             ],
             [
              0.7777777777777778,
              "#fb9f3a"
             ],
             [
              0.8888888888888888,
              "#fdca26"
             ],
             [
              1,
              "#f0f921"
             ]
            ],
            "type": "contour"
           }
          ],
          "contourcarpet": [
           {
            "colorbar": {
             "outlinewidth": 0,
             "ticks": ""
            },
            "type": "contourcarpet"
           }
          ],
          "heatmap": [
           {
            "colorbar": {
             "outlinewidth": 0,
             "ticks": ""
            },
            "colorscale": [
             [
              0,
              "#0d0887"
             ],
             [
              0.1111111111111111,
              "#46039f"
             ],
             [
              0.2222222222222222,
              "#7201a8"
             ],
             [
              0.3333333333333333,
              "#9c179e"
             ],
             [
              0.4444444444444444,
              "#bd3786"
             ],
             [
              0.5555555555555556,
              "#d8576b"
             ],
             [
              0.6666666666666666,
              "#ed7953"
             ],
             [
              0.7777777777777778,
              "#fb9f3a"
             ],
             [
              0.8888888888888888,
              "#fdca26"
             ],
             [
              1,
              "#f0f921"
             ]
            ],
            "type": "heatmap"
           }
          ],
          "heatmapgl": [
           {
            "colorbar": {
             "outlinewidth": 0,
             "ticks": ""
            },
            "colorscale": [
             [
              0,
              "#0d0887"
             ],
             [
              0.1111111111111111,
              "#46039f"
             ],
             [
              0.2222222222222222,
              "#7201a8"
             ],
             [
              0.3333333333333333,
              "#9c179e"
             ],
             [
              0.4444444444444444,
              "#bd3786"
             ],
             [
              0.5555555555555556,
              "#d8576b"
             ],
             [
              0.6666666666666666,
              "#ed7953"
             ],
             [
              0.7777777777777778,
              "#fb9f3a"
             ],
             [
              0.8888888888888888,
              "#fdca26"
             ],
             [
              1,
              "#f0f921"
             ]
            ],
            "type": "heatmapgl"
           }
          ],
          "histogram": [
           {
            "marker": {
             "colorbar": {
              "outlinewidth": 0,
              "ticks": ""
             }
            },
            "type": "histogram"
           }
          ],
          "histogram2d": [
           {
            "colorbar": {
             "outlinewidth": 0,
             "ticks": ""
            },
            "colorscale": [
             [
              0,
              "#0d0887"
             ],
             [
              0.1111111111111111,
              "#46039f"
             ],
             [
              0.2222222222222222,
              "#7201a8"
             ],
             [
              0.3333333333333333,
              "#9c179e"
             ],
             [
              0.4444444444444444,
              "#bd3786"
             ],
             [
              0.5555555555555556,
              "#d8576b"
             ],
             [
              0.6666666666666666,
              "#ed7953"
             ],
             [
              0.7777777777777778,
              "#fb9f3a"
             ],
             [
              0.8888888888888888,
              "#fdca26"
             ],
             [
              1,
              "#f0f921"
             ]
            ],
            "type": "histogram2d"
           }
          ],
          "histogram2dcontour": [
           {
            "colorbar": {
             "outlinewidth": 0,
             "ticks": ""
            },
            "colorscale": [
             [
              0,
              "#0d0887"
             ],
             [
              0.1111111111111111,
              "#46039f"
             ],
             [
              0.2222222222222222,
              "#7201a8"
             ],
             [
              0.3333333333333333,
              "#9c179e"
             ],
             [
              0.4444444444444444,
              "#bd3786"
             ],
             [
              0.5555555555555556,
              "#d8576b"
             ],
             [
              0.6666666666666666,
              "#ed7953"
             ],
             [
              0.7777777777777778,
              "#fb9f3a"
             ],
             [
              0.8888888888888888,
              "#fdca26"
             ],
             [
              1,
              "#f0f921"
             ]
            ],
            "type": "histogram2dcontour"
           }
          ],
          "mesh3d": [
           {
            "colorbar": {
             "outlinewidth": 0,
             "ticks": ""
            },
            "type": "mesh3d"
           }
          ],
          "parcoords": [
           {
            "line": {
             "colorbar": {
              "outlinewidth": 0,
              "ticks": ""
             }
            },
            "type": "parcoords"
           }
          ],
          "pie": [
           {
            "automargin": true,
            "type": "pie"
           }
          ],
          "scatter": [
           {
            "marker": {
             "colorbar": {
              "outlinewidth": 0,
              "ticks": ""
             }
            },
            "type": "scatter"
           }
          ],
          "scatter3d": [
           {
            "line": {
             "colorbar": {
              "outlinewidth": 0,
              "ticks": ""
             }
            },
            "marker": {
             "colorbar": {
              "outlinewidth": 0,
              "ticks": ""
             }
            },
            "type": "scatter3d"
           }
          ],
          "scattercarpet": [
           {
            "marker": {
             "colorbar": {
              "outlinewidth": 0,
              "ticks": ""
             }
            },
            "type": "scattercarpet"
           }
          ],
          "scattergeo": [
           {
            "marker": {
             "colorbar": {
              "outlinewidth": 0,
              "ticks": ""
             }
            },
            "type": "scattergeo"
           }
          ],
          "scattergl": [
           {
            "marker": {
             "colorbar": {
              "outlinewidth": 0,
              "ticks": ""
             }
            },
            "type": "scattergl"
           }
          ],
          "scattermapbox": [
           {
            "marker": {
             "colorbar": {
              "outlinewidth": 0,
              "ticks": ""
             }
            },
            "type": "scattermapbox"
           }
          ],
          "scatterpolar": [
           {
            "marker": {
             "colorbar": {
              "outlinewidth": 0,
              "ticks": ""
             }
            },
            "type": "scatterpolar"
           }
          ],
          "scatterpolargl": [
           {
            "marker": {
             "colorbar": {
              "outlinewidth": 0,
              "ticks": ""
             }
            },
            "type": "scatterpolargl"
           }
          ],
          "scatterternary": [
           {
            "marker": {
             "colorbar": {
              "outlinewidth": 0,
              "ticks": ""
             }
            },
            "type": "scatterternary"
           }
          ],
          "surface": [
           {
            "colorbar": {
             "outlinewidth": 0,
             "ticks": ""
            },
            "colorscale": [
             [
              0,
              "#0d0887"
             ],
             [
              0.1111111111111111,
              "#46039f"
             ],
             [
              0.2222222222222222,
              "#7201a8"
             ],
             [
              0.3333333333333333,
              "#9c179e"
             ],
             [
              0.4444444444444444,
              "#bd3786"
             ],
             [
              0.5555555555555556,
              "#d8576b"
             ],
             [
              0.6666666666666666,
              "#ed7953"
             ],
             [
              0.7777777777777778,
              "#fb9f3a"
             ],
             [
              0.8888888888888888,
              "#fdca26"
             ],
             [
              1,
              "#f0f921"
             ]
            ],
            "type": "surface"
           }
          ],
          "table": [
           {
            "cells": {
             "fill": {
              "color": "#EBF0F8"
             },
             "line": {
              "color": "white"
             }
            },
            "header": {
             "fill": {
              "color": "#C8D4E3"
             },
             "line": {
              "color": "white"
             }
            },
            "type": "table"
           }
          ]
         },
         "layout": {
          "annotationdefaults": {
           "arrowcolor": "#2a3f5f",
           "arrowhead": 0,
           "arrowwidth": 1
          },
          "autotypenumbers": "strict",
          "coloraxis": {
           "colorbar": {
            "outlinewidth": 0,
            "ticks": ""
           }
          },
          "colorscale": {
           "diverging": [
            [
             0,
             "#8e0152"
            ],
            [
             0.1,
             "#c51b7d"
            ],
            [
             0.2,
             "#de77ae"
            ],
            [
             0.3,
             "#f1b6da"
            ],
            [
             0.4,
             "#fde0ef"
            ],
            [
             0.5,
             "#f7f7f7"
            ],
            [
             0.6,
             "#e6f5d0"
            ],
            [
             0.7,
             "#b8e186"
            ],
            [
             0.8,
             "#7fbc41"
            ],
            [
             0.9,
             "#4d9221"
            ],
            [
             1,
             "#276419"
            ]
           ],
           "sequential": [
            [
             0,
             "#0d0887"
            ],
            [
             0.1111111111111111,
             "#46039f"
            ],
            [
             0.2222222222222222,
             "#7201a8"
            ],
            [
             0.3333333333333333,
             "#9c179e"
            ],
            [
             0.4444444444444444,
             "#bd3786"
            ],
            [
             0.5555555555555556,
             "#d8576b"
            ],
            [
             0.6666666666666666,
             "#ed7953"
            ],
            [
             0.7777777777777778,
             "#fb9f3a"
            ],
            [
             0.8888888888888888,
             "#fdca26"
            ],
            [
             1,
             "#f0f921"
            ]
           ],
           "sequentialminus": [
            [
             0,
             "#0d0887"
            ],
            [
             0.1111111111111111,
             "#46039f"
            ],
            [
             0.2222222222222222,
             "#7201a8"
            ],
            [
             0.3333333333333333,
             "#9c179e"
            ],
            [
             0.4444444444444444,
             "#bd3786"
            ],
            [
             0.5555555555555556,
             "#d8576b"
            ],
            [
             0.6666666666666666,
             "#ed7953"
            ],
            [
             0.7777777777777778,
             "#fb9f3a"
            ],
            [
             0.8888888888888888,
             "#fdca26"
            ],
            [
             1,
             "#f0f921"
            ]
           ]
          },
          "colorway": [
           "#636efa",
           "#EF553B",
           "#00cc96",
           "#ab63fa",
           "#FFA15A",
           "#19d3f3",
           "#FF6692",
           "#B6E880",
           "#FF97FF",
           "#FECB52"
          ],
          "font": {
           "color": "#2a3f5f"
          },
          "geo": {
           "bgcolor": "white",
           "lakecolor": "white",
           "landcolor": "#E5ECF6",
           "showlakes": true,
           "showland": true,
           "subunitcolor": "white"
          },
          "hoverlabel": {
           "align": "left"
          },
          "hovermode": "closest",
          "mapbox": {
           "style": "light"
          },
          "paper_bgcolor": "white",
          "plot_bgcolor": "#E5ECF6",
          "polar": {
           "angularaxis": {
            "gridcolor": "white",
            "linecolor": "white",
            "ticks": ""
           },
           "bgcolor": "#E5ECF6",
           "radialaxis": {
            "gridcolor": "white",
            "linecolor": "white",
            "ticks": ""
           }
          },
          "scene": {
           "xaxis": {
            "backgroundcolor": "#E5ECF6",
            "gridcolor": "white",
            "gridwidth": 2,
            "linecolor": "white",
            "showbackground": true,
            "ticks": "",
            "zerolinecolor": "white"
           },
           "yaxis": {
            "backgroundcolor": "#E5ECF6",
            "gridcolor": "white",
            "gridwidth": 2,
            "linecolor": "white",
            "showbackground": true,
            "ticks": "",
            "zerolinecolor": "white"
           },
           "zaxis": {
            "backgroundcolor": "#E5ECF6",
            "gridcolor": "white",
            "gridwidth": 2,
            "linecolor": "white",
            "showbackground": true,
            "ticks": "",
            "zerolinecolor": "white"
           }
          },
          "shapedefaults": {
           "line": {
            "color": "#2a3f5f"
           }
          },
          "ternary": {
           "aaxis": {
            "gridcolor": "white",
            "linecolor": "white",
            "ticks": ""
           },
           "baxis": {
            "gridcolor": "white",
            "linecolor": "white",
            "ticks": ""
           },
           "bgcolor": "#E5ECF6",
           "caxis": {
            "gridcolor": "white",
            "linecolor": "white",
            "ticks": ""
           }
          },
          "title": {
           "x": 0.05
          },
          "xaxis": {
           "automargin": true,
           "gridcolor": "white",
           "linecolor": "white",
           "ticks": "",
           "title": {
            "standoff": 15
           },
           "zerolinecolor": "white",
           "zerolinewidth": 2
          },
          "yaxis": {
           "automargin": true,
           "gridcolor": "white",
           "linecolor": "white",
           "ticks": "",
           "title": {
            "standoff": 15
           },
           "zerolinecolor": "white",
           "zerolinewidth": 2
          }
         }
        },
        "title": {
         "text": "Percentage of interpretable topics"
        },
        "width": 800,
        "xaxis": {
         "anchor": "y",
         "domain": [
          0,
          1
         ],
         "title": {
          "text": "Threshold_L"
         }
        },
        "yaxis": {
         "anchor": "x",
         "domain": [
          0,
          1
         ],
         "title": {
          "text": "Percentage of interpretable topics"
         }
        }
       }
      },
      "text/html": [
       "<div>                            <div id=\"22225a5b-c97e-4061-b294-9b0b68b36f47\" class=\"plotly-graph-div\" style=\"height:400px; width:800px;\"></div>            <script type=\"text/javascript\">                require([\"plotly\"], function(Plotly) {                    window.PLOTLYENV=window.PLOTLYENV || {};                                    if (document.getElementById(\"22225a5b-c97e-4061-b294-9b0b68b36f47\")) {                    Plotly.newPlot(                        \"22225a5b-c97e-4061-b294-9b0b68b36f47\",                        [{\"hovertemplate\": \"Threshold_L=%{x}<br>Percentage of interpretable topics=%{y}<extra></extra>\", \"legendgroup\": \"\", \"line\": {\"color\": \"#636efa\", \"dash\": \"solid\"}, \"mode\": \"lines+markers\", \"name\": \"\", \"orientation\": \"v\", \"showlegend\": false, \"type\": \"scatter\", \"x\": [1.0, 0.5, 0.3333333333333333, 0.25, 0.2, 0.16666666666666666, 0.14285714285714285, 0.125, 0.1111111111111111, 0.1, 0.09090909090909091, 0.08333333333333333, 0.07692307692307693, 0.07142857142857142, 0.06666666666666667, 0.0625, 0.058823529411764705, 0.05555555555555555, 0.05263157894736842], \"xaxis\": \"x\", \"y\": [0.0, 0.7, 1.0, 1.0, 1.0, 1.0, 1.0, 1.0, 1.0, 1.0, 1.0, 1.0, 1.0, 1.0, 1.0, 1.0, 1.0, 1.0, 1.0], \"yaxis\": \"y\"}],                        {\"autosize\": false, \"height\": 400, \"legend\": {\"tracegroupgap\": 0}, \"template\": {\"data\": {\"bar\": [{\"error_x\": {\"color\": \"#2a3f5f\"}, \"error_y\": {\"color\": \"#2a3f5f\"}, \"marker\": {\"line\": {\"color\": \"#E5ECF6\", \"width\": 0.5}}, \"type\": \"bar\"}], \"barpolar\": [{\"marker\": {\"line\": {\"color\": \"#E5ECF6\", \"width\": 0.5}}, \"type\": \"barpolar\"}], \"carpet\": [{\"aaxis\": {\"endlinecolor\": \"#2a3f5f\", \"gridcolor\": \"white\", \"linecolor\": \"white\", \"minorgridcolor\": \"white\", \"startlinecolor\": \"#2a3f5f\"}, \"baxis\": {\"endlinecolor\": \"#2a3f5f\", \"gridcolor\": \"white\", \"linecolor\": \"white\", \"minorgridcolor\": \"white\", \"startlinecolor\": \"#2a3f5f\"}, \"type\": \"carpet\"}], \"choropleth\": [{\"colorbar\": {\"outlinewidth\": 0, \"ticks\": \"\"}, \"type\": \"choropleth\"}], \"contour\": [{\"colorbar\": {\"outlinewidth\": 0, \"ticks\": \"\"}, \"colorscale\": [[0.0, \"#0d0887\"], [0.1111111111111111, \"#46039f\"], [0.2222222222222222, \"#7201a8\"], [0.3333333333333333, \"#9c179e\"], [0.4444444444444444, \"#bd3786\"], [0.5555555555555556, \"#d8576b\"], [0.6666666666666666, \"#ed7953\"], [0.7777777777777778, \"#fb9f3a\"], [0.8888888888888888, \"#fdca26\"], [1.0, \"#f0f921\"]], \"type\": \"contour\"}], \"contourcarpet\": [{\"colorbar\": {\"outlinewidth\": 0, \"ticks\": \"\"}, \"type\": \"contourcarpet\"}], \"heatmap\": [{\"colorbar\": {\"outlinewidth\": 0, \"ticks\": \"\"}, \"colorscale\": [[0.0, \"#0d0887\"], [0.1111111111111111, \"#46039f\"], [0.2222222222222222, \"#7201a8\"], [0.3333333333333333, \"#9c179e\"], [0.4444444444444444, \"#bd3786\"], [0.5555555555555556, \"#d8576b\"], [0.6666666666666666, \"#ed7953\"], [0.7777777777777778, \"#fb9f3a\"], [0.8888888888888888, \"#fdca26\"], [1.0, \"#f0f921\"]], \"type\": \"heatmap\"}], \"heatmapgl\": [{\"colorbar\": {\"outlinewidth\": 0, \"ticks\": \"\"}, \"colorscale\": [[0.0, \"#0d0887\"], [0.1111111111111111, \"#46039f\"], [0.2222222222222222, \"#7201a8\"], [0.3333333333333333, \"#9c179e\"], [0.4444444444444444, \"#bd3786\"], [0.5555555555555556, \"#d8576b\"], [0.6666666666666666, \"#ed7953\"], [0.7777777777777778, \"#fb9f3a\"], [0.8888888888888888, \"#fdca26\"], [1.0, \"#f0f921\"]], \"type\": \"heatmapgl\"}], \"histogram\": [{\"marker\": {\"colorbar\": {\"outlinewidth\": 0, \"ticks\": \"\"}}, \"type\": \"histogram\"}], \"histogram2d\": [{\"colorbar\": {\"outlinewidth\": 0, \"ticks\": \"\"}, \"colorscale\": [[0.0, \"#0d0887\"], [0.1111111111111111, \"#46039f\"], [0.2222222222222222, \"#7201a8\"], [0.3333333333333333, \"#9c179e\"], [0.4444444444444444, \"#bd3786\"], [0.5555555555555556, \"#d8576b\"], [0.6666666666666666, \"#ed7953\"], [0.7777777777777778, \"#fb9f3a\"], [0.8888888888888888, \"#fdca26\"], [1.0, \"#f0f921\"]], \"type\": \"histogram2d\"}], \"histogram2dcontour\": [{\"colorbar\": {\"outlinewidth\": 0, \"ticks\": \"\"}, \"colorscale\": [[0.0, \"#0d0887\"], [0.1111111111111111, \"#46039f\"], [0.2222222222222222, \"#7201a8\"], [0.3333333333333333, \"#9c179e\"], [0.4444444444444444, \"#bd3786\"], [0.5555555555555556, \"#d8576b\"], [0.6666666666666666, \"#ed7953\"], [0.7777777777777778, \"#fb9f3a\"], [0.8888888888888888, \"#fdca26\"], [1.0, \"#f0f921\"]], \"type\": \"histogram2dcontour\"}], \"mesh3d\": [{\"colorbar\": {\"outlinewidth\": 0, \"ticks\": \"\"}, \"type\": \"mesh3d\"}], \"parcoords\": [{\"line\": {\"colorbar\": {\"outlinewidth\": 0, \"ticks\": \"\"}}, \"type\": \"parcoords\"}], \"pie\": [{\"automargin\": true, \"type\": \"pie\"}], \"scatter\": [{\"marker\": {\"colorbar\": {\"outlinewidth\": 0, \"ticks\": \"\"}}, \"type\": \"scatter\"}], \"scatter3d\": [{\"line\": {\"colorbar\": {\"outlinewidth\": 0, \"ticks\": \"\"}}, \"marker\": {\"colorbar\": {\"outlinewidth\": 0, \"ticks\": \"\"}}, \"type\": \"scatter3d\"}], \"scattercarpet\": [{\"marker\": {\"colorbar\": {\"outlinewidth\": 0, \"ticks\": \"\"}}, \"type\": \"scattercarpet\"}], \"scattergeo\": [{\"marker\": {\"colorbar\": {\"outlinewidth\": 0, \"ticks\": \"\"}}, \"type\": \"scattergeo\"}], \"scattergl\": [{\"marker\": {\"colorbar\": {\"outlinewidth\": 0, \"ticks\": \"\"}}, \"type\": \"scattergl\"}], \"scattermapbox\": [{\"marker\": {\"colorbar\": {\"outlinewidth\": 0, \"ticks\": \"\"}}, \"type\": \"scattermapbox\"}], \"scatterpolar\": [{\"marker\": {\"colorbar\": {\"outlinewidth\": 0, \"ticks\": \"\"}}, \"type\": \"scatterpolar\"}], \"scatterpolargl\": [{\"marker\": {\"colorbar\": {\"outlinewidth\": 0, \"ticks\": \"\"}}, \"type\": \"scatterpolargl\"}], \"scatterternary\": [{\"marker\": {\"colorbar\": {\"outlinewidth\": 0, \"ticks\": \"\"}}, \"type\": \"scatterternary\"}], \"surface\": [{\"colorbar\": {\"outlinewidth\": 0, \"ticks\": \"\"}, \"colorscale\": [[0.0, \"#0d0887\"], [0.1111111111111111, \"#46039f\"], [0.2222222222222222, \"#7201a8\"], [0.3333333333333333, \"#9c179e\"], [0.4444444444444444, \"#bd3786\"], [0.5555555555555556, \"#d8576b\"], [0.6666666666666666, \"#ed7953\"], [0.7777777777777778, \"#fb9f3a\"], [0.8888888888888888, \"#fdca26\"], [1.0, \"#f0f921\"]], \"type\": \"surface\"}], \"table\": [{\"cells\": {\"fill\": {\"color\": \"#EBF0F8\"}, \"line\": {\"color\": \"white\"}}, \"header\": {\"fill\": {\"color\": \"#C8D4E3\"}, \"line\": {\"color\": \"white\"}}, \"type\": \"table\"}]}, \"layout\": {\"annotationdefaults\": {\"arrowcolor\": \"#2a3f5f\", \"arrowhead\": 0, \"arrowwidth\": 1}, \"autotypenumbers\": \"strict\", \"coloraxis\": {\"colorbar\": {\"outlinewidth\": 0, \"ticks\": \"\"}}, \"colorscale\": {\"diverging\": [[0, \"#8e0152\"], [0.1, \"#c51b7d\"], [0.2, \"#de77ae\"], [0.3, \"#f1b6da\"], [0.4, \"#fde0ef\"], [0.5, \"#f7f7f7\"], [0.6, \"#e6f5d0\"], [0.7, \"#b8e186\"], [0.8, \"#7fbc41\"], [0.9, \"#4d9221\"], [1, \"#276419\"]], \"sequential\": [[0.0, \"#0d0887\"], [0.1111111111111111, \"#46039f\"], [0.2222222222222222, \"#7201a8\"], [0.3333333333333333, \"#9c179e\"], [0.4444444444444444, \"#bd3786\"], [0.5555555555555556, \"#d8576b\"], [0.6666666666666666, \"#ed7953\"], [0.7777777777777778, \"#fb9f3a\"], [0.8888888888888888, \"#fdca26\"], [1.0, \"#f0f921\"]], \"sequentialminus\": [[0.0, \"#0d0887\"], [0.1111111111111111, \"#46039f\"], [0.2222222222222222, \"#7201a8\"], [0.3333333333333333, \"#9c179e\"], [0.4444444444444444, \"#bd3786\"], [0.5555555555555556, \"#d8576b\"], [0.6666666666666666, \"#ed7953\"], [0.7777777777777778, \"#fb9f3a\"], [0.8888888888888888, \"#fdca26\"], [1.0, \"#f0f921\"]]}, \"colorway\": [\"#636efa\", \"#EF553B\", \"#00cc96\", \"#ab63fa\", \"#FFA15A\", \"#19d3f3\", \"#FF6692\", \"#B6E880\", \"#FF97FF\", \"#FECB52\"], \"font\": {\"color\": \"#2a3f5f\"}, \"geo\": {\"bgcolor\": \"white\", \"lakecolor\": \"white\", \"landcolor\": \"#E5ECF6\", \"showlakes\": true, \"showland\": true, \"subunitcolor\": \"white\"}, \"hoverlabel\": {\"align\": \"left\"}, \"hovermode\": \"closest\", \"mapbox\": {\"style\": \"light\"}, \"paper_bgcolor\": \"white\", \"plot_bgcolor\": \"#E5ECF6\", \"polar\": {\"angularaxis\": {\"gridcolor\": \"white\", \"linecolor\": \"white\", \"ticks\": \"\"}, \"bgcolor\": \"#E5ECF6\", \"radialaxis\": {\"gridcolor\": \"white\", \"linecolor\": \"white\", \"ticks\": \"\"}}, \"scene\": {\"xaxis\": {\"backgroundcolor\": \"#E5ECF6\", \"gridcolor\": \"white\", \"gridwidth\": 2, \"linecolor\": \"white\", \"showbackground\": true, \"ticks\": \"\", \"zerolinecolor\": \"white\"}, \"yaxis\": {\"backgroundcolor\": \"#E5ECF6\", \"gridcolor\": \"white\", \"gridwidth\": 2, \"linecolor\": \"white\", \"showbackground\": true, \"ticks\": \"\", \"zerolinecolor\": \"white\"}, \"zaxis\": {\"backgroundcolor\": \"#E5ECF6\", \"gridcolor\": \"white\", \"gridwidth\": 2, \"linecolor\": \"white\", \"showbackground\": true, \"ticks\": \"\", \"zerolinecolor\": \"white\"}}, \"shapedefaults\": {\"line\": {\"color\": \"#2a3f5f\"}}, \"ternary\": {\"aaxis\": {\"gridcolor\": \"white\", \"linecolor\": \"white\", \"ticks\": \"\"}, \"baxis\": {\"gridcolor\": \"white\", \"linecolor\": \"white\", \"ticks\": \"\"}, \"bgcolor\": \"#E5ECF6\", \"caxis\": {\"gridcolor\": \"white\", \"linecolor\": \"white\", \"ticks\": \"\"}}, \"title\": {\"x\": 0.05}, \"xaxis\": {\"automargin\": true, \"gridcolor\": \"white\", \"linecolor\": \"white\", \"ticks\": \"\", \"title\": {\"standoff\": 15}, \"zerolinecolor\": \"white\", \"zerolinewidth\": 2}, \"yaxis\": {\"automargin\": true, \"gridcolor\": \"white\", \"linecolor\": \"white\", \"ticks\": \"\", \"title\": {\"standoff\": 15}, \"zerolinecolor\": \"white\", \"zerolinewidth\": 2}}}, \"title\": {\"text\": \"Percentage of interpretable topics\"}, \"width\": 800, \"xaxis\": {\"anchor\": \"y\", \"domain\": [0.0, 1.0], \"title\": {\"text\": \"Threshold_L\"}}, \"yaxis\": {\"anchor\": \"x\", \"domain\": [0.0, 1.0], \"title\": {\"text\": \"Percentage of interpretable topics\"}}},                        {\"responsive\": true}                    ).then(function(){\n",
       "                            \n",
       "var gd = document.getElementById('22225a5b-c97e-4061-b294-9b0b68b36f47');\n",
       "var x = new MutationObserver(function (mutations, observer) {{\n",
       "        var display = window.getComputedStyle(gd).display;\n",
       "        if (!display || display === 'none') {{\n",
       "            console.log([gd, 'removed!']);\n",
       "            Plotly.purge(gd);\n",
       "            observer.disconnect();\n",
       "        }}\n",
       "}});\n",
       "\n",
       "// Listen for the removal of the full notebook cells\n",
       "var notebookContainer = gd.closest('#notebook-container');\n",
       "if (notebookContainer) {{\n",
       "    x.observe(notebookContainer, {childList: true});\n",
       "}}\n",
       "\n",
       "// Listen for the clearing of the current output cell\n",
       "var outputEl = gd.closest('.output');\n",
       "if (outputEl) {{\n",
       "    x.observe(outputEl, {childList: true});\n",
       "}}\n",
       "\n",
       "                        })                };                });            </script>        </div>"
      ]
     },
     "metadata": {},
     "output_type": "display_data"
    }
   ],
   "source": [
    "list_perc2 = []\n",
    "for i in list_L:\n",
    "    num = perc(i, df_topic_para.drop(list_remove_para))\n",
    "    list_perc2.append(num)\n",
    "\n",
    "df_L2 = pd.DataFrame({'Threshold_L': list_L, 'Percentage of interpretable topics': list_perc2})\n",
    "fig_L2 = px.line(df_L2, x = 'Threshold_L', y=\"Percentage of interpretable topics\", title = 'Percentage of interpretable topics')\n",
    "fig_L2.update_layout(autosize=False, width=800, height=400)\n",
    "fig_L2.update_traces(mode = \"lines + markers\")\n",
    "fig_L2.show()"
   ]
  },
  {
   "cell_type": "code",
   "execution_count": 120,
   "metadata": {},
   "outputs": [],
   "source": [
    "# define the function for extracting the highest N ranked paragraphs from each topic\n",
    "def top_n_filter(df, top_n):\n",
    "    list_topic_id = [x+1 for x in range(0,k)]\n",
    "    list_n_para = []\n",
    "    list_n_p = []\n",
    "    list_n_index = []\n",
    "    list_n_file_name = []\n",
    "    for x in range(1, k + 1): \n",
    "        n_para = [i for i in df.nlargest(top_n, [x])['paragraphs']]\n",
    "        n_p = [i for i in df.nlargest(top_n, [x])[x]]\n",
    "        n_index = [i for i in df_topic_para2.nlargest(top_n, [x]).index]\n",
    "        n_file_name = [i for i in df.nlargest(top_n, [x])['file_name']]\n",
    "        list_n_para.append(n_para)\n",
    "        list_n_p.append(n_p)\n",
    "        list_n_file_name.append(n_file_name)\n",
    "        list_n_index.append(n_index)\n",
    "    pd_n_para = pd.DataFrame({'Index':list_n_index, 'topic_id': list_topic_id, 'file': list_n_file_name, 'paragraph': list_n_para, 'probability': list_n_p})\n",
    "    return(pd_n_para.apply(pd.Series.explode).reset_index().drop('index', axis = 1))"
   ]
  },
  {
   "cell_type": "markdown",
   "metadata": {},
   "source": [
    "Below we get the the 3 most prototypical paragraphs of each topic when we set the optimal L to be 0.333. "
   ]
  },
  {
   "cell_type": "code",
   "execution_count": 121,
   "metadata": {},
   "outputs": [
    {
     "data": {
      "text/html": [
       "<style  type=\"text/css\" >\n",
       "#T_fa77a_row0_col3,#T_fa77a_row1_col3,#T_fa77a_row2_col3,#T_fa77a_row3_col3,#T_fa77a_row4_col3,#T_fa77a_row5_col3,#T_fa77a_row6_col3,#T_fa77a_row7_col3,#T_fa77a_row8_col3,#T_fa77a_row9_col3,#T_fa77a_row10_col3,#T_fa77a_row11_col3,#T_fa77a_row12_col3,#T_fa77a_row13_col3,#T_fa77a_row14_col3,#T_fa77a_row15_col3,#T_fa77a_row16_col3,#T_fa77a_row17_col3,#T_fa77a_row18_col3,#T_fa77a_row19_col3,#T_fa77a_row20_col3,#T_fa77a_row21_col3,#T_fa77a_row22_col3,#T_fa77a_row23_col3,#T_fa77a_row24_col3,#T_fa77a_row25_col3,#T_fa77a_row26_col3,#T_fa77a_row27_col3,#T_fa77a_row28_col3,#T_fa77a_row29_col3{\n",
       "            width:  500px;\n",
       "            length:  50px;\n",
       "        }</style><table id=\"T_fa77a_\" ><thead>    <tr>        <th class=\"blank level0\" ></th>        <th class=\"col_heading level0 col0\" >Index</th>        <th class=\"col_heading level0 col1\" >topic_id</th>        <th class=\"col_heading level0 col2\" >file</th>        <th class=\"col_heading level0 col3\" >paragraph</th>        <th class=\"col_heading level0 col4\" >probability</th>    </tr></thead><tbody>\n",
       "                <tr>\n",
       "                        <th id=\"T_fa77a_level0_row0\" class=\"row_heading level0 row0\" >0</th>\n",
       "                        <td id=\"T_fa77a_row0_col0\" class=\"data row0 col0\" >17263</td>\n",
       "                        <td id=\"T_fa77a_row0_col1\" class=\"data row0 col1\" >1</td>\n",
       "                        <td id=\"T_fa77a_row0_col2\" class=\"data row0 col2\" >Written_evidence_submitted_by_Richard_Baldwin_-_Dec_2009.pdf</td>\n",
       "                        <td id=\"T_fa77a_row0_col3\" class=\"data row0 col3\" >In my view what is needed is a specific initiative to promote the Olympic Legacy linked to CASC status and in which those responsible for that Legacy will actively participate. This would involve the provision of funding to develop and execute the CASC initiative which would be aimed at the increase of awareness of the CASC scheme and the provision of support to clubs wishing to register. The effectiveness of it could be measured—eg by setting targets for the number of club registrations and total cash benefits received. The initiative would include: — working with the Olympic \"authority\" responsible for \"soft legacy\" to exploit all CASC opportunities; — working with National Governing Bodies of Sport particularly the Olympic sports to assist their clubs to register; — circulars/communication with sports clubs; — regional workshops working with County Sports Partnerships and Local Authorities; — hotline support—by telephone or e mail; and — monitoring progress, feedback and easing administration in consultation with HMRC CASC Unit in Bootle</td>\n",
       "                        <td id=\"T_fa77a_row0_col4\" class=\"data row0 col4\" >0.531410</td>\n",
       "            </tr>\n",
       "            <tr>\n",
       "                        <th id=\"T_fa77a_level0_row1\" class=\"row_heading level0 row1\" >1</th>\n",
       "                        <td id=\"T_fa77a_row1_col0\" class=\"data row1 col0\" >12700</td>\n",
       "                        <td id=\"T_fa77a_row1_col1\" class=\"data row1 col1\" >1</td>\n",
       "                        <td id=\"T_fa77a_row1_col2\" class=\"data row1 col2\" >The_next_lap_-_April_2008_-_vol_1.pdf</td>\n",
       "                        <td id=\"T_fa77a_row1_col3\" class=\"data row1 col3\" >2. British Cycling told us that the cycling facilities at the Velopark had “the potential to be absolutely world-class” and that they “should be the very best anywhere in the world”.152 There has nonetheless been a certain amount of controversy about the extent to which the Velopark will offer a suitable replacement for off-road facilities at the former Eastway Circuit, lost when land was assembled by the LDA for incorporation into the Olympic Park. The design currently proposed by the ODA for the Velopark offers most of the facilities previously available at Eastway, albeit in a more fragmented layout. British Cycling, despite being supportive of the proposed design for use during the Games and despite anticipating that, after the Games, the Velopark will “provide a boost for cycling”,153 initially lodged objections to the relevant planning applications on the grounds that they did “not provide an adequate or comparable replacement for the road and off-road facilities provided to cycling on the Eastway Circuit”. British Cycling is now satisfied that the ODA has taken on board its concerns and that current plans for the Velopark offer an acceptable replacement for Eastway. The Eastway Users Group, which has campaigned for off-road cycling facilities in the Velopark in legacy mode, remains frustrated by the uncertainty about future provision, and it has pointed out to us that facilities at Eastway closed before the ODA or LDA had provided any suitable temporary alternative, causing  149 Ev 107</td>\n",
       "                        <td id=\"T_fa77a_row1_col4\" class=\"data row1 col4\" >0.529183</td>\n",
       "            </tr>\n",
       "            <tr>\n",
       "                        <th id=\"T_fa77a_level0_row2\" class=\"row_heading level0 row2\" >2</th>\n",
       "                        <td id=\"T_fa77a_row2_col0\" class=\"data row2 col0\" >17258</td>\n",
       "                        <td id=\"T_fa77a_row2_col1\" class=\"data row2 col1\" >1</td>\n",
       "                        <td id=\"T_fa77a_row2_col2\" class=\"data row2 col2\" >Written_evidence_submitted_by_Richard_Baldwin_-_Dec_2009.pdf</td>\n",
       "                        <td id=\"T_fa77a_row2_col3\" class=\"data row2 col3\" >To date over 5,500 clubs have registered under the scheme benefiting from a cash injection of around £65 million. The CASC scheme therefore has the capacity to inject the necessary finance—if there were no further registrations the registered clubs will continue to benefit at the rate of £15 million per year but increasing the number of registered clubs by 1,000 would increase the flow of cash by around £3 million per year in total. The average club benefits by just under £3,000 each year and this would treble the surpluses by the average club within sports other than golf providing much needed finance to support an increased capacity for participation</td>\n",
       "                        <td id=\"T_fa77a_row2_col4\" class=\"data row2 col4\" >0.499889</td>\n",
       "            </tr>\n",
       "            <tr>\n",
       "                        <th id=\"T_fa77a_level0_row3\" class=\"row_heading level0 row3\" >3</th>\n",
       "                        <td id=\"T_fa77a_row3_col0\" class=\"data row3 col0\" >8304</td>\n",
       "                        <td id=\"T_fa77a_row3_col1\" class=\"data row3 col1\" >2</td>\n",
       "                        <td id=\"T_fa77a_row3_col2\" class=\"data row3 col2\" >PAC_26_April_2012_-_Olympic_Costs_-_corrected_evidence_(no_report).pdf</td>\n",
       "                        <td id=\"T_fa77a_row3_col3\" class=\"data row3 col3\" >You think that the assessment of risks is our best estimate of the most likely outcome of the budget as a whole. But actually the assessment of risk-and how we have compiled it-is this: we have not sought to estimate how likely it is that every risk arises. We just said, \"Let us think about every risk that could arise, and let us assume that they all arise and work out the likely cost of them all arising.\" On top of that, we said, \"And there will be some risks that we just cannot think about that are unknown unknowns. There will be some multiple consequentials if everything came together.\" So we end up with an estimate not of the most likely cost of the project, which is what the burden of paragraph 1 of the PAC Report understands it is, but an estimate of how much we would need to set aside in the very unlikely event that all risks arise and some more unknown risks arise as well. The purpose of that is not to get to an estimate of the likely outcome of the budget. Its purpose and why we do it is to see, against any reasonable view of the likely risk that might arise, even on an assumption that they all arise and some more unknown risks arise, whether we have enough money. The conclusion has always been, yes, we had. Against what is therefore, in my view, a conservative and prudent estimate, we had £36 million headroom at the time of the NAO Report. We had more, and indeed the picture over the six-month period since the original figures on which the NAO was recording this, is that the contingency has gone down by £27 million or so-we reckon, because these are provisional figures, but I want to give our best figures-and the assessed risks on that very conservative and prudent basis have gone down by £136 million. So the picture on the budget as a whole is that we are spending contingency significantly slower than risks are disappearing from the programme. That is why, without in any sense being complacent, I am confident that we will bring this in within budget, and I do not think that the budget is close to being used up</td>\n",
       "                        <td id=\"T_fa77a_row3_col4\" class=\"data row3 col4\" >0.684665</td>\n",
       "            </tr>\n",
       "            <tr>\n",
       "                        <th id=\"T_fa77a_level0_row4\" class=\"row_heading level0 row4\" >4</th>\n",
       "                        <td id=\"T_fa77a_row4_col0\" class=\"data row4 col0\" >8388</td>\n",
       "                        <td id=\"T_fa77a_row4_col1\" class=\"data row4 col1\" >2</td>\n",
       "                        <td id=\"T_fa77a_row4_col2\" class=\"data row4 col2\" >PAC_26_April_2012_-_Olympic_Costs_-_corrected_evidence_(no_report).pdf</td>\n",
       "                        <td id=\"T_fa77a_row4_col3\" class=\"data row4 col3\" >Jonathan Stephens: There are two aspects to risk: likelihood and impact. What we are saying is that we made no estimate of likelihood, we just wrote in a 100% likelihood of all the risks we could think of and some unknown risks that we could not think of. We then looked at impact, and on impact we said, \"If this risk were to materialise-we are assuming a 100% likelihood that it materialises-what is the likely cost?\" That is where you get the low, the most likely outcome and the high outcome. When you add those together, you do not get to an outcome of, \"What is the most likely expenditure on the programme?\"; you get to an outcome of, \"If all conceivable risks arise, plus some unknown risks that we cannot identify, what is the likely expenditure?\" That is a conservative and prudent view of, \"Do we have enough contingency left, if all those risks arise?\" In practice, they won’t all arise. It is conceivable that some will arise, but it is pretty unlikely that all of them will arise. It is perfectly conceivable that some individual risk will arise at a higher estimate than the most likely estimate, but the prospect of all those risks arising is unlikely. The prospect of them all arising at the very highest possible cost is so unlikely as to not provide a good basis for planning. I am sorry. I am going on at some length, but there is a real point</td>\n",
       "                        <td id=\"T_fa77a_row4_col4\" class=\"data row4 col4\" >0.664391</td>\n",
       "            </tr>\n",
       "            <tr>\n",
       "                        <th id=\"T_fa77a_level0_row5\" class=\"row_heading level0 row5\" >5</th>\n",
       "                        <td id=\"T_fa77a_row5_col0\" class=\"data row5 col0\" >8320</td>\n",
       "                        <td id=\"T_fa77a_row5_col1\" class=\"data row5 col1\" >2</td>\n",
       "                        <td id=\"T_fa77a_row5_col2\" class=\"data row5 col2\" >PAC_26_April_2012_-_Olympic_Costs_-_corrected_evidence_(no_report).pdf</td>\n",
       "                        <td id=\"T_fa77a_row5_col3\" class=\"data row5 col3\" >Jonathan Stephens: No, what I am saying is that we have tried to identify all possible risks that we can think of. We have then said, what impact do they have? What is the range? The high, medium and low, the medium being the most likely. If that risk materialises, what is the most likely outcome? You might then also say, having identified all your risks, how likely is it that each one materialises? That would then lead you to something that could be, as the Committee’s Report refers to it, characterised as \"the most likely expenditure\". But I am just trying to be clear. I suspect we haven’t explained it clearly enough, but there is a real important point at the bottom of it: that is not what we did. We said we will just assume all the risk materialised. We will not try to estimate which one is more likely to materialise and which one isn’t, and what sort of percentage figure to put against it. We will just assume they will all materialise, and put in the most likely cost if it does materialise to get to a conservative and prudent</td>\n",
       "                        <td id=\"T_fa77a_row5_col4\" class=\"data row5 col4\" >0.594573</td>\n",
       "            </tr>\n",
       "            <tr>\n",
       "                        <th id=\"T_fa77a_level0_row6\" class=\"row_heading level0 row6\" >6</th>\n",
       "                        <td id=\"T_fa77a_row6_col0\" class=\"data row6 col0\" >284</td>\n",
       "                        <td id=\"T_fa77a_row6_col1\" class=\"data row6 col1\" >3</td>\n",
       "                        <td id=\"T_fa77a_row6_col2\" class=\"data row6 col2\" >Jan_2003_-_Qs_140-159.pdf</td>\n",
       "                        <td id=\"T_fa77a_row6_col3\" class=\"data row6 col3\" >That is why you do it, but that is the easy bit. The hard bit, as the experience of the Commonwealth Games has shown, the experience of Picketts Lock has shown, the experience of Wembley has shown, is that it is very easy to be driven by euphoria alone and then the hard reckoning follows afterwards and that is what we want to avoid, so that we say to people, if we decide to bid, yes, we have decided because, in full understanding of the consequences, this is such a great thing for Britain and if we do not bid it will be because we have decided after rigorous examination that the costs are just too great and other very precious priorities, not just of the Government but of people up and down the country, would have to suffer if we were to do this. I think the poll, which I hope you got in good time, that we commissioned showed some very interesting conclusions. Yes, people are overwhelmingly in favour of our making a bid. The numbers fall when people are pressed in committing themselves to that alongside the consequences. There is one very interesting chart in the polling evidence which shows that, from memory, if you tell somebody they have £100, overwhelmingly what the sample showed was that you spend the largest slug of your money on more schools, the next largest slug on more hospitals, the next largest slug on increasing the value of pensions and then, interestingly, above reducing taxes, you spend money on an Olympic bid. I think the public's priorities are very clear indeed, but nobody should believe that hosting the Olympics would be somehow a free good, that we can just decide to do it as a decision that is divorced from the costs, the costs for sport, the costs for transport and all our commitments to public service renewal</td>\n",
       "                        <td id=\"T_fa77a_row6_col4\" class=\"data row6 col4\" >0.569327</td>\n",
       "            </tr>\n",
       "            <tr>\n",
       "                        <th id=\"T_fa77a_level0_row7\" class=\"row_heading level0 row7\" >7</th>\n",
       "                        <td id=\"T_fa77a_row7_col0\" class=\"data row7 col0\" >113</td>\n",
       "                        <td id=\"T_fa77a_row7_col1\" class=\"data row7 col1\" >3</td>\n",
       "                        <td id=\"T_fa77a_row7_col2\" class=\"data row7 col2\" >Jan_2003_-_Qs_1-19.pdf</td>\n",
       "                        <td id=\"T_fa77a_row7_col3\" class=\"data row7 col3\" >(Mr Bostock) Thank you, Mr Chairman. There are three very specific points there. Could you just give me a few minutes to give you the context of the work we did, and then I would like to answer those three specific points very clearly? I have a very short introduction to start with because I think it is very important for you to understand the context in which the work was done. My name is Mark Bostock; I am a director of Arup and was project director for the particular study which is the subject of the discussion today. First of all, very quickly, Arup is a very large, global multi disciplinary, planning, project management and engineering practice with a very large resource base here in London. We were http://www.publications.parliament.uk/pa/cm200203/cmselect/cmcumeds/268/3011401.htmcommissioned, appointed, to undertake this work in association with Insignia Richard Ellis following a competitive tender, and during the 16-week elapsed time for this work we met with our steering committee approximately every two weeks and a pretty rigorous programme was set out, and that steering committee comprised representatives from the Greater London Authority, the British Olympic Association, the London Development Agency, UK Sport, Sport England, Her Majesty's Treasury and the Department of Culture, Media and Sport, and we had the Cabinet Office's Performance and Innovation Unit with observer status. We reported on 21 May last year, 2002. After approximately five months Government put into the public domain the 12-page summary report which you made reference to, and I need to emphasise again that the main report is not in the public domain and I am very pleased you have made reference to that in your introduction. I would like to make a comment on the scope of work. What we were commissioned to do was to establish the outline construction costs for all the permanent and temporary sport facilities and all the sporting infrastructure; we were asked to look at the costs for bidding for and staging the Games; we were asked to establish the benefits of bidding for and staging the Games and establishing the residual legacy costs and benefits. What we were not asked to do was examine winnability, nor were we asked to examine the opportunity costs of Government spending, and I must make that very clear. Coming closer to the points in the context of the answers that I will give you in a second, we developed our own specimen Games—and I must emphasise specimen Games—and these were centred on an Olympic zone in the Lower Lee Valley in East London, so that provided the basis of our appraisal. During our work and in our report we have been totally transparent in terms of all the various assumptions that we have made in our evaluation and I need to say, with great emphasis, that the financial appraisal methodology was accepted by the Treasury. We always anticipated, as we did this work and completed it, that each of the key stakeholders—the Government, the London Government and the Britain Olympic Association—would evaluate the project from their own point of view, including risks, risk assessment and mitigation of that risk in order to examine the impact of a possible Olympic Games on their respective organisations, and I need to make this very specific point, because risk assessment from the point of view of each of the key stakeholders was not part of our commission. What I want to make absolutely clear, therefore, is that in providing an independent assessment of whether London should or should not bid or stage for the London Olympic Games we concluded very strongly that the key stakeholders needed to enter into a concordat, and I would be very happy to indicate what that meant, because this is planning for a major event in 12 years plus a legacy thereafter, and we have concluded that in the event that an appropriate concordat cannot be entered into between the three stakeholders there is absolutely no point in proceeding with these propositions. Also, we have indicated in the summary report five areas where we felt more work needed to be done from the time we completed our work in May and June and a decision which we thought would have been made in November—it is January now—and that additional work is very clearly set out in section S16 of the summary report</td>\n",
       "                        <td id=\"T_fa77a_row7_col4\" class=\"data row7 col4\" >0.568172</td>\n",
       "            </tr>\n",
       "            <tr>\n",
       "                        <th id=\"T_fa77a_level0_row8\" class=\"row_heading level0 row8\" >8</th>\n",
       "                        <td id=\"T_fa77a_row8_col0\" class=\"data row8 col0\" >451</td>\n",
       "                        <td id=\"T_fa77a_row8_col1\" class=\"data row8 col1\" >3</td>\n",
       "                        <td id=\"T_fa77a_row8_col2\" class=\"data row8 col2\" >Jan_2003_-_Qs_200-220.pdf</td>\n",
       "                        <td id=\"T_fa77a_row8_col3\" class=\"data row8 col3\" >(Sir Rodney Walker) I hardly think I am the appropriate person to pass judgement on this but, as always, I am happy to give you a view. You asked the questions of the previous witnesses and the fact is that this project can succeed providing you get the ownership right. The ownership has to be with government, absolutely no question. It seems to me that it is unlikely that Crossrail could be relied upon to be ready in time. I think there would need to be very convincing arguments put forward as to how the transport can be organised so as to make traffic movements around London acceptable to those who go about their work and those who come to London to attend the Olympic Games. This is a very personal view. I do not think it is necessarily helpful that at this stage two expert groups using the same base data on what the underwriting costs of the Olympic Games might be managed to come up with figures about a billion pounds apart, although I heard today that those numbers are still being worked upon. I accept the Chairman's point that Manchester worked because there was in the end clear ownership. Wembley became difficult because at several stages there was no clear ownership of the project. If there is clear ministerial-led ownership of this project and if all the right bodies work together, if vested interests are set aside, there is absolutely no reason why this country is not capable of both bidding for and succeeding in securing the Olympic Games, and indeed organising a successful event</td>\n",
       "                        <td id=\"T_fa77a_row8_col4\" class=\"data row8 col4\" >0.561426</td>\n",
       "            </tr>\n",
       "            <tr>\n",
       "                        <th id=\"T_fa77a_level0_row9\" class=\"row_heading level0 row9\" >9</th>\n",
       "                        <td id=\"T_fa77a_row9_col0\" class=\"data row9 col0\" >3639</td>\n",
       "                        <td id=\"T_fa77a_row9_col1\" class=\"data row9 col1\" >4</td>\n",
       "                        <td id=\"T_fa77a_row9_col2\" class=\"data row9 col2\" >NAO_Preparing_for_sporting_success_-_March_2008.pdf</td>\n",
       "                        <td id=\"T_fa77a_row9_col3\" class=\"data row9 col3\" >4 UK Sport’s ‘ultimate goals’ for medal success at the London 2012 Games will require a step change in performance amongst elite athletes. The achievements of athletes at recent elite international events in a number of sports, including sailing, cycling, rowing, boxing, disability equestrian and disability shooting, suggest that performance levels in some sports are already improving significantly. Following increased spending on elite sport, host nations can typically expect to win an extra six or seven gold medals at an Olympic Games and to win medals across a wider range of sports. This ‘host nation effect’ would not in itself be enough to deliver UK Sport’s Olympic goal, which is likely to require an improvement of eight or nine gold medals over the Great Britain team’s performance at the Athens Games in 2004 if the relative performance of other nations remained the same. Changes in the performance of other nations since 2004, especially in the context of a general trend of increased spending on elite sport, sometimes referred to as a ‘global sporting arms race’, may also have implications for UK Sport in delivering its medal aspirations</td>\n",
       "                        <td id=\"T_fa77a_row9_col4\" class=\"data row9 col4\" >0.599309</td>\n",
       "            </tr>\n",
       "            <tr>\n",
       "                        <th id=\"T_fa77a_level0_row10\" class=\"row_heading level0 row10\" >10</th>\n",
       "                        <td id=\"T_fa77a_row10_col0\" class=\"data row10 col0\" >1468</td>\n",
       "                        <td id=\"T_fa77a_row10_col1\" class=\"data row10 col1\" >4</td>\n",
       "                        <td id=\"T_fa77a_row10_col2\" class=\"data row10 col2\" >Memorandum_submitted_by_British_Olympic_Association_-_Nov_2007.pdf</td>\n",
       "                        <td id=\"T_fa77a_row10_col3\" class=\"data row10 col3\" >Six days after London was awarded the 2012 Olympic Games during a conference called by the BOA, British Sport agreed to set an aspirational target for Team GB to finish in fourth place in the 2012 medal table. The BOA has had a succession of outstanding performance personnel, Sir Clive Woodward being the current Director of Elite Performance who is taking forward the brief to analyse the ways in which the organisation could continue to strengthen its services to the Olympic governing bodies and their athletes in order to help reach the 2012 target. After a year's research, the result has been the development of an \"Elite Performance Programme\" which places the athlete and coach at the centre of a support network made up of leading specialists from areas including kinesiology, physiology, nutrition and performance analysis. A unique communication and analysis system will ensure the athlete receives 24/7 support from the network</td>\n",
       "                        <td id=\"T_fa77a_row10_col4\" class=\"data row10 col4\" >0.590843</td>\n",
       "            </tr>\n",
       "            <tr>\n",
       "                        <th id=\"T_fa77a_level0_row11\" class=\"row_heading level0 row11\" >11</th>\n",
       "                        <td id=\"T_fa77a_row11_col0\" class=\"data row11 col0\" >3676</td>\n",
       "                        <td id=\"T_fa77a_row11_col1\" class=\"data row11 col1\" >4</td>\n",
       "                        <td id=\"T_fa77a_row11_col2\" class=\"data row11 col2\" >NAO_Preparing_for_sporting_success_-_March_2008.pdf</td>\n",
       "                        <td id=\"T_fa77a_row11_col3\" class=\"data row11 col3\" >Background\t \t \t \t \t \t1 How UK Sport’s funding helps athletes to improve their performanceSource: UK SportAfter coming fourth place in Sydney in 2000, Leon Taylor  (10 Metre Synchronised diving) won a silver medal at Athens in 2004. Taylor has benefited from working with World Class Coaches – Chen Wen, from China (the top diving nation), and Briton Adam Sotheran, a graduate of UK Sport’s Elite Coach programme. He also has access to world class training facilities and equipment including facilities in Sheffield equipped with trampolines, springboards, and video analysis equipment, while UK Sport’s Research and Innovation programme led to the development of Europe’s first pool-based diving harness, so that coaches can work with Taylor to learn complex dives quickly and safely. Receiving an athlete personal award means Taylor, can train with his diving partner Peter Waterfield even though they live hundreds of miles apart. Hitting water at nearly 40 miles an hour and learning new and complex dives meant he suffered a number of injuries. The Athlete medical Insurance Scheme funded by UK Sport has provided Taylor with the best medical support</td>\n",
       "                        <td id=\"T_fa77a_row11_col4\" class=\"data row11 col4\" >0.581394</td>\n",
       "            </tr>\n",
       "            <tr>\n",
       "                        <th id=\"T_fa77a_level0_row12\" class=\"row_heading level0 row12\" >12</th>\n",
       "                        <td id=\"T_fa77a_row12_col0\" class=\"data row12 col0\" >17552</td>\n",
       "                        <td id=\"T_fa77a_row12_col1\" class=\"data row12 col1\" >5</td>\n",
       "                        <td id=\"T_fa77a_row12_col2\" class=\"data row12 col2\" >Written_evidence_submitted_by_Vision_2020_UK_-_Jan_2010.pdf</td>\n",
       "                        <td id=\"T_fa77a_row12_col3\" class=\"data row12 col3\" >4. Most clubs seem ill-prepared for enquiries from, and inclusion of, people with disabilities who wish to participate in the sport offered by the club. There is little or no support for specialist clubs who provide opportunities for sport that cannot be integrated ie wheelchair basketball or blind cricket! There is often nothing locally to support the child or their parent in accessing the specialist provision and this often involves their having to undertake extensive travel to specialist facilities or organisations catering for this group. There is poor information regarding availability etc and http://www.parasport.org.uk was established as a portal to provide pathway and provision information. The then Mayor of London published a strategy in 2007, which highlighted all these issues and to date there has been little, if any, action to redress these anomalies in London or in the rest of the country. DCSF have, in my view, shown no leadership regarding the legacy of 2012 and its impact on PE in schools and the inclusion of those with disabilities in core curriculum activities or sporting opportunities within or after school. DCMS held a legacy event in 2008 and again in April 2009 focusing on the legacy of the Games for those with disabilities. One outcome was to seek greater links between DWP, DCSF and themselves to ensure that joint strategies were developed and pathways established that enabled children to enjoy and participate in PE and sport within schools/after school clubs/integrated and specialist provision in the community, with good national talent forums and pathways established for those who wish to participate in sport at a higher level and finally, with governing bodies having clear inclusive programmes for sports men and women with disabilities active at a national and international level</td>\n",
       "                        <td id=\"T_fa77a_row12_col4\" class=\"data row12 col4\" >0.605244</td>\n",
       "            </tr>\n",
       "            <tr>\n",
       "                        <th id=\"T_fa77a_level0_row13\" class=\"row_heading level0 row13\" >13</th>\n",
       "                        <td id=\"T_fa77a_row13_col0\" class=\"data row13 col0\" >16542</td>\n",
       "                        <td id=\"T_fa77a_row13_col1\" class=\"data row13 col1\" >5</td>\n",
       "                        <td id=\"T_fa77a_row13_col2\" class=\"data row13 col2\" >Written_evidence_submitted_by_Incorporated_Society_of_Musicians_-_Jan_2010.pdf</td>\n",
       "                        <td id=\"T_fa77a_row13_col3\" class=\"data row13 col3\" >2.3.1.1  Creative industries grow at least 1% more than the rest of the economy. [1] Music grew by 4.7% from 2007 to 2008. [2]     2.3.1.2  Creative industries more than double our investment. The contribution of music to the UK economy reached well over £3.5 billion with the arts estimated to put over £2 back into the economy for every £1 invested [2]. Over 120,000 people are employed in music. [1] In addition, consumers spent over £4 billion on music in 2000. [2]   2.3.2  Music education and effective teaching of music technology are vital to the continuing world leadership of the UK in music. The UK currently lacks the capability to take full advantage of music technology even though music technology has the ability to motivate pupils. [3] The Cultural Olympiad gives an opportunity to put music technology at the centre of Continuing Professional Development. We believe that there is an opportunity to create Cultural Olympiad music technology teachers, available to every local authority and able to provide training and continuing professional development to the current music teacher workforce</td>\n",
       "                        <td id=\"T_fa77a_row13_col4\" class=\"data row13 col4\" >0.580403</td>\n",
       "            </tr>\n",
       "            <tr>\n",
       "                        <th id=\"T_fa77a_level0_row14\" class=\"row_heading level0 row14\" >14</th>\n",
       "                        <td id=\"T_fa77a_row14_col0\" class=\"data row14 col0\" >16108</td>\n",
       "                        <td id=\"T_fa77a_row14_col1\" class=\"data row14 col1\" >5</td>\n",
       "                        <td id=\"T_fa77a_row14_col2\" class=\"data row14 col2\" >Written_evidence_-_Appendix_4_-_BPA.pdf</td>\n",
       "                        <td id=\"T_fa77a_row14_col3\" class=\"data row14 col3\" >4. The survey of sports participation by young people with a disability under the age of 16 conducted by Sport England, and indeed its parallel survey for adults, painted a depressing picture of lack of opportunity, encouragement, facilities and motivation. There is a desperate need for sporting heroes and cultural encouragement, particularly for young people with a disability. That Great Britain, through Stoke Mandeville, is also the birthplace of the Paralympic movement makes it all the more damning that disabled people in GB continue to find such barriers to participation. There is, therefore, a compelling practical purpose, as well as providing a uniquely symbolic reason, for supporting a London bid. A London Games would demonstrate an acceptance of the role of sport in enhancing the lives of people with a disability, and perhaps more fundamentally their right to participate in the ultimate sporting arena. That GB should at last, in the 21st Century, fully embrace and endorse the rights of disabled people to equality of opportunity and access in both sport and society in general would be a powerful message conveyed within the Olympic/Paralympic bid and one endorsed by concrete and practical outcomes</td>\n",
       "                        <td id=\"T_fa77a_row14_col4\" class=\"data row14 col4\" >0.575576</td>\n",
       "            </tr>\n",
       "            <tr>\n",
       "                        <th id=\"T_fa77a_level0_row15\" class=\"row_heading level0 row15\" >15</th>\n",
       "                        <td id=\"T_fa77a_row15_col0\" class=\"data row15 col0\" >10389</td>\n",
       "                        <td id=\"T_fa77a_row15_col1\" class=\"data row15 col1\" >6</td>\n",
       "                        <td id=\"T_fa77a_row15_col2\" class=\"data row15 col2\" >Report_and_Minutes_-_Jan_2007.pdf</td>\n",
       "                        <td id=\"T_fa77a_row15_col3\" class=\"data row15 col3\" >19. There was much more optimism about scope for increasing tourist traffic after the Games. Mr Castle, the East of England representative on the Nations and Regions Group, described the Games as a “shop window” for the UK. Both he and the Tourism Management Institute saw scope for the Games to generate business tourism.254 The DCMS memorandum stated that “experience from recent host cities indicates that tourism will increase significantly across the UK, most notably after the Games”;255 and the Tourism Alliance told us that DCMS expected that up to 80% of the legacy benefit to be derived from hosting the Games would be gained through “increased tourism as a result of [the] high degree of international media exposure”.256 The Tourism Alliance itself agreed that the main way that lasting benefits would be reaped would be through media exposure; but it saw Government investment in a tourism strategy as being a necessary part of drawing on that exposure; and it spoke of a “lack of realisation within DCMS that additional funds need to be committed … to marketing and media support”. The Government has pledged that the interests of tourism “will be taken into account in all Olympic policy decisions”; underlying this pledge, however, was a statement by the Secretary of State that, in order to increase the number of visitors as a result of the Games, the tourism industry needed “to improve the consistency of its quality, raise the level of skill and, through imaginative marketing, showcase Britain’s heritage and its dynamic, 21st century cities”.257</td>\n",
       "                        <td id=\"T_fa77a_row15_col4\" class=\"data row15 col4\" >0.479690</td>\n",
       "            </tr>\n",
       "            <tr>\n",
       "                        <th id=\"T_fa77a_level0_row16\" class=\"row_heading level0 row16\" >16</th>\n",
       "                        <td id=\"T_fa77a_row16_col0\" class=\"data row16 col0\" >10424</td>\n",
       "                        <td id=\"T_fa77a_row16_col1\" class=\"data row16 col1\" >6</td>\n",
       "                        <td id=\"T_fa77a_row16_col2\" class=\"data row16 col2\" >Report_and_Minutes_-_Jan_2007.pdf</td>\n",
       "                        <td id=\"T_fa77a_row16_col3\" class=\"data row16 col3\" >38. The London Borough of Newham suggested to us that “opportunities for a wider cultural legacy for the Park are currently being overlooked in the legacy planning processes”, and it claimed that cultural planning for the Olympics “currently only identifies a narrow spread of stakeholders, largely excluding representation from local authorities and key local and regional cultural partners”.291 Heritage Link also relayed to us anxiety felt among smaller voluntary sector organisations that they were somewhat marginalised in discussions on maximising the benefits of the Olympics.292 We put this latter point to witnesses representing the Nations and Regions Group, who sought to reassure us that within the various regional groups culture was “very much embedded” and that (at least in the case of the East of England and the South West) the Regional Cultural Consortium was “one of the key partners” or was the source of cultural initiatives for the regional group. 293</td>\n",
       "                        <td id=\"T_fa77a_row16_col4\" class=\"data row16 col4\" >0.451425</td>\n",
       "            </tr>\n",
       "            <tr>\n",
       "                        <th id=\"T_fa77a_level0_row17\" class=\"row_heading level0 row17\" >17</th>\n",
       "                        <td id=\"T_fa77a_row17_col0\" class=\"data row17 col0\" >11848</td>\n",
       "                        <td id=\"T_fa77a_row17_col1\" class=\"data row17 col1\" >6</td>\n",
       "                        <td id=\"T_fa77a_row17_col2\" class=\"data row17 col2\" >Report_and_Minutes_-_Jan_2007_-_vol_2_-_evidence.pdf</td>\n",
       "                        <td id=\"T_fa77a_row17_col3\" class=\"data row17 col3\" >2.2 We welcome the opportunity to support the Games and are already investing in some of the keyinstitutions which will deliver a high quality Games. Institutions such as Birmingham Museum and ArtGallery, Bristol Museum and Art Gallery, Tyne and Wear Museums and the Museum of London have allreceived funding through Renaissance in the Regions. Renaissance is MLA’s programme for thetransformation of England’s regional museums. It is the first central government investment of its kind formuseums, and presents a structure through which a co-ordinated oVer amongst regional museums could bedeveloped and resources directed to support. It is therefore crucial that this existing investment is sustained,particularly as we enter a tight funding round in the 2007 comprehensive spending review. Now is the timeto build on and develop this successful programme, which if cut will severely curtail the capacity of themuseums sector to support and deliver the Cultural Olympiad and develop the UK tourism oVer. It shouldbe noted there is no national funding programme for archives, and whilst Framework for the Future oVersa programme for public libraries its focus is on improving the library service and the repositioning of publiclibraries, and does not fund organisations directly</td>\n",
       "                        <td id=\"T_fa77a_row17_col4\" class=\"data row17 col4\" >0.447549</td>\n",
       "            </tr>\n",
       "            <tr>\n",
       "                        <th id=\"T_fa77a_level0_row18\" class=\"row_heading level0 row18\" >18</th>\n",
       "                        <td id=\"T_fa77a_row18_col0\" class=\"data row18 col0\" >3329</td>\n",
       "                        <td id=\"T_fa77a_row18_col1\" class=\"data row18 col1\" >7</td>\n",
       "                        <td id=\"T_fa77a_row18_col2\" class=\"data row18 col2\" >NAO_Preparations_for_the_Olympics_-_Progress_report_-_June_2008.pdf</td>\n",
       "                        <td id=\"T_fa77a_row18_col3\" class=\"data row18 col3\" >6 PREPARATIONS FOR THE LONDON 2012 OLyMPIC AND PARALyMPIC GAMES: PROGRESS REPORT JuNE 2008\t \t \t \t \t \t10 The start and completion dates for the construction of the main venue and infrastructure projects delivered by the Olympic Delivery Authority at the end of March 2008 compared with the milestones in the November 2007 Programme Baseline ReportProjectEnabling Works (site preparation) Power Lines under Grounding  (switchover only)   Structures, Bridges and Highways utilities Main Stadium    Aquatics Centre    VeloparkHandball/Indoor Sports ArenaBasketballInternational Broadcast Centre/ Main Press CentreOlympic Village Eton Manor (training facilities  and Paralympic events)  Broxbourne  (white water canoeing) Eton Dorney (rowing) Weymouth and Portland (sailing)construction start date November 2007  March 2008 Change in  programme  Forecast start date  baseline  (months)October 2006 October 2006 0 July 2008 July 2008 0   April 2008 April 2008 0 January 2008 January 2008 0 July 2008 May 2008 –21    September 2008 September 2008 0 March 2009 March 2009 0August 2009 June 2009 –2July 2009 November 2009 4May 2009 March 2009 –2 June 2008 May 2008 –1 March 2010 January 2010 –2   August 2008 May 2009 9  March 2009 January 2009 –2 May 2008 January 2008 –4construction end date November 2007  March 2008 Change in  programme  Forecast end date  baseline   (months)September 2009 September 2009 0 September 2008 November 2008 2   December 2011 December 2011 0 December 2011 August 2011 –4 Construction  Construction end date end dateFebruary 2011 April 2011 2Completion date  Completion date for construction  for construction and initial overlay  and initial overlay for test events for test eventsJune 2011 June 2011 0Construction  Construction end date end dateApril 2011 August 2011 4Completion date  Completion date for construction  for construction and initial overlay  and initial overlay for test events for test eventsJuly 2011 August 2011 1April 2011 February 2011 –2April 2011 March 2011 –1April 2011 April 2011 0June 2011 July 2011 1 December 2011 December 2011 0 February 2012 April 2011 –10   June 2010 October 2010 4  April 2010 July 2009 –9 February 2009 January 2009 –1Source: National Audit Office examination of actual and forecast progress against the November 2007 Programme BaselineNOTE</td>\n",
       "                        <td id=\"T_fa77a_row18_col4\" class=\"data row18 col4\" >0.604578</td>\n",
       "            </tr>\n",
       "            <tr>\n",
       "                        <th id=\"T_fa77a_level0_row19\" class=\"row_heading level0 row19\" >19</th>\n",
       "                        <td id=\"T_fa77a_row19_col0\" class=\"data row19 col0\" >3508</td>\n",
       "                        <td id=\"T_fa77a_row19_col1\" class=\"data row19 col1\" >7</td>\n",
       "                        <td id=\"T_fa77a_row19_col2\" class=\"data row19 col2\" >NAO_Preparations_for_the_Olympics_-_Progress_report_-_June_2008.pdf</td>\n",
       "                        <td id=\"T_fa77a_row19_col3\" class=\"data row19 col3\" >3PREPARATIONS FOR THE LONDON 2012 OLyMPIC AND PARALyMPIC GAMES: PROGRESS REPORT JuNE 2008n Performance reports and data on progress, including the Olympic Delivery Authority’s monthly reports on the progress of the construction programme, the status of procurement activity, and the quarterly update to funders on progress by the 31 March 2008, were reviewed to establish whether the Olympic Programme is on track in terms of both time and budget;n LOCOG’s “2008/09 Business Plan – Summary of Priorities, Milestones, Budget and Resources”, and the draft arrangements for their quarterly financial and programme management reporting to the Government Olympic Executive, to consider LOCOG’s progress on the preparations for staging the Games; n The Government Olympic Executive’s documentation on the emerging arrangements for programme wide risk management, to assess their maturity and effectiveness; andn The Government Olympic Executive’s financial management procedures for managing contingency and cash flow</td>\n",
       "                        <td id=\"T_fa77a_row19_col4\" class=\"data row19 col4\" >0.598486</td>\n",
       "            </tr>\n",
       "            <tr>\n",
       "                        <th id=\"T_fa77a_level0_row20\" class=\"row_heading level0 row20\" >20</th>\n",
       "                        <td id=\"T_fa77a_row20_col0\" class=\"data row20 col0\" >2929</td>\n",
       "                        <td id=\"T_fa77a_row20_col1\" class=\"data row20 col1\" >7</td>\n",
       "                        <td id=\"T_fa77a_row20_col2\" class=\"data row20 col2\" >NAO_Preparations_for_the_Olympics_-_Progress_report_-_Feb_2010.pdf</td>\n",
       "                        <td id=\"T_fa77a_row20_col3\" class=\"data row20 col3\" >Figure 2The Delivery Authority’s November 2007 baseline for the Village and Media Centre and its December 2009 forecastall figures in £ million, inclusive of Vat november 2007 baseline Revised budget approved by funders in 2009latest forecast of potential costs december 2009Village and Stratford City land and infrastructure Land and infrastructure – public sector funding 522 553 560Estimated share of profits from post Games development (250) (250) (100)1Net Olympic Delivery Authority budget 272 303 460Village development Village construction and sales (gross) costs 0 1,095 1,1262Agreed sale of 1,379 units to Triathlon Homes 0 (268) (268)Estimated receipts from private sales – to fund construction 0 (177) (177)Village development – sub total 0 650 681Estimated receipts from private sales – to repay funders 0 (324) (324)Net Olympic Delivery Authority budget 0 326 357Media Centre3Media Centre 220 355 334Net Olympic Delivery Authority budget 220 355 334Total net cost to the Olympic Delivery Authority 492 984 1,151Source: National Audit Offi ce noteS1 See paragraph 4.10</td>\n",
       "                        <td id=\"T_fa77a_row20_col4\" class=\"data row20 col4\" >0.596967</td>\n",
       "            </tr>\n",
       "            <tr>\n",
       "                        <th id=\"T_fa77a_level0_row21\" class=\"row_heading level0 row21\" >21</th>\n",
       "                        <td id=\"T_fa77a_row21_col0\" class=\"data row21 col0\" >4954</td>\n",
       "                        <td id=\"T_fa77a_row21_col1\" class=\"data row21 col1\" >8</td>\n",
       "                        <td id=\"T_fa77a_row21_col2\" class=\"data row21 col2\" >Oral_evidence_-_17_March_2010_Qs_100-143_-_Boroughs.pdf</td>\n",
       "                        <td id=\"T_fa77a_row21_col3\" class=\"data row21 col3\" >Stratford is a huge churn. We have done research into the nature of the flats that have gone up around Stratford—the better end—and they are being rented by people who work and basically it is a place to sleep and they go out and do other things, which is what people do when they are young and that is fine. What we could easily end up with is what we have ended up with elsewhere in the borough, which is a desert, with people not interested in the community and so we have a bunch of social tenants in there—not huge numbers—and no real community. I think we have to have a proper debate and discussion around what will happen with the rest of the housing. Ideally we want people who live there to buy and then continue to have an interest in the community. So any discussion about the Village I would argue needs to start with what happens to the private sector area because this has to work; if it does not work it can damage the rest of the Olympic area and the Olympic Park. We are now arguing, for example, for a Royal Park because we think that that will raise the whole standard of the area and people will get some sense of a better place, a place where it is really good to live. The OPLC understands that it needs to get housing and family housing and not just blocks of flats, so starting with that. Then you get to this question about what would the nature of the allocations be and we are about to have a big discussion with various partners where we talk about who would we move in. Certainly from a Newham point of view—because the Village is in Newham—we took a court case which opposed housing by need and were successful in turning the policy around, and the Government has now introduced a policy which would allow us to support people who are working into social housing because our view would tend to be if you have a low rent that is a great benefit if you are working and on a lower income, but if you are on benefit that is not much of a benefit at all. We are certainly at the moment having a discussion around allocations policy and there are plans to have it. We need to make the community work—start off with the community. I get very frustrated when I hear people talk about \"units\"; talk about the community that you are trying to create and how that will look. If we want to have this as a place that people want to live in in 100 years' time the community has to work. To do that you do not then take, for example, social housing for everybody that is not working together because we have evidence that that does not work, so if it does not work perhaps we should stop trying to do it. The nature of the allocation as to who moves in there is, I think, up for debate at the moment and all the people involved are willing to look at that in a radical way that will enable us to build a community there. But I will come back again, you can do that in the social and affordable rent side, what about the rented properties that you will end up with? People will invest and buy chunks off the plan and they will end up with a lot of people that do not necessarily spend a lot of time there. For me it is a very clear thing, this should be the responsibility of the OPLC, it should not be the responsibility of the ODA and the ODA should be handing over that responsibility to the OPLC tomorrow because the ODA has no locus or interest there. It is not that they are doing badly because these guys have built an Olympic site on time and on budget, they are doing a really good job from the point of view of doing what they were asked to do, but they will not be there after 2014 and we will. The OPLC should be the people who are actually involved in the Village now. I am very clear about that</td>\n",
       "                        <td id=\"T_fa77a_row21_col4\" class=\"data row21 col4\" >0.557910</td>\n",
       "            </tr>\n",
       "            <tr>\n",
       "                        <th id=\"T_fa77a_level0_row22\" class=\"row_heading level0 row22\" >22</th>\n",
       "                        <td id=\"T_fa77a_row22_col0\" class=\"data row22 col0\" >4632</td>\n",
       "                        <td id=\"T_fa77a_row22_col1\" class=\"data row22 col1\" >8</td>\n",
       "                        <td id=\"T_fa77a_row22_col2\" class=\"data row22 col2\" >Oral_evidence_-_15_Dec_2009_LOCOG_ODA.pdf</td>\n",
       "                        <td id=\"T_fa77a_row22_col3\" class=\"data row22 col3\" >Mr Deighton: This is a very interesting question. The essence of every sponsorship agreement is that each company seeks exclusivity within its own category. Our role is to protect their rights around that exclusivity in that category. The complexity comes from when you introduce potential retailers, because of course we have a number of existing sponsors who sell products and they sell products through different retailers. If we create a retailing category of course those retailers also sell the products of competitors to our existing sponsors. What we have to establish is a transaction which protects our existing sponsors yet would also allow the retailer to be able to activate its rights with the Games. We continue to have discussions to try and make that a possible compromise. Our primary objective is to make sure that the rights of our existing sponsors are properly protected, because of course that is what they have paid for.</td>\n",
       "                        <td id=\"T_fa77a_row22_col4\" class=\"data row22 col4\" >0.532429</td>\n",
       "            </tr>\n",
       "            <tr>\n",
       "                        <th id=\"T_fa77a_level0_row23\" class=\"row_heading level0 row23\" >23</th>\n",
       "                        <td id=\"T_fa77a_row23_col0\" class=\"data row23 col0\" >3</td>\n",
       "                        <td id=\"T_fa77a_row23_col1\" class=\"data row23 col1\" >8</td>\n",
       "                        <td id=\"T_fa77a_row23_col2\" class=\"data row23 col2\" >Examination_of_Witnesses_Sept_2003_-_Q1-19.pdf</td>\n",
       "                        <td id=\"T_fa77a_row23_col3\" class=\"data row23 col3\" >The first thing I should like to say is that I have been in the role six weeks and that explains my sitting here by myself at the top. The role was offered to me and I accepted it on 1 August and we have been working very hard. What I should like to do is to give you a little bit of an idea who I am and why I have taken the job and what my philosophy is for the bid, update you on my initial thoughts and reactions to the work which has been done to date and to give you a sense of the progress we have made in six weeks, talking a little bit about the future beyond that. My motivation to take on this role comes from a number of areas. The first is that I was very lucky and was able to start up an airline in London called Go. I hope some of you were customers. I had the great fortune of working with tremendous people and having an enormous number of customers in this area. The business did very well, it was a tremendous opportunity for me. I really feel I have something to give back to London and that is part of my motivation for being here. The second one is a much more emotional issue. I believe in the Olympic endeavour, I have believed in it since I was a child and I was lucky enough to attend one Olympics; I was at Atlanta. I believe in it being one of the few things in the world which is actually positive, where countries compete equally, where it is about the individual or team pursuit, so it has always been something which has been very inspirational to me and I should love to bring it to London. The third thing is that I think the time is right for London. I have said to a few people that the stars are aligned. We are in a position where we have a mayor who is supportive, we have a government which is supportive, we are in a good time for the country to get behind an Olympic bid and that was important to me as I considered taking on the role. Finally, I felt, as far as I and my role with the bid were concerned, that my business background could be useful. I have quite a tough business reputation, tough but fair. I believe that when you make commitments you keep them. I believe in very strong financial management, I believe in hiring capable people from diverse backgrounds and then leaving them alone to get on with it. I believe in good principles behind management. I am new to your world, I am new to this world, I am doing my very best to learn as much as I can about both the responsibilities and privilege of being in a position where we are using public monies to do something like win the Games and I am doing my best to fulfil my obligations</td>\n",
       "                        <td id=\"T_fa77a_row23_col4\" class=\"data row23 col4\" >0.522551</td>\n",
       "            </tr>\n",
       "            <tr>\n",
       "                        <th id=\"T_fa77a_level0_row24\" class=\"row_heading level0 row24\" >24</th>\n",
       "                        <td id=\"T_fa77a_row24_col0\" class=\"data row24 col0\" >12643</td>\n",
       "                        <td id=\"T_fa77a_row24_col1\" class=\"data row24 col1\" >9</td>\n",
       "                        <td id=\"T_fa77a_row24_col2\" class=\"data row24 col2\" >The_next_lap_-_April_2008_-_vol_1.pdf</td>\n",
       "                        <td id=\"T_fa77a_row24_col3\" class=\"data row24 col3\" >1. Beyond the initial payment to the LDA, proceeds will be split between the LDA, to repay costs associated with the remediation and disposal of land and buildings in the Olympic Park, and DCMS, which will act as a channel for reimbursement of the National Lottery Distribution Fund (NLDF). An initial tranche of £631 million will be allocated pro rata according to a formula which would lead to reimbursement of three-quarters of the funds due to the NLDF and one quarter of the remaining funds due to the LDA. A further £544 million will then be allocated according to a formula which would, if receipts from land sales allow, lead to reimbursement of the remaining quarter of the funds due to the NLDF and the remaining three-quarters of the funds due to the LDA. The treatment of any further surplus arising from land sales “will be determined separately at the time by agreement between the Government and the Mayor”. The Revised Memorandum of Understanding does not provide for repayment to the LDA of its grant of £250 million to the ODA, included within the original Public Sector Funding Package.80 It is important to observe that the Memorandum of Understanding does not provide for uprating of these amounts for general inflation. This is a significant omission, to which we return below</td>\n",
       "                        <td id=\"T_fa77a_row24_col4\" class=\"data row24 col4\" >0.460075</td>\n",
       "            </tr>\n",
       "            <tr>\n",
       "                        <th id=\"T_fa77a_level0_row25\" class=\"row_heading level0 row25\" >25</th>\n",
       "                        <td id=\"T_fa77a_row25_col0\" class=\"data row25 col0\" >3910</td>\n",
       "                        <td id=\"T_fa77a_row25_col1\" class=\"data row25 col1\" >9</td>\n",
       "                        <td id=\"T_fa77a_row25_col2\" class=\"data row25 col2\" >NAO_report_Post_Games_Review_Dec_2012.pdf</td>\n",
       "                        <td id=\"T_fa77a_row25_col3\" class=\"data row25 col3\" >On 11 July 2012 G4S told LOCOG and the Olympic Security Board that it would not be able to provide the full number of guards it had contracted to supply, which had potentially serious implications for security at the Games. Additional military and police personnel were rapidly deployed to fill the gap and the security operation passed off without any major problems. G4S has accepted responsibility for its failure to deliver fully on the contract, and acknowledged a series of failings in its project management and execution (paragraphs 1.27 to 1.30)</td>\n",
       "                        <td id=\"T_fa77a_row25_col4\" class=\"data row25 col4\" >0.409689</td>\n",
       "            </tr>\n",
       "            <tr>\n",
       "                        <th id=\"T_fa77a_level0_row26\" class=\"row_heading level0 row26\" >26</th>\n",
       "                        <td id=\"T_fa77a_row26_col0\" class=\"data row26 col0\" >8680</td>\n",
       "                        <td id=\"T_fa77a_row26_col1\" class=\"data row26 col1\" >9</td>\n",
       "                        <td id=\"T_fa77a_row26_col2\" class=\"data row26 col2\" >PAC_Dec_2011_-_evidence_-_Report_March_2012.pdf</td>\n",
       "                        <td id=\"T_fa77a_row26_col3\" class=\"data row26 col3\" >The military get paid whatever the military get-the reservists have different arrangements to full-time soldiers-and the security guards will get a security guard rate, and the current rate is in the range I said. We cannot define that now. We are exposed to the rate in the marketplace at the time. If we were only paying £10 for a security guard and everybody else was paying £11, we would not get any-they would all go off to the other place. It is effectively a spot market at the time for security guards. That is one of the risks I mentioned earlier</td>\n",
       "                        <td id=\"T_fa77a_row26_col4\" class=\"data row26 col4\" >0.406236</td>\n",
       "            </tr>\n",
       "            <tr>\n",
       "                        <th id=\"T_fa77a_level0_row27\" class=\"row_heading level0 row27\" >27</th>\n",
       "                        <td id=\"T_fa77a_row27_col0\" class=\"data row27 col0\" >2002</td>\n",
       "                        <td id=\"T_fa77a_row27_col1\" class=\"data row27 col1\" >10</td>\n",
       "                        <td id=\"T_fa77a_row27_col2\" class=\"data row27 col2\" >Memorandum_submitted_by_LOCOG_-_Nov_2007.pdf</td>\n",
       "                        <td id=\"T_fa77a_row27_col3\" class=\"data row27 col3\" >Chief Medical Officer Creative Director Director of Strategy and Programme Management  Head of Procurement Head of Client Services Head of Education Head of Venues Technology Head of Programme Solutions Head of Workforce Planning Head of Accommodation Head of Sport Policy Head of Culture Head of Telecommunications Head of Ceremonies Head of Administrative IT Head of Live Site Head of Venue Management Head of Ticketing   —    We now have in place the core components required to undertake the detailed planning for the Games. The team however remains small, at just under 200 people and our recruitment is planned carefully on the basis of the core work that needs to be undertaken now.</td>\n",
       "                        <td id=\"T_fa77a_row27_col4\" class=\"data row27 col4\" >0.554276</td>\n",
       "            </tr>\n",
       "            <tr>\n",
       "                        <th id=\"T_fa77a_level0_row28\" class=\"row_heading level0 row28\" >28</th>\n",
       "                        <td id=\"T_fa77a_row28_col0\" class=\"data row28 col0\" >13548</td>\n",
       "                        <td id=\"T_fa77a_row28_col1\" class=\"data row28 col1\" >10</td>\n",
       "                        <td id=\"T_fa77a_row28_col2\" class=\"data row28 col2\" >The_next_lap_-_April_2008_-_vol_2.pdf</td>\n",
       "                        <td id=\"T_fa77a_row28_col3\" class=\"data row28 col3\" >— In the last year these are just some of the key members of staV recruited into post:Chief Medical OYcer Creative DirectorDirector of Strategy and Programme Management Head of ProcurementHead of Client Services Head of EducationHead of Venues Technology Head of Programme SolutionsHead of Workforce Planning Head of AccommodationHead of Sport Policy Head of CultureHead of Telecommunications Head of CeremoniesHead of Administrative IT Head of Live SiteHead of Venue Management Head of Ticketing— We now have in place the core components required to undertake the detailed planning for theGames. The team however remains small, at just under 200 people and our recruitment is plannedcarefully on the basis of the core work that needs to be undertaken now</td>\n",
       "                        <td id=\"T_fa77a_row28_col4\" class=\"data row28 col4\" >0.473681</td>\n",
       "            </tr>\n",
       "            <tr>\n",
       "                        <th id=\"T_fa77a_level0_row29\" class=\"row_heading level0 row29\" >29</th>\n",
       "                        <td id=\"T_fa77a_row29_col0\" class=\"data row29 col0\" >10531</td>\n",
       "                        <td id=\"T_fa77a_row29_col1\" class=\"data row29 col1\" >10</td>\n",
       "                        <td id=\"T_fa77a_row29_col2\" class=\"data row29 col2\" >Report_and_Minutes_-_Jan_2007_-_vol_2_-_evidence.pdf</td>\n",
       "                        <td id=\"T_fa77a_row29_col3\" class=\"data row29 col3\" >The ODA is currently focused on finalising the Olympic Park and transport plans, to enable eVectivedelivery in the years to come. A year after the award of the Games to London, and six years before the 2012Games, we have made significant progress:— Appointing key staV, a Park Wide Design Team and a Delivery Partner;— Finalising the spatial masterplan for the Olympic Park site, based on delivering an excellent legacyas well as excellent Games;— Establishing a Planning Committee, covering the Olympic Park site;— Preparing the construction programme for the delivery of Games facilities, based on two years ofpreparation, four years of work on site and one year for commissioning and test events;— Working with the London Development Agency to enable land assembly, to appoint sitepreparation contractors and to continue work on the powerlines project;— Working with Transport for London to ensure the delivery of important transport upgrades, likethe extension of Jubilee Line tube trains;— Agreeing a deal with Stratford City and London and Continental Railways for integrating masterplans and securing delivery of the Olympic Village; and— Launching procurement of an integrated design and construction team for the Olympic Stadium</td>\n",
       "                        <td id=\"T_fa77a_row29_col4\" class=\"data row29 col4\" >0.453981</td>\n",
       "            </tr>\n",
       "    </tbody></table>"
      ],
      "text/plain": [
       "<pandas.io.formats.style.Styler at 0x241a51531c0>"
      ]
     },
     "execution_count": 121,
     "metadata": {},
     "output_type": "execute_result"
    }
   ],
   "source": [
    "L = 1/3 # set the optimal L based on the analysis above\n",
    "top_n_filter(df_topic_para2, int(1/L))[top_n_filter(df_topic_para2, int(1/L))['probability'] >= L].style.set_properties(subset = ['paragraph'], **{'width':'500px', 'length': '50px'})"
   ]
  },
  {
   "cell_type": "markdown",
   "metadata": {},
   "source": [
    "### 5.3.4. N most prototypical paragraphs of each topic"
   ]
  },
  {
   "cell_type": "code",
   "execution_count": 122,
   "metadata": {},
   "outputs": [
    {
     "data": {
      "text/html": [
       "<style  type=\"text/css\" >\n",
       "#T_3371a_row0_col3,#T_3371a_row1_col3,#T_3371a_row2_col3,#T_3371a_row3_col3,#T_3371a_row4_col3,#T_3371a_row5_col3,#T_3371a_row6_col3,#T_3371a_row7_col3,#T_3371a_row8_col3,#T_3371a_row9_col3,#T_3371a_row10_col3,#T_3371a_row11_col3,#T_3371a_row12_col3,#T_3371a_row13_col3,#T_3371a_row14_col3,#T_3371a_row15_col3,#T_3371a_row16_col3,#T_3371a_row17_col3,#T_3371a_row18_col3,#T_3371a_row19_col3{\n",
       "            width:  500px;\n",
       "            length:  50px;\n",
       "        }</style><table id=\"T_3371a_\" ><thead>    <tr>        <th class=\"blank level0\" ></th>        <th class=\"col_heading level0 col0\" >Index</th>        <th class=\"col_heading level0 col1\" >topic_id</th>        <th class=\"col_heading level0 col2\" >file</th>        <th class=\"col_heading level0 col3\" >paragraph</th>        <th class=\"col_heading level0 col4\" >probability</th>    </tr></thead><tbody>\n",
       "                <tr>\n",
       "                        <th id=\"T_3371a_level0_row0\" class=\"row_heading level0 row0\" >0</th>\n",
       "                        <td id=\"T_3371a_row0_col0\" class=\"data row0 col0\" >17263</td>\n",
       "                        <td id=\"T_3371a_row0_col1\" class=\"data row0 col1\" >1</td>\n",
       "                        <td id=\"T_3371a_row0_col2\" class=\"data row0 col2\" >Written_evidence_submitted_by_Richard_Baldwin_-_Dec_2009.pdf</td>\n",
       "                        <td id=\"T_3371a_row0_col3\" class=\"data row0 col3\" >In my view what is needed is a specific initiative to promote the Olympic Legacy linked to CASC status and in which those responsible for that Legacy will actively participate. This would involve the provision of funding to develop and execute the CASC initiative which would be aimed at the increase of awareness of the CASC scheme and the provision of support to clubs wishing to register. The effectiveness of it could be measured—eg by setting targets for the number of club registrations and total cash benefits received. The initiative would include: — working with the Olympic \"authority\" responsible for \"soft legacy\" to exploit all CASC opportunities; — working with National Governing Bodies of Sport particularly the Olympic sports to assist their clubs to register; — circulars/communication with sports clubs; — regional workshops working with County Sports Partnerships and Local Authorities; — hotline support—by telephone or e mail; and — monitoring progress, feedback and easing administration in consultation with HMRC CASC Unit in Bootle</td>\n",
       "                        <td id=\"T_3371a_row0_col4\" class=\"data row0 col4\" >0.531410</td>\n",
       "            </tr>\n",
       "            <tr>\n",
       "                        <th id=\"T_3371a_level0_row1\" class=\"row_heading level0 row1\" >1</th>\n",
       "                        <td id=\"T_3371a_row1_col0\" class=\"data row1 col0\" >12700</td>\n",
       "                        <td id=\"T_3371a_row1_col1\" class=\"data row1 col1\" >1</td>\n",
       "                        <td id=\"T_3371a_row1_col2\" class=\"data row1 col2\" >The_next_lap_-_April_2008_-_vol_1.pdf</td>\n",
       "                        <td id=\"T_3371a_row1_col3\" class=\"data row1 col3\" >2. British Cycling told us that the cycling facilities at the Velopark had “the potential to be absolutely world-class” and that they “should be the very best anywhere in the world”.152 There has nonetheless been a certain amount of controversy about the extent to which the Velopark will offer a suitable replacement for off-road facilities at the former Eastway Circuit, lost when land was assembled by the LDA for incorporation into the Olympic Park. The design currently proposed by the ODA for the Velopark offers most of the facilities previously available at Eastway, albeit in a more fragmented layout. British Cycling, despite being supportive of the proposed design for use during the Games and despite anticipating that, after the Games, the Velopark will “provide a boost for cycling”,153 initially lodged objections to the relevant planning applications on the grounds that they did “not provide an adequate or comparable replacement for the road and off-road facilities provided to cycling on the Eastway Circuit”. British Cycling is now satisfied that the ODA has taken on board its concerns and that current plans for the Velopark offer an acceptable replacement for Eastway. The Eastway Users Group, which has campaigned for off-road cycling facilities in the Velopark in legacy mode, remains frustrated by the uncertainty about future provision, and it has pointed out to us that facilities at Eastway closed before the ODA or LDA had provided any suitable temporary alternative, causing  149 Ev 107</td>\n",
       "                        <td id=\"T_3371a_row1_col4\" class=\"data row1 col4\" >0.529183</td>\n",
       "            </tr>\n",
       "            <tr>\n",
       "                        <th id=\"T_3371a_level0_row2\" class=\"row_heading level0 row2\" >2</th>\n",
       "                        <td id=\"T_3371a_row2_col0\" class=\"data row2 col0\" >8304</td>\n",
       "                        <td id=\"T_3371a_row2_col1\" class=\"data row2 col1\" >2</td>\n",
       "                        <td id=\"T_3371a_row2_col2\" class=\"data row2 col2\" >PAC_26_April_2012_-_Olympic_Costs_-_corrected_evidence_(no_report).pdf</td>\n",
       "                        <td id=\"T_3371a_row2_col3\" class=\"data row2 col3\" >You think that the assessment of risks is our best estimate of the most likely outcome of the budget as a whole. But actually the assessment of risk-and how we have compiled it-is this: we have not sought to estimate how likely it is that every risk arises. We just said, \"Let us think about every risk that could arise, and let us assume that they all arise and work out the likely cost of them all arising.\" On top of that, we said, \"And there will be some risks that we just cannot think about that are unknown unknowns. There will be some multiple consequentials if everything came together.\" So we end up with an estimate not of the most likely cost of the project, which is what the burden of paragraph 1 of the PAC Report understands it is, but an estimate of how much we would need to set aside in the very unlikely event that all risks arise and some more unknown risks arise as well. The purpose of that is not to get to an estimate of the likely outcome of the budget. Its purpose and why we do it is to see, against any reasonable view of the likely risk that might arise, even on an assumption that they all arise and some more unknown risks arise, whether we have enough money. The conclusion has always been, yes, we had. Against what is therefore, in my view, a conservative and prudent estimate, we had £36 million headroom at the time of the NAO Report. We had more, and indeed the picture over the six-month period since the original figures on which the NAO was recording this, is that the contingency has gone down by £27 million or so-we reckon, because these are provisional figures, but I want to give our best figures-and the assessed risks on that very conservative and prudent basis have gone down by £136 million. So the picture on the budget as a whole is that we are spending contingency significantly slower than risks are disappearing from the programme. That is why, without in any sense being complacent, I am confident that we will bring this in within budget, and I do not think that the budget is close to being used up</td>\n",
       "                        <td id=\"T_3371a_row2_col4\" class=\"data row2 col4\" >0.684665</td>\n",
       "            </tr>\n",
       "            <tr>\n",
       "                        <th id=\"T_3371a_level0_row3\" class=\"row_heading level0 row3\" >3</th>\n",
       "                        <td id=\"T_3371a_row3_col0\" class=\"data row3 col0\" >8388</td>\n",
       "                        <td id=\"T_3371a_row3_col1\" class=\"data row3 col1\" >2</td>\n",
       "                        <td id=\"T_3371a_row3_col2\" class=\"data row3 col2\" >PAC_26_April_2012_-_Olympic_Costs_-_corrected_evidence_(no_report).pdf</td>\n",
       "                        <td id=\"T_3371a_row3_col3\" class=\"data row3 col3\" >Jonathan Stephens: There are two aspects to risk: likelihood and impact. What we are saying is that we made no estimate of likelihood, we just wrote in a 100% likelihood of all the risks we could think of and some unknown risks that we could not think of. We then looked at impact, and on impact we said, \"If this risk were to materialise-we are assuming a 100% likelihood that it materialises-what is the likely cost?\" That is where you get the low, the most likely outcome and the high outcome. When you add those together, you do not get to an outcome of, \"What is the most likely expenditure on the programme?\"; you get to an outcome of, \"If all conceivable risks arise, plus some unknown risks that we cannot identify, what is the likely expenditure?\" That is a conservative and prudent view of, \"Do we have enough contingency left, if all those risks arise?\" In practice, they won’t all arise. It is conceivable that some will arise, but it is pretty unlikely that all of them will arise. It is perfectly conceivable that some individual risk will arise at a higher estimate than the most likely estimate, but the prospect of all those risks arising is unlikely. The prospect of them all arising at the very highest possible cost is so unlikely as to not provide a good basis for planning. I am sorry. I am going on at some length, but there is a real point</td>\n",
       "                        <td id=\"T_3371a_row3_col4\" class=\"data row3 col4\" >0.664391</td>\n",
       "            </tr>\n",
       "            <tr>\n",
       "                        <th id=\"T_3371a_level0_row4\" class=\"row_heading level0 row4\" >4</th>\n",
       "                        <td id=\"T_3371a_row4_col0\" class=\"data row4 col0\" >284</td>\n",
       "                        <td id=\"T_3371a_row4_col1\" class=\"data row4 col1\" >3</td>\n",
       "                        <td id=\"T_3371a_row4_col2\" class=\"data row4 col2\" >Jan_2003_-_Qs_140-159.pdf</td>\n",
       "                        <td id=\"T_3371a_row4_col3\" class=\"data row4 col3\" >That is why you do it, but that is the easy bit. The hard bit, as the experience of the Commonwealth Games has shown, the experience of Picketts Lock has shown, the experience of Wembley has shown, is that it is very easy to be driven by euphoria alone and then the hard reckoning follows afterwards and that is what we want to avoid, so that we say to people, if we decide to bid, yes, we have decided because, in full understanding of the consequences, this is such a great thing for Britain and if we do not bid it will be because we have decided after rigorous examination that the costs are just too great and other very precious priorities, not just of the Government but of people up and down the country, would have to suffer if we were to do this. I think the poll, which I hope you got in good time, that we commissioned showed some very interesting conclusions. Yes, people are overwhelmingly in favour of our making a bid. The numbers fall when people are pressed in committing themselves to that alongside the consequences. There is one very interesting chart in the polling evidence which shows that, from memory, if you tell somebody they have £100, overwhelmingly what the sample showed was that you spend the largest slug of your money on more schools, the next largest slug on more hospitals, the next largest slug on increasing the value of pensions and then, interestingly, above reducing taxes, you spend money on an Olympic bid. I think the public's priorities are very clear indeed, but nobody should believe that hosting the Olympics would be somehow a free good, that we can just decide to do it as a decision that is divorced from the costs, the costs for sport, the costs for transport and all our commitments to public service renewal</td>\n",
       "                        <td id=\"T_3371a_row4_col4\" class=\"data row4 col4\" >0.569327</td>\n",
       "            </tr>\n",
       "            <tr>\n",
       "                        <th id=\"T_3371a_level0_row5\" class=\"row_heading level0 row5\" >5</th>\n",
       "                        <td id=\"T_3371a_row5_col0\" class=\"data row5 col0\" >113</td>\n",
       "                        <td id=\"T_3371a_row5_col1\" class=\"data row5 col1\" >3</td>\n",
       "                        <td id=\"T_3371a_row5_col2\" class=\"data row5 col2\" >Jan_2003_-_Qs_1-19.pdf</td>\n",
       "                        <td id=\"T_3371a_row5_col3\" class=\"data row5 col3\" >(Mr Bostock) Thank you, Mr Chairman. There are three very specific points there. Could you just give me a few minutes to give you the context of the work we did, and then I would like to answer those three specific points very clearly? I have a very short introduction to start with because I think it is very important for you to understand the context in which the work was done. My name is Mark Bostock; I am a director of Arup and was project director for the particular study which is the subject of the discussion today. First of all, very quickly, Arup is a very large, global multi disciplinary, planning, project management and engineering practice with a very large resource base here in London. We were http://www.publications.parliament.uk/pa/cm200203/cmselect/cmcumeds/268/3011401.htmcommissioned, appointed, to undertake this work in association with Insignia Richard Ellis following a competitive tender, and during the 16-week elapsed time for this work we met with our steering committee approximately every two weeks and a pretty rigorous programme was set out, and that steering committee comprised representatives from the Greater London Authority, the British Olympic Association, the London Development Agency, UK Sport, Sport England, Her Majesty's Treasury and the Department of Culture, Media and Sport, and we had the Cabinet Office's Performance and Innovation Unit with observer status. We reported on 21 May last year, 2002. After approximately five months Government put into the public domain the 12-page summary report which you made reference to, and I need to emphasise again that the main report is not in the public domain and I am very pleased you have made reference to that in your introduction. I would like to make a comment on the scope of work. What we were commissioned to do was to establish the outline construction costs for all the permanent and temporary sport facilities and all the sporting infrastructure; we were asked to look at the costs for bidding for and staging the Games; we were asked to establish the benefits of bidding for and staging the Games and establishing the residual legacy costs and benefits. What we were not asked to do was examine winnability, nor were we asked to examine the opportunity costs of Government spending, and I must make that very clear. Coming closer to the points in the context of the answers that I will give you in a second, we developed our own specimen Games—and I must emphasise specimen Games—and these were centred on an Olympic zone in the Lower Lee Valley in East London, so that provided the basis of our appraisal. During our work and in our report we have been totally transparent in terms of all the various assumptions that we have made in our evaluation and I need to say, with great emphasis, that the financial appraisal methodology was accepted by the Treasury. We always anticipated, as we did this work and completed it, that each of the key stakeholders—the Government, the London Government and the Britain Olympic Association—would evaluate the project from their own point of view, including risks, risk assessment and mitigation of that risk in order to examine the impact of a possible Olympic Games on their respective organisations, and I need to make this very specific point, because risk assessment from the point of view of each of the key stakeholders was not part of our commission. What I want to make absolutely clear, therefore, is that in providing an independent assessment of whether London should or should not bid or stage for the London Olympic Games we concluded very strongly that the key stakeholders needed to enter into a concordat, and I would be very happy to indicate what that meant, because this is planning for a major event in 12 years plus a legacy thereafter, and we have concluded that in the event that an appropriate concordat cannot be entered into between the three stakeholders there is absolutely no point in proceeding with these propositions. Also, we have indicated in the summary report five areas where we felt more work needed to be done from the time we completed our work in May and June and a decision which we thought would have been made in November—it is January now—and that additional work is very clearly set out in section S16 of the summary report</td>\n",
       "                        <td id=\"T_3371a_row5_col4\" class=\"data row5 col4\" >0.568172</td>\n",
       "            </tr>\n",
       "            <tr>\n",
       "                        <th id=\"T_3371a_level0_row6\" class=\"row_heading level0 row6\" >6</th>\n",
       "                        <td id=\"T_3371a_row6_col0\" class=\"data row6 col0\" >3639</td>\n",
       "                        <td id=\"T_3371a_row6_col1\" class=\"data row6 col1\" >4</td>\n",
       "                        <td id=\"T_3371a_row6_col2\" class=\"data row6 col2\" >NAO_Preparing_for_sporting_success_-_March_2008.pdf</td>\n",
       "                        <td id=\"T_3371a_row6_col3\" class=\"data row6 col3\" >4 UK Sport’s ‘ultimate goals’ for medal success at the London 2012 Games will require a step change in performance amongst elite athletes. The achievements of athletes at recent elite international events in a number of sports, including sailing, cycling, rowing, boxing, disability equestrian and disability shooting, suggest that performance levels in some sports are already improving significantly. Following increased spending on elite sport, host nations can typically expect to win an extra six or seven gold medals at an Olympic Games and to win medals across a wider range of sports. This ‘host nation effect’ would not in itself be enough to deliver UK Sport’s Olympic goal, which is likely to require an improvement of eight or nine gold medals over the Great Britain team’s performance at the Athens Games in 2004 if the relative performance of other nations remained the same. Changes in the performance of other nations since 2004, especially in the context of a general trend of increased spending on elite sport, sometimes referred to as a ‘global sporting arms race’, may also have implications for UK Sport in delivering its medal aspirations</td>\n",
       "                        <td id=\"T_3371a_row6_col4\" class=\"data row6 col4\" >0.599309</td>\n",
       "            </tr>\n",
       "            <tr>\n",
       "                        <th id=\"T_3371a_level0_row7\" class=\"row_heading level0 row7\" >7</th>\n",
       "                        <td id=\"T_3371a_row7_col0\" class=\"data row7 col0\" >1468</td>\n",
       "                        <td id=\"T_3371a_row7_col1\" class=\"data row7 col1\" >4</td>\n",
       "                        <td id=\"T_3371a_row7_col2\" class=\"data row7 col2\" >Memorandum_submitted_by_British_Olympic_Association_-_Nov_2007.pdf</td>\n",
       "                        <td id=\"T_3371a_row7_col3\" class=\"data row7 col3\" >Six days after London was awarded the 2012 Olympic Games during a conference called by the BOA, British Sport agreed to set an aspirational target for Team GB to finish in fourth place in the 2012 medal table. The BOA has had a succession of outstanding performance personnel, Sir Clive Woodward being the current Director of Elite Performance who is taking forward the brief to analyse the ways in which the organisation could continue to strengthen its services to the Olympic governing bodies and their athletes in order to help reach the 2012 target. After a year's research, the result has been the development of an \"Elite Performance Programme\" which places the athlete and coach at the centre of a support network made up of leading specialists from areas including kinesiology, physiology, nutrition and performance analysis. A unique communication and analysis system will ensure the athlete receives 24/7 support from the network</td>\n",
       "                        <td id=\"T_3371a_row7_col4\" class=\"data row7 col4\" >0.590843</td>\n",
       "            </tr>\n",
       "            <tr>\n",
       "                        <th id=\"T_3371a_level0_row8\" class=\"row_heading level0 row8\" >8</th>\n",
       "                        <td id=\"T_3371a_row8_col0\" class=\"data row8 col0\" >17552</td>\n",
       "                        <td id=\"T_3371a_row8_col1\" class=\"data row8 col1\" >5</td>\n",
       "                        <td id=\"T_3371a_row8_col2\" class=\"data row8 col2\" >Written_evidence_submitted_by_Vision_2020_UK_-_Jan_2010.pdf</td>\n",
       "                        <td id=\"T_3371a_row8_col3\" class=\"data row8 col3\" >4. Most clubs seem ill-prepared for enquiries from, and inclusion of, people with disabilities who wish to participate in the sport offered by the club. There is little or no support for specialist clubs who provide opportunities for sport that cannot be integrated ie wheelchair basketball or blind cricket! There is often nothing locally to support the child or their parent in accessing the specialist provision and this often involves their having to undertake extensive travel to specialist facilities or organisations catering for this group. There is poor information regarding availability etc and http://www.parasport.org.uk was established as a portal to provide pathway and provision information. The then Mayor of London published a strategy in 2007, which highlighted all these issues and to date there has been little, if any, action to redress these anomalies in London or in the rest of the country. DCSF have, in my view, shown no leadership regarding the legacy of 2012 and its impact on PE in schools and the inclusion of those with disabilities in core curriculum activities or sporting opportunities within or after school. DCMS held a legacy event in 2008 and again in April 2009 focusing on the legacy of the Games for those with disabilities. One outcome was to seek greater links between DWP, DCSF and themselves to ensure that joint strategies were developed and pathways established that enabled children to enjoy and participate in PE and sport within schools/after school clubs/integrated and specialist provision in the community, with good national talent forums and pathways established for those who wish to participate in sport at a higher level and finally, with governing bodies having clear inclusive programmes for sports men and women with disabilities active at a national and international level</td>\n",
       "                        <td id=\"T_3371a_row8_col4\" class=\"data row8 col4\" >0.605244</td>\n",
       "            </tr>\n",
       "            <tr>\n",
       "                        <th id=\"T_3371a_level0_row9\" class=\"row_heading level0 row9\" >9</th>\n",
       "                        <td id=\"T_3371a_row9_col0\" class=\"data row9 col0\" >16542</td>\n",
       "                        <td id=\"T_3371a_row9_col1\" class=\"data row9 col1\" >5</td>\n",
       "                        <td id=\"T_3371a_row9_col2\" class=\"data row9 col2\" >Written_evidence_submitted_by_Incorporated_Society_of_Musicians_-_Jan_2010.pdf</td>\n",
       "                        <td id=\"T_3371a_row9_col3\" class=\"data row9 col3\" >2.3.1.1  Creative industries grow at least 1% more than the rest of the economy. [1] Music grew by 4.7% from 2007 to 2008. [2]     2.3.1.2  Creative industries more than double our investment. The contribution of music to the UK economy reached well over £3.5 billion with the arts estimated to put over £2 back into the economy for every £1 invested [2]. Over 120,000 people are employed in music. [1] In addition, consumers spent over £4 billion on music in 2000. [2]   2.3.2  Music education and effective teaching of music technology are vital to the continuing world leadership of the UK in music. The UK currently lacks the capability to take full advantage of music technology even though music technology has the ability to motivate pupils. [3] The Cultural Olympiad gives an opportunity to put music technology at the centre of Continuing Professional Development. We believe that there is an opportunity to create Cultural Olympiad music technology teachers, available to every local authority and able to provide training and continuing professional development to the current music teacher workforce</td>\n",
       "                        <td id=\"T_3371a_row9_col4\" class=\"data row9 col4\" >0.580403</td>\n",
       "            </tr>\n",
       "            <tr>\n",
       "                        <th id=\"T_3371a_level0_row10\" class=\"row_heading level0 row10\" >10</th>\n",
       "                        <td id=\"T_3371a_row10_col0\" class=\"data row10 col0\" >10389</td>\n",
       "                        <td id=\"T_3371a_row10_col1\" class=\"data row10 col1\" >6</td>\n",
       "                        <td id=\"T_3371a_row10_col2\" class=\"data row10 col2\" >Report_and_Minutes_-_Jan_2007.pdf</td>\n",
       "                        <td id=\"T_3371a_row10_col3\" class=\"data row10 col3\" >19. There was much more optimism about scope for increasing tourist traffic after the Games. Mr Castle, the East of England representative on the Nations and Regions Group, described the Games as a “shop window” for the UK. Both he and the Tourism Management Institute saw scope for the Games to generate business tourism.254 The DCMS memorandum stated that “experience from recent host cities indicates that tourism will increase significantly across the UK, most notably after the Games”;255 and the Tourism Alliance told us that DCMS expected that up to 80% of the legacy benefit to be derived from hosting the Games would be gained through “increased tourism as a result of [the] high degree of international media exposure”.256 The Tourism Alliance itself agreed that the main way that lasting benefits would be reaped would be through media exposure; but it saw Government investment in a tourism strategy as being a necessary part of drawing on that exposure; and it spoke of a “lack of realisation within DCMS that additional funds need to be committed … to marketing and media support”. The Government has pledged that the interests of tourism “will be taken into account in all Olympic policy decisions”; underlying this pledge, however, was a statement by the Secretary of State that, in order to increase the number of visitors as a result of the Games, the tourism industry needed “to improve the consistency of its quality, raise the level of skill and, through imaginative marketing, showcase Britain’s heritage and its dynamic, 21st century cities”.257</td>\n",
       "                        <td id=\"T_3371a_row10_col4\" class=\"data row10 col4\" >0.479690</td>\n",
       "            </tr>\n",
       "            <tr>\n",
       "                        <th id=\"T_3371a_level0_row11\" class=\"row_heading level0 row11\" >11</th>\n",
       "                        <td id=\"T_3371a_row11_col0\" class=\"data row11 col0\" >10424</td>\n",
       "                        <td id=\"T_3371a_row11_col1\" class=\"data row11 col1\" >6</td>\n",
       "                        <td id=\"T_3371a_row11_col2\" class=\"data row11 col2\" >Report_and_Minutes_-_Jan_2007.pdf</td>\n",
       "                        <td id=\"T_3371a_row11_col3\" class=\"data row11 col3\" >38. The London Borough of Newham suggested to us that “opportunities for a wider cultural legacy for the Park are currently being overlooked in the legacy planning processes”, and it claimed that cultural planning for the Olympics “currently only identifies a narrow spread of stakeholders, largely excluding representation from local authorities and key local and regional cultural partners”.291 Heritage Link also relayed to us anxiety felt among smaller voluntary sector organisations that they were somewhat marginalised in discussions on maximising the benefits of the Olympics.292 We put this latter point to witnesses representing the Nations and Regions Group, who sought to reassure us that within the various regional groups culture was “very much embedded” and that (at least in the case of the East of England and the South West) the Regional Cultural Consortium was “one of the key partners” or was the source of cultural initiatives for the regional group. 293</td>\n",
       "                        <td id=\"T_3371a_row11_col4\" class=\"data row11 col4\" >0.451425</td>\n",
       "            </tr>\n",
       "            <tr>\n",
       "                        <th id=\"T_3371a_level0_row12\" class=\"row_heading level0 row12\" >12</th>\n",
       "                        <td id=\"T_3371a_row12_col0\" class=\"data row12 col0\" >3329</td>\n",
       "                        <td id=\"T_3371a_row12_col1\" class=\"data row12 col1\" >7</td>\n",
       "                        <td id=\"T_3371a_row12_col2\" class=\"data row12 col2\" >NAO_Preparations_for_the_Olympics_-_Progress_report_-_June_2008.pdf</td>\n",
       "                        <td id=\"T_3371a_row12_col3\" class=\"data row12 col3\" >6 PREPARATIONS FOR THE LONDON 2012 OLyMPIC AND PARALyMPIC GAMES: PROGRESS REPORT JuNE 2008\t \t \t \t \t \t10 The start and completion dates for the construction of the main venue and infrastructure projects delivered by the Olympic Delivery Authority at the end of March 2008 compared with the milestones in the November 2007 Programme Baseline ReportProjectEnabling Works (site preparation) Power Lines under Grounding  (switchover only)   Structures, Bridges and Highways utilities Main Stadium    Aquatics Centre    VeloparkHandball/Indoor Sports ArenaBasketballInternational Broadcast Centre/ Main Press CentreOlympic Village Eton Manor (training facilities  and Paralympic events)  Broxbourne  (white water canoeing) Eton Dorney (rowing) Weymouth and Portland (sailing)construction start date November 2007  March 2008 Change in  programme  Forecast start date  baseline  (months)October 2006 October 2006 0 July 2008 July 2008 0   April 2008 April 2008 0 January 2008 January 2008 0 July 2008 May 2008 –21    September 2008 September 2008 0 March 2009 March 2009 0August 2009 June 2009 –2July 2009 November 2009 4May 2009 March 2009 –2 June 2008 May 2008 –1 March 2010 January 2010 –2   August 2008 May 2009 9  March 2009 January 2009 –2 May 2008 January 2008 –4construction end date November 2007  March 2008 Change in  programme  Forecast end date  baseline   (months)September 2009 September 2009 0 September 2008 November 2008 2   December 2011 December 2011 0 December 2011 August 2011 –4 Construction  Construction end date end dateFebruary 2011 April 2011 2Completion date  Completion date for construction  for construction and initial overlay  and initial overlay for test events for test eventsJune 2011 June 2011 0Construction  Construction end date end dateApril 2011 August 2011 4Completion date  Completion date for construction  for construction and initial overlay  and initial overlay for test events for test eventsJuly 2011 August 2011 1April 2011 February 2011 –2April 2011 March 2011 –1April 2011 April 2011 0June 2011 July 2011 1 December 2011 December 2011 0 February 2012 April 2011 –10   June 2010 October 2010 4  April 2010 July 2009 –9 February 2009 January 2009 –1Source: National Audit Office examination of actual and forecast progress against the November 2007 Programme BaselineNOTE</td>\n",
       "                        <td id=\"T_3371a_row12_col4\" class=\"data row12 col4\" >0.604578</td>\n",
       "            </tr>\n",
       "            <tr>\n",
       "                        <th id=\"T_3371a_level0_row13\" class=\"row_heading level0 row13\" >13</th>\n",
       "                        <td id=\"T_3371a_row13_col0\" class=\"data row13 col0\" >3508</td>\n",
       "                        <td id=\"T_3371a_row13_col1\" class=\"data row13 col1\" >7</td>\n",
       "                        <td id=\"T_3371a_row13_col2\" class=\"data row13 col2\" >NAO_Preparations_for_the_Olympics_-_Progress_report_-_June_2008.pdf</td>\n",
       "                        <td id=\"T_3371a_row13_col3\" class=\"data row13 col3\" >3PREPARATIONS FOR THE LONDON 2012 OLyMPIC AND PARALyMPIC GAMES: PROGRESS REPORT JuNE 2008n Performance reports and data on progress, including the Olympic Delivery Authority’s monthly reports on the progress of the construction programme, the status of procurement activity, and the quarterly update to funders on progress by the 31 March 2008, were reviewed to establish whether the Olympic Programme is on track in terms of both time and budget;n LOCOG’s “2008/09 Business Plan – Summary of Priorities, Milestones, Budget and Resources”, and the draft arrangements for their quarterly financial and programme management reporting to the Government Olympic Executive, to consider LOCOG’s progress on the preparations for staging the Games; n The Government Olympic Executive’s documentation on the emerging arrangements for programme wide risk management, to assess their maturity and effectiveness; andn The Government Olympic Executive’s financial management procedures for managing contingency and cash flow</td>\n",
       "                        <td id=\"T_3371a_row13_col4\" class=\"data row13 col4\" >0.598486</td>\n",
       "            </tr>\n",
       "            <tr>\n",
       "                        <th id=\"T_3371a_level0_row14\" class=\"row_heading level0 row14\" >14</th>\n",
       "                        <td id=\"T_3371a_row14_col0\" class=\"data row14 col0\" >4954</td>\n",
       "                        <td id=\"T_3371a_row14_col1\" class=\"data row14 col1\" >8</td>\n",
       "                        <td id=\"T_3371a_row14_col2\" class=\"data row14 col2\" >Oral_evidence_-_17_March_2010_Qs_100-143_-_Boroughs.pdf</td>\n",
       "                        <td id=\"T_3371a_row14_col3\" class=\"data row14 col3\" >Stratford is a huge churn. We have done research into the nature of the flats that have gone up around Stratford—the better end—and they are being rented by people who work and basically it is a place to sleep and they go out and do other things, which is what people do when they are young and that is fine. What we could easily end up with is what we have ended up with elsewhere in the borough, which is a desert, with people not interested in the community and so we have a bunch of social tenants in there—not huge numbers—and no real community. I think we have to have a proper debate and discussion around what will happen with the rest of the housing. Ideally we want people who live there to buy and then continue to have an interest in the community. So any discussion about the Village I would argue needs to start with what happens to the private sector area because this has to work; if it does not work it can damage the rest of the Olympic area and the Olympic Park. We are now arguing, for example, for a Royal Park because we think that that will raise the whole standard of the area and people will get some sense of a better place, a place where it is really good to live. The OPLC understands that it needs to get housing and family housing and not just blocks of flats, so starting with that. Then you get to this question about what would the nature of the allocations be and we are about to have a big discussion with various partners where we talk about who would we move in. Certainly from a Newham point of view—because the Village is in Newham—we took a court case which opposed housing by need and were successful in turning the policy around, and the Government has now introduced a policy which would allow us to support people who are working into social housing because our view would tend to be if you have a low rent that is a great benefit if you are working and on a lower income, but if you are on benefit that is not much of a benefit at all. We are certainly at the moment having a discussion around allocations policy and there are plans to have it. We need to make the community work—start off with the community. I get very frustrated when I hear people talk about \"units\"; talk about the community that you are trying to create and how that will look. If we want to have this as a place that people want to live in in 100 years' time the community has to work. To do that you do not then take, for example, social housing for everybody that is not working together because we have evidence that that does not work, so if it does not work perhaps we should stop trying to do it. The nature of the allocation as to who moves in there is, I think, up for debate at the moment and all the people involved are willing to look at that in a radical way that will enable us to build a community there. But I will come back again, you can do that in the social and affordable rent side, what about the rented properties that you will end up with? People will invest and buy chunks off the plan and they will end up with a lot of people that do not necessarily spend a lot of time there. For me it is a very clear thing, this should be the responsibility of the OPLC, it should not be the responsibility of the ODA and the ODA should be handing over that responsibility to the OPLC tomorrow because the ODA has no locus or interest there. It is not that they are doing badly because these guys have built an Olympic site on time and on budget, they are doing a really good job from the point of view of doing what they were asked to do, but they will not be there after 2014 and we will. The OPLC should be the people who are actually involved in the Village now. I am very clear about that</td>\n",
       "                        <td id=\"T_3371a_row14_col4\" class=\"data row14 col4\" >0.557910</td>\n",
       "            </tr>\n",
       "            <tr>\n",
       "                        <th id=\"T_3371a_level0_row15\" class=\"row_heading level0 row15\" >15</th>\n",
       "                        <td id=\"T_3371a_row15_col0\" class=\"data row15 col0\" >4632</td>\n",
       "                        <td id=\"T_3371a_row15_col1\" class=\"data row15 col1\" >8</td>\n",
       "                        <td id=\"T_3371a_row15_col2\" class=\"data row15 col2\" >Oral_evidence_-_15_Dec_2009_LOCOG_ODA.pdf</td>\n",
       "                        <td id=\"T_3371a_row15_col3\" class=\"data row15 col3\" >Mr Deighton: This is a very interesting question. The essence of every sponsorship agreement is that each company seeks exclusivity within its own category. Our role is to protect their rights around that exclusivity in that category. The complexity comes from when you introduce potential retailers, because of course we have a number of existing sponsors who sell products and they sell products through different retailers. If we create a retailing category of course those retailers also sell the products of competitors to our existing sponsors. What we have to establish is a transaction which protects our existing sponsors yet would also allow the retailer to be able to activate its rights with the Games. We continue to have discussions to try and make that a possible compromise. Our primary objective is to make sure that the rights of our existing sponsors are properly protected, because of course that is what they have paid for.</td>\n",
       "                        <td id=\"T_3371a_row15_col4\" class=\"data row15 col4\" >0.532429</td>\n",
       "            </tr>\n",
       "            <tr>\n",
       "                        <th id=\"T_3371a_level0_row16\" class=\"row_heading level0 row16\" >16</th>\n",
       "                        <td id=\"T_3371a_row16_col0\" class=\"data row16 col0\" >12643</td>\n",
       "                        <td id=\"T_3371a_row16_col1\" class=\"data row16 col1\" >9</td>\n",
       "                        <td id=\"T_3371a_row16_col2\" class=\"data row16 col2\" >The_next_lap_-_April_2008_-_vol_1.pdf</td>\n",
       "                        <td id=\"T_3371a_row16_col3\" class=\"data row16 col3\" >1. Beyond the initial payment to the LDA, proceeds will be split between the LDA, to repay costs associated with the remediation and disposal of land and buildings in the Olympic Park, and DCMS, which will act as a channel for reimbursement of the National Lottery Distribution Fund (NLDF). An initial tranche of £631 million will be allocated pro rata according to a formula which would lead to reimbursement of three-quarters of the funds due to the NLDF and one quarter of the remaining funds due to the LDA. A further £544 million will then be allocated according to a formula which would, if receipts from land sales allow, lead to reimbursement of the remaining quarter of the funds due to the NLDF and the remaining three-quarters of the funds due to the LDA. The treatment of any further surplus arising from land sales “will be determined separately at the time by agreement between the Government and the Mayor”. The Revised Memorandum of Understanding does not provide for repayment to the LDA of its grant of £250 million to the ODA, included within the original Public Sector Funding Package.80 It is important to observe that the Memorandum of Understanding does not provide for uprating of these amounts for general inflation. This is a significant omission, to which we return below</td>\n",
       "                        <td id=\"T_3371a_row16_col4\" class=\"data row16 col4\" >0.460075</td>\n",
       "            </tr>\n",
       "            <tr>\n",
       "                        <th id=\"T_3371a_level0_row17\" class=\"row_heading level0 row17\" >17</th>\n",
       "                        <td id=\"T_3371a_row17_col0\" class=\"data row17 col0\" >3910</td>\n",
       "                        <td id=\"T_3371a_row17_col1\" class=\"data row17 col1\" >9</td>\n",
       "                        <td id=\"T_3371a_row17_col2\" class=\"data row17 col2\" >NAO_report_Post_Games_Review_Dec_2012.pdf</td>\n",
       "                        <td id=\"T_3371a_row17_col3\" class=\"data row17 col3\" >On 11 July 2012 G4S told LOCOG and the Olympic Security Board that it would not be able to provide the full number of guards it had contracted to supply, which had potentially serious implications for security at the Games. Additional military and police personnel were rapidly deployed to fill the gap and the security operation passed off without any major problems. G4S has accepted responsibility for its failure to deliver fully on the contract, and acknowledged a series of failings in its project management and execution (paragraphs 1.27 to 1.30)</td>\n",
       "                        <td id=\"T_3371a_row17_col4\" class=\"data row17 col4\" >0.409689</td>\n",
       "            </tr>\n",
       "            <tr>\n",
       "                        <th id=\"T_3371a_level0_row18\" class=\"row_heading level0 row18\" >18</th>\n",
       "                        <td id=\"T_3371a_row18_col0\" class=\"data row18 col0\" >2002</td>\n",
       "                        <td id=\"T_3371a_row18_col1\" class=\"data row18 col1\" >10</td>\n",
       "                        <td id=\"T_3371a_row18_col2\" class=\"data row18 col2\" >Memorandum_submitted_by_LOCOG_-_Nov_2007.pdf</td>\n",
       "                        <td id=\"T_3371a_row18_col3\" class=\"data row18 col3\" >Chief Medical Officer Creative Director Director of Strategy and Programme Management  Head of Procurement Head of Client Services Head of Education Head of Venues Technology Head of Programme Solutions Head of Workforce Planning Head of Accommodation Head of Sport Policy Head of Culture Head of Telecommunications Head of Ceremonies Head of Administrative IT Head of Live Site Head of Venue Management Head of Ticketing   —    We now have in place the core components required to undertake the detailed planning for the Games. The team however remains small, at just under 200 people and our recruitment is planned carefully on the basis of the core work that needs to be undertaken now.</td>\n",
       "                        <td id=\"T_3371a_row18_col4\" class=\"data row18 col4\" >0.554276</td>\n",
       "            </tr>\n",
       "            <tr>\n",
       "                        <th id=\"T_3371a_level0_row19\" class=\"row_heading level0 row19\" >19</th>\n",
       "                        <td id=\"T_3371a_row19_col0\" class=\"data row19 col0\" >13548</td>\n",
       "                        <td id=\"T_3371a_row19_col1\" class=\"data row19 col1\" >10</td>\n",
       "                        <td id=\"T_3371a_row19_col2\" class=\"data row19 col2\" >The_next_lap_-_April_2008_-_vol_2.pdf</td>\n",
       "                        <td id=\"T_3371a_row19_col3\" class=\"data row19 col3\" >— In the last year these are just some of the key members of staV recruited into post:Chief Medical OYcer Creative DirectorDirector of Strategy and Programme Management Head of ProcurementHead of Client Services Head of EducationHead of Venues Technology Head of Programme SolutionsHead of Workforce Planning Head of AccommodationHead of Sport Policy Head of CultureHead of Telecommunications Head of CeremoniesHead of Administrative IT Head of Live SiteHead of Venue Management Head of Ticketing— We now have in place the core components required to undertake the detailed planning for theGames. The team however remains small, at just under 200 people and our recruitment is plannedcarefully on the basis of the core work that needs to be undertaken now</td>\n",
       "                        <td id=\"T_3371a_row19_col4\" class=\"data row19 col4\" >0.473681</td>\n",
       "            </tr>\n",
       "    </tbody></table>"
      ],
      "text/plain": [
       "<pandas.io.formats.style.Styler at 0x241a87d29d0>"
      ]
     },
     "execution_count": 122,
     "metadata": {},
     "output_type": "execute_result"
    }
   ],
   "source": [
    "# 2 most prototypical paragraphs of each topic\n",
    "N2 = 2\n",
    "top_n_filter(df_topic_para2, N2).style.set_properties(subset = ['paragraph'], **{'width':'500px', 'length': '50px'})"
   ]
  },
  {
   "cell_type": "markdown",
   "metadata": {},
   "source": [
    "### 5.3.5.  N most prototypical paragraphs of a specific topic"
   ]
  },
  {
   "cell_type": "code",
   "execution_count": 123,
   "metadata": {},
   "outputs": [
    {
     "data": {
      "text/html": [
       "<style  type=\"text/css\" >\n",
       "#T_b98a5_row0_col3,#T_b98a5_row1_col3{\n",
       "            width:  500px;\n",
       "            length:  50px;\n",
       "        }</style><table id=\"T_b98a5_\" ><thead>    <tr>        <th class=\"blank level0\" ></th>        <th class=\"col_heading level0 col0\" >Index</th>        <th class=\"col_heading level0 col1\" >topic_id</th>        <th class=\"col_heading level0 col2\" >file</th>        <th class=\"col_heading level0 col3\" >paragraph</th>        <th class=\"col_heading level0 col4\" >probability</th>    </tr></thead><tbody>\n",
       "                <tr>\n",
       "                        <th id=\"T_b98a5_level0_row0\" class=\"row_heading level0 row0\" >2</th>\n",
       "                        <td id=\"T_b98a5_row0_col0\" class=\"data row0 col0\" >8304</td>\n",
       "                        <td id=\"T_b98a5_row0_col1\" class=\"data row0 col1\" >2</td>\n",
       "                        <td id=\"T_b98a5_row0_col2\" class=\"data row0 col2\" >PAC_26_April_2012_-_Olympic_Costs_-_corrected_evidence_(no_report).pdf</td>\n",
       "                        <td id=\"T_b98a5_row0_col3\" class=\"data row0 col3\" >You think that the assessment of risks is our best estimate of the most likely outcome of the budget as a whole. But actually the assessment of risk-and how we have compiled it-is this: we have not sought to estimate how likely it is that every risk arises. We just said, \"Let us think about every risk that could arise, and let us assume that they all arise and work out the likely cost of them all arising.\" On top of that, we said, \"And there will be some risks that we just cannot think about that are unknown unknowns. There will be some multiple consequentials if everything came together.\" So we end up with an estimate not of the most likely cost of the project, which is what the burden of paragraph 1 of the PAC Report understands it is, but an estimate of how much we would need to set aside in the very unlikely event that all risks arise and some more unknown risks arise as well. The purpose of that is not to get to an estimate of the likely outcome of the budget. Its purpose and why we do it is to see, against any reasonable view of the likely risk that might arise, even on an assumption that they all arise and some more unknown risks arise, whether we have enough money. The conclusion has always been, yes, we had. Against what is therefore, in my view, a conservative and prudent estimate, we had £36 million headroom at the time of the NAO Report. We had more, and indeed the picture over the six-month period since the original figures on which the NAO was recording this, is that the contingency has gone down by £27 million or so-we reckon, because these are provisional figures, but I want to give our best figures-and the assessed risks on that very conservative and prudent basis have gone down by £136 million. So the picture on the budget as a whole is that we are spending contingency significantly slower than risks are disappearing from the programme. That is why, without in any sense being complacent, I am confident that we will bring this in within budget, and I do not think that the budget is close to being used up</td>\n",
       "                        <td id=\"T_b98a5_row0_col4\" class=\"data row0 col4\" >0.684665</td>\n",
       "            </tr>\n",
       "            <tr>\n",
       "                        <th id=\"T_b98a5_level0_row1\" class=\"row_heading level0 row1\" >3</th>\n",
       "                        <td id=\"T_b98a5_row1_col0\" class=\"data row1 col0\" >8388</td>\n",
       "                        <td id=\"T_b98a5_row1_col1\" class=\"data row1 col1\" >2</td>\n",
       "                        <td id=\"T_b98a5_row1_col2\" class=\"data row1 col2\" >PAC_26_April_2012_-_Olympic_Costs_-_corrected_evidence_(no_report).pdf</td>\n",
       "                        <td id=\"T_b98a5_row1_col3\" class=\"data row1 col3\" >Jonathan Stephens: There are two aspects to risk: likelihood and impact. What we are saying is that we made no estimate of likelihood, we just wrote in a 100% likelihood of all the risks we could think of and some unknown risks that we could not think of. We then looked at impact, and on impact we said, \"If this risk were to materialise-we are assuming a 100% likelihood that it materialises-what is the likely cost?\" That is where you get the low, the most likely outcome and the high outcome. When you add those together, you do not get to an outcome of, \"What is the most likely expenditure on the programme?\"; you get to an outcome of, \"If all conceivable risks arise, plus some unknown risks that we cannot identify, what is the likely expenditure?\" That is a conservative and prudent view of, \"Do we have enough contingency left, if all those risks arise?\" In practice, they won’t all arise. It is conceivable that some will arise, but it is pretty unlikely that all of them will arise. It is perfectly conceivable that some individual risk will arise at a higher estimate than the most likely estimate, but the prospect of all those risks arising is unlikely. The prospect of them all arising at the very highest possible cost is so unlikely as to not provide a good basis for planning. I am sorry. I am going on at some length, but there is a real point</td>\n",
       "                        <td id=\"T_b98a5_row1_col4\" class=\"data row1 col4\" >0.664391</td>\n",
       "            </tr>\n",
       "    </tbody></table>"
      ],
      "text/plain": [
       "<pandas.io.formats.style.Styler at 0x241b9420850>"
      ]
     },
     "execution_count": 123,
     "metadata": {},
     "output_type": "execute_result"
    }
   ],
   "source": [
    "topic_id_chosen = 2                                    # choose the topic ID\n",
    "num_para = 2                                            # set N to extract the N most prototypical paragraphs of a specific topic\n",
    "df_n_topic_k = top_n_filter(df_topic_para2, num_para)\n",
    "topic_id_filter = df_n_topic_k['topic_id'] == topic_id_chosen\n",
    "df_n_topic_k[topic_id_filter].style.set_properties(subset = ['paragraph'], **{'width':'500px', 'length': '50px'})"
   ]
  },
  {
   "cell_type": "markdown",
   "metadata": {},
   "source": [
    "## 5.4 Dashboard for topic interpretation"
   ]
  },
  {
   "cell_type": "markdown",
   "metadata": {},
   "source": [
    "Below the visualisation of PyLDAvis and the prototypical paragraphs are integrated into a dashboard, users can click the link generated to open the dashboard and interpret the topics more easily. To \n",
    "launch the dash, remember to download the two css files from https://github.com/suhao3123/CSS, create a folder named assets in the root of your app directory and include the two files in that folder.\n",
    "After the first run of the whole program, users can run the chunks below independently."
   ]
  },
  {
   "cell_type": "code",
   "execution_count": 130,
   "metadata": {},
   "outputs": [],
   "source": [
    "import plotly.express as px \n",
    "import plotly.graph_objects as go\n",
    "\n",
    "from jupyter_dash import JupyterDash\n",
    "\n",
    "import dash\n",
    "import dash_table\n",
    "import dash_core_components as dcc\n",
    "import dash_html_components as html\n",
    "import dash_bootstrap_components as dbc\n",
    "from dash_table.Format import Format, Scheme, Trim\n",
    "from dash.dependencies import Input, Output, State\n",
    "from dash.exceptions import PreventUpdate"
   ]
  },
  {
   "cell_type": "code",
   "execution_count": 131,
   "metadata": {},
   "outputs": [],
   "source": [
    "# load the topic distribution of paragraphs from disk\n",
    "df_topic_para3 = pd.read_pickle('./df_topic_para_Olympics2.pkl')\n",
    "df_topic_para3_n = df_topic_para3.copy()\n",
    "df_topic_para3_n['highest_p'] = df_topic_para3_n.iloc[:, 6:].max(axis = 1)         \n",
    "df_topic_para3_n['salient_topic'] = df_topic_para3_n.iloc[:, 6:].idxmax(axis = 1)  \n",
    "df_topic_para3_n = df_topic_para3_n[['index','file_name','salient_topic','paragraphs','highest_p',]]\n",
    "df_topic_para3_n.columns = ['Index','file','topic', 'paragraph','probability']"
   ]
  },
  {
   "cell_type": "code",
   "execution_count": 132,
   "metadata": {},
   "outputs": [],
   "source": [
    "# define the function for extracting the highest N ranked paragraphs from each topic\n",
    "def top_n_filter(df, top_n):\n",
    "    list_topic_id = [x+1 for x in range(0,k)]\n",
    "    list_n_para = []\n",
    "    list_n_p = []\n",
    "    list_n_index = []\n",
    "    list_n_file_name = []\n",
    "    for x in range(1, k + 1): \n",
    "        n_para = [i for i in df.nlargest(top_n, [x])['paragraphs']]\n",
    "        n_p = [i for i in df.nlargest(top_n, [x])[x]]\n",
    "        n_index = [i for i in df_topic_para3.nlargest(top_n, [x]).index]\n",
    "        n_file_name = [i for i in df.nlargest(top_n, [x])['file_name']]\n",
    "        list_n_para.append(n_para)\n",
    "        list_n_p.append(n_p)\n",
    "        list_n_file_name.append(n_file_name)\n",
    "        list_n_index.append(n_index)\n",
    "    pd_n_para = pd.DataFrame({'Index':list_n_index, 'topic_id': list_topic_id, 'file': list_n_file_name, 'paragraph': list_n_para, 'probability': list_n_p})\n",
    "    return(pd_n_para.apply(pd.Series.explode).reset_index().drop('index', axis = 1))"
   ]
  },
  {
   "cell_type": "code",
   "execution_count": 133,
   "metadata": {},
   "outputs": [],
   "source": [
    "list_mark = list(np.arange(0,1.050,0.050))\n",
    "list_mark_round = [round(i, 2) for i in list_mark]\n",
    "marks= {x: str(x) for x in list_mark_round}"
   ]
  },
  {
   "cell_type": "code",
   "execution_count": 134,
   "metadata": {},
   "outputs": [
    {
     "name": "stdout",
     "output_type": "stream",
     "text": [
      "Dash app running on http://127.0.0.1:8050/\n"
     ]
    }
   ],
   "source": [
    "# Set up the app\n",
    "external_stylesheets = [dbc.themes.BOOTSTRAP, \"assets/bootstrap.min.css\"]\n",
    "app = JupyterDash(__name__, external_stylesheets=external_stylesheets)\n",
    "\n",
    "# Bootstrap's cards provide a flexible content container with multiple variants and options.\n",
    "pyLDAcard = dbc.Card(\n",
    "    [\n",
    "            dbc.CardHeader(html.H4(\"Topic visualisation\")),                # title\n",
    "            dbc.CardBody(\n",
    "            [\n",
    "                dbc.Row(\n",
    "                        dbc.Col(\n",
    "                            [\n",
    "                                html.Embed(src = \"assets/lda.html\" ,style={ 'position': 'relative', 'left': '-250px', 'top': '-100px',\n",
    "                                                                            'width':'1400px', 'height':'860px', 'transform': 'scale(0.70)'}), \n",
    "                            ]\n",
    "                        )\n",
    "                )\n",
    "            ]\n",
    "        ),\n",
    "    ]\n",
    ")\n",
    "\n",
    "\n",
    "table_card = dbc.Card(\n",
    "    [\n",
    "        dbc.CardHeader(\n",
    "            dbc.Row([\n",
    "                  dbc.Col(html.H4(\"Prototypical paragraphs\"))\n",
    "            ])            \n",
    "        ),\n",
    "        \n",
    "        \n",
    "        dbc.CardHeader(\n",
    "                         dbc.Row(\n",
    "                            [\n",
    "                            dbc.Col(\n",
    "                            [\n",
    "                                html.H6(\"Threshold of probability \"),\n",
    "                                dcc.Slider(\n",
    "                                            id='slider',\n",
    "                                            min=0,\n",
    "                                            max=1,\n",
    "                                            step=0.01,\n",
    "                                marks=marks,\n",
    "                                        value=0.1,\n",
    "                                        ),html.Div(style={'width': '1000px'})\n",
    "                            ]\n",
    "                        ),\n",
    "                        dbc.Col(\n",
    "                        [\n",
    "                                html.H6(\"Topic Selection\"),\n",
    "                                dcc.Input(id=\"topic_selection\", type=\"number\",min=1, max=11, step=1, value=1),\n",
    "                                html.Div(style={'width': '100px'})\n",
    "                        ]\n",
    "                        ),\n",
    "                          dbc.Col(\n",
    "                        [\n",
    "                                html.H6(\"N Selection\"),\n",
    "                                dcc.Input(id=\"rank_selection\", type=\"number\",min=1, max=20, step=1,value=5),\n",
    "                                html.Div(style={'width': '100px'})\n",
    "                        ]\n",
    "                        ),\n",
    "                                dbc.Col(\n",
    "                                    [\n",
    "                                        html.H6(\"Mode\"),\n",
    "                                        dcc.Dropdown(\n",
    "                                                            id='dropdown',\n",
    "                                                            options=[\n",
    "                                                                {'label': 'N most prototypical paragraphs for topic K', 'value': 'c1'},\n",
    "                                                                {'label': 'N most prototypical paragraphs overall', 'value': 'c2'},\n",
    "                                                                {'label': 'N most prototypical paragraphs for each topic', 'value': 'c3'}\n",
    "                                                            ],\n",
    "                                               #             value = 'c1',\n",
    "                                                            searchable=False,\n",
    "                                                            clearable=False,\n",
    "                                                            placeholder=\"Select a mode\",\n",
    "                                                        ),html.Div(style={'width': '380px'})\n",
    "                                    ]\n",
    "                                ),                                \n",
    "                ]\n",
    "            )                    \n",
    "                ),\n",
    "        \n",
    "        dbc.CardBody(\n",
    "                dbc.Col([\n",
    "                    dash_table.DataTable(),html.Div(id=\"data_table\")           \n",
    "                ])    \n",
    "                ),\n",
    "        \n",
    "        dbc.CardFooter(\n",
    "            dbc.Row([\n",
    "                dbc.Col(\n",
    "                                    [\n",
    "                                        html.H6('Please click the \"Submit\" button after setting the parameters above'),html.Div(style={'width': '500px'})\n",
    "\n",
    "                                    ]\n",
    "                                ),\n",
    "                                \n",
    "                dbc.Col(\n",
    "                                    [\n",
    "                                        dbc.Button(\"Submit\", id='submit', color=\"success\"),\n",
    "                                        html.Div(id='button')\n",
    "                                    ]\n",
    "                                )\n",
    "                ])\n",
    "                )       \n",
    "    ]\n",
    ")\n",
    "        \n",
    "app.layout = html.Div(\n",
    "    [\n",
    "        dbc.Container(\n",
    "            [dbc.Row(\n",
    "                [\n",
    "                dbc.Col(pyLDAcard,md=7), \n",
    "                dbc.Col(table_card,md=5)\n",
    "            ]             \n",
    "            )\n",
    "            ],\n",
    "            fluid=True,\n",
    "        ),\n",
    "    ]\n",
    ")\n",
    "\n",
    "@app.callback(\n",
    "    Output('data_table','children'),\n",
    "    Input('submit', 'n_clicks'), Input('dropdown', 'value'), Input('slider', 'value'), Input('topic_selection','value'), Input('rank_selection','value')\n",
    "     )\n",
    "\n",
    "def update_datatable(n_clicks, dropdown_value, slider_value,topic_value,top_n):\n",
    "  \n",
    "    ctx = dash.callback_context\n",
    "    if not ctx.triggered:\n",
    "        button_id = 'No clicks'\n",
    "    else:\n",
    "        button_id = ctx.triggered[0]['prop_id'].split('.')[0]\n",
    "    \n",
    "#    print(button_id)\n",
    "                 \n",
    "    if button_id==\"submit\":\n",
    "        topic = topic_value                        #Topic filter of the Highest ranked paragraphs\n",
    "        Top_N = top_n                          #Set rank of for for topic \n",
    "#        print(topic_value)\n",
    "#        print(Top_N)   \n",
    "        \n",
    "        minimum_probability = slider_value #Topics with an assigned probability lower than this threshold will be discarded.\n",
    "#        print(minimum_probability)            \n",
    "\n",
    "        if dropdown_value=='c1':\n",
    "            c_df = top_n_filter(df_topic_para3, Top_N)[top_n_filter(df_topic_para3, Top_N)['topic_id'] == topic]\n",
    "        elif dropdown_value=='c2':\n",
    "            c_df = df_topic_para3_n.nlargest(Top_N,['probability'])\n",
    "        elif dropdown_value=='c3':\n",
    "            c_df = top_n_filter(df_topic_para3, Top_N)\n",
    "        else:\n",
    "            return None\n",
    "#        print(dropdown_value)\n",
    "        \n",
    "        table = dash_table.DataTable(\n",
    "                                    id=\"table-line-1\",\n",
    "                                    columns=[\n",
    "                                                dict(id=c_df.columns[0], name=c_df.columns[0]),\n",
    "                                                dict(id=c_df.columns[1], name=c_df.columns[1]),\n",
    "                                                dict(id=c_df.columns[2], name=c_df.columns[2]),\n",
    "                                                dict(id=c_df.columns[3], name=c_df.columns[3]),\n",
    "                                                dict(id=c_df.columns[4], name=c_df.columns[4], type='numeric', format=Format(precision=2, scheme=Scheme.fixed)),             \n",
    "                                            ],\n",
    "                                    data=c_df.to_dict(\"records\"),\n",
    "                       #             page_action='none',\n",
    "                                    page_size=5,\n",
    "                                    style_table={'height': '1000px', 'overflowY': 'auto'},\n",
    "                                    fixed_rows={'headers': True},\n",
    "                                    style_header={ 'border': '1px solid black', 'fontWeight': 'bold','textAlign': 'center', 'fontSize':'1px'},\n",
    "                                    style_cell={  'fontSize':'1px','border': '1px solid grey','minWidth': 10, 'maxWidth': 30, 'width': 30,'whiteSpace': 'normal',\n",
    "                                                'height': 'auto', 'lineHeight': '15px','textAlign': 'center','textOverflow': 'ellipsis', 'maxWidth': 0},\n",
    "                                    css=[{\n",
    "                                            'selector': '.dash-spreadsheet td div',\n",
    "                                            'rule': '''\n",
    "                                                line-height: 15px;\n",
    "                                                max-height: 300px; min-height: 50px; height: 300px;\n",
    "                                                display: block;\n",
    "                                                overflow-y: hidden;\n",
    "                                            '''\n",
    "                                        }],\n",
    "                                     style_cell_conditional=[\n",
    "                                                                    {'if': {'column_id': 'Index'},'width': '5%'},\n",
    "                                                                    {'if': {'column_id': 'file'},'width': '10%' },\n",
    "                                                                    {'if': {'column_id': 'topic_id'},'width': '5%' },\n",
    "                                                                    {'if': {'column_id': 'paragraph'},'width': '75%','textAlign': 'left'},\n",
    "                                                                    {'if': {'column_id': 'probability'},'width': '5%'},\n",
    "                                                                    \n",
    "    \n",
    "                                                                ],\n",
    "    \n",
    "                                    style_as_list_view=True,\n",
    "                 )\n",
    "#        print('end')\n",
    "        return table\n",
    "          \n",
    "app.run_server(mode = 'external')"
   ]
  },
  {
   "cell_type": "code",
   "execution_count": 135,
   "metadata": {},
   "outputs": [],
   "source": [
    "# remove the hash below and run the chunk to terminate the Dash\n",
    "# app._terminate_server_for_port('localhost', 8050)"
   ]
  },
  {
   "cell_type": "code",
   "execution_count": null,
   "metadata": {},
   "outputs": [],
   "source": []
  }
 ],
 "metadata": {
  "kernelspec": {
   "display_name": "Python 3",
   "language": "python",
   "name": "python3"
  },
  "language_info": {
   "codemirror_mode": {
    "name": "ipython",
    "version": 3
   },
   "file_extension": ".py",
   "mimetype": "text/x-python",
   "name": "python",
   "nbconvert_exporter": "python",
   "pygments_lexer": "ipython3",
   "version": "3.8.3"
  }
 },
 "nbformat": 4,
 "nbformat_minor": 4
}
